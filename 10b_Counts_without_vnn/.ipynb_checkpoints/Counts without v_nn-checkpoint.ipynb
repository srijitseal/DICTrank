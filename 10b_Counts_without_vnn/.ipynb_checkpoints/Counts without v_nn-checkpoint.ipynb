{
 "cells": [
  {
   "cell_type": "code",
   "execution_count": 5,
   "id": "12fbc4b5",
   "metadata": {
    "scrolled": true
   },
   "outputs": [
    {
     "name": "stdout",
     "output_type": "stream",
     "text": [
      "INFO: Pandarallel will run on 76 workers.\n",
      "INFO: Pandarallel will use Memory file system to transfer data between the main process and workers.\n",
      "cardiotox_with_sider_inactives\n"
     ]
    },
    {
     "name": "stderr",
     "output_type": "stream",
     "text": [
      "Processing activities:   0%|                              | 0/1 [00:00<?, ?it/s]/tmp/ipykernel_3525977/3013066217.py:97: VisibleDeprecationWarning: Creating an ndarray from ragged nested sequences (which is a list-or-tuple of lists-or-tuples-or ndarrays with different lengths or shapes) is deprecated. If you meant to do this, you must specify 'dtype=object' when creating the ndarray.\n",
      "  X_train = np.array(X_train.to_list())\n",
      "Processing activities: 100%|██████████████████████| 1/1 [00:01<00:00,  1.27s/it]\n"
     ]
    },
    {
     "name": "stdout",
     "output_type": "stream",
     "text": [
      "1    176\n",
      "0     87\n",
      "Name: Cardiotox (with SIDER inactives), dtype: int64\n",
      "1    65\n",
      "0    25\n",
      "Name: Cardiotox (with SIDER inactives), dtype: int64\n",
      "cardiotox_with_sider_actives\n"
     ]
    },
    {
     "name": "stderr",
     "output_type": "stream",
     "text": [
      "Processing activities:   0%|                              | 0/1 [00:00<?, ?it/s]/tmp/ipykernel_3525977/3013066217.py:97: VisibleDeprecationWarning: Creating an ndarray from ragged nested sequences (which is a list-or-tuple of lists-or-tuples-or ndarrays with different lengths or shapes) is deprecated. If you meant to do this, you must specify 'dtype=object' when creating the ndarray.\n",
      "  X_train = np.array(X_train.to_list())\n",
      "Processing activities: 100%|██████████████████████| 1/1 [00:01<00:00,  1.25s/it]\n"
     ]
    },
    {
     "name": "stdout",
     "output_type": "stream",
     "text": [
      "1    277\n",
      "0     15\n",
      "Name: Cardiotox (with SIDER actives), dtype: int64\n",
      "1    65\n",
      "0    25\n",
      "Name: Cardiotox (with SIDER actives), dtype: int64\n",
      "cardiotox_with_sider_all\n"
     ]
    },
    {
     "name": "stderr",
     "output_type": "stream",
     "text": [
      "Processing activities:   0%|                              | 0/1 [00:00<?, ?it/s]/tmp/ipykernel_3525977/3013066217.py:97: VisibleDeprecationWarning: Creating an ndarray from ragged nested sequences (which is a list-or-tuple of lists-or-tuples-or ndarrays with different lengths or shapes) is deprecated. If you meant to do this, you must specify 'dtype=object' when creating the ndarray.\n",
      "  X_train = np.array(X_train.to_list())\n",
      "Processing activities: 100%|██████████████████████| 1/1 [00:01<00:00,  1.26s/it]\n"
     ]
    },
    {
     "name": "stdout",
     "output_type": "stream",
     "text": [
      "1    277\n",
      "0     87\n",
      "Name: Cardiotox (with SIDER all), dtype: int64\n",
      "1    65\n",
      "0    25\n",
      "Name: Cardiotox (with SIDER all), dtype: int64\n",
      "sider_cardiacdisorders\n"
     ]
    },
    {
     "name": "stderr",
     "output_type": "stream",
     "text": [
      "Processing activities:   0%|                              | 0/1 [00:00<?, ?it/s]/tmp/ipykernel_3525977/3013066217.py:97: VisibleDeprecationWarning: Creating an ndarray from ragged nested sequences (which is a list-or-tuple of lists-or-tuples-or ndarrays with different lengths or shapes) is deprecated. If you meant to do this, you must specify 'dtype=object' when creating the ndarray.\n",
      "  X_train = np.array(X_train.to_list())\n",
      "/tmp/ipykernel_3525977/3013066217.py:100: VisibleDeprecationWarning: Creating an ndarray from ragged nested sequences (which is a list-or-tuple of lists-or-tuples-or ndarrays with different lengths or shapes) is deprecated. If you meant to do this, you must specify 'dtype=object' when creating the ndarray.\n",
      "  X_test = np.array(X_test.to_list())\n",
      "Processing activities: 100%|██████████████████████| 1/1 [00:01<00:00,  1.21s/it]\n"
     ]
    },
    {
     "name": "stdout",
     "output_type": "stream",
     "text": [
      "1    286\n",
      "0    105\n",
      "Name: Cardiac disorders, dtype: int64\n",
      "1    41\n",
      "0    11\n",
      "Name: Cardiac disorders, dtype: int64\n",
      "DICTrank\n"
     ]
    },
    {
     "name": "stderr",
     "output_type": "stream",
     "text": [
      "Processing activities:   0%|                              | 0/1 [00:00<?, ?it/s]/tmp/ipykernel_3525977/3013066217.py:97: VisibleDeprecationWarning: Creating an ndarray from ragged nested sequences (which is a list-or-tuple of lists-or-tuples-or ndarrays with different lengths or shapes) is deprecated. If you meant to do this, you must specify 'dtype=object' when creating the ndarray.\n",
      "  X_train = np.array(X_train.to_list())\n",
      "Processing activities: 100%|██████████████████████| 1/1 [00:01<00:00,  1.24s/it]"
     ]
    },
    {
     "name": "stdout",
     "output_type": "stream",
     "text": [
      "1    176\n",
      "0     15\n",
      "Name: DICTrank, dtype: int64\n",
      "1    65\n",
      "0    25\n",
      "Name: DICTrank, dtype: int64\n"
     ]
    },
    {
     "name": "stderr",
     "output_type": "stream",
     "text": [
      "\n"
     ]
    }
   ],
   "source": [
    "import os\n",
    "import numpy as np\n",
    "import pandas as pd\n",
    "from tqdm import tqdm\n",
    "from sklearn.ensemble import RandomForestRegressor, RandomForestClassifier\n",
    "from sklearn.model_selection import cross_val_score, train_test_split\n",
    "from sklearn.metrics import mean_squared_error, roc_auc_score, matthews_corrcoef, average_precision_score, confusion_matrix\n",
    "from imblearn.metrics import geometric_mean_score\n",
    "from imblearn.over_sampling import RandomOverSampler\n",
    "from imblearn.pipeline import Pipeline\n",
    "from sklearn.metrics import roc_curve\n",
    "from sklearn.experimental import enable_halving_search_cv\n",
    "from sklearn.model_selection import HalvingRandomSearchCV\n",
    "from scipy.stats import randint, uniform\n",
    "from pandarallel import pandarallel\n",
    "from sklearn.model_selection import StratifiedKFold\n",
    "\n",
    "import math\n",
    "import sys\n",
    "sys.path.append('/home/ss2686/03_DICTrank')\n",
    "\n",
    "import argparse\n",
    "from scripts.evaluation_functions import evaluate_classifier, optimize_threshold_j_statistic\n",
    "\n",
    "# Initialize pandarallel for parallel processing\n",
    "pandarallel.initialize()\n",
    "import gzip\n",
    "\n",
    "data_path = '../data/processed_binarised__splits/'\n",
    "\n",
    "# Define the path to your gzip-compressed image_features.csv.gz file\n",
    "csv_file_path = '../data/CellPainting/CellPainting_processed.csv.gz'\n",
    "\n",
    "\n",
    "def create_molecule_dict(csv_file_path):\n",
    "    molecule_dict = {}\n",
    "\n",
    "    with gzip.open(csv_file_path, 'rt') as f:\n",
    "        next(f)  # Skip the first line (header)\n",
    "        for line in f:\n",
    "            data = line.strip().split(',')\n",
    "            smiles = data[0]\n",
    "            features = np.array(data[1:1784], dtype=float)\n",
    "            molecule_dict[smiles] = features\n",
    "    \n",
    "    return molecule_dict\n",
    "\n",
    "# Assuming you call create_molecule_dict once to create the dictionary\n",
    "molecule_dict = create_molecule_dict(csv_file_path)\n",
    "\n",
    "from rdkit import Chem, DataStructs\n",
    "from rdkit.Chem import AllChem\n",
    "\n",
    "def calculate_tanimoto_similarity(molecule1, molecule2):\n",
    "    molecule1_fp =  AllChem.GetMorganFingerprintAsBitVect(molecule1, 2, nBits=2048)\n",
    "    molecule2_fp =  AllChem.GetMorganFingerprintAsBitVect(molecule2, 2, nBits=2048)\n",
    "    return DataStructs.TanimotoSimilarity(molecule1_fp, molecule2_fp)\n",
    "\n",
    "# Modify the generate_cellpainting function\n",
    "def generate_cellpainting(smiles, behave=\"Train\", exclude_smiles_set=None):\n",
    "    \n",
    "    profile = molecule_dict.get(smiles)\n",
    "    if profile is not None:\n",
    "        return profile\n",
    "    else:\n",
    "        return molecule_dict.get(smiles, None)\n",
    "    \n",
    "    \n",
    "results = {}\n",
    "held_out_results = []\n",
    "\n",
    "for dataset in os.listdir(data_path):\n",
    "  \n",
    "    # Exclude hidden files or directories like .ipynb_checkpoints\n",
    "    if dataset.startswith('.'):\n",
    "        continue\n",
    "    print(dataset)\n",
    "\n",
    "    # Get all the file names for this dataset\n",
    "    all_files = os.listdir(os.path.join(data_path, dataset))\n",
    "\n",
    "    # Extract activity names by removing the _train.csv.gz or _test.csv.gz from file names\n",
    "    activity_names = list(set([f.replace(\"_train.csv.gz\", \"\").replace(\"_test.csv.gz\", \"\")  for f in all_files if not f.startswith(\".ipynb_checkpoints\")]))\n",
    "\n",
    "    for activity in tqdm(activity_names, desc=\"Processing activities\"):\n",
    "        \n",
    "        train_path = os.path.join(data_path, dataset, f\"{activity}_train.csv.gz\")\n",
    "        test_path = os.path.join(data_path, dataset, f\"{activity}_test.csv.gz\")\n",
    "\n",
    "        train_df = pd.read_csv(train_path, compression='gzip')#.sample(20)\n",
    "        test_df = pd.read_csv(test_path, compression='gzip')#.sample(20)\n",
    "        \n",
    "        train_smiles_set = set(train_df['Standardized_SMILES'].tolist())\n",
    "        test_smiles_set = set(test_df['Standardized_SMILES'].tolist())\n",
    "        \n",
    "        X_train = train_df['Standardized_SMILES'].parallel_apply(lambda x: generate_cellpainting(x, \"Train\", test_smiles_set))\n",
    "        X_train = np.array(X_train.to_list())\n",
    "        \n",
    "        X_test = test_df['Standardized_SMILES'].parallel_apply(lambda x: generate_cellpainting(x, \"Test\"))\n",
    "        X_test = np.array(X_test.to_list())\n",
    "        \n",
    "        y_train = train_df[activity]\n",
    "        y_test = test_df[activity]\n",
    "\n",
    "        failed_train_indices = [i for i, cellpaint in enumerate(X_train) if cellpaint is None]\n",
    "        failed_test_indices = [i for i, cellpaint in enumerate(X_test) if cellpaint is None]\n",
    "        \n",
    "        # Drop those indices from X_train, X_test, y_train, and y_test\n",
    "        X_train = np.delete(X_train, failed_train_indices, axis=0)\n",
    "        X_train = np.vstack(X_train)\n",
    "        y_train = y_train.drop(failed_train_indices).reset_index(drop=True)\n",
    "\n",
    "        X_test = np.delete(X_test, failed_test_indices, axis=0)\n",
    "        X_test = np.vstack(X_test)\n",
    "        y_test = y_test.drop(failed_test_indices).reset_index(drop=True)\n",
    "        \n",
    "        # If you want to drop the rows from train_df and test_df as well\n",
    "        train_df = train_df.drop(failed_train_indices).reset_index(drop=True)\n",
    "        test_df = test_df.drop(failed_test_indices).reset_index(drop=True)\n",
    "        \n",
    "        print(train_df[activity].value_counts())\n",
    "        print(test_df[activity].value_counts())\n",
    "        "
   ]
  },
  {
   "cell_type": "code",
   "execution_count": 11,
   "id": "543bd719",
   "metadata": {},
   "outputs": [
    {
     "name": "stdout",
     "output_type": "stream",
     "text": [
      "INFO: Pandarallel will run on 76 workers.\n",
      "INFO: Pandarallel will use Memory file system to transfer data between the main process and workers.\n",
      "cardiotox_with_sider_inactives\n"
     ]
    },
    {
     "name": "stderr",
     "output_type": "stream",
     "text": [
      "Processing activities:   0%|                              | 0/1 [00:00<?, ?it/s]/tmp/ipykernel_3525977/2278455599.py:96: VisibleDeprecationWarning: Creating an ndarray from ragged nested sequences (which is a list-or-tuple of lists-or-tuples-or ndarrays with different lengths or shapes) is deprecated. If you meant to do this, you must specify 'dtype=object' when creating the ndarray.\n",
      "  X_train = np.array(X_train.to_list())\n",
      "Processing activities: 100%|██████████████████████| 1/1 [00:01<00:00,  1.23s/it]\n"
     ]
    },
    {
     "name": "stdout",
     "output_type": "stream",
     "text": [
      "1    380\n",
      "0    190\n",
      "Name: Cardiotox (with SIDER inactives), dtype: int64\n",
      "1    65\n",
      "0    25\n",
      "Name: Cardiotox (with SIDER inactives), dtype: int64\n",
      "cardiotox_with_sider_actives\n"
     ]
    },
    {
     "name": "stderr",
     "output_type": "stream",
     "text": [
      "Processing activities:   0%|                              | 0/1 [00:00<?, ?it/s]/tmp/ipykernel_3525977/2278455599.py:96: VisibleDeprecationWarning: Creating an ndarray from ragged nested sequences (which is a list-or-tuple of lists-or-tuples-or ndarrays with different lengths or shapes) is deprecated. If you meant to do this, you must specify 'dtype=object' when creating the ndarray.\n",
      "  X_train = np.array(X_train.to_list())\n",
      "Processing activities: 100%|██████████████████████| 1/1 [00:01<00:00,  1.32s/it]\n"
     ]
    },
    {
     "name": "stdout",
     "output_type": "stream",
     "text": [
      "1    562\n",
      "0     80\n",
      "Name: Cardiotox (with SIDER actives), dtype: int64\n",
      "1    65\n",
      "0    25\n",
      "Name: Cardiotox (with SIDER actives), dtype: int64\n",
      "cardiotox_with_sider_all\n"
     ]
    },
    {
     "name": "stderr",
     "output_type": "stream",
     "text": [
      "Processing activities:   0%|                              | 0/1 [00:00<?, ?it/s]/tmp/ipykernel_3525977/2278455599.py:96: VisibleDeprecationWarning: Creating an ndarray from ragged nested sequences (which is a list-or-tuple of lists-or-tuples-or ndarrays with different lengths or shapes) is deprecated. If you meant to do this, you must specify 'dtype=object' when creating the ndarray.\n",
      "  X_train = np.array(X_train.to_list())\n",
      "Processing activities: 100%|██████████████████████| 1/1 [00:01<00:00,  1.26s/it]\n"
     ]
    },
    {
     "name": "stdout",
     "output_type": "stream",
     "text": [
      "1    562\n",
      "0    190\n",
      "Name: Cardiotox (with SIDER all), dtype: int64\n",
      "1    65\n",
      "0    25\n",
      "Name: Cardiotox (with SIDER all), dtype: int64\n",
      "sider_cardiacdisorders\n"
     ]
    },
    {
     "name": "stderr",
     "output_type": "stream",
     "text": [
      "Processing activities:   0%|                              | 0/1 [00:00<?, ?it/s]/tmp/ipykernel_3525977/2278455599.py:96: VisibleDeprecationWarning: Creating an ndarray from ragged nested sequences (which is a list-or-tuple of lists-or-tuples-or ndarrays with different lengths or shapes) is deprecated. If you meant to do this, you must specify 'dtype=object' when creating the ndarray.\n",
      "  X_train = np.array(X_train.to_list())\n",
      "/tmp/ipykernel_3525977/2278455599.py:99: VisibleDeprecationWarning: Creating an ndarray from ragged nested sequences (which is a list-or-tuple of lists-or-tuples-or ndarrays with different lengths or shapes) is deprecated. If you meant to do this, you must specify 'dtype=object' when creating the ndarray.\n",
      "  X_test = np.array(X_test.to_list())\n",
      "Processing activities: 100%|██████████████████████| 1/1 [00:01<00:00,  1.25s/it]\n"
     ]
    },
    {
     "name": "stdout",
     "output_type": "stream",
     "text": [
      "1    537\n",
      "0    176\n",
      "Name: Cardiac disorders, dtype: int64\n",
      "1    63\n",
      "0    23\n",
      "Name: Cardiac disorders, dtype: int64\n",
      "DICTrank\n"
     ]
    },
    {
     "name": "stderr",
     "output_type": "stream",
     "text": [
      "Processing activities:   0%|                              | 0/1 [00:00<?, ?it/s]/tmp/ipykernel_3525977/2278455599.py:96: VisibleDeprecationWarning: Creating an ndarray from ragged nested sequences (which is a list-or-tuple of lists-or-tuples-or ndarrays with different lengths or shapes) is deprecated. If you meant to do this, you must specify 'dtype=object' when creating the ndarray.\n",
      "  X_train = np.array(X_train.to_list())\n",
      "Processing activities: 100%|██████████████████████| 1/1 [00:01<00:00,  1.27s/it]"
     ]
    },
    {
     "name": "stdout",
     "output_type": "stream",
     "text": [
      "1    380\n",
      "0     80\n",
      "Name: DICTrank, dtype: int64\n",
      "1    65\n",
      "0    25\n",
      "Name: DICTrank, dtype: int64\n"
     ]
    },
    {
     "name": "stderr",
     "output_type": "stream",
     "text": [
      "\n"
     ]
    }
   ],
   "source": [
    "import os\n",
    "import numpy as np\n",
    "import pandas as pd\n",
    "from tqdm import tqdm\n",
    "from sklearn.ensemble import RandomForestRegressor, RandomForestClassifier\n",
    "from sklearn.model_selection import cross_val_score, train_test_split\n",
    "from sklearn.metrics import mean_squared_error, roc_auc_score, matthews_corrcoef, average_precision_score, confusion_matrix\n",
    "from imblearn.metrics import geometric_mean_score\n",
    "from imblearn.over_sampling import RandomOverSampler\n",
    "from imblearn.pipeline import Pipeline\n",
    "from sklearn.metrics import roc_curve\n",
    "from sklearn.experimental import enable_halving_search_cv\n",
    "from sklearn.model_selection import HalvingRandomSearchCV\n",
    "from scipy.stats import randint, uniform\n",
    "from pandarallel import pandarallel\n",
    "from sklearn.model_selection import StratifiedKFold\n",
    "\n",
    "import math\n",
    "import sys\n",
    "sys.path.append('/home/ss2686/03_DICTrank')\n",
    "\n",
    "import argparse\n",
    "from scripts.evaluation_functions import evaluate_classifier, optimize_threshold_j_statistic\n",
    "\n",
    "# Initialize pandarallel for parallel processing\n",
    "pandarallel.initialize()\n",
    "import gzip\n",
    "\n",
    "data_path = '../data/processed_binarised__splits/'\n",
    "\n",
    "# Define the path to your gzip-compressed image_features.csv.gz file\n",
    "csv_file_path = '../data/LINCSL1000/LINCSL1000_processed.csv.gz'\n",
    "\n",
    "\n",
    "def create_molecule_dict(csv_file_path):\n",
    "    molecule_dict = {}\n",
    "\n",
    "    with gzip.open(csv_file_path, 'rt') as f:\n",
    "        next(f)  # Skip the first line (header)\n",
    "        for line in f:\n",
    "            data = line.strip().split(',')\n",
    "            smiles = data[0]\n",
    "            features = np.array(data[1:979], dtype=float)\n",
    "            molecule_dict[smiles] = features\n",
    "    \n",
    "    return molecule_dict\n",
    "\n",
    "# Assuming you call create_molecule_dict once to create the dictionary\n",
    "molecule_dict = create_molecule_dict(csv_file_path)\n",
    "\n",
    "from rdkit import Chem, DataStructs\n",
    "from rdkit.Chem import AllChem\n",
    "\n",
    "def calculate_tanimoto_similarity(molecule1, molecule2):\n",
    "    molecule1_fp =  AllChem.GetMorganFingerprintAsBitVect(molecule1, 2, nBits=2048)\n",
    "    molecule2_fp =  AllChem.GetMorganFingerprintAsBitVect(molecule2, 2, nBits=2048)\n",
    "    return DataStructs.TanimotoSimilarity(molecule1_fp, molecule2_fp)\n",
    "\n",
    "# Modify the generate_cellpainting function\n",
    "def generate_lincs(smiles, behave=\"Train\", exclude_smiles_set=None):\n",
    "    profile = molecule_dict.get(smiles)\n",
    "    if profile is not None:\n",
    "        return profile\n",
    "    else:\n",
    "        return molecule_dict.get(smiles, None)\n",
    "    \n",
    "results = {}\n",
    "held_out_results = []\n",
    "\n",
    "for dataset in os.listdir(data_path):\n",
    "    \n",
    "    # Exclude hidden files or directories like .ipynb_checkpoints\n",
    "    if dataset.startswith('.'):\n",
    "        continue\n",
    "    print(dataset)\n",
    "\n",
    "\n",
    "    # Get all the file names for this dataset\n",
    "    all_files = os.listdir(os.path.join(data_path, dataset))\n",
    "\n",
    "    # Extract activity names by removing the _train.csv.gz or _test.csv.gz from file names\n",
    "    activity_names = list(set([f.replace(\"_train.csv.gz\", \"\").replace(\"_test.csv.gz\", \"\")  for f in all_files if not f.startswith(\".ipynb_checkpoints\")]))\n",
    "\n",
    "    for activity in tqdm(activity_names, desc=\"Processing activities\"):\n",
    "        \n",
    "        train_path = os.path.join(data_path, dataset, f\"{activity}_train.csv.gz\")\n",
    "        test_path = os.path.join(data_path, dataset, f\"{activity}_test.csv.gz\")\n",
    "\n",
    "        train_df = pd.read_csv(train_path, compression='gzip')#.sample(20)\n",
    "        test_df = pd.read_csv(test_path, compression='gzip')#.sample(20)\n",
    "\n",
    "        train_smiles_set = set(train_df['Standardized_SMILES'].tolist())\n",
    "        test_smiles_set = set(test_df['Standardized_SMILES'].tolist())\n",
    "        \n",
    "        X_train = train_df['Standardized_SMILES'].parallel_apply(lambda x: generate_lincs(x, \"Train\", test_smiles_set))\n",
    "        X_train = np.array(X_train.to_list())\n",
    "        \n",
    "        X_test = test_df['Standardized_SMILES'].parallel_apply(lambda x: generate_lincs(x, \"Test\"))\n",
    "        X_test = np.array(X_test.to_list())\n",
    "        \n",
    "        y_train = train_df[activity]\n",
    "        y_test = test_df[activity]\n",
    "\n",
    "        failed_train_indices = [i for i, lincs in enumerate(X_train) if lincs is None]\n",
    "        failed_test_indices = [i for i, lincs in enumerate(X_test) if lincs is None]\n",
    "        \n",
    "        # Drop those indices from X_train, X_test, y_train, and y_test\n",
    "        X_train = np.delete(X_train, failed_train_indices, axis=0)\n",
    "        X_train = np.vstack(X_train)\n",
    "        y_train = y_train.drop(failed_train_indices).reset_index(drop=True)\n",
    "\n",
    "        X_test = np.delete(X_test, failed_test_indices, axis=0)\n",
    "        X_test = np.vstack(X_test)\n",
    "        y_test = y_test.drop(failed_test_indices).reset_index(drop=True)\n",
    "\n",
    "        # If you want to drop the rows from train_df and test_df as well\n",
    "        train_df = train_df.drop(failed_train_indices).reset_index(drop=True)\n",
    "        test_df = test_df.drop(failed_test_indices).reset_index(drop=True)\n",
    "        \n",
    "        print(train_df[activity].value_counts())\n",
    "        print(test_df[activity].value_counts())\n",
    "        "
   ]
  },
  {
   "cell_type": "code",
   "execution_count": 12,
   "id": "96efe608",
   "metadata": {},
   "outputs": [
    {
     "name": "stdout",
     "output_type": "stream",
     "text": [
      "INFO: Pandarallel will run on 76 workers.\n",
      "INFO: Pandarallel will use Memory file system to transfer data between the main process and workers.\n",
      "cardiotox_with_sider_inactives\n"
     ]
    },
    {
     "name": "stderr",
     "output_type": "stream",
     "text": [
      "Processing activities:   0%|                              | 0/1 [00:00<?, ?it/s]/tmp/ipykernel_3525977/933623063.py:110: VisibleDeprecationWarning: Creating an ndarray from ragged nested sequences (which is a list-or-tuple of lists-or-tuples-or ndarrays with different lengths or shapes) is deprecated. If you meant to do this, you must specify 'dtype=object' when creating the ndarray.\n",
      "  X_train = np.array(X_train.to_list())\n",
      "Processing activities: 100%|██████████████████████| 1/1 [00:01<00:00,  1.44s/it]\n"
     ]
    },
    {
     "name": "stdout",
     "output_type": "stream",
     "text": [
      "1    380\n",
      "0    190\n",
      "Name: Cardiotox (with SIDER inactives), dtype: int64\n",
      "1    65\n",
      "0    25\n",
      "Name: Cardiotox (with SIDER inactives), dtype: int64\n",
      "cardiotox_with_sider_actives\n"
     ]
    },
    {
     "name": "stderr",
     "output_type": "stream",
     "text": [
      "Processing activities:   0%|                              | 0/1 [00:00<?, ?it/s]/tmp/ipykernel_3525977/933623063.py:110: VisibleDeprecationWarning: Creating an ndarray from ragged nested sequences (which is a list-or-tuple of lists-or-tuples-or ndarrays with different lengths or shapes) is deprecated. If you meant to do this, you must specify 'dtype=object' when creating the ndarray.\n",
      "  X_train = np.array(X_train.to_list())\n",
      "Processing activities: 100%|██████████████████████| 1/1 [00:01<00:00,  1.42s/it]\n"
     ]
    },
    {
     "name": "stdout",
     "output_type": "stream",
     "text": [
      "1    562\n",
      "0     80\n",
      "Name: Cardiotox (with SIDER actives), dtype: int64\n",
      "1    65\n",
      "0    25\n",
      "Name: Cardiotox (with SIDER actives), dtype: int64\n",
      "cardiotox_with_sider_all\n"
     ]
    },
    {
     "name": "stderr",
     "output_type": "stream",
     "text": [
      "Processing activities:   0%|                              | 0/1 [00:00<?, ?it/s]/tmp/ipykernel_3525977/933623063.py:110: VisibleDeprecationWarning: Creating an ndarray from ragged nested sequences (which is a list-or-tuple of lists-or-tuples-or ndarrays with different lengths or shapes) is deprecated. If you meant to do this, you must specify 'dtype=object' when creating the ndarray.\n",
      "  X_train = np.array(X_train.to_list())\n",
      "Processing activities: 100%|██████████████████████| 1/1 [00:01<00:00,  1.46s/it]\n"
     ]
    },
    {
     "name": "stdout",
     "output_type": "stream",
     "text": [
      "1    562\n",
      "0    190\n",
      "Name: Cardiotox (with SIDER all), dtype: int64\n",
      "1    65\n",
      "0    25\n",
      "Name: Cardiotox (with SIDER all), dtype: int64\n",
      "sider_cardiacdisorders\n"
     ]
    },
    {
     "name": "stderr",
     "output_type": "stream",
     "text": [
      "Processing activities:   0%|                              | 0/1 [00:00<?, ?it/s]/tmp/ipykernel_3525977/933623063.py:110: VisibleDeprecationWarning: Creating an ndarray from ragged nested sequences (which is a list-or-tuple of lists-or-tuples-or ndarrays with different lengths or shapes) is deprecated. If you meant to do this, you must specify 'dtype=object' when creating the ndarray.\n",
      "  X_train = np.array(X_train.to_list())\n",
      "/tmp/ipykernel_3525977/933623063.py:113: VisibleDeprecationWarning: Creating an ndarray from ragged nested sequences (which is a list-or-tuple of lists-or-tuples-or ndarrays with different lengths or shapes) is deprecated. If you meant to do this, you must specify 'dtype=object' when creating the ndarray.\n",
      "  X_test = np.array(X_test.to_list())\n",
      "Processing activities: 100%|██████████████████████| 1/1 [00:01<00:00,  1.43s/it]\n"
     ]
    },
    {
     "name": "stdout",
     "output_type": "stream",
     "text": [
      "1    537\n",
      "0    176\n",
      "Name: Cardiac disorders, dtype: int64\n",
      "1    63\n",
      "0    23\n",
      "Name: Cardiac disorders, dtype: int64\n",
      "DICTrank\n"
     ]
    },
    {
     "name": "stderr",
     "output_type": "stream",
     "text": [
      "Processing activities:   0%|                              | 0/1 [00:00<?, ?it/s]/tmp/ipykernel_3525977/933623063.py:110: VisibleDeprecationWarning: Creating an ndarray from ragged nested sequences (which is a list-or-tuple of lists-or-tuples-or ndarrays with different lengths or shapes) is deprecated. If you meant to do this, you must specify 'dtype=object' when creating the ndarray.\n",
      "  X_train = np.array(X_train.to_list())\n",
      "Processing activities: 100%|██████████████████████| 1/1 [00:01<00:00,  1.49s/it]"
     ]
    },
    {
     "name": "stdout",
     "output_type": "stream",
     "text": [
      "1    380\n",
      "0     80\n",
      "Name: DICTrank, dtype: int64\n",
      "1    65\n",
      "0    25\n",
      "Name: DICTrank, dtype: int64\n"
     ]
    },
    {
     "name": "stderr",
     "output_type": "stream",
     "text": [
      "\n"
     ]
    }
   ],
   "source": [
    "import os\n",
    "import numpy as np\n",
    "import pandas as pd\n",
    "from tqdm import tqdm\n",
    "from sklearn.ensemble import RandomForestRegressor, RandomForestClassifier\n",
    "from sklearn.model_selection import cross_val_score, train_test_split\n",
    "from sklearn.metrics import mean_squared_error, roc_auc_score, matthews_corrcoef, average_precision_score, confusion_matrix\n",
    "from imblearn.metrics import geometric_mean_score\n",
    "from imblearn.over_sampling import RandomOverSampler\n",
    "from imblearn.pipeline import Pipeline\n",
    "from sklearn.metrics import roc_curve\n",
    "from sklearn.experimental import enable_halving_search_cv\n",
    "from sklearn.model_selection import HalvingRandomSearchCV\n",
    "from scipy.stats import randint, uniform\n",
    "from pandarallel import pandarallel\n",
    "from sklearn.model_selection import StratifiedKFold\n",
    "\n",
    "import math\n",
    "import sys\n",
    "sys.path.append('/home/ss2686/03_DICTrank')\n",
    "\n",
    "import argparse\n",
    "from scripts.evaluation_functions import evaluate_classifier, optimize_threshold_j_statistic\n",
    "\n",
    "# Initialize pandarallel for parallel processing\n",
    "pandarallel.initialize()\n",
    "import gzip\n",
    "\n",
    "data_path = '../data/processed_binarised__splits/'\n",
    "\n",
    "csv_file_path = '../data/GeneOntology/GeneOntology_processed.csv.gz'\n",
    "\n",
    "\n",
    "def create_molecule_dict(csv_file_path):\n",
    "    molecule_dict = {}\n",
    "\n",
    "    with gzip.open(csv_file_path, 'rt') as f:\n",
    "        next(f)  # Skip the first line (header)\n",
    "        for line in f:\n",
    "            data = line.strip().split(',')\n",
    "            smiles = data[0]\n",
    "            features = np.array(data[1:4439], dtype=float)\n",
    "            molecule_dict[smiles] = features\n",
    "    \n",
    "    return molecule_dict\n",
    "\n",
    "# Assuming you call create_molecule_dict once to create the dictionary\n",
    "molecule_dict = create_molecule_dict(csv_file_path)\n",
    "\n",
    "from rdkit import Chem, DataStructs\n",
    "from rdkit.Chem import AllChem\n",
    "\n",
    "# Modify the generate_cellpainting function\n",
    "# Modify the generate_cellpainting function\n",
    "def generate_go(smiles, behave=\"Train\", exclude_smiles_set=None):\n",
    "    profile = molecule_dict.get(smiles)\n",
    "    if profile is not None:\n",
    "        return profile\n",
    "    else:\n",
    "        return molecule_dict.get(smiles, None)\n",
    "    \n",
    "\n",
    "#Exammple usage:\n",
    "\n",
    "#smiles_list = [\n",
    "#    'CCc1nccn1-c1cccc(C2CCC[NH+]2C(=O)c2ccc(OCC[NH+](C)C)cc2)n1',\n",
    "#    'O=C1NCCC[NH+]1Cc1ccc(Cl)cc1',\n",
    "#    'O=C1NC(=O)c2cc(Nc3ccccc3)c(Nc3ccccc3)cc21',\n",
    "#    'CCCn1nccc1S(=O)(=O)[NH+]1CC2CCC1C[NH2+]C2',\n",
    "#    'CCNC(=O)CC1N=C(c2ccc(Cl)cc2)c2cc(OC)ccc2-n2c(C)nnc21'\n",
    "#]\n",
    "\n",
    "# Create a DataFrame with the SMILES\n",
    "#smiles_df = pd.DataFrame({'SMILES': smiles_list})\n",
    "\n",
    "#X_train = smiles_df['SMILES'].parallel_apply(generate_cellpainting)\n",
    "#X_train = np.array(X_train.to_list())\n",
    "#X_train\n",
    "\n",
    "# Assuming image-based dataset is regression and others are classification\n",
    "results = {}\n",
    "held_out_results = []\n",
    "\n",
    "for dataset in os.listdir(data_path):\n",
    "    \n",
    "    # Exclude hidden files or directories like .ipynb_checkpoints\n",
    "    if dataset.startswith('.'):\n",
    "        continue\n",
    "    print(dataset)\n",
    "\n",
    "\n",
    "    # Get all the file names for this dataset\n",
    "    all_files = os.listdir(os.path.join(data_path, dataset))\n",
    "\n",
    "    # Extract activity names by removing the _train.csv.gz or _test.csv.gz from file names\n",
    "    activity_names = list(set([f.replace(\"_train.csv.gz\", \"\").replace(\"_test.csv.gz\", \"\")  for f in all_files if not f.startswith(\".ipynb_checkpoints\")]))\n",
    "\n",
    "    for activity in tqdm(activity_names, desc=\"Processing activities\"):\n",
    "        \n",
    "        train_path = os.path.join(data_path, dataset, f\"{activity}_train.csv.gz\")\n",
    "        test_path = os.path.join(data_path, dataset, f\"{activity}_test.csv.gz\")\n",
    "\n",
    "        train_df = pd.read_csv(train_path, compression='gzip')#.sample(20)\n",
    "        test_df = pd.read_csv(test_path, compression='gzip')#.sample(20)\n",
    "\n",
    "        train_smiles_set = set(train_df['Standardized_SMILES'].tolist())\n",
    "        test_smiles_set = set(test_df['Standardized_SMILES'].tolist())\n",
    "        \n",
    "        X_train = train_df['Standardized_SMILES'].parallel_apply(lambda x: generate_go(x, \"Train\", test_smiles_set))\n",
    "        X_train = np.array(X_train.to_list())\n",
    "        \n",
    "        X_test = test_df['Standardized_SMILES'].parallel_apply(lambda x: generate_go(x, \"Test\"))\n",
    "        X_test = np.array(X_test.to_list())\n",
    "        \n",
    "        y_train = train_df[activity]\n",
    "        y_test = test_df[activity]\n",
    "\n",
    "        failed_train_indices = [i for i, geneont in enumerate(X_train) if geneont is None]\n",
    "        failed_test_indices = [i for i, geneont in enumerate(X_test) if geneont is None]\n",
    "        \n",
    "        # Drop those indices from X_train, X_test, y_train, and y_test\n",
    "        X_train = np.delete(X_train, failed_train_indices, axis=0)\n",
    "        X_train = np.vstack(X_train)\n",
    "        y_train = y_train.drop(failed_train_indices).reset_index(drop=True)\n",
    "\n",
    "        X_test = np.delete(X_test, failed_test_indices, axis=0)\n",
    "        X_test = np.vstack(X_test)\n",
    "        y_test = y_test.drop(failed_test_indices).reset_index(drop=True)\n",
    "\n",
    "        # If you want to drop the rows from train_df and test_df as well\n",
    "        train_df = train_df.drop(failed_train_indices).reset_index(drop=True)\n",
    "        test_df = test_df.drop(failed_test_indices).reset_index(drop=True)\n",
    "        \n",
    "        print(train_df[activity].value_counts())\n",
    "        print(test_df[activity].value_counts())\n",
    "        "
   ]
  },
  {
   "cell_type": "code",
   "execution_count": null,
   "id": "376e0f71",
   "metadata": {},
   "outputs": [],
   "source": []
  }
 ],
 "metadata": {
  "kernelspec": {
   "display_name": "Python 3 (ipykernel)",
   "language": "python",
   "name": "python3"
  },
  "language_info": {
   "codemirror_mode": {
    "name": "ipython",
    "version": 3
   },
   "file_extension": ".py",
   "mimetype": "text/x-python",
   "name": "python",
   "nbconvert_exporter": "python",
   "pygments_lexer": "ipython3",
   "version": "3.9.10"
  }
 },
 "nbformat": 4,
 "nbformat_minor": 5
}
