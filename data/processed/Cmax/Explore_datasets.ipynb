{
 "cells": [
  {
   "cell_type": "code",
   "execution_count": 1,
   "id": "b845f2cf",
   "metadata": {},
   "outputs": [],
   "source": [
    "import pandas as pd"
   ]
  },
  {
   "cell_type": "code",
   "execution_count": 2,
   "id": "01e2ccb3",
   "metadata": {},
   "outputs": [],
   "source": [
    "df = pd.read_csv(\"Cmax_processed.csv.gz\")"
   ]
  },
  {
   "cell_type": "code",
   "execution_count": 3,
   "id": "2ec43933",
   "metadata": {},
   "outputs": [
    {
     "data": {
      "text/html": [
       "<div>\n",
       "<style scoped>\n",
       "    .dataframe tbody tr th:only-of-type {\n",
       "        vertical-align: middle;\n",
       "    }\n",
       "\n",
       "    .dataframe tbody tr th {\n",
       "        vertical-align: top;\n",
       "    }\n",
       "\n",
       "    .dataframe thead th {\n",
       "        text-align: right;\n",
       "    }\n",
       "</style>\n",
       "<table border=\"1\" class=\"dataframe\">\n",
       "  <thead>\n",
       "    <tr style=\"text-align: right;\">\n",
       "      <th></th>\n",
       "      <th>SMILES</th>\n",
       "      <th>median pMolar total plasma concentration</th>\n",
       "      <th>median pMolar unbound plasma concentration</th>\n",
       "      <th>Standardized_SMILES</th>\n",
       "      <th>Standardized_InChI</th>\n",
       "    </tr>\n",
       "  </thead>\n",
       "  <tbody>\n",
       "    <tr>\n",
       "      <th>0</th>\n",
       "      <td>C#CC(O)(/C=C/Cl)CC</td>\n",
       "      <td>4.257078</td>\n",
       "      <td>NaN</td>\n",
       "      <td>C#CC(O)(C=CCl)CC</td>\n",
       "      <td>InChI=1S/C7H9ClO/c1-3-7(9,4-2)5-6-8/h1,5-6,9H,...</td>\n",
       "    </tr>\n",
       "    <tr>\n",
       "      <th>1</th>\n",
       "      <td>C#CC1(OC(N)=O)CCCCC1</td>\n",
       "      <td>4.223262</td>\n",
       "      <td>NaN</td>\n",
       "      <td>C#CC1(OC(N)=O)CCCCC1</td>\n",
       "      <td>InChI=1S/C9H13NO2/c1-2-9(12-8(10)11)6-4-3-5-7-...</td>\n",
       "    </tr>\n",
       "    <tr>\n",
       "      <th>2</th>\n",
       "      <td>C#C[C@]1(O)CC[C@H]2[C@@H]3CCC4=Cc5oncc5C[C@]4(...</td>\n",
       "      <td>6.227192</td>\n",
       "      <td>NaN</td>\n",
       "      <td>C#CC1(O)CCC2C3CCC4=Cc5oncc5CC4(C)C3CCC21C</td>\n",
       "      <td>InChI=1S/C22H27NO2/c1-4-22(24)10-8-18-16-6-5-1...</td>\n",
       "    </tr>\n",
       "    <tr>\n",
       "      <th>3</th>\n",
       "      <td>C(=C/c1ccccc1)\\CN1CCN(C(c2ccccc2)c2ccccc2)CC1</td>\n",
       "      <td>6.047947</td>\n",
       "      <td>NaN</td>\n",
       "      <td>C(=Cc1ccccc1)C[NH+]1CC[NH+](C(c2ccccc2)c2ccccc...</td>\n",
       "      <td>InChI=1S/C26H28N2/c1-4-11-23(12-5-1)13-10-18-2...</td>\n",
       "    </tr>\n",
       "    <tr>\n",
       "      <th>4</th>\n",
       "      <td>C/C=C/C[C@@H](C)[C@@H](O)[C@H]1C(=O)N[C@@H](CC...</td>\n",
       "      <td>6.111649</td>\n",
       "      <td>7.279140</td>\n",
       "      <td>CC=CCC(C)C(O)C1C(=O)NC(CC)C(=O)[NH+](C)CC(=O)[...</td>\n",
       "      <td>InChI=1S/C62H111N11O12/c1-25-27-28-40(15)52(75...</td>\n",
       "    </tr>\n",
       "    <tr>\n",
       "      <th>...</th>\n",
       "      <td>...</td>\n",
       "      <td>...</td>\n",
       "      <td>...</td>\n",
       "      <td>...</td>\n",
       "      <td>...</td>\n",
       "    </tr>\n",
       "    <tr>\n",
       "      <th>753</th>\n",
       "      <td>Oc1nc(O)c2cn[nH]c2n1</td>\n",
       "      <td>4.006067</td>\n",
       "      <td>NaN</td>\n",
       "      <td>O=c1[n-]c(=O)c2c[n-]nc2[n-]1</td>\n",
       "      <td>InChI=1S/C5H3N4O2/c10-4-2-1-6-9-3(2)7-5(11)8-4...</td>\n",
       "    </tr>\n",
       "    <tr>\n",
       "      <th>754</th>\n",
       "      <td>Oc1ncnc2[nH]ncc12</td>\n",
       "      <td>3.855136</td>\n",
       "      <td>3.868365</td>\n",
       "      <td>O=c1[n-]cnc2[n-]ncc12</td>\n",
       "      <td>InChI=1S/C5H3N4O/c10-5-3-1-8-9-4(3)6-2-7-5/h1-...</td>\n",
       "    </tr>\n",
       "    <tr>\n",
       "      <th>755</th>\n",
       "      <td>Sc1ncnc2nc[nH]c12</td>\n",
       "      <td>6.483388</td>\n",
       "      <td>6.553969</td>\n",
       "      <td>S=c1[n-]cnc2[n-]cnc12</td>\n",
       "      <td>InChI=1S/C5H3N4S/c10-5-3-4(7-1-6-3)8-2-9-5/h1-...</td>\n",
       "    </tr>\n",
       "    <tr>\n",
       "      <th>756</th>\n",
       "      <td>c1ccc([C@H]2CN3CCSC3=N2)cc1</td>\n",
       "      <td>5.459929</td>\n",
       "      <td>NaN</td>\n",
       "      <td>c1ccc(C2CN3CCSC3=[NH+]2)cc1</td>\n",
       "      <td>InChI=1S/C11H12N2S/c1-2-4-9(5-3-1)10-8-13-6-7-...</td>\n",
       "    </tr>\n",
       "    <tr>\n",
       "      <th>757</th>\n",
       "      <td>c1cnc2cc3c(cc2n1)C1CNCC3C1</td>\n",
       "      <td>7.625868</td>\n",
       "      <td>NaN</td>\n",
       "      <td>c1cnc2cc3c(cc2n1)C1C[NH2+]CC3C1</td>\n",
       "      <td>InChI=1S/C13H13N3/c1-2-16-13-5-11-9-3-8(6-14-7...</td>\n",
       "    </tr>\n",
       "  </tbody>\n",
       "</table>\n",
       "<p>758 rows × 5 columns</p>\n",
       "</div>"
      ],
      "text/plain": [
       "                                                SMILES  \\\n",
       "0                                   C#CC(O)(/C=C/Cl)CC   \n",
       "1                                 C#CC1(OC(N)=O)CCCCC1   \n",
       "2    C#C[C@]1(O)CC[C@H]2[C@@H]3CCC4=Cc5oncc5C[C@]4(...   \n",
       "3        C(=C/c1ccccc1)\\CN1CCN(C(c2ccccc2)c2ccccc2)CC1   \n",
       "4    C/C=C/C[C@@H](C)[C@@H](O)[C@H]1C(=O)N[C@@H](CC...   \n",
       "..                                                 ...   \n",
       "753                               Oc1nc(O)c2cn[nH]c2n1   \n",
       "754                                  Oc1ncnc2[nH]ncc12   \n",
       "755                                  Sc1ncnc2nc[nH]c12   \n",
       "756                        c1ccc([C@H]2CN3CCSC3=N2)cc1   \n",
       "757                         c1cnc2cc3c(cc2n1)C1CNCC3C1   \n",
       "\n",
       "     median pMolar total plasma concentration  \\\n",
       "0                                    4.257078   \n",
       "1                                    4.223262   \n",
       "2                                    6.227192   \n",
       "3                                    6.047947   \n",
       "4                                    6.111649   \n",
       "..                                        ...   \n",
       "753                                  4.006067   \n",
       "754                                  3.855136   \n",
       "755                                  6.483388   \n",
       "756                                  5.459929   \n",
       "757                                  7.625868   \n",
       "\n",
       "     median pMolar unbound plasma concentration  \\\n",
       "0                                           NaN   \n",
       "1                                           NaN   \n",
       "2                                           NaN   \n",
       "3                                           NaN   \n",
       "4                                      7.279140   \n",
       "..                                          ...   \n",
       "753                                         NaN   \n",
       "754                                    3.868365   \n",
       "755                                    6.553969   \n",
       "756                                         NaN   \n",
       "757                                         NaN   \n",
       "\n",
       "                                   Standardized_SMILES  \\\n",
       "0                                     C#CC(O)(C=CCl)CC   \n",
       "1                                 C#CC1(OC(N)=O)CCCCC1   \n",
       "2            C#CC1(O)CCC2C3CCC4=Cc5oncc5CC4(C)C3CCC21C   \n",
       "3    C(=Cc1ccccc1)C[NH+]1CC[NH+](C(c2ccccc2)c2ccccc...   \n",
       "4    CC=CCC(C)C(O)C1C(=O)NC(CC)C(=O)[NH+](C)CC(=O)[...   \n",
       "..                                                 ...   \n",
       "753                       O=c1[n-]c(=O)c2c[n-]nc2[n-]1   \n",
       "754                              O=c1[n-]cnc2[n-]ncc12   \n",
       "755                              S=c1[n-]cnc2[n-]cnc12   \n",
       "756                        c1ccc(C2CN3CCSC3=[NH+]2)cc1   \n",
       "757                    c1cnc2cc3c(cc2n1)C1C[NH2+]CC3C1   \n",
       "\n",
       "                                    Standardized_InChI  \n",
       "0    InChI=1S/C7H9ClO/c1-3-7(9,4-2)5-6-8/h1,5-6,9H,...  \n",
       "1    InChI=1S/C9H13NO2/c1-2-9(12-8(10)11)6-4-3-5-7-...  \n",
       "2    InChI=1S/C22H27NO2/c1-4-22(24)10-8-18-16-6-5-1...  \n",
       "3    InChI=1S/C26H28N2/c1-4-11-23(12-5-1)13-10-18-2...  \n",
       "4    InChI=1S/C62H111N11O12/c1-25-27-28-40(15)52(75...  \n",
       "..                                                 ...  \n",
       "753  InChI=1S/C5H3N4O2/c10-4-2-1-6-9-3(2)7-5(11)8-4...  \n",
       "754  InChI=1S/C5H3N4O/c10-5-3-1-8-9-4(3)6-2-7-5/h1-...  \n",
       "755  InChI=1S/C5H3N4S/c10-5-3-4(7-1-6-3)8-2-9-5/h1-...  \n",
       "756  InChI=1S/C11H12N2S/c1-2-4-9(5-3-1)10-8-13-6-7-...  \n",
       "757  InChI=1S/C13H13N3/c1-2-16-13-5-11-9-3-8(6-14-7...  \n",
       "\n",
       "[758 rows x 5 columns]"
      ]
     },
     "execution_count": 3,
     "metadata": {},
     "output_type": "execute_result"
    }
   ],
   "source": [
    "df"
   ]
  },
  {
   "cell_type": "code",
   "execution_count": null,
   "id": "24854d24",
   "metadata": {
    "collapsed": true
   },
   "outputs": [],
   "source": []
  },
  {
   "cell_type": "code",
   "execution_count": 4,
   "id": "055dc9fc",
   "metadata": {},
   "outputs": [
    {
     "data": {
      "text/plain": [
       "749"
      ]
     },
     "execution_count": 4,
     "metadata": {},
     "output_type": "execute_result"
    }
   ],
   "source": [
    "df[\"median pMolar total plasma concentration\"].count()"
   ]
  },
  {
   "cell_type": "code",
   "execution_count": 5,
   "id": "2a644ef1",
   "metadata": {},
   "outputs": [
    {
     "data": {
      "text/plain": [
       "534"
      ]
     },
     "execution_count": 5,
     "metadata": {},
     "output_type": "execute_result"
    }
   ],
   "source": [
    "df[\"median pMolar unbound plasma concentration\"].count()"
   ]
  },
  {
   "cell_type": "code",
   "execution_count": null,
   "id": "abe6e0c4",
   "metadata": {},
   "outputs": [],
   "source": []
  }
 ],
 "metadata": {
  "kernelspec": {
   "display_name": "Python 3 (ipykernel)",
   "language": "python",
   "name": "python3"
  },
  "language_info": {
   "codemirror_mode": {
    "name": "ipython",
    "version": 3
   },
   "file_extension": ".py",
   "mimetype": "text/x-python",
   "name": "python",
   "nbconvert_exporter": "python",
   "pygments_lexer": "ipython3",
   "version": "3.9.10"
  }
 },
 "nbformat": 4,
 "nbformat_minor": 5
}
