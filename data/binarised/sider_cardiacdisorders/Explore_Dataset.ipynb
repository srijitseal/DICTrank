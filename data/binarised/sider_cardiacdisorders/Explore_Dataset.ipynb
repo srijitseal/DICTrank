{
 "cells": [
  {
   "cell_type": "code",
   "execution_count": 1,
   "id": "1c4d7b6f",
   "metadata": {},
   "outputs": [],
   "source": [
    "import pandas as pd"
   ]
  },
  {
   "cell_type": "code",
   "execution_count": 2,
   "id": "771c669b",
   "metadata": {},
   "outputs": [
    {
     "data": {
      "text/html": [
       "<div>\n",
       "<style scoped>\n",
       "    .dataframe tbody tr th:only-of-type {\n",
       "        vertical-align: middle;\n",
       "    }\n",
       "\n",
       "    .dataframe tbody tr th {\n",
       "        vertical-align: top;\n",
       "    }\n",
       "\n",
       "    .dataframe thead th {\n",
       "        text-align: right;\n",
       "    }\n",
       "</style>\n",
       "<table border=\"1\" class=\"dataframe\">\n",
       "  <thead>\n",
       "    <tr style=\"text-align: right;\">\n",
       "      <th></th>\n",
       "      <th>Standardized_SMILES</th>\n",
       "      <th>Standardized_InChI</th>\n",
       "      <th>Cardiac disorders</th>\n",
       "    </tr>\n",
       "  </thead>\n",
       "  <tbody>\n",
       "    <tr>\n",
       "      <th>0</th>\n",
       "      <td>[NH3+]CC[NH2+]CC[NH2+]CC[NH2+]CC[NH3+]</td>\n",
       "      <td>InChI=1S/C8H23N5/c9-1-3-11-5-7-13-8-6-12-4-2-1...</td>\n",
       "      <td>1</td>\n",
       "    </tr>\n",
       "    <tr>\n",
       "      <th>1</th>\n",
       "      <td>COc1c(CC=C(C)CCC(=O)[O-])c([O-])c2c([O-])occ2c1C</td>\n",
       "      <td>InChI=1S/C17H20O6/c1-9(5-7-13(18)19)4-6-11-15(...</td>\n",
       "      <td>1</td>\n",
       "    </tr>\n",
       "    <tr>\n",
       "      <th>2</th>\n",
       "      <td>CC(OC1OCC[NH+](Cc2nc(=O)n([P](=O)(=O)O)[n-]2)C...</td>\n",
       "      <td>InChI=1S/C23H21F7N4O6P/c1-12(14-8-15(22(25,26)...</td>\n",
       "      <td>1</td>\n",
       "    </tr>\n",
       "    <tr>\n",
       "      <th>3</th>\n",
       "      <td>CCON=C(C(=O)NC1C(=O)[NH+]2C(C(=O)[O-])=C(Sc3nc...</td>\n",
       "      <td>InChI=1S/C22H20N8O8PS4/c1-3-38-26-13(16-25-21(...</td>\n",
       "      <td>1</td>\n",
       "    </tr>\n",
       "    <tr>\n",
       "      <th>4</th>\n",
       "      <td>CC(CN1c2ccccc2Sc2ccccc21)C[NH+](C)C</td>\n",
       "      <td>InChI=1S/C18H22N2S/c1-14(12-19(2)3)13-20-15-8-...</td>\n",
       "      <td>1</td>\n",
       "    </tr>\n",
       "    <tr>\n",
       "      <th>...</th>\n",
       "      <td>...</td>\n",
       "      <td>...</td>\n",
       "      <td>...</td>\n",
       "    </tr>\n",
       "    <tr>\n",
       "      <th>1317</th>\n",
       "      <td>CCCCCCCCCCCCCCCCCCCCCCO</td>\n",
       "      <td>InChI=1S/C22H46O/c1-2-3-4-5-6-7-8-9-10-11-12-1...</td>\n",
       "      <td>0</td>\n",
       "    </tr>\n",
       "    <tr>\n",
       "      <th>1318</th>\n",
       "      <td>CCC1OC(=O)C(C)C(OC2CC(C)(OC)C(O)C(C)O2)C(C)C(O...</td>\n",
       "      <td>InChI=1S/C41H76N2O15/c1-15-29-41(10,49)34(45)2...</td>\n",
       "      <td>0</td>\n",
       "    </tr>\n",
       "    <tr>\n",
       "      <th>1319</th>\n",
       "      <td>C=CC1=C(C)c2cc3[nH]c(cc4[nH]c(cc5nc(cc1n2)C(C)...</td>\n",
       "      <td>InChI=1S/C34H34N4O4/c1-7-21-17(3)25-13-26-19(5...</td>\n",
       "      <td>0</td>\n",
       "    </tr>\n",
       "    <tr>\n",
       "      <th>1320</th>\n",
       "      <td>CC1C[NH+](C2CCC(C#N)(c3ccc(F)cc3)CC2)CCC1(C(=O...</td>\n",
       "      <td>InChI=1S/C26H29FN2O2/c1-19-17-29(16-15-26(19,2...</td>\n",
       "      <td>0</td>\n",
       "    </tr>\n",
       "    <tr>\n",
       "      <th>1321</th>\n",
       "      <td>CCCCC(=O)OC1(C(=O)CO)CCC2C3CC=C4CC(=O)CCC4(C)C...</td>\n",
       "      <td>InChI=1S/C26H38O6/c1-4-5-6-22(31)32-26(21(30)1...</td>\n",
       "      <td>0</td>\n",
       "    </tr>\n",
       "  </tbody>\n",
       "</table>\n",
       "<p>1322 rows × 3 columns</p>\n",
       "</div>"
      ],
      "text/plain": [
       "                                    Standardized_SMILES  \\\n",
       "0                [NH3+]CC[NH2+]CC[NH2+]CC[NH2+]CC[NH3+]   \n",
       "1      COc1c(CC=C(C)CCC(=O)[O-])c([O-])c2c([O-])occ2c1C   \n",
       "2     CC(OC1OCC[NH+](Cc2nc(=O)n([P](=O)(=O)O)[n-]2)C...   \n",
       "3     CCON=C(C(=O)NC1C(=O)[NH+]2C(C(=O)[O-])=C(Sc3nc...   \n",
       "4                   CC(CN1c2ccccc2Sc2ccccc21)C[NH+](C)C   \n",
       "...                                                 ...   \n",
       "1317                            CCCCCCCCCCCCCCCCCCCCCCO   \n",
       "1318  CCC1OC(=O)C(C)C(OC2CC(C)(OC)C(O)C(C)O2)C(C)C(O...   \n",
       "1319  C=CC1=C(C)c2cc3[nH]c(cc4[nH]c(cc5nc(cc1n2)C(C)...   \n",
       "1320  CC1C[NH+](C2CCC(C#N)(c3ccc(F)cc3)CC2)CCC1(C(=O...   \n",
       "1321  CCCCC(=O)OC1(C(=O)CO)CCC2C3CC=C4CC(=O)CCC4(C)C...   \n",
       "\n",
       "                                     Standardized_InChI  Cardiac disorders  \n",
       "0     InChI=1S/C8H23N5/c9-1-3-11-5-7-13-8-6-12-4-2-1...                  1  \n",
       "1     InChI=1S/C17H20O6/c1-9(5-7-13(18)19)4-6-11-15(...                  1  \n",
       "2     InChI=1S/C23H21F7N4O6P/c1-12(14-8-15(22(25,26)...                  1  \n",
       "3     InChI=1S/C22H20N8O8PS4/c1-3-38-26-13(16-25-21(...                  1  \n",
       "4     InChI=1S/C18H22N2S/c1-14(12-19(2)3)13-20-15-8-...                  1  \n",
       "...                                                 ...                ...  \n",
       "1317  InChI=1S/C22H46O/c1-2-3-4-5-6-7-8-9-10-11-12-1...                  0  \n",
       "1318  InChI=1S/C41H76N2O15/c1-15-29-41(10,49)34(45)2...                  0  \n",
       "1319  InChI=1S/C34H34N4O4/c1-7-21-17(3)25-13-26-19(5...                  0  \n",
       "1320  InChI=1S/C26H29FN2O2/c1-19-17-29(16-15-26(19,2...                  0  \n",
       "1321  InChI=1S/C26H38O6/c1-4-5-6-22(31)32-26(21(30)1...                  0  \n",
       "\n",
       "[1322 rows x 3 columns]"
      ]
     },
     "execution_count": 2,
     "metadata": {},
     "output_type": "execute_result"
    }
   ],
   "source": [
    "df = pd.read_csv(\"sider_cardiacdisorders_binarised.csv.gz\", compression=\"gzip\")\n",
    "df"
   ]
  },
  {
   "cell_type": "code",
   "execution_count": 3,
   "id": "47c6ee3a",
   "metadata": {},
   "outputs": [
    {
     "data": {
      "text/plain": [
       "1322"
      ]
     },
     "execution_count": 3,
     "metadata": {},
     "output_type": "execute_result"
    }
   ],
   "source": [
    "df.Standardized_SMILES.nunique()"
   ]
  },
  {
   "cell_type": "code",
   "execution_count": 4,
   "id": "e9b17901",
   "metadata": {},
   "outputs": [],
   "source": [
    "df.to_csv(\"sider_cardiacdisorders_binarised_DataWarrior.csv\", index=False)"
   ]
  },
  {
   "cell_type": "code",
   "execution_count": null,
   "id": "2a736763",
   "metadata": {},
   "outputs": [],
   "source": []
  }
 ],
 "metadata": {
  "kernelspec": {
   "display_name": "Python 3 (ipykernel)",
   "language": "python",
   "name": "python3"
  },
  "language_info": {
   "codemirror_mode": {
    "name": "ipython",
    "version": 3
   },
   "file_extension": ".py",
   "mimetype": "text/x-python",
   "name": "python",
   "nbconvert_exporter": "python",
   "pygments_lexer": "ipython3",
   "version": "3.9.10"
  }
 },
 "nbformat": 4,
 "nbformat_minor": 5
}
