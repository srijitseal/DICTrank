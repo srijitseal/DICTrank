{
 "cells": [
  {
   "cell_type": "code",
   "execution_count": 1,
   "id": "1c4d7b6f",
   "metadata": {},
   "outputs": [],
   "source": [
    "import pandas as pd"
   ]
  },
  {
   "cell_type": "code",
   "execution_count": 6,
   "id": "771c669b",
   "metadata": {},
   "outputs": [
    {
     "data": {
      "text/html": [
       "<div>\n",
       "<style scoped>\n",
       "    .dataframe tbody tr th:only-of-type {\n",
       "        vertical-align: middle;\n",
       "    }\n",
       "\n",
       "    .dataframe tbody tr th {\n",
       "        vertical-align: top;\n",
       "    }\n",
       "\n",
       "    .dataframe thead th {\n",
       "        text-align: right;\n",
       "    }\n",
       "</style>\n",
       "<table border=\"1\" class=\"dataframe\">\n",
       "  <thead>\n",
       "    <tr style=\"text-align: right;\">\n",
       "      <th></th>\n",
       "      <th>Standardized_SMILES</th>\n",
       "      <th>Standardized_InChI</th>\n",
       "      <th>Cardiac disorders</th>\n",
       "    </tr>\n",
       "  </thead>\n",
       "  <tbody>\n",
       "    <tr>\n",
       "      <th>0</th>\n",
       "      <td>[NH3+]CC[NH2+]CC[NH2+]CC[NH2+]CC[NH3+]</td>\n",
       "      <td>InChI=1S/C8H23N5/c9-1-3-11-5-7-13-8-6-12-4-2-1...</td>\n",
       "      <td>1</td>\n",
       "    </tr>\n",
       "    <tr>\n",
       "      <th>1</th>\n",
       "      <td>O=C([O-])C[NH+](CC[NH+](CC(=O)[O-])CC(=O)[O-])...</td>\n",
       "      <td>InChI=1S/C22H31N3O11/c26-18(27)10-23(6-7-24(11...</td>\n",
       "      <td>1</td>\n",
       "    </tr>\n",
       "    <tr>\n",
       "      <th>2</th>\n",
       "      <td>CCNC(=O)C1CCC[NH+]1C(=O)C(CCCNC(N)=[NH2+])NC(=...</td>\n",
       "      <td>InChI=1S/C66H86N18O12/c1-4-70-64(95)55-17-11-2...</td>\n",
       "      <td>1</td>\n",
       "    </tr>\n",
       "    <tr>\n",
       "      <th>3</th>\n",
       "      <td>CC[NH+](CC)C(=O)Nc1ccc(OCC(O)C[NH2+]C(C)(C)C)c...</td>\n",
       "      <td>InChI=1S/C20H33N3O4/c1-7-23(8-2)19(26)22-15-9-...</td>\n",
       "      <td>1</td>\n",
       "    </tr>\n",
       "    <tr>\n",
       "      <th>4</th>\n",
       "      <td>COC12CCC3(CC1C(C)(O)C(C)(C)C)C1Cc4ccc([O-])c5c...</td>\n",
       "      <td>InChI=1S/C29H41NO4/c1-25(2,3)26(4,32)20-15-27-...</td>\n",
       "      <td>1</td>\n",
       "    </tr>\n",
       "    <tr>\n",
       "      <th>...</th>\n",
       "      <td>...</td>\n",
       "      <td>...</td>\n",
       "      <td>...</td>\n",
       "    </tr>\n",
       "    <tr>\n",
       "      <th>1317</th>\n",
       "      <td>CC12CCC3c4ccc([O-])cc4CC(CCCCCCCCC[S+](O)CCCC(...</td>\n",
       "      <td>InChI=1S/C32H47F5O3S/c1-30-17-15-26-25-12-11-2...</td>\n",
       "      <td>0</td>\n",
       "    </tr>\n",
       "    <tr>\n",
       "      <th>1318</th>\n",
       "      <td>Cc1c(C2(c3cc(Br)c([O-])c(Br)c3C)OS(=O)(=O)c3cc...</td>\n",
       "      <td>InChI=1S/C21H14Br4O5S/c1-9-12(7-14(22)19(26)17...</td>\n",
       "      <td>0</td>\n",
       "    </tr>\n",
       "    <tr>\n",
       "      <th>1319</th>\n",
       "      <td>CC(O)C1C(=O)[NH+]2C(C(=O)[O-])=C(SC3C[NH2+]C(C...</td>\n",
       "      <td>InChI=1S/C15H24N4O6S2/c1-6-11-10(7(2)20)14(21)...</td>\n",
       "      <td>0</td>\n",
       "    </tr>\n",
       "    <tr>\n",
       "      <th>1320</th>\n",
       "      <td>CC1(C)OC2CC3C4CC=C5CC(=O)CCC5(C)C4(F)C(O)CC3(C...</td>\n",
       "      <td>InChI=1S/C24H32ClFO5/c1-20(2)30-19-10-16-15-6-...</td>\n",
       "      <td>0</td>\n",
       "    </tr>\n",
       "    <tr>\n",
       "      <th>1321</th>\n",
       "      <td>CC1CC2C3CC(F)=C4CC(=O)C=CC4(C)C3(F)C(O)CC2(C)C...</td>\n",
       "      <td>InChI=1S/C22H28F2O5/c1-11-6-13-14-8-16(23)15-7...</td>\n",
       "      <td>0</td>\n",
       "    </tr>\n",
       "  </tbody>\n",
       "</table>\n",
       "<p>1322 rows × 3 columns</p>\n",
       "</div>"
      ],
      "text/plain": [
       "                                    Standardized_SMILES  \\\n",
       "0                [NH3+]CC[NH2+]CC[NH2+]CC[NH2+]CC[NH3+]   \n",
       "1     O=C([O-])C[NH+](CC[NH+](CC(=O)[O-])CC(=O)[O-])...   \n",
       "2     CCNC(=O)C1CCC[NH+]1C(=O)C(CCCNC(N)=[NH2+])NC(=...   \n",
       "3     CC[NH+](CC)C(=O)Nc1ccc(OCC(O)C[NH2+]C(C)(C)C)c...   \n",
       "4     COC12CCC3(CC1C(C)(O)C(C)(C)C)C1Cc4ccc([O-])c5c...   \n",
       "...                                                 ...   \n",
       "1317  CC12CCC3c4ccc([O-])cc4CC(CCCCCCCCC[S+](O)CCCC(...   \n",
       "1318  Cc1c(C2(c3cc(Br)c([O-])c(Br)c3C)OS(=O)(=O)c3cc...   \n",
       "1319  CC(O)C1C(=O)[NH+]2C(C(=O)[O-])=C(SC3C[NH2+]C(C...   \n",
       "1320  CC1(C)OC2CC3C4CC=C5CC(=O)CCC5(C)C4(F)C(O)CC3(C...   \n",
       "1321  CC1CC2C3CC(F)=C4CC(=O)C=CC4(C)C3(F)C(O)CC2(C)C...   \n",
       "\n",
       "                                     Standardized_InChI  Cardiac disorders  \n",
       "0     InChI=1S/C8H23N5/c9-1-3-11-5-7-13-8-6-12-4-2-1...                  1  \n",
       "1     InChI=1S/C22H31N3O11/c26-18(27)10-23(6-7-24(11...                  1  \n",
       "2     InChI=1S/C66H86N18O12/c1-4-70-64(95)55-17-11-2...                  1  \n",
       "3     InChI=1S/C20H33N3O4/c1-7-23(8-2)19(26)22-15-9-...                  1  \n",
       "4     InChI=1S/C29H41NO4/c1-25(2,3)26(4,32)20-15-27-...                  1  \n",
       "...                                                 ...                ...  \n",
       "1317  InChI=1S/C32H47F5O3S/c1-30-17-15-26-25-12-11-2...                  0  \n",
       "1318  InChI=1S/C21H14Br4O5S/c1-9-12(7-14(22)19(26)17...                  0  \n",
       "1319  InChI=1S/C15H24N4O6S2/c1-6-11-10(7(2)20)14(21)...                  0  \n",
       "1320  InChI=1S/C24H32ClFO5/c1-20(2)30-19-10-16-15-6-...                  0  \n",
       "1321  InChI=1S/C22H28F2O5/c1-11-6-13-14-8-16(23)15-7...                  0  \n",
       "\n",
       "[1322 rows x 3 columns]"
      ]
     },
     "execution_count": 6,
     "metadata": {},
     "output_type": "execute_result"
    }
   ],
   "source": [
    "df = pd.read_csv(\"sider_cardiacdisorders_binarised.csv.gz\", compression=\"gzip\")\n",
    "df"
   ]
  },
  {
   "cell_type": "code",
   "execution_count": 5,
   "id": "47c6ee3a",
   "metadata": {},
   "outputs": [
    {
     "data": {
      "text/plain": [
       "1322"
      ]
     },
     "execution_count": 5,
     "metadata": {},
     "output_type": "execute_result"
    }
   ],
   "source": [
    "df.Standardized_SMILES.nunique()"
   ]
  },
  {
   "cell_type": "code",
   "execution_count": null,
   "id": "e9b17901",
   "metadata": {},
   "outputs": [],
   "source": []
  }
 ],
 "metadata": {
  "kernelspec": {
   "display_name": "Python 3 (ipykernel)",
   "language": "python",
   "name": "python3"
  },
  "language_info": {
   "codemirror_mode": {
    "name": "ipython",
    "version": 3
   },
   "file_extension": ".py",
   "mimetype": "text/x-python",
   "name": "python",
   "nbconvert_exporter": "python",
   "pygments_lexer": "ipython3",
   "version": "3.9.10"
  }
 },
 "nbformat": 4,
 "nbformat_minor": 5
}
