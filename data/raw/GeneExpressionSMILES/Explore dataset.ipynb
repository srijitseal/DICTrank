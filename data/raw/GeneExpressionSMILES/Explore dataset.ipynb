{
 "cells": [
  {
   "cell_type": "code",
   "execution_count": 1,
   "id": "a7983989",
   "metadata": {},
   "outputs": [],
   "source": [
    "import pandas as pd"
   ]
  },
  {
   "cell_type": "code",
   "execution_count": 2,
   "id": "e0fdf064",
   "metadata": {},
   "outputs": [
    {
     "data": {
      "text/html": [
       "<div>\n",
       "<style scoped>\n",
       "    .dataframe tbody tr th:only-of-type {\n",
       "        vertical-align: middle;\n",
       "    }\n",
       "\n",
       "    .dataframe tbody tr th {\n",
       "        vertical-align: top;\n",
       "    }\n",
       "\n",
       "    .dataframe thead th {\n",
       "        text-align: right;\n",
       "    }\n",
       "</style>\n",
       "<table border=\"1\" class=\"dataframe\">\n",
       "  <thead>\n",
       "    <tr style=\"text-align: right;\">\n",
       "      <th></th>\n",
       "      <th>pert_id</th>\n",
       "      <th>SMILES</th>\n",
       "    </tr>\n",
       "  </thead>\n",
       "  <tbody>\n",
       "    <tr>\n",
       "      <th>0</th>\n",
       "      <td>BRD-A00100033</td>\n",
       "      <td>CC1CS(=O)(=O)CCN1N=Cc1ccc(o1)[N+]([O-])=O</td>\n",
       "    </tr>\n",
       "    <tr>\n",
       "      <th>1</th>\n",
       "      <td>BRD-A00150179</td>\n",
       "      <td>NC(Cc1c[nH]c2cccc(O)c12)C(O)=O</td>\n",
       "    </tr>\n",
       "    <tr>\n",
       "      <th>2</th>\n",
       "      <td>BRD-A00267231</td>\n",
       "      <td>CCCCC#Cc1nc(NC)c2ncn(C3OC(CO)C(O)C3O)c2n1</td>\n",
       "    </tr>\n",
       "    <tr>\n",
       "      <th>3</th>\n",
       "      <td>BRD-A00420644</td>\n",
       "      <td>CCN1C2C(C(=NC2Nc3ccccc13)OC)c4ccccc4</td>\n",
       "    </tr>\n",
       "    <tr>\n",
       "      <th>4</th>\n",
       "      <td>BRD-A00474148</td>\n",
       "      <td>Oc1ccc(cc1)N1CCN(CC1)[S+]([O-])(=O)c1ccc2NC(=O...</td>\n",
       "    </tr>\n",
       "    <tr>\n",
       "      <th>...</th>\n",
       "      <td>...</td>\n",
       "      <td>...</td>\n",
       "    </tr>\n",
       "    <tr>\n",
       "      <th>20334</th>\n",
       "      <td>BRD-U66370498</td>\n",
       "      <td>C[C@@]34CC[C@H]2[C@@H](CCC1CCCC(O)[C@@]12C)[C@...</td>\n",
       "    </tr>\n",
       "    <tr>\n",
       "      <th>20335</th>\n",
       "      <td>BRD-U73308409</td>\n",
       "      <td>CCCS(=O)(=O)NC1=C(C(=C(C=C1)F)C(=O)C2=CNC3=NC=...</td>\n",
       "    </tr>\n",
       "    <tr>\n",
       "      <th>20336</th>\n",
       "      <td>BRD-U77632492</td>\n",
       "      <td>COC1=CC=CC(=C1)NC(=O)CN2C(=O)C3=CC=CC=C3S2</td>\n",
       "    </tr>\n",
       "    <tr>\n",
       "      <th>20337</th>\n",
       "      <td>BRD-U88459701</td>\n",
       "      <td>O=C(O)C[C@H](O)C[C@H](O)CCn2c(c(c(c2c1ccc(F)cc...</td>\n",
       "    </tr>\n",
       "    <tr>\n",
       "      <th>20338</th>\n",
       "      <td>BRD-U94846492</td>\n",
       "      <td>O(c4cc1c(nccc1[C@@H](O)[C@H]2N3CC[C@@H](C2)[C@...</td>\n",
       "    </tr>\n",
       "  </tbody>\n",
       "</table>\n",
       "<p>20339 rows × 2 columns</p>\n",
       "</div>"
      ],
      "text/plain": [
       "             pert_id                                             SMILES\n",
       "0      BRD-A00100033          CC1CS(=O)(=O)CCN1N=Cc1ccc(o1)[N+]([O-])=O\n",
       "1      BRD-A00150179                     NC(Cc1c[nH]c2cccc(O)c12)C(O)=O\n",
       "2      BRD-A00267231          CCCCC#Cc1nc(NC)c2ncn(C3OC(CO)C(O)C3O)c2n1\n",
       "3      BRD-A00420644               CCN1C2C(C(=NC2Nc3ccccc13)OC)c4ccccc4\n",
       "4      BRD-A00474148  Oc1ccc(cc1)N1CCN(CC1)[S+]([O-])(=O)c1ccc2NC(=O...\n",
       "...              ...                                                ...\n",
       "20334  BRD-U66370498  C[C@@]34CC[C@H]2[C@@H](CCC1CCCC(O)[C@@]12C)[C@...\n",
       "20335  BRD-U73308409  CCCS(=O)(=O)NC1=C(C(=C(C=C1)F)C(=O)C2=CNC3=NC=...\n",
       "20336  BRD-U77632492         COC1=CC=CC(=C1)NC(=O)CN2C(=O)C3=CC=CC=C3S2\n",
       "20337  BRD-U88459701  O=C(O)C[C@H](O)C[C@H](O)CCn2c(c(c(c2c1ccc(F)cc...\n",
       "20338  BRD-U94846492  O(c4cc1c(nccc1[C@@H](O)[C@H]2N3CC[C@@H](C2)[C@...\n",
       "\n",
       "[20339 rows x 2 columns]"
      ]
     },
     "execution_count": 2,
     "metadata": {},
     "output_type": "execute_result"
    }
   ],
   "source": [
    "df = pd.read_csv(\"GeneExpressionSMILES.csv.gz\", compression=\"gzip\")\n",
    "df"
   ]
  },
  {
   "cell_type": "code",
   "execution_count": null,
   "id": "e2746224",
   "metadata": {},
   "outputs": [],
   "source": []
  }
 ],
 "metadata": {
  "kernelspec": {
   "display_name": "Python 3 (ipykernel)",
   "language": "python",
   "name": "python3"
  },
  "language_info": {
   "codemirror_mode": {
    "name": "ipython",
    "version": 3
   },
   "file_extension": ".py",
   "mimetype": "text/x-python",
   "name": "python",
   "nbconvert_exporter": "python",
   "pygments_lexer": "ipython3",
   "version": "3.9.10"
  }
 },
 "nbformat": 4,
 "nbformat_minor": 5
}
