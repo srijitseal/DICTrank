{
 "cells": [
  {
   "cell_type": "code",
   "execution_count": 7,
   "id": "620d2eef",
   "metadata": {
    "scrolled": true
   },
   "outputs": [
    {
     "name": "stdout",
     "output_type": "stream",
     "text": [
      "INFO: Pandarallel will run on 56 workers.\n",
      "INFO: Pandarallel will use Memory file system to transfer data between the main process and workers.\n",
      "GeneExpressionSMILES\n",
      "sider\n",
      "MOA\n",
      "CellPaintingSMILES\n",
      "Cmax\n",
      "DrugBank\n",
      "DICTrank\n",
      "1378\n",
      "2613\n",
      "1579\n"
     ]
    },
    {
     "name": "stderr",
     "output_type": "stream",
     "text": [
      "  1%|▏                                         | 8/1579 [00:01<03:31,  7.42it/s]"
     ]
    },
    {
     "name": "stdout",
     "output_type": "stream",
     "text": [
      "/home/ss2686/miniconda3/envs/my-rdkit-env/lib/python3.9/site-packages/numpy/core/fromnumeric.py:86: RuntimeWarning: overflow encountered in reduce\n",
      "  return ufunc.reduce(obj, axis, dtype, out, **passkwargs)\n"
     ]
    },
    {
     "name": "stderr",
     "output_type": "stream",
     "text": [
      "  2%|▊                                        | 32/1579 [00:04<06:25,  4.01it/s]"
     ]
    },
    {
     "name": "stdout",
     "output_type": "stream",
     "text": [
      "/home/ss2686/miniconda3/envs/my-rdkit-env/lib/python3.9/site-packages/numpy/core/fromnumeric.py:86: RuntimeWarning: overflow encountered in reduce\n",
      "  return ufunc.reduce(obj, axis, dtype, out, **passkwargs)\n",
      "/home/ss2686/miniconda3/envs/my-rdkit-env/lib/python3.9/site-packages/numpy/core/fromnumeric.py:86: RuntimeWarning: overflow encountered in reduce\n",
      "  return ufunc.reduce(obj, axis, dtype, out, **passkwargs)\n",
      "/home/ss2686/miniconda3/envs/my-rdkit-env/lib/python3.9/site-packages/numpy/core/fromnumeric.py:86: RuntimeWarning: overflow encountered in reduce\n",
      "  return ufunc.reduce(obj, axis, dtype, out, **passkwargs)\n"
     ]
    },
    {
     "name": "stderr",
     "output_type": "stream",
     "text": [
      "  3%|█                                        | 42/1579 [00:05<03:20,  7.68it/s]Process ForkPoolWorker-319:\n",
      "Process ForkPoolWorker-310:\n",
      "Process ForkPoolWorker-324:\n",
      "Process ForkPoolWorker-305:\n",
      "Process ForkPoolWorker-298:\n",
      "Process ForkPoolWorker-314:\n",
      "Process ForkPoolWorker-323:\n",
      "\n"
     ]
    },
    {
     "ename": "KeyboardInterrupt",
     "evalue": "",
     "output_type": "error",
     "traceback": [
      "\u001b[0;31m---------------------------------------------------------------------------\u001b[0m",
      "\u001b[0;31mKeyboardInterrupt\u001b[0m                         Traceback (most recent call last)",
      "Input \u001b[0;32mIn [7]\u001b[0m, in \u001b[0;36m<cell line: 78>\u001b[0;34m()\u001b[0m\n\u001b[1;32m     74\u001b[0m         data_columns \u001b[38;5;241m=\u001b[39m Mordred_table_data\u001b[38;5;241m.\u001b[39mcolumns\n\u001b[1;32m     76\u001b[0m         \u001b[38;5;28;01mreturn\u001b[39;00m(data_columns)\n\u001b[0;32m---> 78\u001b[0m data_columns \u001b[38;5;241m=\u001b[39m \u001b[43mget_Mordred_columns_to_use\u001b[49m\u001b[43m(\u001b[49m\u001b[43m)\u001b[49m\n\u001b[1;32m     81\u001b[0m \u001b[38;5;66;03m#Dataset only DICTrank\u001b[39;00m\n\u001b[1;32m     82\u001b[0m \u001b[38;5;28;01mfor\u001b[39;00m dataset \u001b[38;5;129;01min\u001b[39;00m [\u001b[38;5;124m\"\u001b[39m\u001b[38;5;124mDICTrank\u001b[39m\u001b[38;5;124m\"\u001b[39m]:\n\u001b[1;32m     83\u001b[0m     \n\u001b[1;32m     84\u001b[0m     \u001b[38;5;66;03m# Exclude hidden files or directories like .ipynb_checkpoints\u001b[39;00m\n",
      "Input \u001b[0;32mIn [7]\u001b[0m, in \u001b[0;36mget_Mordred_columns_to_use\u001b[0;34m()\u001b[0m\n\u001b[1;32m     68\u001b[0m data \u001b[38;5;241m=\u001b[39m pd\u001b[38;5;241m.\u001b[39mDataFrame(smiles_list, columns\u001b[38;5;241m=\u001b[39m[\u001b[38;5;124m\"\u001b[39m\u001b[38;5;124mStandardized_SMILES\u001b[39m\u001b[38;5;124m\"\u001b[39m])\n\u001b[1;32m     70\u001b[0m Ser_Mol_train \u001b[38;5;241m=\u001b[39m data[\u001b[38;5;124m'\u001b[39m\u001b[38;5;124mStandardized_SMILES\u001b[39m\u001b[38;5;124m'\u001b[39m]\u001b[38;5;241m.\u001b[39mapply(Chem\u001b[38;5;241m.\u001b[39mMolFromSmiles)\n\u001b[0;32m---> 71\u001b[0m Mordred_table_data \u001b[38;5;241m=\u001b[39m \u001b[43mcalc\u001b[49m\u001b[38;5;241;43m.\u001b[39;49m\u001b[43mpandas\u001b[49m\u001b[43m(\u001b[49m\u001b[43mSer_Mol_train\u001b[49m\u001b[43m)\u001b[49m\n\u001b[1;32m     72\u001b[0m Mordred_table_data \u001b[38;5;241m=\u001b[39m Mordred_table_data\u001b[38;5;241m.\u001b[39mastype(\u001b[38;5;124m'\u001b[39m\u001b[38;5;124mfloat\u001b[39m\u001b[38;5;124m'\u001b[39m)\n\u001b[1;32m     73\u001b[0m Mordred_table_data \u001b[38;5;241m=\u001b[39m Mordred_table_data\u001b[38;5;241m.\u001b[39mdropna(axis\u001b[38;5;241m=\u001b[39m\u001b[38;5;124m'\u001b[39m\u001b[38;5;124mcolumns\u001b[39m\u001b[38;5;124m'\u001b[39m)\n",
      "File \u001b[0;32m~/miniconda3/envs/my-rdkit-env/lib/python3.9/site-packages/mordred/_base/calculator.py:397\u001b[0m, in \u001b[0;36mCalculator.pandas\u001b[0;34m(self, mols, nproc, nmols, quiet, ipynb, id)\u001b[0m\n\u001b[1;32m    394\u001b[0m \u001b[38;5;28;01melse\u001b[39;00m:\n\u001b[1;32m    395\u001b[0m     index \u001b[38;5;241m=\u001b[39m \u001b[38;5;28;01mNone\u001b[39;00m\n\u001b[0;32m--> 397\u001b[0m \u001b[38;5;28;01mreturn\u001b[39;00m \u001b[43mMordredDataFrame\u001b[49m\u001b[43m(\u001b[49m\n\u001b[1;32m    398\u001b[0m \u001b[43m    \u001b[49m\u001b[43m(\u001b[49m\u001b[38;5;28;43mlist\u001b[39;49m\u001b[43m(\u001b[49m\u001b[43mr\u001b[49m\u001b[43m)\u001b[49m\u001b[43m \u001b[49m\u001b[38;5;28;43;01mfor\u001b[39;49;00m\u001b[43m \u001b[49m\u001b[43mr\u001b[49m\u001b[43m \u001b[49m\u001b[38;5;129;43;01min\u001b[39;49;00m\u001b[43m \u001b[49m\u001b[38;5;28;43mself\u001b[39;49m\u001b[38;5;241;43m.\u001b[39;49m\u001b[43mmap\u001b[49m\u001b[43m(\u001b[49m\u001b[43mmols\u001b[49m\u001b[43m,\u001b[49m\u001b[43m \u001b[49m\u001b[43mnproc\u001b[49m\u001b[43m,\u001b[49m\u001b[43m \u001b[49m\u001b[43mnmols\u001b[49m\u001b[43m,\u001b[49m\u001b[43m \u001b[49m\u001b[43mquiet\u001b[49m\u001b[43m,\u001b[49m\u001b[43m \u001b[49m\u001b[43mipynb\u001b[49m\u001b[43m,\u001b[49m\u001b[43m \u001b[49m\u001b[38;5;28;43mid\u001b[39;49m\u001b[43m)\u001b[49m\u001b[43m)\u001b[49m\u001b[43m,\u001b[49m\n\u001b[1;32m    399\u001b[0m \u001b[43m    \u001b[49m\u001b[43mcolumns\u001b[49m\u001b[38;5;241;43m=\u001b[39;49m\u001b[43m[\u001b[49m\u001b[38;5;28;43mstr\u001b[39;49m\u001b[43m(\u001b[49m\u001b[43md\u001b[49m\u001b[43m)\u001b[49m\u001b[43m \u001b[49m\u001b[38;5;28;43;01mfor\u001b[39;49;00m\u001b[43m \u001b[49m\u001b[43md\u001b[49m\u001b[43m \u001b[49m\u001b[38;5;129;43;01min\u001b[39;49;00m\u001b[43m \u001b[49m\u001b[38;5;28;43mself\u001b[39;49m\u001b[38;5;241;43m.\u001b[39;49m\u001b[43mdescriptors\u001b[49m\u001b[43m]\u001b[49m\u001b[43m,\u001b[49m\n\u001b[1;32m    400\u001b[0m \u001b[43m    \u001b[49m\u001b[43mindex\u001b[49m\u001b[38;5;241;43m=\u001b[39;49m\u001b[43mindex\u001b[49m\u001b[43m,\u001b[49m\n\u001b[1;32m    401\u001b[0m \u001b[43m\u001b[49m\u001b[43m)\u001b[49m\n",
      "File \u001b[0;32m~/miniconda3/envs/my-rdkit-env/lib/python3.9/site-packages/pandas/core/frame.py:710\u001b[0m, in \u001b[0;36mDataFrame.__init__\u001b[0;34m(self, data, index, columns, dtype, copy)\u001b[0m\n\u001b[1;32m    708\u001b[0m         data \u001b[38;5;241m=\u001b[39m np\u001b[38;5;241m.\u001b[39masarray(data)\n\u001b[1;32m    709\u001b[0m     \u001b[38;5;28;01melse\u001b[39;00m:\n\u001b[0;32m--> 710\u001b[0m         data \u001b[38;5;241m=\u001b[39m \u001b[38;5;28;43mlist\u001b[39;49m\u001b[43m(\u001b[49m\u001b[43mdata\u001b[49m\u001b[43m)\u001b[49m\n\u001b[1;32m    711\u001b[0m \u001b[38;5;28;01mif\u001b[39;00m \u001b[38;5;28mlen\u001b[39m(data) \u001b[38;5;241m>\u001b[39m \u001b[38;5;241m0\u001b[39m:\n\u001b[1;32m    712\u001b[0m     \u001b[38;5;28;01mif\u001b[39;00m is_dataclass(data[\u001b[38;5;241m0\u001b[39m]):\n",
      "File \u001b[0;32m~/miniconda3/envs/my-rdkit-env/lib/python3.9/site-packages/mordred/_base/calculator.py:398\u001b[0m, in \u001b[0;36m<genexpr>\u001b[0;34m(.0)\u001b[0m\n\u001b[1;32m    394\u001b[0m \u001b[38;5;28;01melse\u001b[39;00m:\n\u001b[1;32m    395\u001b[0m     index \u001b[38;5;241m=\u001b[39m \u001b[38;5;28;01mNone\u001b[39;00m\n\u001b[1;32m    397\u001b[0m \u001b[38;5;28;01mreturn\u001b[39;00m MordredDataFrame(\n\u001b[0;32m--> 398\u001b[0m     (\u001b[38;5;28mlist\u001b[39m(r) \u001b[38;5;28;01mfor\u001b[39;00m r \u001b[38;5;129;01min\u001b[39;00m \u001b[38;5;28mself\u001b[39m\u001b[38;5;241m.\u001b[39mmap(mols, nproc, nmols, quiet, ipynb, \u001b[38;5;28mid\u001b[39m)),\n\u001b[1;32m    399\u001b[0m     columns\u001b[38;5;241m=\u001b[39m[\u001b[38;5;28mstr\u001b[39m(d) \u001b[38;5;28;01mfor\u001b[39;00m d \u001b[38;5;129;01min\u001b[39;00m \u001b[38;5;28mself\u001b[39m\u001b[38;5;241m.\u001b[39mdescriptors],\n\u001b[1;32m    400\u001b[0m     index\u001b[38;5;241m=\u001b[39mindex,\n\u001b[1;32m    401\u001b[0m )\n",
      "File \u001b[0;32m~/miniconda3/envs/my-rdkit-env/lib/python3.9/site-packages/mordred/_base/parallel.py:79\u001b[0m, in \u001b[0;36mparallel\u001b[0;34m(calc, mols, nproc, nmols, quiet, ipynb, id)\u001b[0m\n\u001b[1;32m     77\u001b[0m \u001b[38;5;28;01mdef\u001b[39;00m \u001b[38;5;21mparallel\u001b[39m(calc, mols, nproc, nmols, quiet, ipynb, \u001b[38;5;28mid\u001b[39m):\n\u001b[1;32m     78\u001b[0m     \u001b[38;5;28;01mwith\u001b[39;00m MolPool(calc, nproc) \u001b[38;5;28;01mas\u001b[39;00m pool, calc\u001b[38;5;241m.\u001b[39m_progress(quiet, nmols, ipynb) \u001b[38;5;28;01mas\u001b[39;00m bar:\n\u001b[0;32m---> 79\u001b[0m         \u001b[38;5;28;01mfor\u001b[39;00m mol, (r, err) \u001b[38;5;129;01min\u001b[39;00m pool\u001b[38;5;241m.\u001b[39mmap(mols, \u001b[38;5;28mid\u001b[39m):\n\u001b[1;32m     80\u001b[0m             \u001b[38;5;28;01mfor\u001b[39;00m e \u001b[38;5;129;01min\u001b[39;00m err:\n\u001b[1;32m     81\u001b[0m                 e \u001b[38;5;241m=\u001b[39m e\u001b[38;5;241m.\u001b[39mrstrip()\n",
      "File \u001b[0;32m~/miniconda3/envs/my-rdkit-env/lib/python3.9/site-packages/mordred/_base/parallel.py:70\u001b[0m, in \u001b[0;36mMolIterator.__next__\u001b[0;34m(self)\u001b[0m\n\u001b[1;32m     68\u001b[0m \u001b[38;5;28;01mtry\u001b[39;00m:\n\u001b[1;32m     69\u001b[0m     mol, fut \u001b[38;5;241m=\u001b[39m \u001b[38;5;28mself\u001b[39m\u001b[38;5;241m.\u001b[39mfutures\u001b[38;5;241m.\u001b[39mpopleft()\n\u001b[0;32m---> 70\u001b[0m     \u001b[38;5;28;01mreturn\u001b[39;00m mol, \u001b[43mfut\u001b[49m\u001b[38;5;241;43m.\u001b[39;49m\u001b[43mget\u001b[49m\u001b[43m(\u001b[49m\u001b[43m)\u001b[49m\n\u001b[1;32m     71\u001b[0m \u001b[38;5;28;01mexcept\u001b[39;00m \u001b[38;5;167;01mIndexError\u001b[39;00m:\n\u001b[1;32m     72\u001b[0m     \u001b[38;5;28;01mraise\u001b[39;00m \u001b[38;5;167;01mStopIteration\u001b[39;00m\n",
      "File \u001b[0;32m~/miniconda3/envs/my-rdkit-env/lib/python3.9/multiprocessing/pool.py:765\u001b[0m, in \u001b[0;36mApplyResult.get\u001b[0;34m(self, timeout)\u001b[0m\n\u001b[1;32m    764\u001b[0m \u001b[38;5;28;01mdef\u001b[39;00m \u001b[38;5;21mget\u001b[39m(\u001b[38;5;28mself\u001b[39m, timeout\u001b[38;5;241m=\u001b[39m\u001b[38;5;28;01mNone\u001b[39;00m):\n\u001b[0;32m--> 765\u001b[0m     \u001b[38;5;28;43mself\u001b[39;49m\u001b[38;5;241;43m.\u001b[39;49m\u001b[43mwait\u001b[49m\u001b[43m(\u001b[49m\u001b[43mtimeout\u001b[49m\u001b[43m)\u001b[49m\n\u001b[1;32m    766\u001b[0m     \u001b[38;5;28;01mif\u001b[39;00m \u001b[38;5;129;01mnot\u001b[39;00m \u001b[38;5;28mself\u001b[39m\u001b[38;5;241m.\u001b[39mready():\n\u001b[1;32m    767\u001b[0m         \u001b[38;5;28;01mraise\u001b[39;00m \u001b[38;5;167;01mTimeoutError\u001b[39;00m\n",
      "File \u001b[0;32m~/miniconda3/envs/my-rdkit-env/lib/python3.9/multiprocessing/pool.py:762\u001b[0m, in \u001b[0;36mApplyResult.wait\u001b[0;34m(self, timeout)\u001b[0m\n\u001b[1;32m    761\u001b[0m \u001b[38;5;28;01mdef\u001b[39;00m \u001b[38;5;21mwait\u001b[39m(\u001b[38;5;28mself\u001b[39m, timeout\u001b[38;5;241m=\u001b[39m\u001b[38;5;28;01mNone\u001b[39;00m):\n\u001b[0;32m--> 762\u001b[0m     \u001b[38;5;28;43mself\u001b[39;49m\u001b[38;5;241;43m.\u001b[39;49m\u001b[43m_event\u001b[49m\u001b[38;5;241;43m.\u001b[39;49m\u001b[43mwait\u001b[49m\u001b[43m(\u001b[49m\u001b[43mtimeout\u001b[49m\u001b[43m)\u001b[49m\n",
      "File \u001b[0;32m~/miniconda3/envs/my-rdkit-env/lib/python3.9/threading.py:574\u001b[0m, in \u001b[0;36mEvent.wait\u001b[0;34m(self, timeout)\u001b[0m\n\u001b[1;32m    572\u001b[0m signaled \u001b[38;5;241m=\u001b[39m \u001b[38;5;28mself\u001b[39m\u001b[38;5;241m.\u001b[39m_flag\n\u001b[1;32m    573\u001b[0m \u001b[38;5;28;01mif\u001b[39;00m \u001b[38;5;129;01mnot\u001b[39;00m signaled:\n\u001b[0;32m--> 574\u001b[0m     signaled \u001b[38;5;241m=\u001b[39m \u001b[38;5;28;43mself\u001b[39;49m\u001b[38;5;241;43m.\u001b[39;49m\u001b[43m_cond\u001b[49m\u001b[38;5;241;43m.\u001b[39;49m\u001b[43mwait\u001b[49m\u001b[43m(\u001b[49m\u001b[43mtimeout\u001b[49m\u001b[43m)\u001b[49m\n\u001b[1;32m    575\u001b[0m \u001b[38;5;28;01mreturn\u001b[39;00m signaled\n",
      "File \u001b[0;32m~/miniconda3/envs/my-rdkit-env/lib/python3.9/threading.py:312\u001b[0m, in \u001b[0;36mCondition.wait\u001b[0;34m(self, timeout)\u001b[0m\n\u001b[1;32m    310\u001b[0m \u001b[38;5;28;01mtry\u001b[39;00m:    \u001b[38;5;66;03m# restore state no matter what (e.g., KeyboardInterrupt)\u001b[39;00m\n\u001b[1;32m    311\u001b[0m     \u001b[38;5;28;01mif\u001b[39;00m timeout \u001b[38;5;129;01mis\u001b[39;00m \u001b[38;5;28;01mNone\u001b[39;00m:\n\u001b[0;32m--> 312\u001b[0m         \u001b[43mwaiter\u001b[49m\u001b[38;5;241;43m.\u001b[39;49m\u001b[43macquire\u001b[49m\u001b[43m(\u001b[49m\u001b[43m)\u001b[49m\n\u001b[1;32m    313\u001b[0m         gotit \u001b[38;5;241m=\u001b[39m \u001b[38;5;28;01mTrue\u001b[39;00m\n\u001b[1;32m    314\u001b[0m     \u001b[38;5;28;01melse\u001b[39;00m:\n",
      "\u001b[0;31mKeyboardInterrupt\u001b[0m: "
     ]
    }
   ],
   "source": [
    "#!/usr/bin/env python\n",
    "# coding: utf-8\n",
    "\n",
    "\n",
    "import os\n",
    "import numpy as np\n",
    "import pandas as pd\n",
    "from tqdm import tqdm\n",
    "from rdkit import Chem, DataStructs\n",
    "from rdkit.Chem import AllChem\n",
    "from mordred import Calculator, descriptors\n",
    "calc = Calculator(descriptors, ignore_3D=True)\n",
    "\n",
    "from sklearn.ensemble import RandomForestRegressor, RandomForestClassifier\n",
    "from sklearn.model_selection import cross_val_score, train_test_split\n",
    "from sklearn.metrics import mean_squared_error, roc_auc_score, matthews_corrcoef, average_precision_score, confusion_matrix\n",
    "from imblearn.metrics import geometric_mean_score\n",
    "from imblearn.over_sampling import RandomOverSampler\n",
    "from imblearn.pipeline import Pipeline\n",
    "from sklearn.metrics import roc_curve\n",
    "from sklearn.experimental import enable_halving_search_cv\n",
    "from sklearn.model_selection import HalvingRandomSearchCV\n",
    "from scipy.stats import randint, uniform\n",
    "from sklearn.model_selection import StratifiedKFold\n",
    "import math\n",
    "\n",
    "from pandarallel import pandarallel\n",
    "pandarallel.initialize()\n",
    "\n",
    "import sys\n",
    "sys.path.append('/home/ss2686/03_DICTrank')\n",
    "import argparse\n",
    "from scripts.evaluation_functions import evaluate_classifier, optimize_threshold_j_statistic\n",
    "\n",
    "\n",
    "# Path where your data is stored\n",
    "data_path = '../data/processed_binarised__splits/'\n",
    "\n",
    "results = {}\n",
    "held_out_results = []\n",
    "\n",
    "def get_Mordred_columns_to_use():\n",
    "    \n",
    "        datasets = {}\n",
    "        directory='../data/processed/'\n",
    "        # Load datasets from given directory\n",
    "        for foldername in os.listdir(directory):\n",
    "\n",
    "            if not foldername.startswith('.'):  # Ignore folders starting with a dot\n",
    "\n",
    "                print(foldername)\n",
    "                file_path = os.path.join(directory, foldername, f\"{foldername}_processed.csv.gz\")\n",
    "\n",
    "                if os.path.exists(file_path):\n",
    "                    datasets[foldername] = pd.read_csv(file_path, compression='gzip')\n",
    "                else:\n",
    "                    print(f\"No matching file found for folder: {foldername}\")\n",
    "        \n",
    "        smiles_list = []\n",
    "        \n",
    "        for featuresets in [\"sider\", \"DICTrank\"]: \n",
    "    \n",
    "            smiles_list.extend(datasets[featuresets].Standardized_SMILES.to_list())\n",
    "            print(len(smiles_list))\n",
    "        smiles_list = list(set(smiles_list))\n",
    "        \n",
    "        print(len(smiles_list))\n",
    "        data = pd.DataFrame(smiles_list, columns=[\"Standardized_SMILES\"])\n",
    "        \n",
    "        Ser_Mol_train = data['Standardized_SMILES'].apply(Chem.MolFromSmiles)\n",
    "        Mordred_table_data = calc.pandas(Ser_Mol_train)\n",
    "        Mordred_table_data = Mordred_table_data.astype('float')\n",
    "        Mordred_table_data = Mordred_table_data.dropna(axis='columns')\n",
    "        data_columns = Mordred_table_data.columns\n",
    "        \n",
    "        return(data_columns)\n",
    "    \n",
    "data_columns = get_Mordred_columns_to_use()\n",
    "\n",
    "\n"
   ]
  },
  {
   "cell_type": "code",
   "execution_count": 8,
   "id": "90db69d1",
   "metadata": {},
   "outputs": [
    {
     "data": {
      "text/plain": [
       "Index(['ABC', 'ABCGG', 'nAcid', 'nBase', 'SpAbs_A', 'SpMax_A', 'SpDiam_A',\n",
       "       'SpAD_A', 'SpMAD_A', 'LogEE_A',\n",
       "       ...\n",
       "       'SRW09', 'SRW10', 'TSRW10', 'MW', 'AMW', 'WPath', 'WPol', 'Zagreb1',\n",
       "       'Zagreb2', 'mZagreb2'],\n",
       "      dtype='object', length=1038)"
      ]
     },
     "execution_count": 8,
     "metadata": {},
     "output_type": "execute_result"
    }
   ],
   "source": [
    "data_columns"
   ]
  },
  {
   "cell_type": "code",
   "execution_count": 75,
   "id": "4dada397",
   "metadata": {
    "scrolled": true
   },
   "outputs": [
    {
     "name": "stdout",
     "output_type": "stream",
     "text": [
      "DICTrank\n"
     ]
    },
    {
     "name": "stderr",
     "output_type": "stream",
     "text": [
      "Processing activities:   0%|                              | 0/1 [00:00<?, ?it/s]\n",
      "  0%|                                                   | 0/930 [00:00<?, ?it/s]\u001b[A\n",
      "  0%|                                           | 1/930 [00:00<09:58,  1.55it/s]\u001b[A\n",
      "                                                                                \u001b[A\n",
      "Processing activities:   0%|                              | 0/1 [00:03<?, ?it/s]\n",
      "  3%|█▎                                        | 28/930 [00:02<01:25, 10.56it/s]\u001b[A\n",
      "                                                                                \u001b[A\n",
      "Processing activities:   0%|                              | 0/1 [00:03<?, ?it/s]\n",
      "                                                                                \u001b[A\n",
      "Processing activities:   0%|                              | 0/1 [00:03<?, ?it/s]\n",
      "  7%|██▊                                       | 62/930 [00:02<00:58, 14.92it/s]\u001b[A\n",
      "                                                                                \u001b[A\n",
      "Processing activities:   0%|                              | 0/1 [00:03<?, ?it/s]\n",
      "                                                                                \u001b[A\n",
      "Processing activities:   0%|                              | 0/1 [00:03<?, ?it/s]\n",
      "                                                                                \u001b[A\n",
      "Processing activities:   0%|                              | 0/1 [00:03<?, ?it/s]\n",
      " 14%|█████▋                                   | 130/930 [00:02<00:16, 48.17it/s]\u001b[A"
     ]
    },
    {
     "name": "stdout",
     "output_type": "stream",
     "text": [
      "/home/ss2686/miniconda3/envs/my-rdkit-env/lib/python3.9/site-packages/numpy/core/fromnumeric.py:86: RuntimeWarning: overflow encountered in reduce\n",
      "  return ufunc.reduce(obj, axis, dtype, out, **passkwargs)\n",
      "/home/ss2686/miniconda3/envs/my-rdkit-env/lib/python3.9/site-packages/numpy/core/fromnumeric.py:86: RuntimeWarning: overflow encountered in reduce\n",
      "  return ufunc.reduce(obj, axis, dtype, out, **passkwargs)\n",
      "/home/ss2686/miniconda3/envs/my-rdkit-env/lib/python3.9/site-packages/numpy/core/fromnumeric.py:86: RuntimeWarning: overflow encountered in reduce\n",
      "  return ufunc.reduce(obj, axis, dtype, out, **passkwargs)\n",
      "/home/ss2686/miniconda3/envs/my-rdkit-env/lib/python3.9/site-packages/numpy/core/fromnumeric.py:86: RuntimeWarning: overflow encountered in reduce\n",
      "  return ufunc.reduce(obj, axis, dtype, out, **passkwargs)\n",
      "/home/ss2686/miniconda3/envs/my-rdkit-env/lib/python3.9/site-packages/numpy/core/fromnumeric.py:86: RuntimeWarning: overflow encountered in reduce\n",
      "  return ufunc.reduce(obj, axis, dtype, out, **passkwargs)\n",
      "/home/ss2686/miniconda3/envs/my-rdkit-env/lib/python3.9/site-packages/numpy/core/fromnumeric.py:86: RuntimeWarning: overflow encountered in reduce\n",
      "  return ufunc.reduce(obj, axis, dtype, out, **passkwargs)\n"
     ]
    },
    {
     "name": "stderr",
     "output_type": "stream",
     "text": [
      "\n",
      " 15%|█████▉                                  | 139/930 [00:02<00:07, 105.05it/s]\u001b[A\n",
      "                                                                                \u001b[A\n",
      "Processing activities:   0%|                              | 0/1 [00:05<?, ?it/s]\n",
      "                                                                                \u001b[A\n",
      "Processing activities:   0%|                              | 0/1 [00:05<?, ?it/s]\n",
      " 21%|████████▋                                | 196/930 [00:04<00:11, 66.52it/s]\u001b[A\n",
      " 21%|████████▊                                | 199/930 [00:04<00:19, 37.71it/s]\u001b[A\n",
      " 27%|██████████▉                              | 247/930 [00:04<00:11, 59.61it/s]\u001b[A"
     ]
    },
    {
     "name": "stdout",
     "output_type": "stream",
     "text": [
      "/home/ss2686/miniconda3/envs/my-rdkit-env/lib/python3.9/site-packages/numpy/core/fromnumeric.py:86: RuntimeWarning: overflow encountered in reduce\n",
      "  return ufunc.reduce(obj, axis, dtype, out, **passkwargs)\n",
      "/home/ss2686/miniconda3/envs/my-rdkit-env/lib/python3.9/site-packages/numpy/core/fromnumeric.py:86: RuntimeWarning: overflow encountered in reduce\n",
      "  return ufunc.reduce(obj, axis, dtype, out, **passkwargs)\n"
     ]
    },
    {
     "name": "stderr",
     "output_type": "stream",
     "text": [
      "\n",
      " 31%|████████████▋                            | 287/930 [00:05<00:07, 81.79it/s]\u001b[A\n",
      " 34%|█████████████▉                           | 317/930 [00:07<00:17, 35.75it/s]\u001b[A\n",
      "                                                                                \u001b[A\n",
      "Processing activities:   0%|                              | 0/1 [00:10<?, ?it/s]\n",
      " 42%|█████████████████                        | 388/930 [00:09<00:11, 47.25it/s]\u001b[A\n",
      "                                                                                \u001b[A\n",
      "Processing activities:   0%|                              | 0/1 [00:10<?, ?it/s]\n",
      "                                                                                \u001b[A\n",
      "Processing activities:   0%|                              | 0/1 [00:10<?, ?it/s]\n",
      " 43%|█████████████████▊                       | 403/930 [00:09<00:14, 35.92it/s]\u001b[A\n",
      "                                                                                \u001b[A\n",
      "Processing activities:   0%|                              | 0/1 [00:10<?, ?it/s]\n",
      " 51%|█████████████████████                    | 477/930 [00:09<00:08, 52.23it/s]\u001b[A"
     ]
    },
    {
     "name": "stdout",
     "output_type": "stream",
     "text": [
      "/home/ss2686/miniconda3/envs/my-rdkit-env/lib/python3.9/site-packages/numpy/core/fromnumeric.py:86: RuntimeWarning: overflow encountered in reduce\n",
      "  return ufunc.reduce(obj, axis, dtype, out, **passkwargs)\n",
      "/home/ss2686/miniconda3/envs/my-rdkit-env/lib/python3.9/site-packages/numpy/core/fromnumeric.py:86: RuntimeWarning: overflow encountered in reduce\n",
      "  return ufunc.reduce(obj, axis, dtype, out, **passkwargs)\n",
      "/home/ss2686/miniconda3/envs/my-rdkit-env/lib/python3.9/site-packages/numpy/core/fromnumeric.py:86: RuntimeWarning: overflow encountered in reduce\n",
      "  return ufunc.reduce(obj, axis, dtype, out, **passkwargs)\n",
      "/home/ss2686/miniconda3/envs/my-rdkit-env/lib/python3.9/site-packages/numpy/core/fromnumeric.py:86: RuntimeWarning: overflow encountered in reduce\n",
      "  return ufunc.reduce(obj, axis, dtype, out, **passkwargs)\n"
     ]
    },
    {
     "name": "stderr",
     "output_type": "stream",
     "text": [
      "                                                                                \n",
      "Processing activities:   0%|                              | 0/1 [00:14<?, ?it/s]\n",
      " 52%|█████████████████████▏                   | 480/930 [00:13<00:08, 52.23it/s]\u001b[A\n",
      "                                                                                \u001b[A\n",
      "Processing activities:   0%|                              | 0/1 [00:14<?, ?it/s]\n",
      "                                                                                \u001b[A\n",
      "Processing activities:   0%|                              | 0/1 [00:14<?, ?it/s]\n",
      " 52%|█████████████████████▍                   | 487/930 [00:13<00:21, 20.98it/s]\u001b[A\n",
      "                                                                                \u001b[A\n",
      "Processing activities:   0%|                              | 0/1 [00:15<?, ?it/s]\n",
      "                                                                                \u001b[A\n",
      "Processing activities:   0%|                              | 0/1 [00:15<?, ?it/s]\n",
      "                                                                                \u001b[A\n",
      "Processing activities:   0%|                              | 0/1 [00:15<?, ?it/s]\n",
      " 55%|██████████████████████▋                  | 515/930 [00:14<00:17, 23.80it/s]\u001b[A"
     ]
    },
    {
     "name": "stdout",
     "output_type": "stream",
     "text": [
      "/home/ss2686/miniconda3/envs/my-rdkit-env/lib/python3.9/site-packages/numpy/core/fromnumeric.py:86: RuntimeWarning: overflow encountered in reduce\n",
      "  return ufunc.reduce(obj, axis, dtype, out, **passkwargs)\n",
      "/home/ss2686/miniconda3/envs/my-rdkit-env/lib/python3.9/site-packages/numpy/core/fromnumeric.py:86: RuntimeWarning: overflow encountered in reduce\n",
      "  return ufunc.reduce(obj, axis, dtype, out, **passkwargs)\n",
      "/home/ss2686/miniconda3/envs/my-rdkit-env/lib/python3.9/site-packages/numpy/core/fromnumeric.py:86: RuntimeWarning: overflow encountered in reduce\n",
      "  return ufunc.reduce(obj, axis, dtype, out, **passkwargs)\n",
      "/home/ss2686/miniconda3/envs/my-rdkit-env/lib/python3.9/site-packages/numpy/core/fromnumeric.py:86: RuntimeWarning: overflow encountered in reduce\n",
      "  return ufunc.reduce(obj, axis, dtype, out, **passkwargs)\n",
      "/home/ss2686/miniconda3/envs/my-rdkit-env/lib/python3.9/site-packages/numpy/core/fromnumeric.py:86: RuntimeWarning: overflow encountered in reduce\n",
      "  return ufunc.reduce(obj, axis, dtype, out, **passkwargs)\n",
      "/home/ss2686/miniconda3/envs/my-rdkit-env/lib/python3.9/site-packages/numpy/core/fromnumeric.py:86: RuntimeWarning: overflow encountered in reduce\n",
      "  return ufunc.reduce(obj, axis, dtype, out, **passkwargs)\n"
     ]
    },
    {
     "name": "stderr",
     "output_type": "stream",
     "text": [
      "                                                                                \n",
      "Processing activities:   0%|                              | 0/1 [00:15<?, ?it/s]\n",
      "                                                                                \u001b[A\n",
      "Processing activities:   0%|                              | 0/1 [00:15<?, ?it/s]\n",
      " 58%|███████████████████████▊                 | 540/930 [00:14<00:16, 23.80it/s]\u001b[A\n",
      "                                                                                \u001b[A\n",
      "Processing activities:   0%|                              | 0/1 [00:15<?, ?it/s]\n",
      "                                                                                \u001b[A\n",
      "Processing activities:   0%|                              | 0/1 [00:15<?, ?it/s]\n",
      "                                                                                \u001b[A\n",
      "Processing activities:   0%|                              | 0/1 [00:15<?, ?it/s]\n",
      " 62%|█████████████████████████▎               | 573/930 [00:14<00:09, 36.71it/s]\u001b[A\n",
      " 62%|█████████████████████████▎               | 574/930 [00:14<00:07, 48.81it/s]\u001b[A"
     ]
    },
    {
     "name": "stdout",
     "output_type": "stream",
     "text": [
      "/home/ss2686/miniconda3/envs/my-rdkit-env/lib/python3.9/site-packages/numpy/core/fromnumeric.py:86: RuntimeWarning: overflow encountered in reduce\n",
      "  return ufunc.reduce(obj, axis, dtype, out, **passkwargs)\n",
      "/home/ss2686/miniconda3/envs/my-rdkit-env/lib/python3.9/site-packages/numpy/core/fromnumeric.py:86: RuntimeWarning: overflow encountered in reduce\n",
      "  return ufunc.reduce(obj, axis, dtype, out, **passkwargs)\n",
      "/home/ss2686/miniconda3/envs/my-rdkit-env/lib/python3.9/site-packages/numpy/core/fromnumeric.py:86: RuntimeWarning: overflow encountered in reduce\n",
      "  return ufunc.reduce(obj, axis, dtype, out, **passkwargs)\n",
      "/home/ss2686/miniconda3/envs/my-rdkit-env/lib/python3.9/site-packages/numpy/core/fromnumeric.py:86: RuntimeWarning: overflow encountered in reduce\n",
      "  return ufunc.reduce(obj, axis, dtype, out, **passkwargs)\n",
      "/home/ss2686/miniconda3/envs/my-rdkit-env/lib/python3.9/site-packages/numpy/core/fromnumeric.py:86: RuntimeWarning: overflow encountered in reduce\n",
      "  return ufunc.reduce(obj, axis, dtype, out, **passkwargs)\n"
     ]
    },
    {
     "name": "stderr",
     "output_type": "stream",
     "text": [
      "                                                                                \n",
      "Processing activities:   0%|                              | 0/1 [00:16<?, ?it/s]\n",
      "                                                                                \u001b[A\n",
      "Processing activities:   0%|                              | 0/1 [00:16<?, ?it/s]\n",
      "                                                                                \u001b[A\n",
      "Processing activities:   0%|                              | 0/1 [00:16<?, ?it/s]\n",
      " 63%|█████████████████████████▉               | 588/930 [00:15<00:07, 48.81it/s]\u001b[A\n",
      "                                                                                \u001b[A\n",
      "Processing activities:   0%|                              | 0/1 [00:16<?, ?it/s]\n",
      " 65%|██████████████████████████▍              | 600/930 [00:15<00:09, 33.69it/s]\u001b[A"
     ]
    },
    {
     "name": "stdout",
     "output_type": "stream",
     "text": [
      "/home/ss2686/miniconda3/envs/my-rdkit-env/lib/python3.9/site-packages/numpy/core/fromnumeric.py:86: RuntimeWarning: overflow encountered in reduce\n",
      "  return ufunc.reduce(obj, axis, dtype, out, **passkwargs)\n",
      "/home/ss2686/miniconda3/envs/my-rdkit-env/lib/python3.9/site-packages/numpy/core/fromnumeric.py:86: RuntimeWarning: overflow encountered in reduce\n",
      "  return ufunc.reduce(obj, axis, dtype, out, **passkwargs)\n",
      "/home/ss2686/miniconda3/envs/my-rdkit-env/lib/python3.9/site-packages/numpy/core/fromnumeric.py:86: RuntimeWarning: overflow encountered in reduce\n",
      "  return ufunc.reduce(obj, axis, dtype, out, **passkwargs)\n",
      "/home/ss2686/miniconda3/envs/my-rdkit-env/lib/python3.9/site-packages/numpy/core/fromnumeric.py:86: RuntimeWarning: overflow encountered in reduce\n",
      "  return ufunc.reduce(obj, axis, dtype, out, **passkwargs)\n"
     ]
    },
    {
     "name": "stderr",
     "output_type": "stream",
     "text": [
      "                                                                                \n",
      "Processing activities:   0%|                              | 0/1 [00:17<?, ?it/s]\n",
      " 65%|██████████████████████████▌              | 603/930 [00:16<00:09, 33.69it/s]\u001b[A"
     ]
    },
    {
     "name": "stdout",
     "output_type": "stream",
     "text": [
      "/home/ss2686/miniconda3/envs/my-rdkit-env/lib/python3.9/site-packages/numpy/core/fromnumeric.py:86: RuntimeWarning: overflow encountered in reduce\n",
      "  return ufunc.reduce(obj, axis, dtype, out, **passkwargs)\n"
     ]
    },
    {
     "name": "stderr",
     "output_type": "stream",
     "text": [
      "                                                                                \n",
      "Processing activities:   0%|                              | 0/1 [00:20<?, ?it/s]\n",
      " 65%|██████████████████████████▊              | 609/930 [00:19<00:09, 33.69it/s]\u001b[A"
     ]
    },
    {
     "name": "stdout",
     "output_type": "stream",
     "text": [
      "/home/ss2686/miniconda3/envs/my-rdkit-env/lib/python3.9/site-packages/numpy/core/fromnumeric.py:86: RuntimeWarning: overflow encountered in reduce\n",
      "  return ufunc.reduce(obj, axis, dtype, out, **passkwargs)\n"
     ]
    },
    {
     "name": "stderr",
     "output_type": "stream",
     "text": [
      "                                                                                \n",
      "Processing activities:   0%|                              | 0/1 [00:31<?, ?it/s]\n",
      "                                                                                \u001b[A\n",
      "Processing activities:   0%|                              | 0/1 [00:31<?, ?it/s]\n",
      " 66%|██████████████████████████▉              | 611/930 [00:30<00:09, 33.69it/s]\u001b[A\n",
      " 67%|███████████████████████████▎             | 619/930 [00:30<00:54,  5.73it/s]\u001b[A\n",
      " 74%|██████████████████████████████▏          | 685/930 [00:30<00:21, 11.34it/s]\u001b[A"
     ]
    },
    {
     "name": "stdout",
     "output_type": "stream",
     "text": [
      "/home/ss2686/miniconda3/envs/my-rdkit-env/lib/python3.9/site-packages/numpy/core/fromnumeric.py:86: RuntimeWarning: overflow encountered in reduce\n",
      "  return ufunc.reduce(obj, axis, dtype, out, **passkwargs)\n",
      "/home/ss2686/miniconda3/envs/my-rdkit-env/lib/python3.9/site-packages/numpy/core/fromnumeric.py:86: RuntimeWarning: overflow encountered in reduce\n",
      "  return ufunc.reduce(obj, axis, dtype, out, **passkwargs)\n"
     ]
    },
    {
     "name": "stderr",
     "output_type": "stream",
     "text": [
      "\n",
      "                                                                                \u001b[A\n",
      "Processing activities:   0%|                              | 0/1 [00:32<?, ?it/s]\n",
      " 79%|████████████████████████████████▌        | 739/930 [00:31<00:11, 17.10it/s]\u001b[A"
     ]
    },
    {
     "name": "stdout",
     "output_type": "stream",
     "text": [
      "/home/ss2686/miniconda3/envs/my-rdkit-env/lib/python3.9/site-packages/numpy/core/fromnumeric.py:86: RuntimeWarning: overflow encountered in reduce\n",
      "  return ufunc.reduce(obj, axis, dtype, out, **passkwargs)\n"
     ]
    },
    {
     "name": "stderr",
     "output_type": "stream",
     "text": [
      "                                                                                \n",
      "Processing activities:   0%|                              | 0/1 [00:33<?, ?it/s]\n",
      " 81%|█████████████████████████████████▎       | 755/930 [00:32<00:10, 17.10it/s]\u001b[A\n",
      "                                                                                \u001b[A\n",
      "Processing activities:   0%|                              | 0/1 [00:33<?, ?it/s]\n",
      " 83%|██████████████████████████████████▏      | 775/930 [00:32<00:09, 16.74it/s]\u001b[A"
     ]
    },
    {
     "name": "stdout",
     "output_type": "stream",
     "text": [
      "/home/ss2686/miniconda3/envs/my-rdkit-env/lib/python3.9/site-packages/numpy/core/fromnumeric.py:86: RuntimeWarning: overflow encountered in reduce\n",
      "  return ufunc.reduce(obj, axis, dtype, out, **passkwargs)\n",
      "/home/ss2686/miniconda3/envs/my-rdkit-env/lib/python3.9/site-packages/numpy/core/fromnumeric.py:86: RuntimeWarning: overflow encountered in reduce\n",
      "  return ufunc.reduce(obj, axis, dtype, out, **passkwargs)\n"
     ]
    },
    {
     "name": "stderr",
     "output_type": "stream",
     "text": [
      "\n",
      "                                                                                \u001b[A\n",
      "Processing activities:   0%|                              | 0/1 [00:34<?, ?it/s]\n",
      " 86%|███████████████████████████████████▏     | 797/930 [00:33<00:06, 19.62it/s]\u001b[A"
     ]
    },
    {
     "name": "stdout",
     "output_type": "stream",
     "text": [
      "/home/ss2686/miniconda3/envs/my-rdkit-env/lib/python3.9/site-packages/numpy/core/fromnumeric.py:86: RuntimeWarning: overflow encountered in reduce\n",
      "  return ufunc.reduce(obj, axis, dtype, out, **passkwargs)\n"
     ]
    },
    {
     "name": "stderr",
     "output_type": "stream",
     "text": [
      "\n",
      "                                                                                \u001b[A\n",
      "Processing activities:   0%|                              | 0/1 [00:46<?, ?it/s]\n",
      " 87%|███████████████████████████████████▊     | 811/930 [00:45<00:06, 19.62it/s]\u001b[A\n",
      "                                                                                \u001b[A\n",
      "Processing activities:   0%|                              | 0/1 [00:46<?, ?it/s]\n",
      "                                                                                \u001b[A\n",
      "Processing activities:   0%|                              | 0/1 [00:46<?, ?it/s]\n",
      " 91%|█████████████████████████████████████    | 842/930 [00:45<00:14,  6.09it/s]\u001b[A"
     ]
    },
    {
     "name": "stdout",
     "output_type": "stream",
     "text": [
      "/home/ss2686/miniconda3/envs/my-rdkit-env/lib/python3.9/site-packages/numpy/core/fromnumeric.py:86: RuntimeWarning: overflow encountered in reduce\n",
      "  return ufunc.reduce(obj, axis, dtype, out, **passkwargs)\n",
      "/home/ss2686/miniconda3/envs/my-rdkit-env/lib/python3.9/site-packages/numpy/core/fromnumeric.py:86: RuntimeWarning: overflow encountered in reduce\n",
      "  return ufunc.reduce(obj, axis, dtype, out, **passkwargs)\n",
      "/home/ss2686/miniconda3/envs/my-rdkit-env/lib/python3.9/site-packages/numpy/core/fromnumeric.py:86: RuntimeWarning: overflow encountered in reduce\n",
      "  return ufunc.reduce(obj, axis, dtype, out, **passkwargs)\n"
     ]
    },
    {
     "name": "stderr",
     "output_type": "stream",
     "text": [
      "\n",
      "                                                                                \u001b[A\n",
      "Processing activities:   0%|                              | 0/1 [00:47<?, ?it/s]\n",
      "                                                                                \u001b[A\n",
      "Processing activities:   0%|                              | 0/1 [00:47<?, ?it/s]\n",
      "                                                                                \u001b[A\n",
      "Processing activities:   0%|                              | 0/1 [00:47<?, ?it/s]\n",
      "                                                                                \u001b[A\n",
      "Processing activities:   0%|                              | 0/1 [00:47<?, ?it/s]\n",
      "                                                                                \u001b[A\n",
      "Processing activities:   0%|                              | 0/1 [00:47<?, ?it/s]\n",
      "100%|█████████████████████████████████████████| 930/930 [00:46<00:00, 19.89it/s]\u001b[A\n"
     ]
    },
    {
     "name": "stdout",
     "output_type": "stream",
     "text": [
      "/home/ss2686/miniconda3/envs/my-rdkit-env/lib/python3.9/site-packages/numpy/core/fromnumeric.py:86: RuntimeWarning: overflow encountered in reduce\n",
      "  return ufunc.reduce(obj, axis, dtype, out, **passkwargs)\n",
      "/home/ss2686/miniconda3/envs/my-rdkit-env/lib/python3.9/site-packages/numpy/core/fromnumeric.py:86: RuntimeWarning: overflow encountered in reduce\n",
      "  return ufunc.reduce(obj, axis, dtype, out, **passkwargs)\n",
      "/home/ss2686/miniconda3/envs/my-rdkit-env/lib/python3.9/site-packages/mordred/_matrix_attributes.py:251: RuntimeWarning: invalid value encountered in double_scalars\n",
      "  s += (eig.vec[i, eig.max] * eig.vec[j, eig.max]) ** -0.5\n",
      "/home/ss2686/miniconda3/envs/my-rdkit-env/lib/python3.9/site-packages/numpy/core/fromnumeric.py:86: RuntimeWarning: overflow encountered in reduce\n",
      "  return ufunc.reduce(obj, axis, dtype, out, **passkwargs)\n",
      "/home/ss2686/miniconda3/envs/my-rdkit-env/lib/python3.9/site-packages/numpy/core/fromnumeric.py:86: RuntimeWarning: overflow encountered in reduce\n",
      "  return ufunc.reduce(obj, axis, dtype, out, **passkwargs)\n"
     ]
    },
    {
     "name": "stderr",
     "output_type": "stream",
     "text": [
      "\n",
      "  0%|                                                    | 0/90 [00:00<?, ?it/s]\u001b[A\n",
      "  1%|▍                                           | 1/90 [00:00<00:38,  2.34it/s]\u001b[A\n",
      "  4%|█▉                                          | 4/90 [00:00<00:19,  4.39it/s]\u001b[A\n",
      "                                                                                \u001b[A\n",
      "Processing activities:   0%|                              | 0/1 [00:50<?, ?it/s]\n",
      "100%|███████████████████████████████████████████| 90/90 [00:01<00:00, 67.80it/s]\u001b[A\n"
     ]
    },
    {
     "name": "stdout",
     "output_type": "stream",
     "text": [
      "/home/ss2686/miniconda3/envs/my-rdkit-env/lib/python3.9/site-packages/numpy/core/fromnumeric.py:86: RuntimeWarning: overflow encountered in reduce\n",
      "  return ufunc.reduce(obj, axis, dtype, out, **passkwargs)\n",
      "n_iterations: 4\n",
      "n_required_iterations: 4\n",
      "n_possible_iterations: 4\n",
      "min_resources_: 20\n",
      "max_resources_: 930\n",
      "aggressive_elimination: False\n",
      "factor: 3\n",
      "----------\n",
      "iter: 0\n",
      "n_candidates: 46\n",
      "n_resources: 20\n",
      "Fitting 5 folds for each of 46 candidates, totalling 230 fits\n",
      "----------\n",
      "iter: 1\n",
      "n_candidates: 16\n",
      "n_resources: 60\n",
      "Fitting 5 folds for each of 16 candidates, totalling 80 fits\n",
      "----------\n",
      "iter: 2\n",
      "n_candidates: 6\n",
      "n_resources: 180\n",
      "Fitting 5 folds for each of 6 candidates, totalling 30 fits\n",
      "----------\n",
      "iter: 3\n",
      "n_candidates: 2\n",
      "n_resources: 540\n",
      "Fitting 5 folds for each of 2 candidates, totalling 10 fits\n"
     ]
    },
    {
     "name": "stderr",
     "output_type": "stream",
     "text": [
      "Processing activities: 100%|██████████████████████| 1/1 [01:07<00:00, 67.76s/it]\n"
     ]
    }
   ],
   "source": [
    "import pickle\n",
    "\n",
    "#Dataset only DICTrank\n",
    "for dataset in [\"DICTrank\"]:\n",
    "    \n",
    "    # Exclude hidden files or directories like .ipynb_checkpoints\n",
    "    if dataset.startswith('.'):\n",
    "        continue\n",
    "    print(dataset)\n",
    "\n",
    "    # Get all the file names for this dataset\n",
    "    all_files = os.listdir(os.path.join(data_path, dataset))\n",
    "\n",
    "    # Extract activity names by removing the _train.csv.gz or _test.csv.gz from file names\n",
    "    activity_names = list(set([f.replace(\"_train.csv.gz\", \"\").replace(\"_test.csv.gz\", \"\")  for f in all_files if not f.startswith(\".ipynb_checkpoints\")]))\n",
    "\n",
    "    for activity in tqdm(activity_names, desc=\"Processing activities\"):\n",
    "        \n",
    "        train_path = os.path.join(data_path, dataset, f\"{activity}_train.csv.gz\")\n",
    "        test_path = os.path.join(data_path, dataset, f\"{activity}_test.csv.gz\")\n",
    "\n",
    "        train_df = pd.read_csv(train_path, compression='gzip')\n",
    "        test_df = pd.read_csv(test_path, compression='gzip')\n",
    "        \n",
    "        Ser_Mol_train = train_df['Standardized_SMILES'].apply(Chem.MolFromSmiles)\n",
    "        Mordred_table_train = calc.pandas(Ser_Mol_train)\n",
    "        Mordred_table_train = Mordred_table_train.astype('float')\n",
    "               \n",
    "        Ser_Mol_test = test_df['Standardized_SMILES'].apply(Chem.MolFromSmiles)\n",
    "        Mordred_table_test = calc.pandas(Ser_Mol_test)\n",
    "        Mordred_table_test = Mordred_table_test.astype('float')\n",
    "\n",
    "        # Retain only those columns in the test dataset\n",
    "        Mordred_table_train = Mordred_table_train[data_columns]\n",
    "        Mordred_table_test = Mordred_table_test[data_columns]\n",
    "\n",
    "        X_train = np.array(Mordred_table_train)\n",
    "        X_test = np.array(Mordred_table_test)\n",
    "        y_train = train_df[activity]\n",
    "        y_test = test_df[activity]\n",
    "\n",
    "      \n",
    "        # Classification\n",
    "        model = RandomForestClassifier(n_jobs=40)\n",
    "            \n",
    "        # Hyperparameter Optimization\n",
    "        param_dist_classification = {'max_depth': randint(10, 20),\n",
    "                          'max_features': randint(40, 50),\n",
    "                          'min_samples_leaf': randint(5, 15),\n",
    "                          'min_samples_split': randint(5, 15),\n",
    "                          'n_estimators':[200, 300, 400, 500, 600],\n",
    "                          'bootstrap': [True, False],\n",
    "                          'oob_score': [False],\n",
    "                          'random_state': [42],\n",
    "                          'criterion': ['gini', 'entropy'],\n",
    "                          'n_jobs': [40],\n",
    "                          'class_weight' : [None, 'balanced']\n",
    "                         }\n",
    "        inner_cv = StratifiedKFold(n_splits=5, shuffle=True, random_state=42)   \n",
    "            \n",
    "        classification_search = HalvingRandomSearchCV(\n",
    "                model,\n",
    "                param_dist_classification,\n",
    "                factor=3,\n",
    "                cv=inner_cv,\n",
    "                random_state=42,\n",
    "                verbose=1,\n",
    "                n_jobs=40)\n",
    "            \n",
    "        classification_search.fit(X_train, y_train)\n",
    "        best_model = classification_search.best_estimator_\n",
    "            \n",
    "        # Random Over-sampling \n",
    "        sampler = RandomOverSampler(sampling_strategy='auto', random_state=42)\n",
    "            \n",
    "        pipeline = Pipeline(steps=[('sampler', sampler), ('model', best_model)])\n",
    "        pipeline.fit(X_train, y_train)\n",
    "        pickle.dump(pipeline, open(\"Physicochemical_model.sav\",  'wb'))\n",
    "        \n",
    "        # Predict using threshold-optimized model\n",
    "        probs_test = pipeline.predict_proba(X_test)[:, 1]\n",
    "            \n",
    "        oof_predictions = np.zeros(X_train.shape[0])\n",
    "        oof_probs = np.zeros(X_train.shape[0])\n",
    "\n",
    "        cv_scores = []\n",
    "\n",
    "        for train_idx, valid_idx in inner_cv.split(X_train, y_train):\n",
    "            X_train_fold, y_train_fold = X_train[train_idx], y_train[train_idx]\n",
    "            X_valid_fold, y_valid_fold = X_train[valid_idx], y_train[valid_idx]\n",
    "\n",
    "            # Random Over-sampling\n",
    "            X_resampled, y_resampled = sampler.fit_resample(X_train_fold, y_train_fold)\n",
    "\n",
    "            # Train the model on the resampled data\n",
    "            best_model.fit(X_resampled, y_resampled)\n",
    "\n",
    "            # Store out-of-fold predictions\n",
    "            oof_predictions[valid_idx] = best_model.predict(X_valid_fold)\n",
    "            oof_probs[valid_idx] = best_model.predict_proba(X_valid_fold)[:, 1]\n",
    "\n",
    "            # AUC for this fold\n",
    "            fold_auc = roc_auc_score(y_valid_fold, oof_probs[valid_idx])\n",
    "            cv_scores.append(fold_auc)\n",
    "\n",
    "        # Optimize the threshold using out-of-fold predictions\n",
    "        best_threshold = optimize_threshold_j_statistic(y_train, oof_probs)\n",
    "        predictions_test = (probs_test >= best_threshold).astype(int)\n",
    "\n",
    "        results[activity] = {\n",
    "                'CV_AUC_mean': np.mean(cv_scores),\n",
    "                'CV_AUC_std': np.std(cv_scores),\n",
    "                **evaluate_classifier(y_test, predictions_test, probs_test)\n",
    "            }\n",
    "        \n",
    "        held_out_data = {\n",
    "            'Dataset': dataset,\n",
    "            \"Actviity\": activity,\n",
    "            'SMILES': test_df['Standardized_SMILES'],\n",
    "            'True_Value': y_test,\n",
    "            'Prediction': predictions_test,\n",
    "            'Probability': probs_test,\n",
    "            'Best_Threshold': best_threshold\n",
    "        }\n",
    "        \n",
    "        held_out_results.append(pd.DataFrame(held_out_data))         \n",
    "        # Save results at each step\n",
    "            \n",
    "            \n",
    "    # Save results at each step\n",
    "    pd.DataFrame(results).T.to_csv('./physicochemical_model_results.csv')\n",
    "              \n",
    "\n",
    "# Save results\n",
    "results_df = pd.DataFrame(results).T.reset_index(drop=False)\n",
    "results_df = results_df.rename(columns={'index': 'endpoint'})\n",
    "results_df.to_csv('./physicochemical_model_results.csv', index=False)\n",
    "\n",
    "# Concatenate and save held-out test set results\n",
    "pd.concat(held_out_results).to_csv('./physicochemical_model_held_out_test_results.csv', index=False)\n",
    "            "
   ]
  },
  {
   "cell_type": "code",
   "execution_count": 76,
   "id": "bc354180",
   "metadata": {},
   "outputs": [
    {
     "data": {
      "text/plain": [
       "[     Dataset  Actviity                                             SMILES  \\\n",
       " 0   DICTrank  DICTrank     O=c1n(CCC[NH+]2CCN(c3cccc(Cl)c3)CC2)nc2ccccn12   \n",
       " 1   DICTrank  DICTrank                CC(C(=O)[O-])c1ccc(-c2ccccc2)c(F)c1   \n",
       " 2   DICTrank  DICTrank                 C[NH+](C)CCC=C1c2ccccc2CCc2ccccc21   \n",
       " 3   DICTrank  DICTrank  CC(=O)[NH+]1CCN(c2ccc(OCC3COC(Cn4ccnc4)(c4ccc(...   \n",
       " 4   DICTrank  DICTrank                  Cc1nccn1CC1CCc2c(c3ccccc3n2C)C1=O   \n",
       " ..       ...       ...                                                ...   \n",
       " 85  DICTrank  DICTrank                         CCC1(c2ccccc2)C(=O)NCNC1=O   \n",
       " 86  DICTrank  DICTrank   CCOC(=O)[NH+]1CCC(=C2c3ccc(Cl)cc3CCc3cccnc32)CC1   \n",
       " 87  DICTrank  DICTrank                 CCCSc1ccc2[n-]c(=NC(=O)OC)[n-]c2c1   \n",
       " 88  DICTrank  DICTrank          CCC[NH+](CCC)S(=O)(=O)c1ccc(C(=O)[O-])cc1   \n",
       " 89  DICTrank  DICTrank                 CC[NH+](CC)C(=S)SSC(=S)[NH+](CC)CC   \n",
       " \n",
       "     True_Value  Prediction  Probability  Best_Threshold  \n",
       " 0            1           1     0.822440        0.654438  \n",
       " 1            1           1     0.811065        0.654438  \n",
       " 2            1           1     0.977333        0.654438  \n",
       " 3            1           0     0.507823        0.654438  \n",
       " 4            1           1     0.896268        0.654438  \n",
       " ..         ...         ...          ...             ...  \n",
       " 85           0           1     0.746528        0.654438  \n",
       " 86           0           1     0.746718        0.654438  \n",
       " 87           0           1     0.745429        0.654438  \n",
       " 88           0           1     0.776767        0.654438  \n",
       " 89           0           1     0.693599        0.654438  \n",
       " \n",
       " [90 rows x 7 columns],\n",
       "      Dataset  Actviity                                             SMILES  \\\n",
       " 0   DICTrank  DICTrank     O=c1n(CCC[NH+]2CCN(c3cccc(Cl)c3)CC2)nc2ccccn12   \n",
       " 1   DICTrank  DICTrank                CC(C(=O)[O-])c1ccc(-c2ccccc2)c(F)c1   \n",
       " 2   DICTrank  DICTrank                 C[NH+](C)CCC=C1c2ccccc2CCc2ccccc21   \n",
       " 3   DICTrank  DICTrank  CC(=O)[NH+]1CCN(c2ccc(OCC3COC(Cn4ccnc4)(c4ccc(...   \n",
       " 4   DICTrank  DICTrank                  Cc1nccn1CC1CCc2c(c3ccccc3n2C)C1=O   \n",
       " ..       ...       ...                                                ...   \n",
       " 85  DICTrank  DICTrank                         CCC1(c2ccccc2)C(=O)NCNC1=O   \n",
       " 86  DICTrank  DICTrank   CCOC(=O)[NH+]1CCC(=C2c3ccc(Cl)cc3CCc3cccnc32)CC1   \n",
       " 87  DICTrank  DICTrank                 CCCSc1ccc2[n-]c(=NC(=O)OC)[n-]c2c1   \n",
       " 88  DICTrank  DICTrank          CCC[NH+](CCC)S(=O)(=O)c1ccc(C(=O)[O-])cc1   \n",
       " 89  DICTrank  DICTrank                 CC[NH+](CC)C(=S)SSC(=S)[NH+](CC)CC   \n",
       " \n",
       "     True_Value  Prediction  Probability  Best_Threshold  \n",
       " 0            1           1     0.822440        0.654438  \n",
       " 1            1           1     0.811065        0.654438  \n",
       " 2            1           1     0.977333        0.654438  \n",
       " 3            1           0     0.507823        0.654438  \n",
       " 4            1           1     0.896268        0.654438  \n",
       " ..         ...         ...          ...             ...  \n",
       " 85           0           1     0.746528        0.654438  \n",
       " 86           0           1     0.746718        0.654438  \n",
       " 87           0           1     0.745429        0.654438  \n",
       " 88           0           1     0.776767        0.654438  \n",
       " 89           0           1     0.693599        0.654438  \n",
       " \n",
       " [90 rows x 7 columns]]"
      ]
     },
     "execution_count": 76,
     "metadata": {},
     "output_type": "execute_result"
    }
   ],
   "source": [
    "held_out_results"
   ]
  },
  {
   "cell_type": "code",
   "execution_count": 77,
   "id": "ea7fbf2a",
   "metadata": {},
   "outputs": [
    {
     "data": {
      "text/html": [
       "<div>\n",
       "<style scoped>\n",
       "    .dataframe tbody tr th:only-of-type {\n",
       "        vertical-align: middle;\n",
       "    }\n",
       "\n",
       "    .dataframe tbody tr th {\n",
       "        vertical-align: top;\n",
       "    }\n",
       "\n",
       "    .dataframe thead th {\n",
       "        text-align: right;\n",
       "    }\n",
       "</style>\n",
       "<table border=\"1\" class=\"dataframe\">\n",
       "  <thead>\n",
       "    <tr style=\"text-align: right;\">\n",
       "      <th></th>\n",
       "      <th>endpoint</th>\n",
       "      <th>CV_AUC_mean</th>\n",
       "      <th>CV_AUC_std</th>\n",
       "      <th>Held_out_AUC</th>\n",
       "      <th>Held_out_AUCPR</th>\n",
       "      <th>Held_out_BA</th>\n",
       "      <th>Held_out_F1</th>\n",
       "      <th>Held_out_FN</th>\n",
       "      <th>Held_out_FP</th>\n",
       "      <th>Held_out_MCC</th>\n",
       "      <th>Held_out_Sensitivity</th>\n",
       "      <th>Held_out_Specificity</th>\n",
       "      <th>Held_out_TN</th>\n",
       "      <th>Held_out_TP</th>\n",
       "    </tr>\n",
       "  </thead>\n",
       "  <tbody>\n",
       "    <tr>\n",
       "      <th>0</th>\n",
       "      <td>DICTrank</td>\n",
       "      <td>0.698334</td>\n",
       "      <td>0.064899</td>\n",
       "      <td>0.840615</td>\n",
       "      <td>0.932518</td>\n",
       "      <td>0.690769</td>\n",
       "      <td>0.842105</td>\n",
       "      <td>9.0</td>\n",
       "      <td>12.0</td>\n",
       "      <td>0.397648</td>\n",
       "      <td>0.861538</td>\n",
       "      <td>0.52</td>\n",
       "      <td>13.0</td>\n",
       "      <td>56.0</td>\n",
       "    </tr>\n",
       "  </tbody>\n",
       "</table>\n",
       "</div>"
      ],
      "text/plain": [
       "   endpoint  CV_AUC_mean  CV_AUC_std  Held_out_AUC  Held_out_AUCPR  \\\n",
       "0  DICTrank     0.698334    0.064899      0.840615        0.932518   \n",
       "\n",
       "   Held_out_BA  Held_out_F1  Held_out_FN  Held_out_FP  Held_out_MCC  \\\n",
       "0     0.690769     0.842105          9.0         12.0      0.397648   \n",
       "\n",
       "   Held_out_Sensitivity  Held_out_Specificity  Held_out_TN  Held_out_TP  \n",
       "0              0.861538                  0.52         13.0         56.0  "
      ]
     },
     "execution_count": 77,
     "metadata": {},
     "output_type": "execute_result"
    }
   ],
   "source": [
    "results_df"
   ]
  },
  {
   "cell_type": "code",
   "execution_count": 78,
   "id": "2250bd11",
   "metadata": {},
   "outputs": [],
   "source": [
    "loaded_rf = pickle.load(open(\"Physicochemical_model.sav\", 'rb'))"
   ]
  },
  {
   "cell_type": "code",
   "execution_count": 79,
   "id": "673b12df",
   "metadata": {},
   "outputs": [],
   "source": [
    "params = loaded_rf.get_params()\n"
   ]
  },
  {
   "cell_type": "code",
   "execution_count": 80,
   "id": "de899041",
   "metadata": {},
   "outputs": [
    {
     "data": {
      "text/plain": [
       "{'memory': None,\n",
       " 'steps': [('sampler', RandomOverSampler(random_state=42)),\n",
       "  ('model',\n",
       "   RandomForestClassifier(bootstrap=False, class_weight='balanced', max_depth=18,\n",
       "                          max_features=46, min_samples_leaf=5, min_samples_split=5,\n",
       "                          n_estimators=200, n_jobs=40, random_state=42))],\n",
       " 'verbose': False,\n",
       " 'sampler': RandomOverSampler(random_state=42),\n",
       " 'model': RandomForestClassifier(bootstrap=False, class_weight='balanced', max_depth=18,\n",
       "                        max_features=46, min_samples_leaf=5, min_samples_split=5,\n",
       "                        n_estimators=200, n_jobs=40, random_state=42),\n",
       " 'sampler__random_state': 42,\n",
       " 'sampler__sampling_strategy': 'auto',\n",
       " 'sampler__shrinkage': None,\n",
       " 'model__bootstrap': False,\n",
       " 'model__ccp_alpha': 0.0,\n",
       " 'model__class_weight': 'balanced',\n",
       " 'model__criterion': 'gini',\n",
       " 'model__max_depth': 18,\n",
       " 'model__max_features': 46,\n",
       " 'model__max_leaf_nodes': None,\n",
       " 'model__max_samples': None,\n",
       " 'model__min_impurity_decrease': 0.0,\n",
       " 'model__min_samples_leaf': 5,\n",
       " 'model__min_samples_split': 5,\n",
       " 'model__min_weight_fraction_leaf': 0.0,\n",
       " 'model__n_estimators': 200,\n",
       " 'model__n_jobs': 40,\n",
       " 'model__oob_score': False,\n",
       " 'model__random_state': 42,\n",
       " 'model__verbose': 0,\n",
       " 'model__warm_start': False}"
      ]
     },
     "execution_count": 80,
     "metadata": {},
     "output_type": "execute_result"
    }
   ],
   "source": [
    "params"
   ]
  },
  {
   "cell_type": "code",
   "execution_count": 81,
   "id": "5ed74f03",
   "metadata": {},
   "outputs": [],
   "source": [
    "classifier= RandomForestClassifier(bootstrap=False, class_weight='balanced', max_depth=18,\n",
    "                          max_features=46, min_samples_leaf=5, min_samples_split=5,\n",
    "                          n_estimators=200, n_jobs=40, random_state=42)"
   ]
  },
  {
   "cell_type": "code",
   "execution_count": 82,
   "id": "a861b638",
   "metadata": {},
   "outputs": [
    {
     "data": {
      "text/plain": [
       "array([[ 19.77512879,  14.803335  ,   0.        , ..., 140.        ,\n",
       "        172.        ,   5.        ],\n",
       "       [ 23.80059255,  17.74158608,   0.        , ..., 154.        ,\n",
       "        173.        ,   6.88888889],\n",
       "       [  6.16336313,   6.51589884,   0.        , ...,  36.        ,\n",
       "         36.        ,   2.11111111],\n",
       "       ...,\n",
       "       [  7.95651408,   7.58116421,   0.        , ...,  50.        ,\n",
       "         55.        ,   2.61111111],\n",
       "       [  7.38715648,   7.65713981,   0.        , ...,  50.        ,\n",
       "         58.        ,   2.25      ],\n",
       "       [  7.80668416,   7.34357946,   2.        , ...,  52.        ,\n",
       "         61.        ,   2.22222222]])"
      ]
     },
     "execution_count": 82,
     "metadata": {},
     "output_type": "execute_result"
    }
   ],
   "source": [
    "X_train"
   ]
  },
  {
   "cell_type": "code",
   "execution_count": 83,
   "id": "6914070d",
   "metadata": {},
   "outputs": [
    {
     "data": {
      "text/plain": [
       "(930,)"
      ]
     },
     "execution_count": 83,
     "metadata": {},
     "output_type": "execute_result"
    }
   ],
   "source": [
    "y_train.shape"
   ]
  },
  {
   "cell_type": "code",
   "execution_count": 84,
   "id": "031f0afb",
   "metadata": {},
   "outputs": [
    {
     "data": {
      "text/plain": [
       "array([[ 20.5631158 ,  14.95163401,   0.        , ..., 138.        ,\n",
       "        162.        ,   5.69444444],\n",
       "       [ 13.71082758,  11.69985029,   1.        , ...,  90.        ,\n",
       "        104.        ,   4.02777778],\n",
       "       [ 16.32047511,  13.12450461,   0.        , ..., 108.        ,\n",
       "        126.        ,   4.69444444],\n",
       "       ...,\n",
       "       [ 13.50397853,  11.40209184,   2.        , ...,  88.        ,\n",
       "        100.        ,   4.19444444],\n",
       "       [ 13.80798646,  12.71610245,   1.        , ...,  90.        ,\n",
       "        103.        ,   4.44444444],\n",
       "       [ 10.74450109,  11.044544  ,   0.        , ...,  66.        ,\n",
       "         72.        ,   4.13888889]])"
      ]
     },
     "execution_count": 84,
     "metadata": {},
     "output_type": "execute_result"
    }
   ],
   "source": [
    "X_test"
   ]
  },
  {
   "cell_type": "code",
   "execution_count": 85,
   "id": "3869519a",
   "metadata": {},
   "outputs": [
    {
     "data": {
      "text/plain": [
       "(90,)"
      ]
     },
     "execution_count": 85,
     "metadata": {},
     "output_type": "execute_result"
    }
   ],
   "source": [
    "y_test.shape"
   ]
  },
  {
   "cell_type": "code",
   "execution_count": 86,
   "id": "71c3a28d",
   "metadata": {},
   "outputs": [],
   "source": [
    "X_all= np.vstack((X_train, X_test))\n",
    "y_all= np.concatenate((y_train.to_numpy(), y_test.to_numpy()))"
   ]
  },
  {
   "cell_type": "code",
   "execution_count": 87,
   "id": "f3474ac0",
   "metadata": {},
   "outputs": [
    {
     "data": {
      "text/html": [
       "<style>#sk-container-id-2 {color: black;background-color: white;}#sk-container-id-2 pre{padding: 0;}#sk-container-id-2 div.sk-toggleable {background-color: white;}#sk-container-id-2 label.sk-toggleable__label {cursor: pointer;display: block;width: 100%;margin-bottom: 0;padding: 0.3em;box-sizing: border-box;text-align: center;}#sk-container-id-2 label.sk-toggleable__label-arrow:before {content: \"▸\";float: left;margin-right: 0.25em;color: #696969;}#sk-container-id-2 label.sk-toggleable__label-arrow:hover:before {color: black;}#sk-container-id-2 div.sk-estimator:hover label.sk-toggleable__label-arrow:before {color: black;}#sk-container-id-2 div.sk-toggleable__content {max-height: 0;max-width: 0;overflow: hidden;text-align: left;background-color: #f0f8ff;}#sk-container-id-2 div.sk-toggleable__content pre {margin: 0.2em;color: black;border-radius: 0.25em;background-color: #f0f8ff;}#sk-container-id-2 input.sk-toggleable__control:checked~div.sk-toggleable__content {max-height: 200px;max-width: 100%;overflow: auto;}#sk-container-id-2 input.sk-toggleable__control:checked~label.sk-toggleable__label-arrow:before {content: \"▾\";}#sk-container-id-2 div.sk-estimator input.sk-toggleable__control:checked~label.sk-toggleable__label {background-color: #d4ebff;}#sk-container-id-2 div.sk-label input.sk-toggleable__control:checked~label.sk-toggleable__label {background-color: #d4ebff;}#sk-container-id-2 input.sk-hidden--visually {border: 0;clip: rect(1px 1px 1px 1px);clip: rect(1px, 1px, 1px, 1px);height: 1px;margin: -1px;overflow: hidden;padding: 0;position: absolute;width: 1px;}#sk-container-id-2 div.sk-estimator {font-family: monospace;background-color: #f0f8ff;border: 1px dotted black;border-radius: 0.25em;box-sizing: border-box;margin-bottom: 0.5em;}#sk-container-id-2 div.sk-estimator:hover {background-color: #d4ebff;}#sk-container-id-2 div.sk-parallel-item::after {content: \"\";width: 100%;border-bottom: 1px solid gray;flex-grow: 1;}#sk-container-id-2 div.sk-label:hover label.sk-toggleable__label {background-color: #d4ebff;}#sk-container-id-2 div.sk-serial::before {content: \"\";position: absolute;border-left: 1px solid gray;box-sizing: border-box;top: 0;bottom: 0;left: 50%;z-index: 0;}#sk-container-id-2 div.sk-serial {display: flex;flex-direction: column;align-items: center;background-color: white;padding-right: 0.2em;padding-left: 0.2em;position: relative;}#sk-container-id-2 div.sk-item {position: relative;z-index: 1;}#sk-container-id-2 div.sk-parallel {display: flex;align-items: stretch;justify-content: center;background-color: white;position: relative;}#sk-container-id-2 div.sk-item::before, #sk-container-id-2 div.sk-parallel-item::before {content: \"\";position: absolute;border-left: 1px solid gray;box-sizing: border-box;top: 0;bottom: 0;left: 50%;z-index: -1;}#sk-container-id-2 div.sk-parallel-item {display: flex;flex-direction: column;z-index: 1;position: relative;background-color: white;}#sk-container-id-2 div.sk-parallel-item:first-child::after {align-self: flex-end;width: 50%;}#sk-container-id-2 div.sk-parallel-item:last-child::after {align-self: flex-start;width: 50%;}#sk-container-id-2 div.sk-parallel-item:only-child::after {width: 0;}#sk-container-id-2 div.sk-dashed-wrapped {border: 1px dashed gray;margin: 0 0.4em 0.5em 0.4em;box-sizing: border-box;padding-bottom: 0.4em;background-color: white;}#sk-container-id-2 div.sk-label label {font-family: monospace;font-weight: bold;display: inline-block;line-height: 1.2em;}#sk-container-id-2 div.sk-label-container {text-align: center;}#sk-container-id-2 div.sk-container {/* jupyter's `normalize.less` sets `[hidden] { display: none; }` but bootstrap.min.css set `[hidden] { display: none !important; }` so we also need the `!important` here to be able to override the default hidden behavior on the sphinx rendered scikit-learn.org. See: https://github.com/scikit-learn/scikit-learn/issues/21755 */display: inline-block !important;position: relative;}#sk-container-id-2 div.sk-text-repr-fallback {display: none;}</style><div id=\"sk-container-id-2\" class=\"sk-top-container\"><div class=\"sk-text-repr-fallback\"><pre>RandomForestClassifier(bootstrap=False, class_weight=&#x27;balanced&#x27;, max_depth=18,\n",
       "                       max_features=46, min_samples_leaf=5, min_samples_split=5,\n",
       "                       n_estimators=200, n_jobs=40, random_state=42)</pre><b>In a Jupyter environment, please rerun this cell to show the HTML representation or trust the notebook. <br />On GitHub, the HTML representation is unable to render, please try loading this page with nbviewer.org.</b></div><div class=\"sk-container\" hidden><div class=\"sk-item\"><div class=\"sk-estimator sk-toggleable\"><input class=\"sk-toggleable__control sk-hidden--visually\" id=\"sk-estimator-id-4\" type=\"checkbox\" checked><label for=\"sk-estimator-id-4\" class=\"sk-toggleable__label sk-toggleable__label-arrow\">RandomForestClassifier</label><div class=\"sk-toggleable__content\"><pre>RandomForestClassifier(bootstrap=False, class_weight=&#x27;balanced&#x27;, max_depth=18,\n",
       "                       max_features=46, min_samples_leaf=5, min_samples_split=5,\n",
       "                       n_estimators=200, n_jobs=40, random_state=42)</pre></div></div></div></div></div>"
      ],
      "text/plain": [
       "RandomForestClassifier(bootstrap=False, class_weight='balanced', max_depth=18,\n",
       "                       max_features=46, min_samples_leaf=5, min_samples_split=5,\n",
       "                       n_estimators=200, n_jobs=40, random_state=42)"
      ]
     },
     "execution_count": 87,
     "metadata": {},
     "output_type": "execute_result"
    }
   ],
   "source": [
    "classifier.fit(X_all, y_all)"
   ]
  },
  {
   "cell_type": "code",
   "execution_count": 96,
   "id": "83e35bb5",
   "metadata": {},
   "outputs": [
    {
     "name": "stdout",
     "output_type": "stream",
     "text": [
      "Best Threshold=0.641338\n"
     ]
    }
   ],
   "source": [
    "from sklearn.model_selection import cross_val_score, cross_val_predict\n",
    "from numpy import argmax\n",
    "\n",
    "inner_cv = StratifiedKFold(n_splits=5, shuffle=True, random_state=42)   \n",
    "#Threshold Balancing\n",
    "cross_val_prob_cp = cross_val_predict(classifier, X_all, y_all, cv=inner_cv, method='predict_proba', n_jobs=-1)[:, 1]\n",
    "# calculate roc curves\n",
    "fpr, tpr, thresholds = roc_curve(y_all, cross_val_prob_cp)\n",
    "# get the best threshold\n",
    "J = tpr - fpr\n",
    "ix = argmax(J)\n",
    "best_thresh_cp = thresholds[ix]\n",
    "print('Best Threshold=%f' % (best_thresh_cp))"
   ]
  },
  {
   "cell_type": "code",
   "execution_count": 97,
   "id": "113d2a1e",
   "metadata": {},
   "outputs": [
    {
     "data": {
      "text/html": [
       "<div>\n",
       "<style scoped>\n",
       "    .dataframe tbody tr th:only-of-type {\n",
       "        vertical-align: middle;\n",
       "    }\n",
       "\n",
       "    .dataframe tbody tr th {\n",
       "        vertical-align: top;\n",
       "    }\n",
       "\n",
       "    .dataframe thead th {\n",
       "        text-align: right;\n",
       "    }\n",
       "</style>\n",
       "<table border=\"1\" class=\"dataframe\">\n",
       "  <thead>\n",
       "    <tr style=\"text-align: right;\">\n",
       "      <th></th>\n",
       "      <th>Unnamed: 0</th>\n",
       "      <th>Trade Name</th>\n",
       "      <th>Generic/Proper Name(s)</th>\n",
       "      <th>Active Ingredient(s)</th>\n",
       "      <th>SMILES</th>\n",
       "      <th>DICT _ Concern</th>\n",
       "      <th>Standardized_SMILES</th>\n",
       "      <th>Standardized_InChI</th>\n",
       "    </tr>\n",
       "  </thead>\n",
       "  <tbody>\n",
       "    <tr>\n",
       "      <th>0</th>\n",
       "      <td>0</td>\n",
       "      <td>pancuronium bromide</td>\n",
       "      <td>pancuronium bromide</td>\n",
       "      <td>pancuronium bromide</td>\n",
       "      <td>[Br-].[Br-].[H][C@@]1(C[C@@]2([H])[C@]3([H])CC...</td>\n",
       "      <td>ambiguous</td>\n",
       "      <td>CC(=O)OC1CC2CCC3C(CCC4(C)C3CC([N+]3(C)CCCCC3)C...</td>\n",
       "      <td>InChI=1S/C35H60N2O4/c1-24(38)40-32-21-26-13-14...</td>\n",
       "    </tr>\n",
       "    <tr>\n",
       "      <th>1</th>\n",
       "      <td>1</td>\n",
       "      <td>vecuronium bromide</td>\n",
       "      <td>vecuronium bromide</td>\n",
       "      <td>vecuronium bromide</td>\n",
       "      <td>[Br-].CC(=O)O[C@H]1[C@H](C[C@H]2[C@@H]3CC[C@H]...</td>\n",
       "      <td>ambiguous</td>\n",
       "      <td>CC(=O)OC1CC2CCC3C(CCC4(C)C3CC([N+]3(C)CCCCC3)C...</td>\n",
       "      <td>InChI=1S/C34H57N2O4/c1-23(37)39-31-20-25-12-13...</td>\n",
       "    </tr>\n",
       "    <tr>\n",
       "      <th>2</th>\n",
       "      <td>2</td>\n",
       "      <td>doxercalciferol</td>\n",
       "      <td>doxercalciferol</td>\n",
       "      <td>doxercalciferol</td>\n",
       "      <td>[H][C@@]1(CC[C@@]2([H])\\C(CCC[C@]12C)=C\\C=C1\\C...</td>\n",
       "      <td>ambiguous</td>\n",
       "      <td>C=C1C(=CC=C2CCCC3(C)C2CCC3C(C)C=CC(C)C(C)C)CC(...</td>\n",
       "      <td>InChI=1S/C28H44O2/c1-18(2)19(3)9-10-20(4)25-13...</td>\n",
       "    </tr>\n",
       "    <tr>\n",
       "      <th>3</th>\n",
       "      <td>3</td>\n",
       "      <td>ergocalciferol capsules,</td>\n",
       "      <td>ergocalciferol capsules,</td>\n",
       "      <td>ergocalciferol</td>\n",
       "      <td>[H][C@@]1(CC[C@@]2([H])\\C(CCC[C@]12C)=C\\C=C1\\C...</td>\n",
       "      <td>ambiguous</td>\n",
       "      <td>C=C1CCC(O)CC1=CC=C1CCCC2(C)C1CCC2C(C)C=CC(C)C(C)C</td>\n",
       "      <td>InChI=1S/C28H44O/c1-19(2)20(3)9-10-22(5)26-15-...</td>\n",
       "    </tr>\n",
       "    <tr>\n",
       "      <th>4</th>\n",
       "      <td>4</td>\n",
       "      <td>doxycycline</td>\n",
       "      <td>doxycycline</td>\n",
       "      <td>doxycycline</td>\n",
       "      <td>[H][C@@]12[C@@H](C)C3=C(C(O)=CC=C3)C(=O)C1=C(O...</td>\n",
       "      <td>ambiguous</td>\n",
       "      <td>CC1c2cccc([O-])c2C(=O)C2C(=O)C3(O)C(=O)C(C(N)=...</td>\n",
       "      <td>InChI=1S/C22H24N2O8/c1-7-8-5-4-6-9(25)11(8)16(...</td>\n",
       "    </tr>\n",
       "    <tr>\n",
       "      <th>...</th>\n",
       "      <td>...</td>\n",
       "      <td>...</td>\n",
       "      <td>...</td>\n",
       "      <td>...</td>\n",
       "      <td>...</td>\n",
       "      <td>...</td>\n",
       "      <td>...</td>\n",
       "      <td>...</td>\n",
       "    </tr>\n",
       "    <tr>\n",
       "      <th>80</th>\n",
       "      <td>80</td>\n",
       "      <td>chlorhexidine gluconate</td>\n",
       "      <td>chlorhexidine gluconate</td>\n",
       "      <td>chlorhexidine gluconate</td>\n",
       "      <td>OC[C@@H](O)[C@@H](O)[C@H](O)[C@@H](O)C(O)=O.OC...</td>\n",
       "      <td>ambiguous</td>\n",
       "      <td>NC(Nc1ccc(Cl)cc1)=[NH+]C(N)=[NH+]CCCCCC[NH2+]C...</td>\n",
       "      <td>InChI=1S/C22H30Cl2N10/c23-15-5-9-17(10-6-15)31...</td>\n",
       "    </tr>\n",
       "    <tr>\n",
       "      <th>81</th>\n",
       "      <td>81</td>\n",
       "      <td>dextrose</td>\n",
       "      <td>dextrose</td>\n",
       "      <td>dextrose</td>\n",
       "      <td>OC[C@@H](O)[C@@H](O)[C@H](O)[C@@H](O)C=O</td>\n",
       "      <td>ambiguous</td>\n",
       "      <td>O=C(C(O)CO)C(O)C(O)CO</td>\n",
       "      <td>InChI=1S/C6H12O6/c7-1-3(9)5(11)6(12)4(10)2-8/h...</td>\n",
       "    </tr>\n",
       "    <tr>\n",
       "      <th>82</th>\n",
       "      <td>82</td>\n",
       "      <td>didanosine</td>\n",
       "      <td>didanosine</td>\n",
       "      <td>didanosine</td>\n",
       "      <td>OC[C@@H]1CC[C@@H](O1)N1C=NC2=C1N=CNC2=O</td>\n",
       "      <td>ambiguous</td>\n",
       "      <td>O=c1[n-]cnc2c1ncn2C1CCC(CO)O1</td>\n",
       "      <td>InChI=1S/C10H12N4O3/c15-3-6-1-2-7(17-6)14-5-13...</td>\n",
       "    </tr>\n",
       "    <tr>\n",
       "      <th>83</th>\n",
       "      <td>83</td>\n",
       "      <td>oxazepam</td>\n",
       "      <td>oxazepam</td>\n",
       "      <td>oxazepam</td>\n",
       "      <td>OC1N=C(C2=CC=CC=C2)C2=CC(Cl)=CC=C2NC1=O</td>\n",
       "      <td>ambiguous</td>\n",
       "      <td>O=C1Nc2ccc(Cl)cc2C(c2ccccc2)NC1=O</td>\n",
       "      <td>InChI=1S/C15H11ClN2O2/c16-10-6-7-12-11(8-10)13...</td>\n",
       "    </tr>\n",
       "    <tr>\n",
       "      <th>84</th>\n",
       "      <td>84</td>\n",
       "      <td>lorazepam</td>\n",
       "      <td>lorazepam</td>\n",
       "      <td>lorazepam</td>\n",
       "      <td>OC1N=C(C2=CC=CC=C2Cl)C2=CC(Cl)=CC=C2NC1=O</td>\n",
       "      <td>ambiguous</td>\n",
       "      <td>O=C1Nc2ccc(Cl)cc2C(c2ccccc2Cl)NC1=O</td>\n",
       "      <td>InChI=1S/C15H10Cl2N2O2/c16-8-5-6-12-10(7-8)13(...</td>\n",
       "    </tr>\n",
       "  </tbody>\n",
       "</table>\n",
       "<p>85 rows × 8 columns</p>\n",
       "</div>"
      ],
      "text/plain": [
       "    Unnamed: 0                Trade Name    Generic/Proper Name(s)  \\\n",
       "0            0       pancuronium bromide       pancuronium bromide   \n",
       "1            1        vecuronium bromide        vecuronium bromide   \n",
       "2            2           doxercalciferol           doxercalciferol   \n",
       "3            3  ergocalciferol capsules,  ergocalciferol capsules,   \n",
       "4            4               doxycycline               doxycycline   \n",
       "..         ...                       ...                       ...   \n",
       "80          80   chlorhexidine gluconate   chlorhexidine gluconate   \n",
       "81          81                  dextrose                  dextrose   \n",
       "82          82                didanosine                didanosine   \n",
       "83          83                  oxazepam                  oxazepam   \n",
       "84          84                 lorazepam                 lorazepam   \n",
       "\n",
       "       Active Ingredient(s)  \\\n",
       "0       pancuronium bromide   \n",
       "1        vecuronium bromide   \n",
       "2           doxercalciferol   \n",
       "3            ergocalciferol   \n",
       "4               doxycycline   \n",
       "..                      ...   \n",
       "80  chlorhexidine gluconate   \n",
       "81                 dextrose   \n",
       "82               didanosine   \n",
       "83                 oxazepam   \n",
       "84                lorazepam   \n",
       "\n",
       "                                               SMILES DICT _ Concern  \\\n",
       "0   [Br-].[Br-].[H][C@@]1(C[C@@]2([H])[C@]3([H])CC...      ambiguous   \n",
       "1   [Br-].CC(=O)O[C@H]1[C@H](C[C@H]2[C@@H]3CC[C@H]...      ambiguous   \n",
       "2   [H][C@@]1(CC[C@@]2([H])\\C(CCC[C@]12C)=C\\C=C1\\C...      ambiguous   \n",
       "3   [H][C@@]1(CC[C@@]2([H])\\C(CCC[C@]12C)=C\\C=C1\\C...      ambiguous   \n",
       "4   [H][C@@]12[C@@H](C)C3=C(C(O)=CC=C3)C(=O)C1=C(O...      ambiguous   \n",
       "..                                                ...            ...   \n",
       "80  OC[C@@H](O)[C@@H](O)[C@H](O)[C@@H](O)C(O)=O.OC...      ambiguous   \n",
       "81           OC[C@@H](O)[C@@H](O)[C@H](O)[C@@H](O)C=O      ambiguous   \n",
       "82            OC[C@@H]1CC[C@@H](O1)N1C=NC2=C1N=CNC2=O      ambiguous   \n",
       "83            OC1N=C(C2=CC=CC=C2)C2=CC(Cl)=CC=C2NC1=O      ambiguous   \n",
       "84          OC1N=C(C2=CC=CC=C2Cl)C2=CC(Cl)=CC=C2NC1=O      ambiguous   \n",
       "\n",
       "                                  Standardized_SMILES  \\\n",
       "0   CC(=O)OC1CC2CCC3C(CCC4(C)C3CC([N+]3(C)CCCCC3)C...   \n",
       "1   CC(=O)OC1CC2CCC3C(CCC4(C)C3CC([N+]3(C)CCCCC3)C...   \n",
       "2   C=C1C(=CC=C2CCCC3(C)C2CCC3C(C)C=CC(C)C(C)C)CC(...   \n",
       "3   C=C1CCC(O)CC1=CC=C1CCCC2(C)C1CCC2C(C)C=CC(C)C(C)C   \n",
       "4   CC1c2cccc([O-])c2C(=O)C2C(=O)C3(O)C(=O)C(C(N)=...   \n",
       "..                                                ...   \n",
       "80  NC(Nc1ccc(Cl)cc1)=[NH+]C(N)=[NH+]CCCCCC[NH2+]C...   \n",
       "81                              O=C(C(O)CO)C(O)C(O)CO   \n",
       "82                      O=c1[n-]cnc2c1ncn2C1CCC(CO)O1   \n",
       "83                  O=C1Nc2ccc(Cl)cc2C(c2ccccc2)NC1=O   \n",
       "84                O=C1Nc2ccc(Cl)cc2C(c2ccccc2Cl)NC1=O   \n",
       "\n",
       "                                   Standardized_InChI  \n",
       "0   InChI=1S/C35H60N2O4/c1-24(38)40-32-21-26-13-14...  \n",
       "1   InChI=1S/C34H57N2O4/c1-23(37)39-31-20-25-12-13...  \n",
       "2   InChI=1S/C28H44O2/c1-18(2)19(3)9-10-20(4)25-13...  \n",
       "3   InChI=1S/C28H44O/c1-19(2)20(3)9-10-22(5)26-15-...  \n",
       "4   InChI=1S/C22H24N2O8/c1-7-8-5-4-6-9(25)11(8)16(...  \n",
       "..                                                ...  \n",
       "80  InChI=1S/C22H30Cl2N10/c23-15-5-9-17(10-6-15)31...  \n",
       "81  InChI=1S/C6H12O6/c7-1-3(9)5(11)6(12)4(10)2-8/h...  \n",
       "82  InChI=1S/C10H12N4O3/c15-3-6-1-2-7(17-6)14-5-13...  \n",
       "83  InChI=1S/C15H11ClN2O2/c16-10-6-7-12-11(8-10)13...  \n",
       "84  InChI=1S/C15H10Cl2N2O2/c16-8-5-6-12-10(7-8)13(...  \n",
       "\n",
       "[85 rows x 8 columns]"
      ]
     },
     "execution_count": 97,
     "metadata": {},
     "output_type": "execute_result"
    }
   ],
   "source": [
    "df = pd.read_csv('./DICTrank_ambiguous_compounds.csv.gz')\n",
    "df"
   ]
  },
  {
   "cell_type": "code",
   "execution_count": 89,
   "id": "fffc9ce5",
   "metadata": {
    "scrolled": true
   },
   "outputs": [
    {
     "name": "stderr",
     "output_type": "stream",
     "text": [
      "100%|███████████████████████████████████████████| 85/85 [00:03<00:00, 23.12it/s]\n"
     ]
    },
    {
     "name": "stdout",
     "output_type": "stream",
     "text": [
      "/home/ss2686/miniconda3/envs/my-rdkit-env/lib/python3.9/site-packages/numpy/core/fromnumeric.py:86: RuntimeWarning: overflow encountered in reduce\n",
      "  return ufunc.reduce(obj, axis, dtype, out, **passkwargs)\n",
      "/home/ss2686/miniconda3/envs/my-rdkit-env/lib/python3.9/site-packages/numpy/core/fromnumeric.py:86: RuntimeWarning: overflow encountered in reduce\n",
      "  return ufunc.reduce(obj, axis, dtype, out, **passkwargs)\n",
      "/home/ss2686/miniconda3/envs/my-rdkit-env/lib/python3.9/site-packages/numpy/core/fromnumeric.py:86: RuntimeWarning: overflow encountered in reduce\n",
      "  return ufunc.reduce(obj, axis, dtype, out, **passkwargs)\n",
      "/home/ss2686/miniconda3/envs/my-rdkit-env/lib/python3.9/site-packages/numpy/core/fromnumeric.py:86: RuntimeWarning: overflow encountered in reduce\n",
      "  return ufunc.reduce(obj, axis, dtype, out, **passkwargs)\n",
      "/home/ss2686/miniconda3/envs/my-rdkit-env/lib/python3.9/site-packages/numpy/core/fromnumeric.py:86: RuntimeWarning: overflow encountered in reduce\n",
      "  return ufunc.reduce(obj, axis, dtype, out, **passkwargs)\n"
     ]
    }
   ],
   "source": [
    "Ser_Mol = df['Standardized_SMILES'].apply(Chem.MolFromSmiles)\n",
    "Mordred_table = calc.pandas(Ser_Mol)\n",
    "Mordred_table = Mordred_table.astype('float')\n",
    "               \n",
    "     \n",
    "\n",
    "# Retain only those columns in the test dataset\n",
    "Mordred_table = Mordred_table[data_columns]\n",
    "\n",
    "\n",
    "X = np.array(Mordred_table)"
   ]
  },
  {
   "cell_type": "code",
   "execution_count": null,
   "id": "4fd1dfd2",
   "metadata": {
    "scrolled": true
   },
   "outputs": [
    {
     "data": {
      "text/plain": [
       "array([0.60183532, 0.68570635, 0.78581349, 0.80121627, 0.55528373,\n",
       "       0.65849603, 0.85357341, 0.53119048, 0.38056259, 0.90015278,\n",
       "       0.87293452, 0.30986859, 0.54224603, 0.78040476, 0.64391667,\n",
       "       0.49850794, 0.90287698, 0.6148631 , 0.61646627, 0.57776786,\n",
       "       0.84180754, 0.87831349, 0.87293452, 0.72064484, 0.72336508,\n",
       "       0.67365278, 0.63985119, 0.69475   , 0.72061508, 0.81724405,\n",
       "       0.68836706, 0.53051984, 0.6466627 , 0.80232143, 0.78765476,\n",
       "       0.74249405, 0.82393056, 0.34971183, 0.54500397, 0.835     ,\n",
       "       0.69593056, 0.57805556, 0.89027579, 0.74029365, 0.8317877 ,\n",
       "       0.70241865, 0.71560913, 0.7906131 , 0.75715675, 0.62194048,\n",
       "       0.6197381 , 0.72748611, 0.92641865, 0.68814881, 0.91735516,\n",
       "       0.79649206, 0.41717063, 0.86302778, 0.57741468, 0.5636369 ,\n",
       "       0.62208532, 0.8104623 , 0.94216667, 0.66081349, 0.85518452,\n",
       "       0.53583532, 0.7405781 , 0.73031548, 0.66081349, 0.6599301 ,\n",
       "       0.78893849, 0.66220905, 0.83384722, 0.69201984, 0.70543651,\n",
       "       0.35254762, 0.55528373, 0.66360714, 0.98369643, 0.60908929,\n",
       "       0.76284325, 0.44884722, 0.6870754 , 0.72745391, 0.68364683])"
      ]
     },
     "execution_count": 98,
     "metadata": {},
     "output_type": "execute_result"
    }
   ],
   "source": [
    "probs_test = pipeline.predict_proba(X)[:, 1]\n",
    "probs_test"
   ]
  },
  {
   "cell_type": "code",
   "execution_count": 99,
   "id": "f11a9f16",
   "metadata": {},
   "outputs": [],
   "source": [
    "df[\"Probability\"] = probs_test\n",
    "df[\"Prediction\"] = (probs_test >= best_threshold).astype(int)"
   ]
  },
  {
   "cell_type": "code",
   "execution_count": 100,
   "id": "56663b64",
   "metadata": {},
   "outputs": [
    {
     "data": {
      "text/html": [
       "<div>\n",
       "<style scoped>\n",
       "    .dataframe tbody tr th:only-of-type {\n",
       "        vertical-align: middle;\n",
       "    }\n",
       "\n",
       "    .dataframe tbody tr th {\n",
       "        vertical-align: top;\n",
       "    }\n",
       "\n",
       "    .dataframe thead th {\n",
       "        text-align: right;\n",
       "    }\n",
       "</style>\n",
       "<table border=\"1\" class=\"dataframe\">\n",
       "  <thead>\n",
       "    <tr style=\"text-align: right;\">\n",
       "      <th></th>\n",
       "      <th>Unnamed: 0</th>\n",
       "      <th>Trade Name</th>\n",
       "      <th>Generic/Proper Name(s)</th>\n",
       "      <th>Active Ingredient(s)</th>\n",
       "      <th>SMILES</th>\n",
       "      <th>DICT _ Concern</th>\n",
       "      <th>Standardized_SMILES</th>\n",
       "      <th>Standardized_InChI</th>\n",
       "      <th>Probability</th>\n",
       "      <th>Prediction</th>\n",
       "    </tr>\n",
       "  </thead>\n",
       "  <tbody>\n",
       "    <tr>\n",
       "      <th>0</th>\n",
       "      <td>0</td>\n",
       "      <td>pancuronium bromide</td>\n",
       "      <td>pancuronium bromide</td>\n",
       "      <td>pancuronium bromide</td>\n",
       "      <td>[Br-].[Br-].[H][C@@]1(C[C@@]2([H])[C@]3([H])CC...</td>\n",
       "      <td>ambiguous</td>\n",
       "      <td>CC(=O)OC1CC2CCC3C(CCC4(C)C3CC([N+]3(C)CCCCC3)C...</td>\n",
       "      <td>InChI=1S/C35H60N2O4/c1-24(38)40-32-21-26-13-14...</td>\n",
       "      <td>0.601835</td>\n",
       "      <td>0</td>\n",
       "    </tr>\n",
       "    <tr>\n",
       "      <th>1</th>\n",
       "      <td>1</td>\n",
       "      <td>vecuronium bromide</td>\n",
       "      <td>vecuronium bromide</td>\n",
       "      <td>vecuronium bromide</td>\n",
       "      <td>[Br-].CC(=O)O[C@H]1[C@H](C[C@H]2[C@@H]3CC[C@H]...</td>\n",
       "      <td>ambiguous</td>\n",
       "      <td>CC(=O)OC1CC2CCC3C(CCC4(C)C3CC([N+]3(C)CCCCC3)C...</td>\n",
       "      <td>InChI=1S/C34H57N2O4/c1-23(37)39-31-20-25-12-13...</td>\n",
       "      <td>0.685706</td>\n",
       "      <td>1</td>\n",
       "    </tr>\n",
       "    <tr>\n",
       "      <th>2</th>\n",
       "      <td>2</td>\n",
       "      <td>doxercalciferol</td>\n",
       "      <td>doxercalciferol</td>\n",
       "      <td>doxercalciferol</td>\n",
       "      <td>[H][C@@]1(CC[C@@]2([H])\\C(CCC[C@]12C)=C\\C=C1\\C...</td>\n",
       "      <td>ambiguous</td>\n",
       "      <td>C=C1C(=CC=C2CCCC3(C)C2CCC3C(C)C=CC(C)C(C)C)CC(...</td>\n",
       "      <td>InChI=1S/C28H44O2/c1-18(2)19(3)9-10-20(4)25-13...</td>\n",
       "      <td>0.785813</td>\n",
       "      <td>1</td>\n",
       "    </tr>\n",
       "    <tr>\n",
       "      <th>3</th>\n",
       "      <td>3</td>\n",
       "      <td>ergocalciferol capsules,</td>\n",
       "      <td>ergocalciferol capsules,</td>\n",
       "      <td>ergocalciferol</td>\n",
       "      <td>[H][C@@]1(CC[C@@]2([H])\\C(CCC[C@]12C)=C\\C=C1\\C...</td>\n",
       "      <td>ambiguous</td>\n",
       "      <td>C=C1CCC(O)CC1=CC=C1CCCC2(C)C1CCC2C(C)C=CC(C)C(C)C</td>\n",
       "      <td>InChI=1S/C28H44O/c1-19(2)20(3)9-10-22(5)26-15-...</td>\n",
       "      <td>0.801216</td>\n",
       "      <td>1</td>\n",
       "    </tr>\n",
       "    <tr>\n",
       "      <th>4</th>\n",
       "      <td>4</td>\n",
       "      <td>doxycycline</td>\n",
       "      <td>doxycycline</td>\n",
       "      <td>doxycycline</td>\n",
       "      <td>[H][C@@]12[C@@H](C)C3=C(C(O)=CC=C3)C(=O)C1=C(O...</td>\n",
       "      <td>ambiguous</td>\n",
       "      <td>CC1c2cccc([O-])c2C(=O)C2C(=O)C3(O)C(=O)C(C(N)=...</td>\n",
       "      <td>InChI=1S/C22H24N2O8/c1-7-8-5-4-6-9(25)11(8)16(...</td>\n",
       "      <td>0.555284</td>\n",
       "      <td>0</td>\n",
       "    </tr>\n",
       "    <tr>\n",
       "      <th>...</th>\n",
       "      <td>...</td>\n",
       "      <td>...</td>\n",
       "      <td>...</td>\n",
       "      <td>...</td>\n",
       "      <td>...</td>\n",
       "      <td>...</td>\n",
       "      <td>...</td>\n",
       "      <td>...</td>\n",
       "      <td>...</td>\n",
       "      <td>...</td>\n",
       "    </tr>\n",
       "    <tr>\n",
       "      <th>80</th>\n",
       "      <td>80</td>\n",
       "      <td>chlorhexidine gluconate</td>\n",
       "      <td>chlorhexidine gluconate</td>\n",
       "      <td>chlorhexidine gluconate</td>\n",
       "      <td>OC[C@@H](O)[C@@H](O)[C@H](O)[C@@H](O)C(O)=O.OC...</td>\n",
       "      <td>ambiguous</td>\n",
       "      <td>NC(Nc1ccc(Cl)cc1)=[NH+]C(N)=[NH+]CCCCCC[NH2+]C...</td>\n",
       "      <td>InChI=1S/C22H30Cl2N10/c23-15-5-9-17(10-6-15)31...</td>\n",
       "      <td>0.762843</td>\n",
       "      <td>1</td>\n",
       "    </tr>\n",
       "    <tr>\n",
       "      <th>81</th>\n",
       "      <td>81</td>\n",
       "      <td>dextrose</td>\n",
       "      <td>dextrose</td>\n",
       "      <td>dextrose</td>\n",
       "      <td>OC[C@@H](O)[C@@H](O)[C@H](O)[C@@H](O)C=O</td>\n",
       "      <td>ambiguous</td>\n",
       "      <td>O=C(C(O)CO)C(O)C(O)CO</td>\n",
       "      <td>InChI=1S/C6H12O6/c7-1-3(9)5(11)6(12)4(10)2-8/h...</td>\n",
       "      <td>0.448847</td>\n",
       "      <td>0</td>\n",
       "    </tr>\n",
       "    <tr>\n",
       "      <th>82</th>\n",
       "      <td>82</td>\n",
       "      <td>didanosine</td>\n",
       "      <td>didanosine</td>\n",
       "      <td>didanosine</td>\n",
       "      <td>OC[C@@H]1CC[C@@H](O1)N1C=NC2=C1N=CNC2=O</td>\n",
       "      <td>ambiguous</td>\n",
       "      <td>O=c1[n-]cnc2c1ncn2C1CCC(CO)O1</td>\n",
       "      <td>InChI=1S/C10H12N4O3/c15-3-6-1-2-7(17-6)14-5-13...</td>\n",
       "      <td>0.687075</td>\n",
       "      <td>1</td>\n",
       "    </tr>\n",
       "    <tr>\n",
       "      <th>83</th>\n",
       "      <td>83</td>\n",
       "      <td>oxazepam</td>\n",
       "      <td>oxazepam</td>\n",
       "      <td>oxazepam</td>\n",
       "      <td>OC1N=C(C2=CC=CC=C2)C2=CC(Cl)=CC=C2NC1=O</td>\n",
       "      <td>ambiguous</td>\n",
       "      <td>O=C1Nc2ccc(Cl)cc2C(c2ccccc2)NC1=O</td>\n",
       "      <td>InChI=1S/C15H11ClN2O2/c16-10-6-7-12-11(8-10)13...</td>\n",
       "      <td>0.727454</td>\n",
       "      <td>1</td>\n",
       "    </tr>\n",
       "    <tr>\n",
       "      <th>84</th>\n",
       "      <td>84</td>\n",
       "      <td>lorazepam</td>\n",
       "      <td>lorazepam</td>\n",
       "      <td>lorazepam</td>\n",
       "      <td>OC1N=C(C2=CC=CC=C2Cl)C2=CC(Cl)=CC=C2NC1=O</td>\n",
       "      <td>ambiguous</td>\n",
       "      <td>O=C1Nc2ccc(Cl)cc2C(c2ccccc2Cl)NC1=O</td>\n",
       "      <td>InChI=1S/C15H10Cl2N2O2/c16-8-5-6-12-10(7-8)13(...</td>\n",
       "      <td>0.683647</td>\n",
       "      <td>1</td>\n",
       "    </tr>\n",
       "  </tbody>\n",
       "</table>\n",
       "<p>85 rows × 10 columns</p>\n",
       "</div>"
      ],
      "text/plain": [
       "    Unnamed: 0                Trade Name    Generic/Proper Name(s)  \\\n",
       "0            0       pancuronium bromide       pancuronium bromide   \n",
       "1            1        vecuronium bromide        vecuronium bromide   \n",
       "2            2           doxercalciferol           doxercalciferol   \n",
       "3            3  ergocalciferol capsules,  ergocalciferol capsules,   \n",
       "4            4               doxycycline               doxycycline   \n",
       "..         ...                       ...                       ...   \n",
       "80          80   chlorhexidine gluconate   chlorhexidine gluconate   \n",
       "81          81                  dextrose                  dextrose   \n",
       "82          82                didanosine                didanosine   \n",
       "83          83                  oxazepam                  oxazepam   \n",
       "84          84                 lorazepam                 lorazepam   \n",
       "\n",
       "       Active Ingredient(s)  \\\n",
       "0       pancuronium bromide   \n",
       "1        vecuronium bromide   \n",
       "2           doxercalciferol   \n",
       "3            ergocalciferol   \n",
       "4               doxycycline   \n",
       "..                      ...   \n",
       "80  chlorhexidine gluconate   \n",
       "81                 dextrose   \n",
       "82               didanosine   \n",
       "83                 oxazepam   \n",
       "84                lorazepam   \n",
       "\n",
       "                                               SMILES DICT _ Concern  \\\n",
       "0   [Br-].[Br-].[H][C@@]1(C[C@@]2([H])[C@]3([H])CC...      ambiguous   \n",
       "1   [Br-].CC(=O)O[C@H]1[C@H](C[C@H]2[C@@H]3CC[C@H]...      ambiguous   \n",
       "2   [H][C@@]1(CC[C@@]2([H])\\C(CCC[C@]12C)=C\\C=C1\\C...      ambiguous   \n",
       "3   [H][C@@]1(CC[C@@]2([H])\\C(CCC[C@]12C)=C\\C=C1\\C...      ambiguous   \n",
       "4   [H][C@@]12[C@@H](C)C3=C(C(O)=CC=C3)C(=O)C1=C(O...      ambiguous   \n",
       "..                                                ...            ...   \n",
       "80  OC[C@@H](O)[C@@H](O)[C@H](O)[C@@H](O)C(O)=O.OC...      ambiguous   \n",
       "81           OC[C@@H](O)[C@@H](O)[C@H](O)[C@@H](O)C=O      ambiguous   \n",
       "82            OC[C@@H]1CC[C@@H](O1)N1C=NC2=C1N=CNC2=O      ambiguous   \n",
       "83            OC1N=C(C2=CC=CC=C2)C2=CC(Cl)=CC=C2NC1=O      ambiguous   \n",
       "84          OC1N=C(C2=CC=CC=C2Cl)C2=CC(Cl)=CC=C2NC1=O      ambiguous   \n",
       "\n",
       "                                  Standardized_SMILES  \\\n",
       "0   CC(=O)OC1CC2CCC3C(CCC4(C)C3CC([N+]3(C)CCCCC3)C...   \n",
       "1   CC(=O)OC1CC2CCC3C(CCC4(C)C3CC([N+]3(C)CCCCC3)C...   \n",
       "2   C=C1C(=CC=C2CCCC3(C)C2CCC3C(C)C=CC(C)C(C)C)CC(...   \n",
       "3   C=C1CCC(O)CC1=CC=C1CCCC2(C)C1CCC2C(C)C=CC(C)C(C)C   \n",
       "4   CC1c2cccc([O-])c2C(=O)C2C(=O)C3(O)C(=O)C(C(N)=...   \n",
       "..                                                ...   \n",
       "80  NC(Nc1ccc(Cl)cc1)=[NH+]C(N)=[NH+]CCCCCC[NH2+]C...   \n",
       "81                              O=C(C(O)CO)C(O)C(O)CO   \n",
       "82                      O=c1[n-]cnc2c1ncn2C1CCC(CO)O1   \n",
       "83                  O=C1Nc2ccc(Cl)cc2C(c2ccccc2)NC1=O   \n",
       "84                O=C1Nc2ccc(Cl)cc2C(c2ccccc2Cl)NC1=O   \n",
       "\n",
       "                                   Standardized_InChI  Probability  Prediction  \n",
       "0   InChI=1S/C35H60N2O4/c1-24(38)40-32-21-26-13-14...     0.601835           0  \n",
       "1   InChI=1S/C34H57N2O4/c1-23(37)39-31-20-25-12-13...     0.685706           1  \n",
       "2   InChI=1S/C28H44O2/c1-18(2)19(3)9-10-20(4)25-13...     0.785813           1  \n",
       "3   InChI=1S/C28H44O/c1-19(2)20(3)9-10-22(5)26-15-...     0.801216           1  \n",
       "4   InChI=1S/C22H24N2O8/c1-7-8-5-4-6-9(25)11(8)16(...     0.555284           0  \n",
       "..                                                ...          ...         ...  \n",
       "80  InChI=1S/C22H30Cl2N10/c23-15-5-9-17(10-6-15)31...     0.762843           1  \n",
       "81  InChI=1S/C6H12O6/c7-1-3(9)5(11)6(12)4(10)2-8/h...     0.448847           0  \n",
       "82  InChI=1S/C10H12N4O3/c15-3-6-1-2-7(17-6)14-5-13...     0.687075           1  \n",
       "83  InChI=1S/C15H11ClN2O2/c16-10-6-7-12-11(8-10)13...     0.727454           1  \n",
       "84  InChI=1S/C15H10Cl2N2O2/c16-8-5-6-12-10(7-8)13(...     0.683647           1  \n",
       "\n",
       "[85 rows x 10 columns]"
      ]
     },
     "execution_count": 100,
     "metadata": {},
     "output_type": "execute_result"
    }
   ],
   "source": [
    "df"
   ]
  },
  {
   "cell_type": "code",
   "execution_count": 103,
   "id": "5dd9c38a",
   "metadata": {},
   "outputs": [],
   "source": [
    "df.to_csv('./DICTrank_ambiguous_compounds_predictions.csv', index=False)"
   ]
  },
  {
   "cell_type": "code",
   "execution_count": null,
   "id": "b7ee0632",
   "metadata": {},
   "outputs": [],
   "source": []
  }
 ],
 "metadata": {
  "kernelspec": {
   "display_name": "Python 3 (ipykernel)",
   "language": "python",
   "name": "python3"
  },
  "language_info": {
   "codemirror_mode": {
    "name": "ipython",
    "version": 3
   },
   "file_extension": ".py",
   "mimetype": "text/x-python",
   "name": "python",
   "nbconvert_exporter": "python",
   "pygments_lexer": "ipython3",
   "version": "3.9.10"
  }
 },
 "nbformat": 4,
 "nbformat_minor": 5
}
