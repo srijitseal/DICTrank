{
 "cells": [
  {
   "cell_type": "code",
   "execution_count": 1,
   "id": "620d2eef",
   "metadata": {
    "scrolled": true
   },
   "outputs": [
    {
     "name": "stdout",
     "output_type": "stream",
     "text": [
      "INFO: Pandarallel will run on 76 workers.\n",
      "INFO: Pandarallel will use Memory file system to transfer data between the main process and workers.\n",
      "GeneExpressionSMILES\n",
      "sider\n",
      "MOA\n",
      "CellPaintingSMILES\n",
      "Cmax\n",
      "DICTrank\n",
      "1378\n",
      "2613\n",
      "1579\n"
     ]
    },
    {
     "name": "stderr",
     "output_type": "stream",
     "text": [
      "  1%|▍                                        | 18/1579 [00:03<05:01,  5.17it/s]"
     ]
    },
    {
     "name": "stdout",
     "output_type": "stream",
     "text": [
      "/home/ss2686/miniconda3/envs/my-rdkit-env/lib/python3.9/site-packages/numpy/core/fromnumeric.py:86: RuntimeWarning: overflow encountered in reduce\n",
      "  return ufunc.reduce(obj, axis, dtype, out, **passkwargs)\n"
     ]
    },
    {
     "name": "stderr",
     "output_type": "stream",
     "text": [
      "  3%|█▍                                       | 53/1579 [00:07<04:48,  5.29it/s]"
     ]
    },
    {
     "name": "stdout",
     "output_type": "stream",
     "text": [
      "/home/ss2686/miniconda3/envs/my-rdkit-env/lib/python3.9/site-packages/numpy/core/fromnumeric.py:86: RuntimeWarning: overflow encountered in reduce\n",
      "  return ufunc.reduce(obj, axis, dtype, out, **passkwargs)\n",
      "/home/ss2686/miniconda3/envs/my-rdkit-env/lib/python3.9/site-packages/numpy/core/fromnumeric.py:86: RuntimeWarning: overflow encountered in reduce\n",
      "  return ufunc.reduce(obj, axis, dtype, out, **passkwargs)\n",
      "/home/ss2686/miniconda3/envs/my-rdkit-env/lib/python3.9/site-packages/numpy/core/fromnumeric.py:86: RuntimeWarning: overflow encountered in reduce\n",
      "  return ufunc.reduce(obj, axis, dtype, out, **passkwargs)\n"
     ]
    },
    {
     "name": "stderr",
     "output_type": "stream",
     "text": [
      "  8%|███▏                                    | 124/1579 [00:09<02:59,  8.08it/s]"
     ]
    },
    {
     "name": "stdout",
     "output_type": "stream",
     "text": [
      "/home/ss2686/miniconda3/envs/my-rdkit-env/lib/python3.9/site-packages/numpy/core/fromnumeric.py:86: RuntimeWarning: overflow encountered in reduce\n",
      "  return ufunc.reduce(obj, axis, dtype, out, **passkwargs)\n",
      "/home/ss2686/miniconda3/envs/my-rdkit-env/lib/python3.9/site-packages/numpy/core/fromnumeric.py:86: RuntimeWarning: overflow encountered in reduce\n",
      "  return ufunc.reduce(obj, axis, dtype, out, **passkwargs)\n",
      "/home/ss2686/miniconda3/envs/my-rdkit-env/lib/python3.9/site-packages/numpy/core/fromnumeric.py:86: RuntimeWarning: overflow encountered in reduce\n",
      "  return ufunc.reduce(obj, axis, dtype, out, **passkwargs)\n",
      "/home/ss2686/miniconda3/envs/my-rdkit-env/lib/python3.9/site-packages/numpy/core/fromnumeric.py:86: RuntimeWarning: overflow encountered in reduce\n",
      "  return ufunc.reduce(obj, axis, dtype, out, **passkwargs)\n"
     ]
    },
    {
     "name": "stderr",
     "output_type": "stream",
     "text": [
      " 18%|███████▎                                | 288/1579 [00:15<00:44, 28.95it/s]"
     ]
    },
    {
     "name": "stdout",
     "output_type": "stream",
     "text": [
      "/home/ss2686/miniconda3/envs/my-rdkit-env/lib/python3.9/site-packages/numpy/core/fromnumeric.py:86: RuntimeWarning: overflow encountered in reduce\n",
      "  return ufunc.reduce(obj, axis, dtype, out, **passkwargs)\n",
      "/home/ss2686/miniconda3/envs/my-rdkit-env/lib/python3.9/site-packages/numpy/core/fromnumeric.py:86: RuntimeWarning: overflow encountered in reduce\n",
      "  return ufunc.reduce(obj, axis, dtype, out, **passkwargs)\n",
      "/home/ss2686/miniconda3/envs/my-rdkit-env/lib/python3.9/site-packages/numpy/core/fromnumeric.py:86: RuntimeWarning: overflow encountered in reduce\n",
      "  return ufunc.reduce(obj, axis, dtype, out, **passkwargs)\n",
      "/home/ss2686/miniconda3/envs/my-rdkit-env/lib/python3.9/site-packages/numpy/core/fromnumeric.py:86: RuntimeWarning: overflow encountered in reduce\n",
      "  return ufunc.reduce(obj, axis, dtype, out, **passkwargs)\n",
      "/home/ss2686/miniconda3/envs/my-rdkit-env/lib/python3.9/site-packages/numpy/core/fromnumeric.py:86: RuntimeWarning: overflow encountered in reduce\n",
      "  return ufunc.reduce(obj, axis, dtype, out, **passkwargs)\n",
      "/home/ss2686/miniconda3/envs/my-rdkit-env/lib/python3.9/site-packages/numpy/core/fromnumeric.py:86: RuntimeWarning: overflow encountered in reduce\n",
      "  return ufunc.reduce(obj, axis, dtype, out, **passkwargs)\n",
      "/home/ss2686/miniconda3/envs/my-rdkit-env/lib/python3.9/site-packages/numpy/core/fromnumeric.py:86: RuntimeWarning: overflow encountered in reduce\n",
      "  return ufunc.reduce(obj, axis, dtype, out, **passkwargs)\n",
      "/home/ss2686/miniconda3/envs/my-rdkit-env/lib/python3.9/site-packages/numpy/core/fromnumeric.py:86: RuntimeWarning: overflow encountered in reduce\n",
      "  return ufunc.reduce(obj, axis, dtype, out, **passkwargs)\n"
     ]
    },
    {
     "name": "stderr",
     "output_type": "stream",
     "text": [
      " 29%|███████████▌                            | 456/1579 [00:20<00:55, 20.17it/s]"
     ]
    },
    {
     "name": "stdout",
     "output_type": "stream",
     "text": [
      "/home/ss2686/miniconda3/envs/my-rdkit-env/lib/python3.9/site-packages/numpy/core/fromnumeric.py:86: RuntimeWarning: overflow encountered in reduce\n",
      "  return ufunc.reduce(obj, axis, dtype, out, **passkwargs)\n",
      "/home/ss2686/miniconda3/envs/my-rdkit-env/lib/python3.9/site-packages/numpy/core/fromnumeric.py:86: RuntimeWarning: overflow encountered in reduce\n",
      "  return ufunc.reduce(obj, axis, dtype, out, **passkwargs)\n",
      "/home/ss2686/miniconda3/envs/my-rdkit-env/lib/python3.9/site-packages/numpy/core/fromnumeric.py:86: RuntimeWarning: overflow encountered in reduce\n",
      "  return ufunc.reduce(obj, axis, dtype, out, **passkwargs)\n",
      "/home/ss2686/miniconda3/envs/my-rdkit-env/lib/python3.9/site-packages/numpy/core/fromnumeric.py:86: RuntimeWarning: overflow encountered in reduce\n",
      "  return ufunc.reduce(obj, axis, dtype, out, **passkwargs)\n",
      "/home/ss2686/miniconda3/envs/my-rdkit-env/lib/python3.9/site-packages/numpy/core/fromnumeric.py:86: RuntimeWarning: overflow encountered in reduce\n",
      "  return ufunc.reduce(obj, axis, dtype, out, **passkwargs)\n",
      "/home/ss2686/miniconda3/envs/my-rdkit-env/lib/python3.9/site-packages/numpy/core/fromnumeric.py:86: RuntimeWarning: overflow encountered in reduce\n",
      "  return ufunc.reduce(obj, axis, dtype, out, **passkwargs)\n"
     ]
    },
    {
     "name": "stderr",
     "output_type": "stream",
     "text": [
      " 41%|████████████████▍                       | 647/1579 [00:28<00:28, 33.08it/s]"
     ]
    },
    {
     "name": "stdout",
     "output_type": "stream",
     "text": [
      "/home/ss2686/miniconda3/envs/my-rdkit-env/lib/python3.9/site-packages/numpy/core/fromnumeric.py:86: RuntimeWarning: overflow encountered in reduce\n",
      "  return ufunc.reduce(obj, axis, dtype, out, **passkwargs)\n",
      "/home/ss2686/miniconda3/envs/my-rdkit-env/lib/python3.9/site-packages/mordred/_matrix_attributes.py:251: RuntimeWarning: invalid value encountered in double_scalars\n",
      "  s += (eig.vec[i, eig.max] * eig.vec[j, eig.max]) ** -0.5\n",
      "/home/ss2686/miniconda3/envs/my-rdkit-env/lib/python3.9/site-packages/numpy/core/fromnumeric.py:86: RuntimeWarning: overflow encountered in reduce\n",
      "  return ufunc.reduce(obj, axis, dtype, out, **passkwargs)\n",
      "/home/ss2686/miniconda3/envs/my-rdkit-env/lib/python3.9/site-packages/numpy/core/fromnumeric.py:86: RuntimeWarning: overflow encountered in reduce\n",
      "  return ufunc.reduce(obj, axis, dtype, out, **passkwargs)\n",
      "/home/ss2686/miniconda3/envs/my-rdkit-env/lib/python3.9/site-packages/numpy/core/fromnumeric.py:86: RuntimeWarning: overflow encountered in reduce\n",
      "  return ufunc.reduce(obj, axis, dtype, out, **passkwargs)\n",
      "/home/ss2686/miniconda3/envs/my-rdkit-env/lib/python3.9/site-packages/numpy/core/fromnumeric.py:86: RuntimeWarning: overflow encountered in reduce\n",
      "  return ufunc.reduce(obj, axis, dtype, out, **passkwargs)\n",
      "/home/ss2686/miniconda3/envs/my-rdkit-env/lib/python3.9/site-packages/numpy/core/fromnumeric.py:86: RuntimeWarning: overflow encountered in reduce\n",
      "  return ufunc.reduce(obj, axis, dtype, out, **passkwargs)\n",
      "/home/ss2686/miniconda3/envs/my-rdkit-env/lib/python3.9/site-packages/numpy/core/fromnumeric.py:86: RuntimeWarning: overflow encountered in reduce\n",
      "  return ufunc.reduce(obj, axis, dtype, out, **passkwargs)\n",
      "/home/ss2686/miniconda3/envs/my-rdkit-env/lib/python3.9/site-packages/numpy/core/fromnumeric.py:86: RuntimeWarning: overflow encountered in reduce\n",
      "  return ufunc.reduce(obj, axis, dtype, out, **passkwargs)\n",
      "/home/ss2686/miniconda3/envs/my-rdkit-env/lib/python3.9/site-packages/numpy/core/fromnumeric.py:86: RuntimeWarning: overflow encountered in reduce\n",
      "  return ufunc.reduce(obj, axis, dtype, out, **passkwargs)\n"
     ]
    },
    {
     "name": "stderr",
     "output_type": "stream",
     "text": [
      " 42%|████████████████▋                       | 657/1579 [00:30<00:27, 33.08it/s]"
     ]
    },
    {
     "name": "stdout",
     "output_type": "stream",
     "text": [
      "/home/ss2686/miniconda3/envs/my-rdkit-env/lib/python3.9/site-packages/numpy/core/fromnumeric.py:86: RuntimeWarning: overflow encountered in reduce\n",
      "  return ufunc.reduce(obj, axis, dtype, out, **passkwargs)\n",
      "/home/ss2686/miniconda3/envs/my-rdkit-env/lib/python3.9/site-packages/numpy/core/fromnumeric.py:86: RuntimeWarning: overflow encountered in reduce\n",
      "  return ufunc.reduce(obj, axis, dtype, out, **passkwargs)\n"
     ]
    },
    {
     "name": "stderr",
     "output_type": "stream",
     "text": [
      " 42%|████████████████▊                       | 665/1579 [00:34<00:27, 33.08it/s]"
     ]
    },
    {
     "name": "stdout",
     "output_type": "stream",
     "text": [
      "/home/ss2686/miniconda3/envs/my-rdkit-env/lib/python3.9/site-packages/numpy/core/fromnumeric.py:86: RuntimeWarning: overflow encountered in reduce\n",
      "  return ufunc.reduce(obj, axis, dtype, out, **passkwargs)\n"
     ]
    },
    {
     "name": "stderr",
     "output_type": "stream",
     "text": [
      " 52%|████████████████████▋                   | 815/1579 [00:39<00:46, 16.47it/s]"
     ]
    },
    {
     "name": "stdout",
     "output_type": "stream",
     "text": [
      "/home/ss2686/miniconda3/envs/my-rdkit-env/lib/python3.9/site-packages/numpy/core/fromnumeric.py:86: RuntimeWarning: overflow encountered in reduce\n",
      "  return ufunc.reduce(obj, axis, dtype, out, **passkwargs)\n",
      "/home/ss2686/miniconda3/envs/my-rdkit-env/lib/python3.9/site-packages/numpy/core/fromnumeric.py:86: RuntimeWarning: overflow encountered in reduce\n",
      "  return ufunc.reduce(obj, axis, dtype, out, **passkwargs)\n",
      "/home/ss2686/miniconda3/envs/my-rdkit-env/lib/python3.9/site-packages/numpy/core/fromnumeric.py:86: RuntimeWarning: overflow encountered in reduce\n",
      "  return ufunc.reduce(obj, axis, dtype, out, **passkwargs)\n",
      "/home/ss2686/miniconda3/envs/my-rdkit-env/lib/python3.9/site-packages/numpy/core/fromnumeric.py:86: RuntimeWarning: overflow encountered in reduce\n",
      "  return ufunc.reduce(obj, axis, dtype, out, **passkwargs)\n",
      "/home/ss2686/miniconda3/envs/my-rdkit-env/lib/python3.9/site-packages/numpy/core/fromnumeric.py:86: RuntimeWarning: overflow encountered in reduce\n",
      "  return ufunc.reduce(obj, axis, dtype, out, **passkwargs)\n",
      "/home/ss2686/miniconda3/envs/my-rdkit-env/lib/python3.9/site-packages/numpy/core/fromnumeric.py:86: RuntimeWarning: overflow encountered in reduce\n",
      "  return ufunc.reduce(obj, axis, dtype, out, **passkwargs)\n"
     ]
    },
    {
     "name": "stderr",
     "output_type": "stream",
     "text": [
      " 53%|█████████████████████▏                  | 835/1579 [00:40<00:28, 26.12it/s]"
     ]
    },
    {
     "name": "stdout",
     "output_type": "stream",
     "text": [
      "/home/ss2686/miniconda3/envs/my-rdkit-env/lib/python3.9/site-packages/numpy/core/fromnumeric.py:86: RuntimeWarning: overflow encountered in reduce\n",
      "  return ufunc.reduce(obj, axis, dtype, out, **passkwargs)\n"
     ]
    },
    {
     "name": "stderr",
     "output_type": "stream",
     "text": [
      " 60%|███████████████████████▉                | 947/1579 [00:43<00:27, 23.32it/s]"
     ]
    },
    {
     "name": "stdout",
     "output_type": "stream",
     "text": [
      "/home/ss2686/miniconda3/envs/my-rdkit-env/lib/python3.9/site-packages/numpy/core/fromnumeric.py:86: RuntimeWarning: overflow encountered in reduce\n",
      "  return ufunc.reduce(obj, axis, dtype, out, **passkwargs)\n",
      "/home/ss2686/miniconda3/envs/my-rdkit-env/lib/python3.9/site-packages/numpy/core/fromnumeric.py:86: RuntimeWarning: overflow encountered in reduce\n",
      "  return ufunc.reduce(obj, axis, dtype, out, **passkwargs)\n",
      "/home/ss2686/miniconda3/envs/my-rdkit-env/lib/python3.9/site-packages/numpy/core/fromnumeric.py:86: RuntimeWarning: overflow encountered in reduce\n",
      "  return ufunc.reduce(obj, axis, dtype, out, **passkwargs)\n"
     ]
    },
    {
     "name": "stderr",
     "output_type": "stream",
     "text": [
      " 70%|███████████████████████████▍           | 1111/1579 [00:50<00:23, 19.82it/s]"
     ]
    },
    {
     "name": "stdout",
     "output_type": "stream",
     "text": [
      "/home/ss2686/miniconda3/envs/my-rdkit-env/lib/python3.9/site-packages/numpy/core/fromnumeric.py:86: RuntimeWarning: overflow encountered in reduce\n",
      "  return ufunc.reduce(obj, axis, dtype, out, **passkwargs)\n",
      "/home/ss2686/miniconda3/envs/my-rdkit-env/lib/python3.9/site-packages/numpy/core/fromnumeric.py:86: RuntimeWarning: overflow encountered in reduce\n",
      "  return ufunc.reduce(obj, axis, dtype, out, **passkwargs)\n",
      "/home/ss2686/miniconda3/envs/my-rdkit-env/lib/python3.9/site-packages/numpy/core/fromnumeric.py:86: RuntimeWarning: overflow encountered in reduce\n",
      "  return ufunc.reduce(obj, axis, dtype, out, **passkwargs)\n"
     ]
    },
    {
     "name": "stderr",
     "output_type": "stream",
     "text": [
      " 84%|████████████████████████████████▌      | 1319/1579 [01:03<00:10, 25.03it/s]"
     ]
    },
    {
     "name": "stdout",
     "output_type": "stream",
     "text": [
      "/home/ss2686/miniconda3/envs/my-rdkit-env/lib/python3.9/site-packages/numpy/core/fromnumeric.py:86: RuntimeWarning: overflow encountered in reduce\n",
      "  return ufunc.reduce(obj, axis, dtype, out, **passkwargs)\n",
      "/home/ss2686/miniconda3/envs/my-rdkit-env/lib/python3.9/site-packages/numpy/core/fromnumeric.py:86: RuntimeWarning: overflow encountered in reduce\n",
      "  return ufunc.reduce(obj, axis, dtype, out, **passkwargs)\n",
      "/home/ss2686/miniconda3/envs/my-rdkit-env/lib/python3.9/site-packages/numpy/core/fromnumeric.py:86: RuntimeWarning: overflow encountered in reduce\n",
      "  return ufunc.reduce(obj, axis, dtype, out, **passkwargs)\n",
      "/home/ss2686/miniconda3/envs/my-rdkit-env/lib/python3.9/site-packages/numpy/core/fromnumeric.py:86: RuntimeWarning: overflow encountered in reduce\n",
      "  return ufunc.reduce(obj, axis, dtype, out, **passkwargs)\n",
      "/home/ss2686/miniconda3/envs/my-rdkit-env/lib/python3.9/site-packages/numpy/core/fromnumeric.py:86: RuntimeWarning: overflow encountered in reduce\n",
      "  return ufunc.reduce(obj, axis, dtype, out, **passkwargs)\n",
      "/home/ss2686/miniconda3/envs/my-rdkit-env/lib/python3.9/site-packages/numpy/core/fromnumeric.py:86: RuntimeWarning: overflow encountered in reduce\n",
      "  return ufunc.reduce(obj, axis, dtype, out, **passkwargs)\n"
     ]
    },
    {
     "name": "stderr",
     "output_type": "stream",
     "text": [
      " 88%|██████████████████████████████████▏    | 1386/1579 [01:04<00:06, 28.46it/s]"
     ]
    },
    {
     "name": "stdout",
     "output_type": "stream",
     "text": [
      "/home/ss2686/miniconda3/envs/my-rdkit-env/lib/python3.9/site-packages/numpy/core/fromnumeric.py:86: RuntimeWarning: overflow encountered in reduce\n",
      "  return ufunc.reduce(obj, axis, dtype, out, **passkwargs)\n"
     ]
    },
    {
     "name": "stderr",
     "output_type": "stream",
     "text": [
      " 88%|██████████████████████████████████▍    | 1393/1579 [01:05<00:06, 28.46it/s]"
     ]
    },
    {
     "name": "stdout",
     "output_type": "stream",
     "text": [
      "/home/ss2686/miniconda3/envs/my-rdkit-env/lib/python3.9/site-packages/numpy/core/fromnumeric.py:86: RuntimeWarning: overflow encountered in reduce\n",
      "  return ufunc.reduce(obj, axis, dtype, out, **passkwargs)\n"
     ]
    },
    {
     "name": "stderr",
     "output_type": "stream",
     "text": [
      " 88%|██████████████████████████████████▍    | 1394/1579 [01:11<00:06, 28.46it/s]"
     ]
    },
    {
     "name": "stdout",
     "output_type": "stream",
     "text": [
      "/home/ss2686/miniconda3/envs/my-rdkit-env/lib/python3.9/site-packages/numpy/core/fromnumeric.py:86: RuntimeWarning: overflow encountered in reduce\n",
      "  return ufunc.reduce(obj, axis, dtype, out, **passkwargs)\n"
     ]
    },
    {
     "name": "stderr",
     "output_type": "stream",
     "text": [
      "100%|███████████████████████████████████████| 1579/1579 [01:17<00:00, 20.39it/s]\n"
     ]
    },
    {
     "name": "stdout",
     "output_type": "stream",
     "text": [
      "/home/ss2686/miniconda3/envs/my-rdkit-env/lib/python3.9/site-packages/numpy/core/fromnumeric.py:86: RuntimeWarning: overflow encountered in reduce\n",
      "  return ufunc.reduce(obj, axis, dtype, out, **passkwargs)\n",
      "/home/ss2686/miniconda3/envs/my-rdkit-env/lib/python3.9/site-packages/mordred/_matrix_attributes.py:251: RuntimeWarning: invalid value encountered in double_scalars\n",
      "  s += (eig.vec[i, eig.max] * eig.vec[j, eig.max]) ** -0.5\n",
      "/home/ss2686/miniconda3/envs/my-rdkit-env/lib/python3.9/site-packages/numpy/core/fromnumeric.py:86: RuntimeWarning: overflow encountered in reduce\n",
      "  return ufunc.reduce(obj, axis, dtype, out, **passkwargs)\n",
      "cardiotox_with_sider_inactives\n"
     ]
    },
    {
     "name": "stderr",
     "output_type": "stream",
     "text": [
      "Processing activities:   0%|                              | 0/1 [00:00<?, ?it/s]\n",
      "  0%|                                                  | 0/1163 [00:00<?, ?it/s]\u001b[A\n",
      "  0%|                                          | 1/1163 [00:00<05:44,  3.37it/s]\u001b[A\n",
      "  1%|▎                                         | 8/1163 [00:00<01:09, 16.50it/s]\u001b[A\n",
      "  2%|▊                                        | 23/1163 [00:00<00:25, 44.28it/s]\u001b[A\n",
      "                                                                                \n",
      "Processing activities:   0%|                              | 0/1 [00:02<?, ?it/s]\u001b[A\n",
      "  3%|█                                        | 30/1163 [00:01<00:56, 20.19it/s]\u001b[A\n",
      "                                                                                \n",
      "Processing activities:   0%|                              | 0/1 [00:02<?, ?it/s]\u001b[A\n",
      "                                                                                \n",
      "Processing activities:   0%|                              | 0/1 [00:02<?, ?it/s]\u001b[A"
     ]
    },
    {
     "name": "stdout",
     "output_type": "stream",
     "text": [
      "/home/ss2686/miniconda3/envs/my-rdkit-env/lib/python3.9/site-packages/numpy/core/fromnumeric.py:86: RuntimeWarning: overflow encountered in reduce\n",
      "  return ufunc.reduce(obj, axis, dtype, out, **passkwargs)\n",
      "/home/ss2686/miniconda3/envs/my-rdkit-env/lib/python3.9/site-packages/numpy/core/fromnumeric.py:86: RuntimeWarning: overflow encountered in reduce\n",
      "  return ufunc.reduce(obj, axis, dtype, out, **passkwargs)\n",
      "/home/ss2686/miniconda3/envs/my-rdkit-env/lib/python3.9/site-packages/numpy/core/fromnumeric.py:86: RuntimeWarning: overflow encountered in reduce\n",
      "  return ufunc.reduce(obj, axis, dtype, out, **passkwargs)\n"
     ]
    },
    {
     "name": "stderr",
     "output_type": "stream",
     "text": [
      "\n",
      "  9%|███▍                                     | 99/1163 [00:01<00:12, 86.31it/s]\u001b[A\n",
      "                                                                                \n",
      "Processing activities:   0%|                              | 0/1 [00:02<?, ?it/s]\u001b[A\n",
      " 11%|████▎                                   | 125/1163 [00:01<00:10, 95.88it/s]\u001b[A"
     ]
    },
    {
     "name": "stdout",
     "output_type": "stream",
     "text": [
      "/home/ss2686/miniconda3/envs/my-rdkit-env/lib/python3.9/site-packages/numpy/core/fromnumeric.py:86: RuntimeWarning: overflow encountered in reduce\n",
      "  return ufunc.reduce(obj, axis, dtype, out, **passkwargs)\n"
     ]
    },
    {
     "name": "stderr",
     "output_type": "stream",
     "text": [
      "\n",
      "                                                                                \n",
      "Processing activities:   0%|                              | 0/1 [00:02<?, ?it/s]\u001b[A\n",
      "                                                                                \n",
      "Processing activities:   0%|                              | 0/1 [00:02<?, ?it/s]\u001b[A\n",
      " 12%|████▊                                   | 139/1163 [00:02<00:12, 81.36it/s]\u001b[A"
     ]
    },
    {
     "name": "stdout",
     "output_type": "stream",
     "text": [
      "/home/ss2686/miniconda3/envs/my-rdkit-env/lib/python3.9/site-packages/numpy/core/fromnumeric.py:86: RuntimeWarning: overflow encountered in reduce\n",
      "  return ufunc.reduce(obj, axis, dtype, out, **passkwargs)\n",
      "/home/ss2686/miniconda3/envs/my-rdkit-env/lib/python3.9/site-packages/numpy/core/fromnumeric.py:86: RuntimeWarning: overflow encountered in reduce\n",
      "  return ufunc.reduce(obj, axis, dtype, out, **passkwargs)\n"
     ]
    },
    {
     "name": "stderr",
     "output_type": "stream",
     "text": [
      "\n",
      "                                                                                \n",
      "Processing activities:   0%|                              | 0/1 [00:13<?, ?it/s]\u001b[A\n",
      " 15%|██████                                  | 177/1163 [00:13<02:07,  7.76it/s]\u001b[A\n",
      "                                                                                \n",
      "Processing activities:   0%|                              | 0/1 [00:13<?, ?it/s]\u001b[A\n",
      "                                                                                \n",
      "Processing activities:   0%|                              | 0/1 [00:13<?, ?it/s]\u001b[A\n"
     ]
    },
    {
     "name": "stdout",
     "output_type": "stream",
     "text": [
      "/home/ss2686/miniconda3/envs/my-rdkit-env/lib/python3.9/site-packages/numpy/core/fromnumeric.py:86: RuntimeWarning: overflow encountered in reduce\n",
      "  return ufunc.reduce(obj, axis, dtype, out, **passkwargs)\n",
      "/home/ss2686/miniconda3/envs/my-rdkit-env/lib/python3.9/site-packages/numpy/core/fromnumeric.py:86: RuntimeWarning: overflow encountered in reduce\n",
      "  return ufunc.reduce(obj, axis, dtype, out, **passkwargs)\n",
      "/home/ss2686/miniconda3/envs/my-rdkit-env/lib/python3.9/site-packages/numpy/core/fromnumeric.py:86: RuntimeWarning: overflow encountered in reduce\n",
      "  return ufunc.reduce(obj, axis, dtype, out, **passkwargs)\n"
     ]
    },
    {
     "name": "stderr",
     "output_type": "stream",
     "text": [
      " 29%|███████████▋                            | 340/1163 [00:13<00:30, 27.30it/s]\u001b[A\n",
      " 32%|████████████▊                           | 373/1163 [00:13<00:25, 31.42it/s]\u001b[A\n",
      "                                                                                \n",
      "Processing activities:   0%|                              | 0/1 [00:15<?, ?it/s]\u001b[A"
     ]
    },
    {
     "name": "stdout",
     "output_type": "stream",
     "text": [
      "/home/ss2686/miniconda3/envs/my-rdkit-env/lib/python3.9/site-packages/numpy/core/fromnumeric.py:86: RuntimeWarning: overflow encountered in reduce\n",
      "  return ufunc.reduce(obj, axis, dtype, out, **passkwargs)\n"
     ]
    },
    {
     "name": "stderr",
     "output_type": "stream",
     "text": [
      "\n",
      "                                                                                \n",
      "Processing activities:   0%|                              | 0/1 [00:15<?, ?it/s]\u001b[A\n",
      "                                                                                \n",
      "Processing activities:   0%|                              | 0/1 [00:15<?, ?it/s]\u001b[A\n",
      " 34%|█████████████▊                          | 400/1163 [00:15<00:28, 27.05it/s]\u001b[A\n",
      "                                                                                \n",
      "Processing activities:   0%|                              | 0/1 [00:15<?, ?it/s]\u001b[A\n",
      "                                                                                \n",
      "Processing activities:   0%|                              | 0/1 [00:15<?, ?it/s]\u001b[A\n",
      "                                                                                \n",
      "Processing activities:   0%|                              | 0/1 [00:15<?, ?it/s]\u001b[A"
     ]
    },
    {
     "name": "stdout",
     "output_type": "stream",
     "text": [
      "/home/ss2686/miniconda3/envs/my-rdkit-env/lib/python3.9/site-packages/numpy/core/fromnumeric.py:86: RuntimeWarning: overflow encountered in reduce\n",
      "  return ufunc.reduce(obj, axis, dtype, out, **passkwargs)\n",
      "/home/ss2686/miniconda3/envs/my-rdkit-env/lib/python3.9/site-packages/numpy/core/fromnumeric.py:86: RuntimeWarning: overflow encountered in reduce\n",
      "  return ufunc.reduce(obj, axis, dtype, out, **passkwargs)\n",
      "/home/ss2686/miniconda3/envs/my-rdkit-env/lib/python3.9/site-packages/numpy/core/fromnumeric.py:86: RuntimeWarning: overflow encountered in reduce\n",
      "  return ufunc.reduce(obj, axis, dtype, out, **passkwargs)\n",
      "/home/ss2686/miniconda3/envs/my-rdkit-env/lib/python3.9/site-packages/numpy/core/fromnumeric.py:86: RuntimeWarning: overflow encountered in reduce\n",
      "  return ufunc.reduce(obj, axis, dtype, out, **passkwargs)\n",
      "/home/ss2686/miniconda3/envs/my-rdkit-env/lib/python3.9/site-packages/numpy/core/fromnumeric.py:86: RuntimeWarning: overflow encountered in reduce\n",
      "  return ufunc.reduce(obj, axis, dtype, out, **passkwargs)\n"
     ]
    },
    {
     "name": "stderr",
     "output_type": "stream",
     "text": [
      "\n",
      " 41%|████████████████▎                       | 474/1163 [00:17<00:25, 27.19it/s]\u001b[A\n",
      "                                                                                \n",
      "Processing activities:   0%|                              | 0/1 [00:18<?, ?it/s]\u001b[A\n",
      "                                                                                \n",
      "Processing activities:   0%|                              | 0/1 [00:18<?, ?it/s]\u001b[A\n",
      "                                                                                \n",
      "Processing activities:   0%|                              | 0/1 [00:18<?, ?it/s]\u001b[A\n",
      "                                                                                \n",
      "Processing activities:   0%|                              | 0/1 [00:18<?, ?it/s]\u001b[A\n",
      "                                                                                \n",
      "Processing activities:   0%|                              | 0/1 [00:18<?, ?it/s]\u001b[A\n",
      "                                                                                \n",
      "Processing activities:   0%|                              | 0/1 [00:18<?, ?it/s]\u001b[A\n",
      "                                                                                \n",
      "Processing activities:   0%|                              | 0/1 [00:18<?, ?it/s]\u001b[A\n",
      "                                                                                \n",
      "Processing activities:   0%|                              | 0/1 [00:18<?, ?it/s]\u001b[A\n",
      "                                                                                \n",
      "Processing activities:   0%|                              | 0/1 [00:18<?, ?it/s]\u001b[A\n",
      "                                                                                \n",
      "Processing activities:   0%|                              | 0/1 [00:18<?, ?it/s]\u001b[A"
     ]
    },
    {
     "name": "stdout",
     "output_type": "stream",
     "text": [
      "/home/ss2686/miniconda3/envs/my-rdkit-env/lib/python3.9/site-packages/numpy/core/fromnumeric.py:86: RuntimeWarning: overflow encountered in reduce\n",
      "  return ufunc.reduce(obj, axis, dtype, out, **passkwargs)\n",
      "/home/ss2686/miniconda3/envs/my-rdkit-env/lib/python3.9/site-packages/numpy/core/fromnumeric.py:86: RuntimeWarning: overflow encountered in reduce\n",
      "  return ufunc.reduce(obj, axis, dtype, out, **passkwargs)\n",
      "/home/ss2686/miniconda3/envs/my-rdkit-env/lib/python3.9/site-packages/numpy/core/fromnumeric.py:86: RuntimeWarning: overflow encountered in reduce\n",
      "  return ufunc.reduce(obj, axis, dtype, out, **passkwargs)\n",
      "/home/ss2686/miniconda3/envs/my-rdkit-env/lib/python3.9/site-packages/numpy/core/fromnumeric.py:86: RuntimeWarning: overflow encountered in reduce\n",
      "  return ufunc.reduce(obj, axis, dtype, out, **passkwargs)\n",
      "/home/ss2686/miniconda3/envs/my-rdkit-env/lib/python3.9/site-packages/numpy/core/fromnumeric.py:86: RuntimeWarning: overflow encountered in reduce\n",
      "  return ufunc.reduce(obj, axis, dtype, out, **passkwargs)\n",
      "/home/ss2686/miniconda3/envs/my-rdkit-env/lib/python3.9/site-packages/numpy/core/fromnumeric.py:86: RuntimeWarning: overflow encountered in reduce\n",
      "  return ufunc.reduce(obj, axis, dtype, out, **passkwargs)\n",
      "/home/ss2686/miniconda3/envs/my-rdkit-env/lib/python3.9/site-packages/numpy/core/fromnumeric.py:86: RuntimeWarning: overflow encountered in reduce\n",
      "  return ufunc.reduce(obj, axis, dtype, out, **passkwargs)\n",
      "/home/ss2686/miniconda3/envs/my-rdkit-env/lib/python3.9/site-packages/numpy/core/fromnumeric.py:86: RuntimeWarning: overflow encountered in reduce\n",
      "  return ufunc.reduce(obj, axis, dtype, out, **passkwargs)\n",
      "/home/ss2686/miniconda3/envs/my-rdkit-env/lib/python3.9/site-packages/numpy/core/fromnumeric.py:86: RuntimeWarning: overflow encountered in reduce\n",
      "  return ufunc.reduce(obj, axis, dtype, out, **passkwargs)\n",
      "/home/ss2686/miniconda3/envs/my-rdkit-env/lib/python3.9/site-packages/numpy/core/fromnumeric.py:86: RuntimeWarning: overflow encountered in reduce\n",
      "  return ufunc.reduce(obj, axis, dtype, out, **passkwargs)\n"
     ]
    },
    {
     "name": "stderr",
     "output_type": "stream",
     "text": [
      "\n",
      "                                                                                \n",
      "Processing activities:   0%|                              | 0/1 [00:20<?, ?it/s]\u001b[A\n",
      " 48%|███████████████████▎                    | 561/1163 [00:19<00:18, 33.26it/s]\u001b[A\n",
      "                                                                                \n",
      "Processing activities:   0%|                              | 0/1 [00:20<?, ?it/s]\u001b[A\n",
      "                                                                                \n",
      "Processing activities:   0%|                              | 0/1 [00:20<?, ?it/s]\u001b[A\n",
      "                                                                                \n",
      "Processing activities:   0%|                              | 0/1 [00:20<?, ?it/s]\u001b[A\n",
      "                                                                                \n",
      "Processing activities:   0%|                              | 0/1 [00:20<?, ?it/s]\u001b[A\n",
      "                                                                                \n",
      "Processing activities:   0%|                              | 0/1 [00:20<?, ?it/s]\u001b[A\n",
      "                                                                                \n",
      "Processing activities:   0%|                              | 0/1 [00:20<?, ?it/s]\u001b[A\n",
      "                                                                                \n",
      "Processing activities:   0%|                              | 0/1 [00:20<?, ?it/s]\u001b[A"
     ]
    },
    {
     "name": "stdout",
     "output_type": "stream",
     "text": [
      "/home/ss2686/miniconda3/envs/my-rdkit-env/lib/python3.9/site-packages/numpy/core/fromnumeric.py:86: RuntimeWarning: overflow encountered in reduce\n",
      "  return ufunc.reduce(obj, axis, dtype, out, **passkwargs)\n",
      "/home/ss2686/miniconda3/envs/my-rdkit-env/lib/python3.9/site-packages/numpy/core/fromnumeric.py:86: RuntimeWarning: overflow encountered in reduce\n",
      "  return ufunc.reduce(obj, axis, dtype, out, **passkwargs)\n",
      "/home/ss2686/miniconda3/envs/my-rdkit-env/lib/python3.9/site-packages/numpy/core/fromnumeric.py:86: RuntimeWarning: overflow encountered in reduce\n",
      "  return ufunc.reduce(obj, axis, dtype, out, **passkwargs)\n",
      "/home/ss2686/miniconda3/envs/my-rdkit-env/lib/python3.9/site-packages/numpy/core/fromnumeric.py:86: RuntimeWarning: overflow encountered in reduce\n",
      "  return ufunc.reduce(obj, axis, dtype, out, **passkwargs)\n",
      "/home/ss2686/miniconda3/envs/my-rdkit-env/lib/python3.9/site-packages/numpy/core/fromnumeric.py:86: RuntimeWarning: overflow encountered in reduce\n",
      "  return ufunc.reduce(obj, axis, dtype, out, **passkwargs)\n",
      "/home/ss2686/miniconda3/envs/my-rdkit-env/lib/python3.9/site-packages/numpy/core/fromnumeric.py:86: RuntimeWarning: overflow encountered in reduce\n",
      "  return ufunc.reduce(obj, axis, dtype, out, **passkwargs)\n",
      "/home/ss2686/miniconda3/envs/my-rdkit-env/lib/python3.9/site-packages/numpy/core/fromnumeric.py:86: RuntimeWarning: overflow encountered in reduce\n",
      "  return ufunc.reduce(obj, axis, dtype, out, **passkwargs)\n",
      "/home/ss2686/miniconda3/envs/my-rdkit-env/lib/python3.9/site-packages/numpy/core/fromnumeric.py:86: RuntimeWarning: overflow encountered in reduce\n",
      "  return ufunc.reduce(obj, axis, dtype, out, **passkwargs)\n"
     ]
    },
    {
     "name": "stderr",
     "output_type": "stream",
     "text": [
      "\n",
      "                                                                                \n",
      "Processing activities:   0%|                              | 0/1 [00:28<?, ?it/s]\u001b[A\n",
      " 51%|████████████████████▍                   | 596/1163 [00:28<00:39, 14.44it/s]\u001b[A\n",
      "                                                                                \n",
      "Processing activities:   0%|                              | 0/1 [00:28<?, ?it/s]\u001b[A\n",
      "                                                                                \n",
      "Processing activities:   0%|                              | 0/1 [00:28<?, ?it/s]\u001b[A\n",
      "                                                                                \n",
      "Processing activities:   0%|                              | 0/1 [00:28<?, ?it/s]\u001b[A\n",
      " 57%|██████████████████████▉                 | 667/1163 [00:28<00:22, 22.01it/s]\u001b[A\n",
      "                                                                                \n",
      "Processing activities:   0%|                              | 0/1 [00:28<?, ?it/s]\u001b[A\n",
      "                                                                                \n",
      "Processing activities:   0%|                              | 0/1 [00:28<?, ?it/s]\u001b[A"
     ]
    },
    {
     "name": "stdout",
     "output_type": "stream",
     "text": [
      "/home/ss2686/miniconda3/envs/my-rdkit-env/lib/python3.9/site-packages/numpy/core/fromnumeric.py:86: RuntimeWarning: overflow encountered in reduce\n",
      "  return ufunc.reduce(obj, axis, dtype, out, **passkwargs)\n",
      "/home/ss2686/miniconda3/envs/my-rdkit-env/lib/python3.9/site-packages/numpy/core/fromnumeric.py:86: RuntimeWarning: overflow encountered in reduce\n",
      "  return ufunc.reduce(obj, axis, dtype, out, **passkwargs)\n",
      "/home/ss2686/miniconda3/envs/my-rdkit-env/lib/python3.9/site-packages/numpy/core/fromnumeric.py:86: RuntimeWarning: overflow encountered in reduce\n",
      "  return ufunc.reduce(obj, axis, dtype, out, **passkwargs)\n",
      "/home/ss2686/miniconda3/envs/my-rdkit-env/lib/python3.9/site-packages/numpy/core/fromnumeric.py:86: RuntimeWarning: overflow encountered in reduce\n",
      "  return ufunc.reduce(obj, axis, dtype, out, **passkwargs)\n",
      "/home/ss2686/miniconda3/envs/my-rdkit-env/lib/python3.9/site-packages/numpy/core/fromnumeric.py:86: RuntimeWarning: overflow encountered in reduce\n",
      "  return ufunc.reduce(obj, axis, dtype, out, **passkwargs)\n",
      "/home/ss2686/miniconda3/envs/my-rdkit-env/lib/python3.9/site-packages/numpy/core/fromnumeric.py:86: RuntimeWarning: overflow encountered in reduce\n",
      "  return ufunc.reduce(obj, axis, dtype, out, **passkwargs)\n"
     ]
    },
    {
     "name": "stderr",
     "output_type": "stream",
     "text": [
      "\n",
      " 61%|████████████████████████▎               | 708/1163 [00:29<00:19, 23.00it/s]\u001b[A\n",
      "                                                                                \n",
      "Processing activities:   0%|                              | 0/1 [00:30<?, ?it/s]\u001b[A\n",
      "                                                                                \n",
      "Processing activities:   0%|                              | 0/1 [00:30<?, ?it/s]\u001b[A\n",
      "                                                                                \n",
      "Processing activities:   0%|                              | 0/1 [00:30<?, ?it/s]\u001b[A\n",
      "                                                                                \n",
      "Processing activities:   0%|                              | 0/1 [00:30<?, ?it/s]\u001b[A\n",
      "                                                                                \n",
      "Processing activities:   0%|                              | 0/1 [00:30<?, ?it/s]\u001b[A"
     ]
    },
    {
     "name": "stdout",
     "output_type": "stream",
     "text": [
      "/home/ss2686/miniconda3/envs/my-rdkit-env/lib/python3.9/site-packages/numpy/core/fromnumeric.py:86: RuntimeWarning: overflow encountered in reduce\n",
      "  return ufunc.reduce(obj, axis, dtype, out, **passkwargs)\n",
      "/home/ss2686/miniconda3/envs/my-rdkit-env/lib/python3.9/site-packages/numpy/core/fromnumeric.py:86: RuntimeWarning: overflow encountered in reduce\n",
      "  return ufunc.reduce(obj, axis, dtype, out, **passkwargs)\n",
      "/home/ss2686/miniconda3/envs/my-rdkit-env/lib/python3.9/site-packages/numpy/core/fromnumeric.py:86: RuntimeWarning: overflow encountered in reduce\n",
      "  return ufunc.reduce(obj, axis, dtype, out, **passkwargs)\n",
      "/home/ss2686/miniconda3/envs/my-rdkit-env/lib/python3.9/site-packages/numpy/core/fromnumeric.py:86: RuntimeWarning: overflow encountered in reduce\n",
      "  return ufunc.reduce(obj, axis, dtype, out, **passkwargs)\n",
      "/home/ss2686/miniconda3/envs/my-rdkit-env/lib/python3.9/site-packages/numpy/core/fromnumeric.py:86: RuntimeWarning: overflow encountered in reduce\n",
      "  return ufunc.reduce(obj, axis, dtype, out, **passkwargs)\n"
     ]
    },
    {
     "name": "stderr",
     "output_type": "stream",
     "text": [
      "\n",
      " 67%|██████████████████████████▉             | 784/1163 [00:30<00:11, 31.67it/s]\u001b[A\n",
      "                                                                                \n",
      "Processing activities:   0%|                              | 0/1 [00:40<?, ?it/s]\u001b[A\n",
      " 69%|███████████████████████████▌            | 800/1163 [00:40<00:32, 11.17it/s]\u001b[A\n",
      "                                                                                \n",
      "Processing activities:   0%|                              | 0/1 [00:40<?, ?it/s]\u001b[A\n",
      " 76%|██████████████████████████████▍         | 885/1163 [00:40<00:14, 19.52it/s]\u001b[A\n",
      "                                                                                \n",
      "Processing activities:   0%|                              | 0/1 [00:40<?, ?it/s]\u001b[A"
     ]
    },
    {
     "name": "stdout",
     "output_type": "stream",
     "text": [
      "/home/ss2686/miniconda3/envs/my-rdkit-env/lib/python3.9/site-packages/numpy/core/fromnumeric.py:86: RuntimeWarning: overflow encountered in reduce\n",
      "  return ufunc.reduce(obj, axis, dtype, out, **passkwargs)\n",
      "/home/ss2686/miniconda3/envs/my-rdkit-env/lib/python3.9/site-packages/numpy/core/fromnumeric.py:86: RuntimeWarning: overflow encountered in reduce\n",
      "  return ufunc.reduce(obj, axis, dtype, out, **passkwargs)\n",
      "/home/ss2686/miniconda3/envs/my-rdkit-env/lib/python3.9/site-packages/numpy/core/fromnumeric.py:86: RuntimeWarning: overflow encountered in reduce\n",
      "  return ufunc.reduce(obj, axis, dtype, out, **passkwargs)\n"
     ]
    },
    {
     "name": "stderr",
     "output_type": "stream",
     "text": [
      "\n",
      " 80%|███████████████████████████████▊        | 925/1163 [00:40<00:09, 24.86it/s]\u001b[A\n",
      "                                                                                \n",
      "Processing activities:   0%|                              | 0/1 [00:41<?, ?it/s]\u001b[A\n",
      " 83%|█████████████████████████████████       | 960/1163 [00:40<00:06, 29.80it/s]\u001b[A"
     ]
    },
    {
     "name": "stdout",
     "output_type": "stream",
     "text": [
      "/home/ss2686/miniconda3/envs/my-rdkit-env/lib/python3.9/site-packages/numpy/core/fromnumeric.py:86: RuntimeWarning: overflow encountered in reduce\n",
      "  return ufunc.reduce(obj, axis, dtype, out, **passkwargs)\n"
     ]
    },
    {
     "name": "stderr",
     "output_type": "stream",
     "text": [
      "\n",
      " 83%|█████████████████████████████████       | 962/1163 [00:51<00:06, 29.80it/s]\u001b[A\n",
      "                                                                                \n",
      "Processing activities:   0%|                              | 0/1 [00:52<?, ?it/s]\u001b[A\n",
      " 83%|█████████████████████████████████       | 963/1163 [00:51<00:25,  7.98it/s]\u001b[A\n",
      "                                                                                \n",
      "Processing activities:   0%|                              | 0/1 [00:52<?, ?it/s]\u001b[A"
     ]
    },
    {
     "name": "stdout",
     "output_type": "stream",
     "text": [
      "/home/ss2686/miniconda3/envs/my-rdkit-env/lib/python3.9/site-packages/mordred/_matrix_attributes.py:251: RuntimeWarning: invalid value encountered in double_scalars\n",
      "  s += (eig.vec[i, eig.max] * eig.vec[j, eig.max]) ** -0.5\n",
      "/home/ss2686/miniconda3/envs/my-rdkit-env/lib/python3.9/site-packages/numpy/core/fromnumeric.py:86: RuntimeWarning: overflow encountered in reduce\n",
      "  return ufunc.reduce(obj, axis, dtype, out, **passkwargs)\n"
     ]
    },
    {
     "name": "stderr",
     "output_type": "stream",
     "text": [
      "\n",
      " 84%|█████████████████████████████████▌      | 977/1163 [01:07<00:51,  3.59it/s]\u001b[A\n",
      "                                                                                \n",
      "Processing activities:   0%|                              | 0/1 [01:08<?, ?it/s]\u001b[A\n",
      "                                                                                \n",
      "Processing activities:   0%|                              | 0/1 [01:08<?, ?it/s]\u001b[A\n",
      "                                                                                \n",
      "Processing activities:   0%|                              | 0/1 [01:08<?, ?it/s]\u001b[A\n",
      "                                                                                \n",
      "Processing activities:   0%|                              | 0/1 [01:08<?, ?it/s]\u001b[A\n",
      "                                                                                \n",
      "Processing activities:   0%|                              | 0/1 [01:08<?, ?it/s]\u001b[A\n",
      "                                                                                \n",
      "Processing activities:   0%|                              | 0/1 [01:08<?, ?it/s]\u001b[A"
     ]
    },
    {
     "name": "stdout",
     "output_type": "stream",
     "text": [
      "/home/ss2686/miniconda3/envs/my-rdkit-env/lib/python3.9/site-packages/numpy/core/fromnumeric.py:86: RuntimeWarning: overflow encountered in reduce\n",
      "  return ufunc.reduce(obj, axis, dtype, out, **passkwargs)\n",
      "/home/ss2686/miniconda3/envs/my-rdkit-env/lib/python3.9/site-packages/numpy/core/fromnumeric.py:86: RuntimeWarning: overflow encountered in reduce\n",
      "  return ufunc.reduce(obj, axis, dtype, out, **passkwargs)\n",
      "/home/ss2686/miniconda3/envs/my-rdkit-env/lib/python3.9/site-packages/numpy/core/fromnumeric.py:86: RuntimeWarning: overflow encountered in reduce\n",
      "  return ufunc.reduce(obj, axis, dtype, out, **passkwargs)\n",
      "/home/ss2686/miniconda3/envs/my-rdkit-env/lib/python3.9/site-packages/numpy/core/fromnumeric.py:86: RuntimeWarning: overflow encountered in reduce\n",
      "  return ufunc.reduce(obj, axis, dtype, out, **passkwargs)\n",
      "/home/ss2686/miniconda3/envs/my-rdkit-env/lib/python3.9/site-packages/numpy/core/fromnumeric.py:86: RuntimeWarning: overflow encountered in reduce\n",
      "  return ufunc.reduce(obj, axis, dtype, out, **passkwargs)\n",
      "/home/ss2686/miniconda3/envs/my-rdkit-env/lib/python3.9/site-packages/numpy/core/fromnumeric.py:86: RuntimeWarning: overflow encountered in reduce\n",
      "  return ufunc.reduce(obj, axis, dtype, out, **passkwargs)\n"
     ]
    },
    {
     "name": "stderr",
     "output_type": "stream",
     "text": [
      "\n",
      "100%|███████████████████████████████████████| 1163/1163 [01:09<00:00, 16.76it/s]\u001b[A\n",
      "\n",
      "  0%|                                                    | 0/90 [00:00<?, ?it/s]\u001b[A\n",
      "  1%|▍                                           | 1/90 [00:00<00:54,  1.65it/s]\u001b[A\n",
      "  4%|█▉                                          | 4/90 [00:01<00:19,  4.31it/s]\u001b[A\n",
      "  8%|███▍                                        | 7/90 [00:01<00:15,  5.23it/s]\u001b[A\n",
      "  9%|███▉                                        | 8/90 [00:01<00:17,  4.76it/s]\u001b[A\n",
      " 14%|██████▏                                    | 13/90 [00:02<00:11,  6.42it/s]\u001b[A\n",
      "                                                                                \u001b[A\n",
      "Processing activities:   0%|                              | 0/1 [01:16<?, ?it/s]\n",
      " 63%|███████████████████████████▏               | 57/90 [00:03<00:05,  5.76it/s]\u001b[A\n",
      " 64%|███████████████████████████▋               | 58/90 [00:03<00:01, 28.24it/s]\u001b[A"
     ]
    },
    {
     "name": "stdout",
     "output_type": "stream",
     "text": [
      "/home/ss2686/miniconda3/envs/my-rdkit-env/lib/python3.9/site-packages/numpy/core/fromnumeric.py:86: RuntimeWarning: overflow encountered in reduce\n",
      "  return ufunc.reduce(obj, axis, dtype, out, **passkwargs)\n"
     ]
    },
    {
     "name": "stderr",
     "output_type": "stream",
     "text": [
      "\n",
      "100%|███████████████████████████████████████████| 90/90 [00:03<00:00, 22.51it/s]\u001b[A\n"
     ]
    },
    {
     "name": "stdout",
     "output_type": "stream",
     "text": [
      "n_iterations: 4\n",
      "n_required_iterations: 4\n",
      "n_possible_iterations: 4\n",
      "min_resources_: 20\n",
      "max_resources_: 1163\n",
      "aggressive_elimination: False\n",
      "factor: 3\n",
      "----------\n",
      "iter: 0\n",
      "n_candidates: 58\n",
      "n_resources: 20\n",
      "Fitting 5 folds for each of 58 candidates, totalling 290 fits\n",
      "----------\n",
      "iter: 1\n",
      "n_candidates: 20\n",
      "n_resources: 60\n",
      "Fitting 5 folds for each of 20 candidates, totalling 100 fits\n",
      "----------\n",
      "iter: 2\n",
      "n_candidates: 7\n",
      "n_resources: 180\n",
      "Fitting 5 folds for each of 7 candidates, totalling 35 fits\n",
      "----------\n",
      "iter: 3\n",
      "n_candidates: 3\n",
      "n_resources: 540\n",
      "Fitting 5 folds for each of 3 candidates, totalling 15 fits\n"
     ]
    },
    {
     "name": "stderr",
     "output_type": "stream",
     "text": [
      "Processing activities: 100%|█████████████████████| 1/1 [01:53<00:00, 113.53s/it]\n"
     ]
    },
    {
     "name": "stdout",
     "output_type": "stream",
     "text": [
      "cardiotox_with_sider_actives\n"
     ]
    },
    {
     "name": "stderr",
     "output_type": "stream",
     "text": [
      "Processing activities:   0%|                              | 0/1 [00:00<?, ?it/s]\n",
      "  0%|                                                  | 0/1243 [00:00<?, ?it/s]\u001b[A\n",
      "  0%|                                          | 1/1243 [00:00<06:19,  3.27it/s]\u001b[A\n",
      "                                                                                \u001b[A\n",
      "Processing activities:   0%|                              | 0/1 [00:02<?, ?it/s]\n",
      "  5%|██                                       | 63/1243 [00:01<14:35,  1.35it/s]\u001b[A\n",
      "  6%|██▎                                      | 69/1243 [00:01<00:16, 69.38it/s]\u001b[A"
     ]
    },
    {
     "name": "stdout",
     "output_type": "stream",
     "text": [
      "/home/ss2686/miniconda3/envs/my-rdkit-env/lib/python3.9/site-packages/numpy/core/fromnumeric.py:86: RuntimeWarning: overflow encountered in reduce\n",
      "  return ufunc.reduce(obj, axis, dtype, out, **passkwargs)\n"
     ]
    },
    {
     "name": "stderr",
     "output_type": "stream",
     "text": [
      "\n",
      "  8%|███▏                                    | 100/1243 [00:02<00:20, 56.33it/s]\u001b[A\n",
      "                                                                                \u001b[A\n",
      "Processing activities:   0%|                              | 0/1 [00:03<?, ?it/s]\n",
      " 14%|█████▋                                  | 175/1243 [00:02<00:11, 97.04it/s]\u001b[A"
     ]
    },
    {
     "name": "stdout",
     "output_type": "stream",
     "text": [
      "/home/ss2686/miniconda3/envs/my-rdkit-env/lib/python3.9/site-packages/numpy/core/fromnumeric.py:86: RuntimeWarning: overflow encountered in reduce\n",
      "  return ufunc.reduce(obj, axis, dtype, out, **passkwargs)\n"
     ]
    },
    {
     "name": "stderr",
     "output_type": "stream",
     "text": [
      "                                                                                \n",
      "Processing activities:   0%|                              | 0/1 [00:03<?, ?it/s]\n",
      " 14%|█████▊                                  | 179/1243 [00:02<00:10, 97.04it/s]\u001b[A\n",
      " 15%|█████▊                                  | 181/1243 [00:02<00:11, 94.43it/s]\u001b[A\n",
      " 17%|██████▊                                | 217/1243 [00:02<00:08, 117.92it/s]\u001b[A"
     ]
    },
    {
     "name": "stdout",
     "output_type": "stream",
     "text": [
      "/home/ss2686/miniconda3/envs/my-rdkit-env/lib/python3.9/site-packages/numpy/core/fromnumeric.py:86: RuntimeWarning: overflow encountered in reduce\n",
      "  return ufunc.reduce(obj, axis, dtype, out, **passkwargs)\n"
     ]
    },
    {
     "name": "stderr",
     "output_type": "stream",
     "text": [
      "\n",
      "                                                                                \u001b[A\n",
      "Processing activities:   0%|                              | 0/1 [00:04<?, ?it/s]\n",
      " 21%|████████                               | 256/1243 [00:03<00:08, 122.68it/s]\u001b[A\n",
      " 21%|████████▏                              | 262/1243 [00:03<00:08, 112.76it/s]\u001b[A"
     ]
    },
    {
     "name": "stdout",
     "output_type": "stream",
     "text": [
      "/home/ss2686/miniconda3/envs/my-rdkit-env/lib/python3.9/site-packages/numpy/core/fromnumeric.py:86: RuntimeWarning: overflow encountered in reduce\n",
      "  return ufunc.reduce(obj, axis, dtype, out, **passkwargs)\n"
     ]
    },
    {
     "name": "stderr",
     "output_type": "stream",
     "text": [
      "                                                                                \n",
      "Processing activities:   0%|                              | 0/1 [00:05<?, ?it/s]\n",
      " 22%|████████▋                              | 278/1243 [00:04<00:08, 112.76it/s]\u001b[A\n",
      " 22%|████████▉                               | 279/1243 [00:04<00:20, 47.20it/s]\u001b[A"
     ]
    },
    {
     "name": "stdout",
     "output_type": "stream",
     "text": [
      "/home/ss2686/miniconda3/envs/my-rdkit-env/lib/python3.9/site-packages/numpy/core/fromnumeric.py:86: RuntimeWarning: overflow encountered in reduce\n",
      "  return ufunc.reduce(obj, axis, dtype, out, **passkwargs)\n"
     ]
    },
    {
     "name": "stderr",
     "output_type": "stream",
     "text": [
      "                                                                                \n",
      "Processing activities:   0%|                              | 0/1 [00:06<?, ?it/s]\n",
      " 22%|████████▉                               | 279/1243 [00:05<00:20, 47.20it/s]\u001b[A\n",
      "                                                                                \u001b[A\n",
      "Processing activities:   0%|                              | 0/1 [00:06<?, ?it/s]\n",
      "                                                                                \u001b[A\n",
      "Processing activities:   0%|                              | 0/1 [00:06<?, ?it/s]\n",
      "                                                                                \u001b[A\n",
      "Processing activities:   0%|                              | 0/1 [00:06<?, ?it/s]\n",
      " 26%|██████████▌                             | 328/1243 [00:05<00:26, 34.97it/s]\u001b[A"
     ]
    },
    {
     "name": "stdout",
     "output_type": "stream",
     "text": [
      "/home/ss2686/miniconda3/envs/my-rdkit-env/lib/python3.9/site-packages/numpy/core/fromnumeric.py:86: RuntimeWarning: overflow encountered in reduce\n",
      "  return ufunc.reduce(obj, axis, dtype, out, **passkwargs)\n",
      "/home/ss2686/miniconda3/envs/my-rdkit-env/lib/python3.9/site-packages/numpy/core/fromnumeric.py:86: RuntimeWarning: overflow encountered in reduce\n",
      "  return ufunc.reduce(obj, axis, dtype, out, **passkwargs)\n",
      "/home/ss2686/miniconda3/envs/my-rdkit-env/lib/python3.9/site-packages/numpy/core/fromnumeric.py:86: RuntimeWarning: overflow encountered in reduce\n",
      "  return ufunc.reduce(obj, axis, dtype, out, **passkwargs)\n",
      "/home/ss2686/miniconda3/envs/my-rdkit-env/lib/python3.9/site-packages/numpy/core/fromnumeric.py:86: RuntimeWarning: overflow encountered in reduce\n",
      "  return ufunc.reduce(obj, axis, dtype, out, **passkwargs)\n"
     ]
    },
    {
     "name": "stderr",
     "output_type": "stream",
     "text": [
      "                                                                                \n",
      "Processing activities:   0%|                              | 0/1 [00:10<?, ?it/s]\n",
      "                                                                                \u001b[A\n",
      "Processing activities:   0%|                              | 0/1 [00:10<?, ?it/s]\n",
      " 27%|██████████▋                             | 331/1243 [00:08<00:26, 34.97it/s]\u001b[A\n",
      " 27%|██████████▋                             | 332/1243 [00:08<00:53, 16.88it/s]\u001b[A"
     ]
    },
    {
     "name": "stdout",
     "output_type": "stream",
     "text": [
      "/home/ss2686/miniconda3/envs/my-rdkit-env/lib/python3.9/site-packages/mordred/_matrix_attributes.py:251: RuntimeWarning: invalid value encountered in double_scalars\n",
      "  s += (eig.vec[i, eig.max] * eig.vec[j, eig.max]) ** -0.5\n",
      "/home/ss2686/miniconda3/envs/my-rdkit-env/lib/python3.9/site-packages/numpy/core/fromnumeric.py:86: RuntimeWarning: overflow encountered in reduce\n",
      "  return ufunc.reduce(obj, axis, dtype, out, **passkwargs)\n"
     ]
    },
    {
     "name": "stderr",
     "output_type": "stream",
     "text": [
      "                                                                                \n",
      "Processing activities:   0%|                              | 0/1 [00:16<?, ?it/s]\n",
      " 29%|███████████▍                            | 357/1243 [00:15<00:52, 16.88it/s]\u001b[A\n",
      "                                                                                \u001b[A\n",
      "Processing activities:   0%|                              | 0/1 [00:16<?, ?it/s]\n",
      "                                                                                \u001b[A\n",
      "Processing activities:   0%|                              | 0/1 [00:16<?, ?it/s]\n",
      "                                                                                \u001b[A\n",
      "Processing activities:   0%|                              | 0/1 [00:16<?, ?it/s]\n",
      "                                                                                \u001b[A\n",
      "Processing activities:   0%|                              | 0/1 [00:16<?, ?it/s]\n",
      "                                                                                \u001b[A\n",
      "Processing activities:   0%|                              | 0/1 [00:16<?, ?it/s]\n",
      "                                                                                \u001b[A\n",
      "Processing activities:   0%|                              | 0/1 [00:16<?, ?it/s]\n",
      " 34%|█████████████▋                          | 427/1243 [00:15<01:33,  8.71it/s]\u001b[A"
     ]
    },
    {
     "name": "stdout",
     "output_type": "stream",
     "text": [
      "/home/ss2686/miniconda3/envs/my-rdkit-env/lib/python3.9/site-packages/numpy/core/fromnumeric.py:86: RuntimeWarning: overflow encountered in reduce\n",
      "  return ufunc.reduce(obj, axis, dtype, out, **passkwargs)\n",
      "/home/ss2686/miniconda3/envs/my-rdkit-env/lib/python3.9/site-packages/numpy/core/fromnumeric.py:86: RuntimeWarning: overflow encountered in reduce\n",
      "  return ufunc.reduce(obj, axis, dtype, out, **passkwargs)\n",
      "/home/ss2686/miniconda3/envs/my-rdkit-env/lib/python3.9/site-packages/numpy/core/fromnumeric.py:86: RuntimeWarning: overflow encountered in reduce\n",
      "  return ufunc.reduce(obj, axis, dtype, out, **passkwargs)\n",
      "/home/ss2686/miniconda3/envs/my-rdkit-env/lib/python3.9/site-packages/numpy/core/fromnumeric.py:86: RuntimeWarning: overflow encountered in reduce\n",
      "  return ufunc.reduce(obj, axis, dtype, out, **passkwargs)\n",
      "/home/ss2686/miniconda3/envs/my-rdkit-env/lib/python3.9/site-packages/numpy/core/fromnumeric.py:86: RuntimeWarning: overflow encountered in reduce\n",
      "  return ufunc.reduce(obj, axis, dtype, out, **passkwargs)\n",
      "/home/ss2686/miniconda3/envs/my-rdkit-env/lib/python3.9/site-packages/numpy/core/fromnumeric.py:86: RuntimeWarning: overflow encountered in reduce\n",
      "  return ufunc.reduce(obj, axis, dtype, out, **passkwargs)\n",
      "/home/ss2686/miniconda3/envs/my-rdkit-env/lib/python3.9/site-packages/numpy/core/fromnumeric.py:86: RuntimeWarning: overflow encountered in reduce\n",
      "  return ufunc.reduce(obj, axis, dtype, out, **passkwargs)\n"
     ]
    },
    {
     "name": "stderr",
     "output_type": "stream",
     "text": [
      "                                                                                \n",
      "Processing activities:   0%|                              | 0/1 [00:17<?, ?it/s]\n",
      " 36%|██████████████▎                         | 444/1243 [00:15<01:31,  8.71it/s]\u001b[A\n",
      "                                                                                \u001b[A\n",
      "Processing activities:   0%|                              | 0/1 [00:17<?, ?it/s]\n",
      "                                                                                \u001b[A\n",
      "Processing activities:   0%|                              | 0/1 [00:17<?, ?it/s]\n",
      "                                                                                \u001b[A\n",
      "Processing activities:   0%|                              | 0/1 [00:17<?, ?it/s]\n",
      " 38%|███████████████                         | 468/1243 [00:16<00:39, 19.41it/s]\u001b[A\n",
      " 38%|███████████████                         | 469/1243 [00:16<00:33, 23.20it/s]\u001b[A"
     ]
    },
    {
     "name": "stdout",
     "output_type": "stream",
     "text": [
      "/home/ss2686/miniconda3/envs/my-rdkit-env/lib/python3.9/site-packages/numpy/core/fromnumeric.py:86: RuntimeWarning: overflow encountered in reduce\n",
      "  return ufunc.reduce(obj, axis, dtype, out, **passkwargs)\n",
      "/home/ss2686/miniconda3/envs/my-rdkit-env/lib/python3.9/site-packages/numpy/core/fromnumeric.py:86: RuntimeWarning: overflow encountered in reduce\n",
      "  return ufunc.reduce(obj, axis, dtype, out, **passkwargs)\n",
      "/home/ss2686/miniconda3/envs/my-rdkit-env/lib/python3.9/site-packages/numpy/core/fromnumeric.py:86: RuntimeWarning: overflow encountered in reduce\n",
      "  return ufunc.reduce(obj, axis, dtype, out, **passkwargs)\n",
      "/home/ss2686/miniconda3/envs/my-rdkit-env/lib/python3.9/site-packages/numpy/core/fromnumeric.py:86: RuntimeWarning: overflow encountered in reduce\n",
      "  return ufunc.reduce(obj, axis, dtype, out, **passkwargs)\n"
     ]
    },
    {
     "name": "stderr",
     "output_type": "stream",
     "text": [
      "\n",
      "                                                                                \u001b[A\n",
      "Processing activities:   0%|                              | 0/1 [00:17<?, ?it/s]\n",
      " 40%|███████████████▉                        | 495/1243 [00:16<00:25, 28.91it/s]\u001b[A"
     ]
    },
    {
     "name": "stdout",
     "output_type": "stream",
     "text": [
      "/home/ss2686/miniconda3/envs/my-rdkit-env/lib/python3.9/site-packages/numpy/core/fromnumeric.py:86: RuntimeWarning: overflow encountered in reduce\n",
      "  return ufunc.reduce(obj, axis, dtype, out, **passkwargs)\n"
     ]
    },
    {
     "name": "stderr",
     "output_type": "stream",
     "text": [
      "                                                                                \n",
      "Processing activities:   0%|                              | 0/1 [00:21<?, ?it/s]\n",
      " 43%|█████████████████▏                      | 536/1243 [00:20<00:24, 28.91it/s]\u001b[A\n",
      "                                                                                \u001b[A\n",
      "Processing activities:   0%|                              | 0/1 [00:21<?, ?it/s]\n",
      " 44%|█████████████████▊                      | 552/1243 [00:20<00:38, 17.79it/s]\u001b[A"
     ]
    },
    {
     "name": "stdout",
     "output_type": "stream",
     "text": [
      "/home/ss2686/miniconda3/envs/my-rdkit-env/lib/python3.9/site-packages/numpy/core/fromnumeric.py:86: RuntimeWarning: overflow encountered in reduce\n",
      "  return ufunc.reduce(obj, axis, dtype, out, **passkwargs)\n",
      "/home/ss2686/miniconda3/envs/my-rdkit-env/lib/python3.9/site-packages/numpy/core/fromnumeric.py:86: RuntimeWarning: overflow encountered in reduce\n",
      "  return ufunc.reduce(obj, axis, dtype, out, **passkwargs)\n"
     ]
    },
    {
     "name": "stderr",
     "output_type": "stream",
     "text": [
      "\n",
      "                                                                                \u001b[A\n",
      "Processing activities:   0%|                              | 0/1 [00:30<?, ?it/s]\n",
      "                                                                                \u001b[A\n",
      "Processing activities:   0%|                              | 0/1 [00:30<?, ?it/s]\n",
      "                                                                                \u001b[A\n",
      "Processing activities:   0%|                              | 0/1 [00:30<?, ?it/s]\n",
      " 46%|██████████████████▎                     | 570/1243 [00:29<01:25,  7.83it/s]\u001b[A\n",
      "                                                                                \u001b[A\n",
      "Processing activities:   0%|                              | 0/1 [00:31<?, ?it/s]\n",
      "                                                                                \u001b[A\n",
      "Processing activities:   0%|                              | 0/1 [00:31<?, ?it/s]\n",
      " 49%|███████████████████▋                    | 612/1243 [00:29<00:57, 10.95it/s]\u001b[A"
     ]
    },
    {
     "name": "stdout",
     "output_type": "stream",
     "text": [
      "/home/ss2686/miniconda3/envs/my-rdkit-env/lib/python3.9/site-packages/numpy/core/fromnumeric.py:86: RuntimeWarning: overflow encountered in reduce\n",
      "  return ufunc.reduce(obj, axis, dtype, out, **passkwargs)\n",
      "/home/ss2686/miniconda3/envs/my-rdkit-env/lib/python3.9/site-packages/numpy/core/fromnumeric.py:86: RuntimeWarning: overflow encountered in reduce\n",
      "  return ufunc.reduce(obj, axis, dtype, out, **passkwargs)\n",
      "/home/ss2686/miniconda3/envs/my-rdkit-env/lib/python3.9/site-packages/numpy/core/fromnumeric.py:86: RuntimeWarning: overflow encountered in reduce\n",
      "  return ufunc.reduce(obj, axis, dtype, out, **passkwargs)\n",
      "/home/ss2686/miniconda3/envs/my-rdkit-env/lib/python3.9/site-packages/numpy/core/fromnumeric.py:86: RuntimeWarning: overflow encountered in reduce\n",
      "  return ufunc.reduce(obj, axis, dtype, out, **passkwargs)\n",
      "/home/ss2686/miniconda3/envs/my-rdkit-env/lib/python3.9/site-packages/numpy/core/fromnumeric.py:86: RuntimeWarning: overflow encountered in reduce\n",
      "  return ufunc.reduce(obj, axis, dtype, out, **passkwargs)\n"
     ]
    },
    {
     "name": "stderr",
     "output_type": "stream",
     "text": [
      "                                                                                \n",
      "Processing activities:   0%|                              | 0/1 [00:37<?, ?it/s]\n",
      " 51%|████████████████████▏                   | 628/1243 [00:36<00:56, 10.95it/s]\u001b[A\n",
      "                                                                                \u001b[A\n",
      "Processing activities:   0%|                              | 0/1 [00:37<?, ?it/s]\n",
      "                                                                                \u001b[A\n",
      "Processing activities:   0%|                              | 0/1 [00:37<?, ?it/s]\n",
      "                                                                                \u001b[A\n",
      "Processing activities:   0%|                              | 0/1 [00:37<?, ?it/s]\n",
      " 54%|█████████████████████▋                  | 675/1243 [00:36<01:08,  8.27it/s]\u001b[A\n",
      " 54%|█████████████████████▊                  | 676/1243 [00:36<00:43, 13.07it/s]\u001b[A"
     ]
    },
    {
     "name": "stdout",
     "output_type": "stream",
     "text": [
      "/home/ss2686/miniconda3/envs/my-rdkit-env/lib/python3.9/site-packages/numpy/core/fromnumeric.py:86: RuntimeWarning: overflow encountered in reduce\n",
      "  return ufunc.reduce(obj, axis, dtype, out, **passkwargs)\n",
      "/home/ss2686/miniconda3/envs/my-rdkit-env/lib/python3.9/site-packages/numpy/core/fromnumeric.py:86: RuntimeWarning: overflow encountered in reduce\n",
      "  return ufunc.reduce(obj, axis, dtype, out, **passkwargs)\n",
      "/home/ss2686/miniconda3/envs/my-rdkit-env/lib/python3.9/site-packages/numpy/core/fromnumeric.py:86: RuntimeWarning: overflow encountered in reduce\n",
      "  return ufunc.reduce(obj, axis, dtype, out, **passkwargs)\n",
      "/home/ss2686/miniconda3/envs/my-rdkit-env/lib/python3.9/site-packages/numpy/core/fromnumeric.py:86: RuntimeWarning: overflow encountered in reduce\n",
      "  return ufunc.reduce(obj, axis, dtype, out, **passkwargs)\n"
     ]
    },
    {
     "name": "stderr",
     "output_type": "stream",
     "text": [
      "                                                                                \n",
      "Processing activities:   0%|                              | 0/1 [00:37<?, ?it/s]\n",
      " 57%|██████████████████████▋                 | 704/1243 [00:36<00:41, 13.07it/s]\u001b[A\n",
      "                                                                                \u001b[A\n",
      "Processing activities:   0%|                              | 0/1 [00:38<?, ?it/s]\n",
      "                                                                                \u001b[A\n",
      "Processing activities:   0%|                              | 0/1 [00:38<?, ?it/s]\n",
      " 58%|███████████████████████                 | 715/1243 [00:36<00:32, 16.43it/s]\u001b[A\n",
      "                                                                                \u001b[A\n",
      "Processing activities:   0%|                              | 0/1 [00:38<?, ?it/s]\n",
      "                                                                                \u001b[A\n",
      "Processing activities:   0%|                              | 0/1 [00:38<?, ?it/s]\n",
      "                                                                                \u001b[A\n",
      "Processing activities:   0%|                              | 0/1 [00:38<?, ?it/s]\n",
      "                                                                                \u001b[A\n",
      "Processing activities:   0%|                              | 0/1 [00:38<?, ?it/s]\n",
      "                                                                                \u001b[A\n",
      "Processing activities:   0%|                              | 0/1 [00:38<?, ?it/s]\n",
      "                                                                                \u001b[A\n",
      "Processing activities:   0%|                              | 0/1 [00:38<?, ?it/s]\n",
      " 60%|████████████████████████▏               | 751/1243 [00:37<00:25, 19.45it/s]\u001b[A"
     ]
    },
    {
     "name": "stdout",
     "output_type": "stream",
     "text": [
      "/home/ss2686/miniconda3/envs/my-rdkit-env/lib/python3.9/site-packages/numpy/core/fromnumeric.py:86: RuntimeWarning: overflow encountered in reduce\n",
      "  return ufunc.reduce(obj, axis, dtype, out, **passkwargs)\n",
      "/home/ss2686/miniconda3/envs/my-rdkit-env/lib/python3.9/site-packages/numpy/core/fromnumeric.py:86: RuntimeWarning: overflow encountered in reduce\n",
      "  return ufunc.reduce(obj, axis, dtype, out, **passkwargs)\n",
      "/home/ss2686/miniconda3/envs/my-rdkit-env/lib/python3.9/site-packages/numpy/core/fromnumeric.py:86: RuntimeWarning: overflow encountered in reduce\n",
      "  return ufunc.reduce(obj, axis, dtype, out, **passkwargs)\n",
      "/home/ss2686/miniconda3/envs/my-rdkit-env/lib/python3.9/site-packages/numpy/core/fromnumeric.py:86: RuntimeWarning: overflow encountered in reduce\n",
      "  return ufunc.reduce(obj, axis, dtype, out, **passkwargs)\n",
      "/home/ss2686/miniconda3/envs/my-rdkit-env/lib/python3.9/site-packages/numpy/core/fromnumeric.py:86: RuntimeWarning: overflow encountered in reduce\n",
      "  return ufunc.reduce(obj, axis, dtype, out, **passkwargs)\n",
      "/home/ss2686/miniconda3/envs/my-rdkit-env/lib/python3.9/site-packages/numpy/core/fromnumeric.py:86: RuntimeWarning: overflow encountered in reduce\n",
      "  return ufunc.reduce(obj, axis, dtype, out, **passkwargs)\n",
      "/home/ss2686/miniconda3/envs/my-rdkit-env/lib/python3.9/site-packages/numpy/core/fromnumeric.py:86: RuntimeWarning: overflow encountered in reduce\n",
      "  return ufunc.reduce(obj, axis, dtype, out, **passkwargs)\n",
      "/home/ss2686/miniconda3/envs/my-rdkit-env/lib/python3.9/site-packages/numpy/core/fromnumeric.py:86: RuntimeWarning: overflow encountered in reduce\n",
      "  return ufunc.reduce(obj, axis, dtype, out, **passkwargs)\n",
      "/home/ss2686/miniconda3/envs/my-rdkit-env/lib/python3.9/site-packages/numpy/core/fromnumeric.py:86: RuntimeWarning: overflow encountered in reduce\n",
      "  return ufunc.reduce(obj, axis, dtype, out, **passkwargs)\n"
     ]
    },
    {
     "name": "stderr",
     "output_type": "stream",
     "text": [
      "\n",
      "                                                                                \u001b[A\n",
      "Processing activities:   0%|                              | 0/1 [00:45<?, ?it/s]\n",
      " 62%|████████████████████████▋               | 769/1243 [00:44<00:15, 30.32it/s]\u001b[A\n",
      "                                                                                \u001b[A\n",
      "Processing activities:   0%|                              | 0/1 [00:45<?, ?it/s]\n",
      "                                                                                \u001b[A\n",
      "Processing activities:   0%|                              | 0/1 [00:45<?, ?it/s]\n",
      "                                                                                \u001b[A\n",
      "Processing activities:   0%|                              | 0/1 [00:45<?, ?it/s]\n",
      "                                                                                \u001b[A\n",
      "Processing activities:   0%|                              | 0/1 [00:45<?, ?it/s]\n",
      "                                                                                \u001b[A\n",
      "Processing activities:   0%|                              | 0/1 [00:45<?, ?it/s]\n",
      "                                                                                \u001b[A\n",
      "Processing activities:   0%|                              | 0/1 [00:45<?, ?it/s]\n",
      "                                                                                \u001b[A\n",
      "Processing activities:   0%|                              | 0/1 [00:45<?, ?it/s]\n",
      " 71%|████████████████████████████▍           | 884/1243 [00:44<00:35, 10.07it/s]\u001b[A\n",
      "                                                                                \u001b[A\n",
      "Processing activities:   0%|                              | 0/1 [00:45<?, ?it/s]\n",
      " 73%|█████████████████████████████▏          | 908/1243 [00:44<00:13, 25.14it/s]\u001b[A"
     ]
    },
    {
     "name": "stdout",
     "output_type": "stream",
     "text": [
      "/home/ss2686/miniconda3/envs/my-rdkit-env/lib/python3.9/site-packages/numpy/core/fromnumeric.py:86: RuntimeWarning: overflow encountered in reduce\n",
      "  return ufunc.reduce(obj, axis, dtype, out, **passkwargs)\n",
      "/home/ss2686/miniconda3/envs/my-rdkit-env/lib/python3.9/site-packages/numpy/core/fromnumeric.py:86: RuntimeWarning: overflow encountered in reduce\n",
      "  return ufunc.reduce(obj, axis, dtype, out, **passkwargs)\n",
      "/home/ss2686/miniconda3/envs/my-rdkit-env/lib/python3.9/site-packages/numpy/core/fromnumeric.py:86: RuntimeWarning: overflow encountered in reduce\n",
      "  return ufunc.reduce(obj, axis, dtype, out, **passkwargs)\n",
      "/home/ss2686/miniconda3/envs/my-rdkit-env/lib/python3.9/site-packages/numpy/core/fromnumeric.py:86: RuntimeWarning: overflow encountered in reduce\n",
      "  return ufunc.reduce(obj, axis, dtype, out, **passkwargs)\n",
      "/home/ss2686/miniconda3/envs/my-rdkit-env/lib/python3.9/site-packages/numpy/core/fromnumeric.py:86: RuntimeWarning: overflow encountered in reduce\n",
      "  return ufunc.reduce(obj, axis, dtype, out, **passkwargs)\n",
      "/home/ss2686/miniconda3/envs/my-rdkit-env/lib/python3.9/site-packages/numpy/core/fromnumeric.py:86: RuntimeWarning: overflow encountered in reduce\n",
      "  return ufunc.reduce(obj, axis, dtype, out, **passkwargs)\n",
      "/home/ss2686/miniconda3/envs/my-rdkit-env/lib/python3.9/site-packages/numpy/core/fromnumeric.py:86: RuntimeWarning: overflow encountered in reduce\n",
      "  return ufunc.reduce(obj, axis, dtype, out, **passkwargs)\n",
      "/home/ss2686/miniconda3/envs/my-rdkit-env/lib/python3.9/site-packages/numpy/core/fromnumeric.py:86: RuntimeWarning: overflow encountered in reduce\n",
      "  return ufunc.reduce(obj, axis, dtype, out, **passkwargs)\n",
      "/home/ss2686/miniconda3/envs/my-rdkit-env/lib/python3.9/site-packages/numpy/core/fromnumeric.py:86: RuntimeWarning: overflow encountered in reduce\n",
      "  return ufunc.reduce(obj, axis, dtype, out, **passkwargs)\n"
     ]
    },
    {
     "name": "stderr",
     "output_type": "stream",
     "text": [
      "\n",
      "                                                                                \u001b[A\n",
      "Processing activities:   0%|                              | 0/1 [00:47<?, ?it/s]\n",
      " 77%|██████████████████████████████▉         | 960/1243 [00:46<00:09, 31.22it/s]\u001b[A\n",
      " 78%|███████████████████████████████▎        | 972/1243 [00:46<00:09, 29.16it/s]\u001b[A"
     ]
    },
    {
     "name": "stdout",
     "output_type": "stream",
     "text": [
      "/home/ss2686/miniconda3/envs/my-rdkit-env/lib/python3.9/site-packages/numpy/core/fromnumeric.py:86: RuntimeWarning: overflow encountered in reduce\n",
      "  return ufunc.reduce(obj, axis, dtype, out, **passkwargs)\n"
     ]
    },
    {
     "name": "stderr",
     "output_type": "stream",
     "text": [
      "                                                                                \n",
      "Processing activities:   0%|                              | 0/1 [00:48<?, ?it/s]\n",
      " 80%|████████████████████████████████        | 998/1243 [00:47<00:08, 29.16it/s]\u001b[A\n",
      "                                                                                \u001b[A\n",
      "Processing activities:   0%|                              | 0/1 [00:48<?, ?it/s]\n",
      "                                                                                \u001b[A\n",
      "Processing activities:   0%|                              | 0/1 [00:48<?, ?it/s]\n",
      " 84%|████████████████████████████████▉      | 1048/1243 [00:47<00:06, 30.98it/s]\u001b[A"
     ]
    },
    {
     "name": "stdout",
     "output_type": "stream",
     "text": [
      "/home/ss2686/miniconda3/envs/my-rdkit-env/lib/python3.9/site-packages/numpy/core/fromnumeric.py:86: RuntimeWarning: overflow encountered in reduce\n",
      "  return ufunc.reduce(obj, axis, dtype, out, **passkwargs)\n",
      "/home/ss2686/miniconda3/envs/my-rdkit-env/lib/python3.9/site-packages/numpy/core/fromnumeric.py:86: RuntimeWarning: overflow encountered in reduce\n",
      "  return ufunc.reduce(obj, axis, dtype, out, **passkwargs)\n",
      "/home/ss2686/miniconda3/envs/my-rdkit-env/lib/python3.9/site-packages/numpy/core/fromnumeric.py:86: RuntimeWarning: overflow encountered in reduce\n",
      "  return ufunc.reduce(obj, axis, dtype, out, **passkwargs)\n"
     ]
    },
    {
     "name": "stderr",
     "output_type": "stream",
     "text": [
      "\n",
      " 85%|█████████████████████████████████▏     | 1056/1243 [00:57<00:06, 30.98it/s]\u001b[A\n",
      "                                                                                \u001b[A\n",
      "Processing activities:   0%|                              | 0/1 [00:59<?, ?it/s]\n",
      "                                                                                \u001b[A\n",
      "Processing activities:   0%|                              | 0/1 [00:59<?, ?it/s]\n",
      " 86%|█████████████████████████████████▌     | 1068/1243 [00:58<00:16, 10.76it/s]\u001b[A"
     ]
    },
    {
     "name": "stdout",
     "output_type": "stream",
     "text": [
      "/home/ss2686/miniconda3/envs/my-rdkit-env/lib/python3.9/site-packages/numpy/core/fromnumeric.py:86: RuntimeWarning: overflow encountered in reduce\n",
      "  return ufunc.reduce(obj, axis, dtype, out, **passkwargs)\n",
      "/home/ss2686/miniconda3/envs/my-rdkit-env/lib/python3.9/site-packages/mordred/_matrix_attributes.py:251: RuntimeWarning: invalid value encountered in double_scalars\n",
      "  s += (eig.vec[i, eig.max] * eig.vec[j, eig.max]) ** -0.5\n"
     ]
    },
    {
     "name": "stderr",
     "output_type": "stream",
     "text": [
      "\n",
      "                                                                                \u001b[A\n",
      "Processing activities:   0%|                              | 0/1 [01:01<?, ?it/s]\n",
      "                                                                                \u001b[A\n",
      "Processing activities:   0%|                              | 0/1 [01:01<?, ?it/s]\n",
      "                                                                                \u001b[A\n",
      "Processing activities:   0%|                              | 0/1 [01:01<?, ?it/s]\n",
      "100%|███████████████████████████████████████| 1243/1243 [01:00<00:00, 20.63it/s]\u001b[A\n"
     ]
    },
    {
     "name": "stdout",
     "output_type": "stream",
     "text": [
      "/home/ss2686/miniconda3/envs/my-rdkit-env/lib/python3.9/site-packages/numpy/core/fromnumeric.py:86: RuntimeWarning: overflow encountered in reduce\n",
      "  return ufunc.reduce(obj, axis, dtype, out, **passkwargs)\n",
      "/home/ss2686/miniconda3/envs/my-rdkit-env/lib/python3.9/site-packages/numpy/core/fromnumeric.py:86: RuntimeWarning: overflow encountered in reduce\n",
      "  return ufunc.reduce(obj, axis, dtype, out, **passkwargs)\n",
      "/home/ss2686/miniconda3/envs/my-rdkit-env/lib/python3.9/site-packages/numpy/core/fromnumeric.py:86: RuntimeWarning: overflow encountered in reduce\n",
      "  return ufunc.reduce(obj, axis, dtype, out, **passkwargs)\n"
     ]
    },
    {
     "name": "stderr",
     "output_type": "stream",
     "text": [
      "\n",
      "  0%|                                                    | 0/90 [00:00<?, ?it/s]\u001b[A\n",
      "  1%|▍                                           | 1/90 [00:00<00:38,  2.32it/s]\u001b[A\n",
      "  4%|█▉                                          | 4/90 [00:00<00:11,  7.67it/s]\u001b[A\n",
      "  7%|██▉                                         | 6/90 [00:01<00:17,  4.92it/s]\u001b[A\n",
      " 10%|████▍                                       | 9/90 [00:01<00:09,  8.15it/s]\u001b[A\n",
      " 12%|█████▎                                     | 11/90 [00:02<00:20,  3.87it/s]\u001b[A\n",
      "                                                                                \u001b[A\n",
      "Processing activities:   0%|                              | 0/1 [01:05<?, ?it/s]\n",
      " 46%|███████████████████▌                       | 41/90 [00:02<00:11,  4.35it/s]\u001b[A\n",
      " 89%|██████████████████████████████████████▏    | 80/90 [00:02<00:00, 59.17it/s]\u001b[A"
     ]
    },
    {
     "name": "stdout",
     "output_type": "stream",
     "text": [
      "/home/ss2686/miniconda3/envs/my-rdkit-env/lib/python3.9/site-packages/numpy/core/fromnumeric.py:86: RuntimeWarning: overflow encountered in reduce\n",
      "  return ufunc.reduce(obj, axis, dtype, out, **passkwargs)\n"
     ]
    },
    {
     "name": "stderr",
     "output_type": "stream",
     "text": [
      "100%|███████████████████████████████████████████| 90/90 [00:02<00:00, 30.25it/s]\n"
     ]
    },
    {
     "name": "stdout",
     "output_type": "stream",
     "text": [
      "n_iterations: 4\n",
      "n_required_iterations: 4\n",
      "n_possible_iterations: 4\n",
      "min_resources_: 20\n",
      "max_resources_: 1243\n",
      "aggressive_elimination: False\n",
      "factor: 3\n",
      "----------\n",
      "iter: 0\n",
      "n_candidates: 62\n",
      "n_resources: 20\n",
      "Fitting 5 folds for each of 62 candidates, totalling 310 fits\n",
      "----------\n",
      "iter: 1\n",
      "n_candidates: 21\n",
      "n_resources: 60\n",
      "Fitting 5 folds for each of 21 candidates, totalling 105 fits\n",
      "----------\n",
      "iter: 2\n",
      "n_candidates: 7\n",
      "n_resources: 180\n",
      "Fitting 5 folds for each of 7 candidates, totalling 35 fits\n",
      "----------\n",
      "iter: 3\n",
      "n_candidates: 3\n",
      "n_resources: 540\n",
      "Fitting 5 folds for each of 3 candidates, totalling 15 fits\n"
     ]
    },
    {
     "name": "stderr",
     "output_type": "stream",
     "text": [
      "Processing activities: 100%|█████████████████████| 1/1 [01:43<00:00, 103.49s/it]\n"
     ]
    },
    {
     "name": "stdout",
     "output_type": "stream",
     "text": [
      "cardiotox_with_sider_all\n"
     ]
    },
    {
     "name": "stderr",
     "output_type": "stream",
     "text": [
      "Processing activities:   0%|                              | 0/1 [00:00<?, ?it/s]\n",
      "  0%|                                                  | 0/1476 [00:00<?, ?it/s]\u001b[A\n",
      "  0%|                                          | 1/1476 [00:00<09:54,  2.48it/s]\u001b[A\n",
      "  0%|▏                                         | 7/1476 [00:00<01:24, 17.31it/s]\u001b[A\n",
      "  1%|▎                                        | 11/1476 [00:01<02:22, 10.29it/s]\u001b[A\n",
      "                                                                                \u001b[A\n",
      "Processing activities:   0%|                              | 0/1 [00:03<?, ?it/s]\n",
      "  4%|█▋                                       | 62/1476 [00:02<02:51,  8.23it/s]\u001b[A\n",
      "  5%|█▉                                       | 71/1476 [00:02<00:28, 50.17it/s]\u001b[A"
     ]
    },
    {
     "name": "stdout",
     "output_type": "stream",
     "text": [
      "/home/ss2686/miniconda3/envs/my-rdkit-env/lib/python3.9/site-packages/numpy/core/fromnumeric.py:86: RuntimeWarning: overflow encountered in reduce\n",
      "  return ufunc.reduce(obj, axis, dtype, out, **passkwargs)\n"
     ]
    },
    {
     "name": "stderr",
     "output_type": "stream",
     "text": [
      "\n",
      "  6%|██▍                                      | 88/1476 [00:02<00:31, 44.02it/s]\u001b[A\n",
      "  7%|██▋                                     | 100/1476 [00:03<00:33, 41.03it/s]\u001b[A\n",
      "  8%|███                                     | 115/1476 [00:03<00:26, 51.63it/s]\u001b[A\n",
      "  9%|███▍                                    | 126/1476 [00:03<00:29, 46.33it/s]\u001b[A\n",
      " 10%|███▉                                    | 143/1476 [00:03<00:26, 49.74it/s]\u001b[A\n",
      " 11%|████▏                                   | 156/1476 [00:03<00:24, 53.76it/s]\u001b[A\n",
      "                                                                                \u001b[A\n",
      "Processing activities:   0%|                              | 0/1 [00:05<?, ?it/s]\n",
      " 12%|████▋                                   | 174/1476 [00:04<00:20, 63.89it/s]\u001b[A"
     ]
    },
    {
     "name": "stdout",
     "output_type": "stream",
     "text": [
      "/home/ss2686/miniconda3/envs/my-rdkit-env/lib/python3.9/site-packages/numpy/core/fromnumeric.py:86: RuntimeWarning: overflow encountered in reduce\n",
      "  return ufunc.reduce(obj, axis, dtype, out, **passkwargs)\n"
     ]
    },
    {
     "name": "stderr",
     "output_type": "stream",
     "text": [
      "                                                                                \n",
      "Processing activities:   0%|                              | 0/1 [00:05<?, ?it/s]\n",
      " 12%|████▊                                   | 178/1476 [00:04<00:20, 63.89it/s]\u001b[A\n",
      " 12%|████▉                                   | 180/1476 [00:04<00:34, 37.72it/s]\u001b[A"
     ]
    },
    {
     "name": "stdout",
     "output_type": "stream",
     "text": [
      "/home/ss2686/miniconda3/envs/my-rdkit-env/lib/python3.9/site-packages/numpy/core/fromnumeric.py:86: RuntimeWarning: overflow encountered in reduce\n",
      "  return ufunc.reduce(obj, axis, dtype, out, **passkwargs)\n"
     ]
    },
    {
     "name": "stderr",
     "output_type": "stream",
     "text": [
      "\n",
      "                                                                                \u001b[A\n",
      "Processing activities:   0%|                              | 0/1 [00:06<?, ?it/s]\n",
      " 17%|██████▉                                 | 255/1476 [00:05<00:20, 59.10it/s]\u001b[A\n",
      " 17%|██████▉                                 | 256/1476 [00:05<00:15, 76.72it/s]\u001b[A"
     ]
    },
    {
     "name": "stdout",
     "output_type": "stream",
     "text": [
      "/home/ss2686/miniconda3/envs/my-rdkit-env/lib/python3.9/site-packages/numpy/core/fromnumeric.py:86: RuntimeWarning: overflow encountered in reduce\n",
      "  return ufunc.reduce(obj, axis, dtype, out, **passkwargs)\n"
     ]
    },
    {
     "name": "stderr",
     "output_type": "stream",
     "text": [
      "                                                                                \n",
      "Processing activities:   0%|                              | 0/1 [00:07<?, ?it/s]\n",
      " 19%|███████▌                                | 277/1476 [00:06<00:15, 76.72it/s]\u001b[A\n",
      " 19%|███████▌                                | 278/1476 [00:06<00:30, 39.06it/s]\u001b[A"
     ]
    },
    {
     "name": "stdout",
     "output_type": "stream",
     "text": [
      "/home/ss2686/miniconda3/envs/my-rdkit-env/lib/python3.9/site-packages/numpy/core/fromnumeric.py:86: RuntimeWarning: overflow encountered in reduce\n",
      "  return ufunc.reduce(obj, axis, dtype, out, **passkwargs)\n"
     ]
    },
    {
     "name": "stderr",
     "output_type": "stream",
     "text": [
      "                                                                                \n",
      "Processing activities:   0%|                              | 0/1 [00:08<?, ?it/s]\n",
      " 19%|███████▌                                | 278/1476 [00:07<00:30, 39.06it/s]\u001b[A"
     ]
    },
    {
     "name": "stdout",
     "output_type": "stream",
     "text": [
      "/home/ss2686/miniconda3/envs/my-rdkit-env/lib/python3.9/site-packages/numpy/core/fromnumeric.py:86: RuntimeWarning: overflow encountered in reduce\n",
      "  return ufunc.reduce(obj, axis, dtype, out, **passkwargs)\n"
     ]
    },
    {
     "name": "stderr",
     "output_type": "stream",
     "text": [
      "                                                                                \n",
      "Processing activities:   0%|                              | 0/1 [00:18<?, ?it/s]\n",
      " 19%|███████▋                                | 283/1476 [00:17<00:30, 39.06it/s]\u001b[A\n",
      "                                                                                \u001b[A\n",
      "Processing activities:   0%|                              | 0/1 [00:18<?, ?it/s]\n",
      "                                                                                \u001b[A\n",
      "Processing activities:   0%|                              | 0/1 [00:18<?, ?it/s]\n",
      "                                                                                \u001b[A\n",
      "Processing activities:   0%|                              | 0/1 [00:18<?, ?it/s]\n",
      "                                                                                \u001b[A\n",
      "Processing activities:   0%|                              | 0/1 [00:18<?, ?it/s]\n",
      "                                                                                \u001b[A\n",
      "Processing activities:   0%|                              | 0/1 [00:18<?, ?it/s]\n",
      "                                                                                \u001b[A\n",
      "Processing activities:   0%|                              | 0/1 [00:18<?, ?it/s]\n",
      "                                                                                \u001b[A\n",
      "Processing activities:   0%|                              | 0/1 [00:18<?, ?it/s]\n",
      " 23%|█████████                               | 335/1476 [00:17<03:37,  5.24it/s]\u001b[A\n",
      "                                                                                \u001b[A\n",
      "Processing activities:   0%|                              | 0/1 [00:18<?, ?it/s]\n",
      " 24%|█████████▍                              | 347/1476 [00:17<01:43, 10.88it/s]\u001b[A"
     ]
    },
    {
     "name": "stdout",
     "output_type": "stream",
     "text": [
      "/home/ss2686/miniconda3/envs/my-rdkit-env/lib/python3.9/site-packages/numpy/core/fromnumeric.py:86: RuntimeWarning: overflow encountered in reduce\n",
      "  return ufunc.reduce(obj, axis, dtype, out, **passkwargs)\n",
      "/home/ss2686/miniconda3/envs/my-rdkit-env/lib/python3.9/site-packages/numpy/core/fromnumeric.py:86: RuntimeWarning: overflow encountered in reduce\n",
      "  return ufunc.reduce(obj, axis, dtype, out, **passkwargs)\n",
      "/home/ss2686/miniconda3/envs/my-rdkit-env/lib/python3.9/site-packages/numpy/core/fromnumeric.py:86: RuntimeWarning: overflow encountered in reduce\n",
      "  return ufunc.reduce(obj, axis, dtype, out, **passkwargs)\n",
      "/home/ss2686/miniconda3/envs/my-rdkit-env/lib/python3.9/site-packages/numpy/core/fromnumeric.py:86: RuntimeWarning: overflow encountered in reduce\n",
      "  return ufunc.reduce(obj, axis, dtype, out, **passkwargs)\n",
      "/home/ss2686/miniconda3/envs/my-rdkit-env/lib/python3.9/site-packages/numpy/core/fromnumeric.py:86: RuntimeWarning: overflow encountered in reduce\n",
      "  return ufunc.reduce(obj, axis, dtype, out, **passkwargs)\n",
      "/home/ss2686/miniconda3/envs/my-rdkit-env/lib/python3.9/site-packages/numpy/core/fromnumeric.py:86: RuntimeWarning: overflow encountered in reduce\n",
      "  return ufunc.reduce(obj, axis, dtype, out, **passkwargs)\n",
      "/home/ss2686/miniconda3/envs/my-rdkit-env/lib/python3.9/site-packages/mordred/_matrix_attributes.py:251: RuntimeWarning: invalid value encountered in double_scalars\n",
      "  s += (eig.vec[i, eig.max] * eig.vec[j, eig.max]) ** -0.5\n",
      "/home/ss2686/miniconda3/envs/my-rdkit-env/lib/python3.9/site-packages/numpy/core/fromnumeric.py:86: RuntimeWarning: overflow encountered in reduce\n",
      "  return ufunc.reduce(obj, axis, dtype, out, **passkwargs)\n",
      "/home/ss2686/miniconda3/envs/my-rdkit-env/lib/python3.9/site-packages/numpy/core/fromnumeric.py:86: RuntimeWarning: overflow encountered in reduce\n",
      "  return ufunc.reduce(obj, axis, dtype, out, **passkwargs)\n"
     ]
    },
    {
     "name": "stderr",
     "output_type": "stream",
     "text": [
      "\n",
      "                                                                                \u001b[A\n",
      "Processing activities:   0%|                              | 0/1 [00:19<?, ?it/s]\n",
      " 25%|██████████▏                             | 375/1476 [00:17<01:09, 15.75it/s]\u001b[A\n",
      "                                                                                \u001b[A\n",
      "Processing activities:   0%|                              | 0/1 [00:19<?, ?it/s]\n",
      "                                                                                \u001b[A\r"
     ]
    },
    {
     "name": "stdout",
     "output_type": "stream",
     "text": [
      "/home/ss2686/miniconda3/envs/my-rdkit-env/lib/python3.9/site-packages/numpy/core/fromnumeric.py:86: RuntimeWarning: overflow encountered in reduce\n",
      "  return ufunc.reduce(obj, axis, dtype, out, **passkwargs)\n",
      "/home/ss2686/miniconda3/envs/my-rdkit-env/lib/python3.9/site-packages/numpy/core/fromnumeric.py:86: RuntimeWarning: overflow encountered in reduce\n",
      "  return ufunc.reduce(obj, axis, dtype, out, **passkwargs)\n"
     ]
    },
    {
     "name": "stderr",
     "output_type": "stream",
     "text": [
      "\n",
      "Processing activities:   0%|                              | 0/1 [00:19<?, ?it/s]\n",
      " 28%|███████████                             | 409/1476 [00:18<00:50, 21.24it/s]\u001b[A\n",
      "                                                                                \u001b[A\n",
      "Processing activities:   0%|                              | 0/1 [00:19<?, ?it/s]\n",
      "                                                                                \u001b[A\n",
      "Processing activities:   0%|                              | 0/1 [00:19<?, ?it/s]\n",
      " 29%|███████████▋                            | 430/1476 [00:18<00:40, 25.65it/s]\u001b[A\n",
      " 29%|███████████▋                            | 433/1476 [00:18<00:34, 30.50it/s]\u001b[A"
     ]
    },
    {
     "name": "stdout",
     "output_type": "stream",
     "text": [
      "/home/ss2686/miniconda3/envs/my-rdkit-env/lib/python3.9/site-packages/numpy/core/fromnumeric.py:86: RuntimeWarning: overflow encountered in reduce\n",
      "  return ufunc.reduce(obj, axis, dtype, out, **passkwargs)\n",
      "/home/ss2686/miniconda3/envs/my-rdkit-env/lib/python3.9/site-packages/numpy/core/fromnumeric.py:86: RuntimeWarning: overflow encountered in reduce\n",
      "  return ufunc.reduce(obj, axis, dtype, out, **passkwargs)\n",
      "/home/ss2686/miniconda3/envs/my-rdkit-env/lib/python3.9/site-packages/numpy/core/fromnumeric.py:86: RuntimeWarning: overflow encountered in reduce\n",
      "  return ufunc.reduce(obj, axis, dtype, out, **passkwargs)\n"
     ]
    },
    {
     "name": "stderr",
     "output_type": "stream",
     "text": [
      "                                                                                \n",
      "Processing activities:   0%|                              | 0/1 [00:19<?, ?it/s]\n",
      "                                                                                \u001b[A\n",
      "Processing activities:   0%|                              | 0/1 [00:19<?, ?it/s]\n",
      " 30%|████████████                            | 445/1476 [00:18<00:33, 30.50it/s]\u001b[A\n",
      " 30%|████████████▏                           | 448/1476 [00:18<00:29, 35.09it/s]\u001b[A"
     ]
    },
    {
     "name": "stdout",
     "output_type": "stream",
     "text": [
      "/home/ss2686/miniconda3/envs/my-rdkit-env/lib/python3.9/site-packages/numpy/core/fromnumeric.py:86: RuntimeWarning: overflow encountered in reduce\n",
      "  return ufunc.reduce(obj, axis, dtype, out, **passkwargs)\n",
      "/home/ss2686/miniconda3/envs/my-rdkit-env/lib/python3.9/site-packages/numpy/core/fromnumeric.py:86: RuntimeWarning: overflow encountered in reduce\n",
      "  return ufunc.reduce(obj, axis, dtype, out, **passkwargs)\n"
     ]
    },
    {
     "name": "stderr",
     "output_type": "stream",
     "text": [
      "                                                                                \n",
      "Processing activities:   0%|                              | 0/1 [00:21<?, ?it/s]\n",
      " 31%|████████████▍                           | 460/1476 [00:20<00:28, 35.09it/s]\u001b[A\n",
      " 31%|████████████▍                           | 461/1476 [00:20<00:47, 21.30it/s]\u001b[A"
     ]
    },
    {
     "name": "stdout",
     "output_type": "stream",
     "text": [
      "/home/ss2686/miniconda3/envs/my-rdkit-env/lib/python3.9/site-packages/numpy/core/fromnumeric.py:86: RuntimeWarning: overflow encountered in reduce\n",
      "  return ufunc.reduce(obj, axis, dtype, out, **passkwargs)\n"
     ]
    },
    {
     "name": "stderr",
     "output_type": "stream",
     "text": [
      "                                                                                \n",
      "Processing activities:   0%|                              | 0/1 [00:32<?, ?it/s]\n",
      "                                                                                \u001b[A\n",
      "Processing activities:   0%|                              | 0/1 [00:32<?, ?it/s]\n",
      " 32%|████████████▋                           | 466/1476 [00:30<00:47, 21.30it/s]\u001b[A\n",
      "                                                                                \u001b[A\n",
      "Processing activities:   0%|                              | 0/1 [00:32<?, ?it/s]\n",
      " 33%|█████████████                           | 484/1476 [00:30<04:01,  4.11it/s]\u001b[A"
     ]
    },
    {
     "name": "stdout",
     "output_type": "stream",
     "text": [
      "/home/ss2686/miniconda3/envs/my-rdkit-env/lib/python3.9/site-packages/numpy/core/fromnumeric.py:86: RuntimeWarning: overflow encountered in reduce\n",
      "  return ufunc.reduce(obj, axis, dtype, out, **passkwargs)\n",
      "/home/ss2686/miniconda3/envs/my-rdkit-env/lib/python3.9/site-packages/numpy/core/fromnumeric.py:86: RuntimeWarning: overflow encountered in reduce\n",
      "  return ufunc.reduce(obj, axis, dtype, out, **passkwargs)\n",
      "/home/ss2686/miniconda3/envs/my-rdkit-env/lib/python3.9/site-packages/numpy/core/fromnumeric.py:86: RuntimeWarning: overflow encountered in reduce\n",
      "  return ufunc.reduce(obj, axis, dtype, out, **passkwargs)\n"
     ]
    },
    {
     "name": "stderr",
     "output_type": "stream",
     "text": [
      "                                                                                \n",
      "Processing activities:   0%|                              | 0/1 [00:32<?, ?it/s]\n",
      " 34%|█████████████▍                          | 496/1476 [00:31<03:58,  4.11it/s]\u001b[A\n",
      "                                                                                \u001b[A\n",
      "Processing activities:   0%|                              | 0/1 [00:32<?, ?it/s]\n",
      " 34%|█████████████▌                          | 500/1476 [00:31<02:19,  6.98it/s]\u001b[A\n",
      "                                                                                \u001b[A\n",
      "Processing activities:   0%|                              | 0/1 [00:32<?, ?it/s]\n",
      " 35%|██████████████▏                         | 523/1476 [00:31<01:51,  8.52it/s]\u001b[A"
     ]
    },
    {
     "name": "stdout",
     "output_type": "stream",
     "text": [
      "/home/ss2686/miniconda3/envs/my-rdkit-env/lib/python3.9/site-packages/numpy/core/fromnumeric.py:86: RuntimeWarning: overflow encountered in reduce\n",
      "  return ufunc.reduce(obj, axis, dtype, out, **passkwargs)\n",
      "/home/ss2686/miniconda3/envs/my-rdkit-env/lib/python3.9/site-packages/numpy/core/fromnumeric.py:86: RuntimeWarning: overflow encountered in reduce\n",
      "  return ufunc.reduce(obj, axis, dtype, out, **passkwargs)\n",
      "/home/ss2686/miniconda3/envs/my-rdkit-env/lib/python3.9/site-packages/numpy/core/fromnumeric.py:86: RuntimeWarning: overflow encountered in reduce\n",
      "  return ufunc.reduce(obj, axis, dtype, out, **passkwargs)\n"
     ]
    },
    {
     "name": "stderr",
     "output_type": "stream",
     "text": [
      "\n",
      "                                                                                \u001b[A\n",
      "Processing activities:   0%|                              | 0/1 [00:32<?, ?it/s]\n",
      "                                                                                \u001b[A\n",
      "Processing activities:   0%|                              | 0/1 [00:32<?, ?it/s]\n",
      "                                                                                \u001b[A\n",
      "Processing activities:   0%|                              | 0/1 [00:32<?, ?it/s]\n",
      " 39%|███████████████▋                        | 578/1476 [00:31<01:00, 14.97it/s]\u001b[A\n",
      " 39%|███████████████▋                        | 579/1476 [00:31<00:34, 26.23it/s]\u001b[A"
     ]
    },
    {
     "name": "stdout",
     "output_type": "stream",
     "text": [
      "/home/ss2686/miniconda3/envs/my-rdkit-env/lib/python3.9/site-packages/numpy/core/fromnumeric.py:86: RuntimeWarning: overflow encountered in reduce\n",
      "  return ufunc.reduce(obj, axis, dtype, out, **passkwargs)\n",
      "/home/ss2686/miniconda3/envs/my-rdkit-env/lib/python3.9/site-packages/numpy/core/fromnumeric.py:86: RuntimeWarning: overflow encountered in reduce\n",
      "  return ufunc.reduce(obj, axis, dtype, out, **passkwargs)\n",
      "/home/ss2686/miniconda3/envs/my-rdkit-env/lib/python3.9/site-packages/numpy/core/fromnumeric.py:86: RuntimeWarning: overflow encountered in reduce\n",
      "  return ufunc.reduce(obj, axis, dtype, out, **passkwargs)\n"
     ]
    },
    {
     "name": "stderr",
     "output_type": "stream",
     "text": [
      "\n",
      "                                                                                \u001b[A\n",
      "Processing activities:   0%|                              | 0/1 [00:37<?, ?it/s]\n",
      " 43%|█████████████████▏                      | 636/1476 [00:36<00:38, 22.08it/s]\u001b[A\n",
      " 43%|█████████████████▎                      | 637/1476 [00:36<00:56, 14.96it/s]\u001b[A"
     ]
    },
    {
     "name": "stdout",
     "output_type": "stream",
     "text": [
      "/home/ss2686/miniconda3/envs/my-rdkit-env/lib/python3.9/site-packages/numpy/core/fromnumeric.py:86: RuntimeWarning: overflow encountered in reduce\n",
      "  return ufunc.reduce(obj, axis, dtype, out, **passkwargs)\n"
     ]
    },
    {
     "name": "stderr",
     "output_type": "stream",
     "text": [
      "                                                                                \n",
      "Processing activities:   0%|                              | 0/1 [00:38<?, ?it/s]\n",
      " 44%|█████████████████▍                      | 643/1476 [00:37<00:55, 14.96it/s]\u001b[A\n",
      "                                                                                \u001b[A\n",
      "Processing activities:   0%|                              | 0/1 [00:38<?, ?it/s]\n",
      "                                                                                \u001b[A\n",
      "Processing activities:   0%|                              | 0/1 [00:38<?, ?it/s]\n",
      " 46%|██████████████████▎                     | 674/1476 [00:37<00:54, 14.82it/s]\u001b[A"
     ]
    },
    {
     "name": "stdout",
     "output_type": "stream",
     "text": [
      "/home/ss2686/miniconda3/envs/my-rdkit-env/lib/python3.9/site-packages/numpy/core/fromnumeric.py:86: RuntimeWarning: overflow encountered in reduce\n",
      "  return ufunc.reduce(obj, axis, dtype, out, **passkwargs)\n",
      "/home/ss2686/miniconda3/envs/my-rdkit-env/lib/python3.9/site-packages/numpy/core/fromnumeric.py:86: RuntimeWarning: overflow encountered in reduce\n",
      "  return ufunc.reduce(obj, axis, dtype, out, **passkwargs)\n",
      "/home/ss2686/miniconda3/envs/my-rdkit-env/lib/python3.9/site-packages/numpy/core/fromnumeric.py:86: RuntimeWarning: overflow encountered in reduce\n",
      "  return ufunc.reduce(obj, axis, dtype, out, **passkwargs)\n"
     ]
    },
    {
     "name": "stderr",
     "output_type": "stream",
     "text": [
      "                                                                                \n",
      "Processing activities:   0%|                              | 0/1 [00:39<?, ?it/s]\n",
      " 47%|██████████████████▌                     | 687/1476 [00:38<00:53, 14.82it/s]\u001b[A\n",
      "                                                                                \u001b[A\n",
      "Processing activities:   0%|                              | 0/1 [00:39<?, ?it/s]\n",
      "                                                                                \u001b[A\n",
      "Processing activities:   0%|                              | 0/1 [00:39<?, ?it/s]\n",
      " 48%|███████████████████▎                    | 713/1476 [00:38<00:37, 20.10it/s]\u001b[A\n",
      " 49%|███████████████████▊                    | 729/1476 [00:38<00:23, 31.95it/s]\u001b[A"
     ]
    },
    {
     "name": "stdout",
     "output_type": "stream",
     "text": [
      "/home/ss2686/miniconda3/envs/my-rdkit-env/lib/python3.9/site-packages/numpy/core/fromnumeric.py:86: RuntimeWarning: overflow encountered in reduce\n",
      "  return ufunc.reduce(obj, axis, dtype, out, **passkwargs)\n",
      "/home/ss2686/miniconda3/envs/my-rdkit-env/lib/python3.9/site-packages/numpy/core/fromnumeric.py:86: RuntimeWarning: overflow encountered in reduce\n",
      "  return ufunc.reduce(obj, axis, dtype, out, **passkwargs)\n",
      "/home/ss2686/miniconda3/envs/my-rdkit-env/lib/python3.9/site-packages/numpy/core/fromnumeric.py:86: RuntimeWarning: overflow encountered in reduce\n",
      "  return ufunc.reduce(obj, axis, dtype, out, **passkwargs)\n"
     ]
    },
    {
     "name": "stderr",
     "output_type": "stream",
     "text": [
      "                                                                                \n",
      "Processing activities:   0%|                              | 0/1 [00:41<?, ?it/s]\n",
      "                                                                                \u001b[A\n",
      "Processing activities:   0%|                              | 0/1 [00:41<?, ?it/s]\n",
      " 50%|████████████████████▏                   | 745/1476 [00:40<00:22, 31.95it/s]\u001b[A\n",
      "                                                                                \u001b[A\n",
      "Processing activities:   0%|                              | 0/1 [00:41<?, ?it/s]\n",
      "                                                                                \u001b[A\n",
      "Processing activities:   0%|                              | 0/1 [00:41<?, ?it/s]\n",
      " 54%|█████████████████████▋                  | 800/1476 [00:40<00:31, 21.72it/s]\u001b[A"
     ]
    },
    {
     "name": "stdout",
     "output_type": "stream",
     "text": [
      "/home/ss2686/miniconda3/envs/my-rdkit-env/lib/python3.9/site-packages/numpy/core/fromnumeric.py:86: RuntimeWarning: overflow encountered in reduce\n",
      "  return ufunc.reduce(obj, axis, dtype, out, **passkwargs)\n",
      "/home/ss2686/miniconda3/envs/my-rdkit-env/lib/python3.9/site-packages/numpy/core/fromnumeric.py:86: RuntimeWarning: overflow encountered in reduce\n",
      "  return ufunc.reduce(obj, axis, dtype, out, **passkwargs)\n",
      "/home/ss2686/miniconda3/envs/my-rdkit-env/lib/python3.9/site-packages/numpy/core/fromnumeric.py:86: RuntimeWarning: overflow encountered in reduce\n",
      "  return ufunc.reduce(obj, axis, dtype, out, **passkwargs)\n",
      "/home/ss2686/miniconda3/envs/my-rdkit-env/lib/python3.9/site-packages/numpy/core/fromnumeric.py:86: RuntimeWarning: overflow encountered in reduce\n",
      "  return ufunc.reduce(obj, axis, dtype, out, **passkwargs)\n"
     ]
    },
    {
     "name": "stderr",
     "output_type": "stream",
     "text": [
      "\n",
      "                                                                                \u001b[A\n",
      "Processing activities:   0%|                              | 0/1 [00:45<?, ?it/s]\n",
      "                                                                                \u001b[A\n",
      "Processing activities:   0%|                              | 0/1 [00:45<?, ?it/s]\n",
      "                                                                                \u001b[A\n",
      "Processing activities:   0%|                              | 0/1 [00:45<?, ?it/s]\n",
      "                                                                                \u001b[A\n",
      "Processing activities:   0%|                              | 0/1 [00:45<?, ?it/s]\n",
      "                                                                                \u001b[A\n",
      "Processing activities:   0%|                              | 0/1 [00:45<?, ?it/s]\n",
      " 59%|███████████████████████▌                | 871/1476 [00:44<00:31, 19.40it/s]\u001b[A\n",
      "                                                                                \u001b[A\n",
      "Processing activities:   0%|                              | 0/1 [00:45<?, ?it/s]\n",
      " 61%|████████████████████████▍               | 904/1476 [00:44<00:15, 36.96it/s]\u001b[A"
     ]
    },
    {
     "name": "stdout",
     "output_type": "stream",
     "text": [
      "/home/ss2686/miniconda3/envs/my-rdkit-env/lib/python3.9/site-packages/numpy/core/fromnumeric.py:86: RuntimeWarning: overflow encountered in reduce\n",
      "  return ufunc.reduce(obj, axis, dtype, out, **passkwargs)\n",
      "/home/ss2686/miniconda3/envs/my-rdkit-env/lib/python3.9/site-packages/numpy/core/fromnumeric.py:86: RuntimeWarning: overflow encountered in reduce\n",
      "  return ufunc.reduce(obj, axis, dtype, out, **passkwargs)\n",
      "/home/ss2686/miniconda3/envs/my-rdkit-env/lib/python3.9/site-packages/numpy/core/fromnumeric.py:86: RuntimeWarning: overflow encountered in reduce\n",
      "  return ufunc.reduce(obj, axis, dtype, out, **passkwargs)\n",
      "/home/ss2686/miniconda3/envs/my-rdkit-env/lib/python3.9/site-packages/numpy/core/fromnumeric.py:86: RuntimeWarning: overflow encountered in reduce\n",
      "  return ufunc.reduce(obj, axis, dtype, out, **passkwargs)\n",
      "/home/ss2686/miniconda3/envs/my-rdkit-env/lib/python3.9/site-packages/numpy/core/fromnumeric.py:86: RuntimeWarning: overflow encountered in reduce\n",
      "  return ufunc.reduce(obj, axis, dtype, out, **passkwargs)\n",
      "/home/ss2686/miniconda3/envs/my-rdkit-env/lib/python3.9/site-packages/numpy/core/fromnumeric.py:86: RuntimeWarning: overflow encountered in reduce\n",
      "  return ufunc.reduce(obj, axis, dtype, out, **passkwargs)\n"
     ]
    },
    {
     "name": "stderr",
     "output_type": "stream",
     "text": [
      "                                                                                \n",
      "Processing activities:   0%|                              | 0/1 [00:46<?, ?it/s]\n",
      " 63%|█████████████████████████▍              | 937/1476 [00:45<00:14, 36.96it/s]\u001b[A\n",
      " 64%|█████████████████████████▍              | 938/1476 [00:45<00:15, 35.70it/s]\u001b[A"
     ]
    },
    {
     "name": "stdout",
     "output_type": "stream",
     "text": [
      "/home/ss2686/miniconda3/envs/my-rdkit-env/lib/python3.9/site-packages/numpy/core/fromnumeric.py:86: RuntimeWarning: overflow encountered in reduce\n",
      "  return ufunc.reduce(obj, axis, dtype, out, **passkwargs)\n"
     ]
    },
    {
     "name": "stderr",
     "output_type": "stream",
     "text": [
      "\n",
      "                                                                                \u001b[A\n",
      "Processing activities:   0%|                              | 0/1 [00:56<?, ?it/s]\n",
      "                                                                                \u001b[A\n",
      "Processing activities:   0%|                              | 0/1 [00:56<?, ?it/s]\n",
      " 73%|████████████████████████████▎          | 1071/1476 [00:54<00:37, 10.92it/s]\u001b[A\n",
      "                                                                                \u001b[A\n",
      "Processing activities:   0%|                              | 0/1 [00:56<?, ?it/s]\n",
      " 75%|█████████████████████████████          | 1101/1476 [00:54<00:14, 25.92it/s]\u001b[A"
     ]
    },
    {
     "name": "stdout",
     "output_type": "stream",
     "text": [
      "/home/ss2686/miniconda3/envs/my-rdkit-env/lib/python3.9/site-packages/numpy/core/fromnumeric.py:86: RuntimeWarning: overflow encountered in reduce\n",
      "  return ufunc.reduce(obj, axis, dtype, out, **passkwargs)\n",
      "/home/ss2686/miniconda3/envs/my-rdkit-env/lib/python3.9/site-packages/numpy/core/fromnumeric.py:86: RuntimeWarning: overflow encountered in reduce\n",
      "  return ufunc.reduce(obj, axis, dtype, out, **passkwargs)\n",
      "/home/ss2686/miniconda3/envs/my-rdkit-env/lib/python3.9/site-packages/numpy/core/fromnumeric.py:86: RuntimeWarning: overflow encountered in reduce\n",
      "  return ufunc.reduce(obj, axis, dtype, out, **passkwargs)\n"
     ]
    },
    {
     "name": "stderr",
     "output_type": "stream",
     "text": [
      "                                                                                \n",
      "Processing activities:   0%|                              | 0/1 [00:56<?, ?it/s]\n",
      " 76%|█████████████████████████████▊         | 1126/1476 [00:55<00:13, 25.92it/s]\u001b[A"
     ]
    },
    {
     "name": "stdout",
     "output_type": "stream",
     "text": [
      "/home/ss2686/miniconda3/envs/my-rdkit-env/lib/python3.9/site-packages/numpy/core/fromnumeric.py:86: RuntimeWarning: overflow encountered in reduce\n",
      "  return ufunc.reduce(obj, axis, dtype, out, **passkwargs)\n"
     ]
    },
    {
     "name": "stderr",
     "output_type": "stream",
     "text": [
      "\n",
      "                                                                                \u001b[A\n",
      "Processing activities:   0%|                              | 0/1 [00:57<?, ?it/s]\n",
      " 80%|███████████████████████████████▏       | 1179/1476 [00:56<00:10, 28.11it/s]\u001b[A"
     ]
    },
    {
     "name": "stdout",
     "output_type": "stream",
     "text": [
      "/home/ss2686/miniconda3/envs/my-rdkit-env/lib/python3.9/site-packages/numpy/core/fromnumeric.py:86: RuntimeWarning: overflow encountered in reduce\n",
      "  return ufunc.reduce(obj, axis, dtype, out, **passkwargs)\n"
     ]
    },
    {
     "name": "stderr",
     "output_type": "stream",
     "text": [
      "\n",
      "                                                                                \u001b[A\n",
      "Processing activities:   0%|                              | 0/1 [01:00<?, ?it/s]\n",
      " 82%|███████████████████████████████▉       | 1207/1476 [00:59<00:11, 24.38it/s]\u001b[A\n",
      " 82%|████████████████████████████████▏      | 1216/1476 [00:59<00:09, 27.33it/s]\u001b[A"
     ]
    },
    {
     "name": "stdout",
     "output_type": "stream",
     "text": [
      "/home/ss2686/miniconda3/envs/my-rdkit-env/lib/python3.9/site-packages/mordred/_matrix_attributes.py:251: RuntimeWarning: invalid value encountered in double_scalars\n",
      "  s += (eig.vec[i, eig.max] * eig.vec[j, eig.max]) ** -0.5\n"
     ]
    },
    {
     "name": "stderr",
     "output_type": "stream",
     "text": [
      "                                                                                \n",
      "Processing activities:   0%|                              | 0/1 [01:08<?, ?it/s]\n",
      " 83%|████████████████████████████████▎      | 1222/1476 [01:06<00:09, 27.33it/s]\u001b[A\n",
      "                                                                                \u001b[A\n",
      "Processing activities:   0%|                              | 0/1 [01:08<?, ?it/s]\n",
      "                                                                                \u001b[A\n",
      "Processing activities:   0%|                              | 0/1 [01:08<?, ?it/s]\n",
      "                                                                                \u001b[A\n",
      "Processing activities:   0%|                              | 0/1 [01:08<?, ?it/s]\n",
      " 88%|██████████████████████████████████▏    | 1295/1476 [01:06<00:16, 11.19it/s]\u001b[A"
     ]
    },
    {
     "name": "stdout",
     "output_type": "stream",
     "text": [
      "/home/ss2686/miniconda3/envs/my-rdkit-env/lib/python3.9/site-packages/numpy/core/fromnumeric.py:86: RuntimeWarning: overflow encountered in reduce\n",
      "  return ufunc.reduce(obj, axis, dtype, out, **passkwargs)\n",
      "/home/ss2686/miniconda3/envs/my-rdkit-env/lib/python3.9/site-packages/numpy/core/fromnumeric.py:86: RuntimeWarning: overflow encountered in reduce\n",
      "  return ufunc.reduce(obj, axis, dtype, out, **passkwargs)\n",
      "/home/ss2686/miniconda3/envs/my-rdkit-env/lib/python3.9/site-packages/numpy/core/fromnumeric.py:86: RuntimeWarning: overflow encountered in reduce\n",
      "  return ufunc.reduce(obj, axis, dtype, out, **passkwargs)\n",
      "/home/ss2686/miniconda3/envs/my-rdkit-env/lib/python3.9/site-packages/numpy/core/fromnumeric.py:86: RuntimeWarning: overflow encountered in reduce\n",
      "  return ufunc.reduce(obj, axis, dtype, out, **passkwargs)\n"
     ]
    },
    {
     "name": "stderr",
     "output_type": "stream",
     "text": [
      "\n",
      " 92%|███████████████████████████████████▉   | 1361/1476 [01:09<00:05, 20.62it/s]\u001b[A\n",
      "                                                                                \u001b[A\n",
      "Processing activities:   0%|                              | 0/1 [01:11<?, ?it/s]\n",
      "100%|███████████████████████████████████████| 1476/1476 [01:09<00:00, 21.09it/s]\u001b[A\n"
     ]
    },
    {
     "name": "stdout",
     "output_type": "stream",
     "text": [
      "/home/ss2686/miniconda3/envs/my-rdkit-env/lib/python3.9/site-packages/numpy/core/fromnumeric.py:86: RuntimeWarning: overflow encountered in reduce\n",
      "  return ufunc.reduce(obj, axis, dtype, out, **passkwargs)\n"
     ]
    },
    {
     "name": "stderr",
     "output_type": "stream",
     "text": [
      "\n",
      "  0%|                                                    | 0/90 [00:00<?, ?it/s]\u001b[A\n",
      "  1%|▍                                           | 1/90 [00:00<00:30,  2.94it/s]\u001b[A\n",
      " 11%|████▊                                      | 10/90 [00:00<00:03, 20.23it/s]\u001b[A\n",
      "                                                                                \u001b[A\n",
      "Processing activities:   0%|                              | 0/1 [01:13<?, ?it/s]\n",
      "100%|███████████████████████████████████████████| 90/90 [00:01<00:00, 84.16it/s]\u001b[A\n"
     ]
    },
    {
     "name": "stdout",
     "output_type": "stream",
     "text": [
      "/home/ss2686/miniconda3/envs/my-rdkit-env/lib/python3.9/site-packages/numpy/core/fromnumeric.py:86: RuntimeWarning: overflow encountered in reduce\n",
      "  return ufunc.reduce(obj, axis, dtype, out, **passkwargs)\n",
      "n_iterations: 4\n",
      "n_required_iterations: 4\n",
      "n_possible_iterations: 4\n",
      "min_resources_: 20\n",
      "max_resources_: 1476\n",
      "aggressive_elimination: False\n",
      "factor: 3\n",
      "----------\n",
      "iter: 0\n",
      "n_candidates: 73\n",
      "n_resources: 20\n",
      "Fitting 5 folds for each of 73 candidates, totalling 365 fits\n",
      "----------\n",
      "iter: 1\n",
      "n_candidates: 25\n",
      "n_resources: 60\n",
      "Fitting 5 folds for each of 25 candidates, totalling 125 fits\n",
      "----------\n",
      "iter: 2\n",
      "n_candidates: 9\n",
      "n_resources: 180\n",
      "Fitting 5 folds for each of 9 candidates, totalling 45 fits\n",
      "----------\n",
      "iter: 3\n",
      "n_candidates: 3\n",
      "n_resources: 540\n",
      "Fitting 5 folds for each of 3 candidates, totalling 15 fits\n"
     ]
    },
    {
     "name": "stderr",
     "output_type": "stream",
     "text": [
      "Processing activities: 100%|█████████████████████| 1/1 [01:40<00:00, 100.97s/it]\n"
     ]
    },
    {
     "name": "stdout",
     "output_type": "stream",
     "text": [
      "sider_cardiacdisorders\n"
     ]
    },
    {
     "name": "stderr",
     "output_type": "stream",
     "text": [
      "Processing activities:   0%|                              | 0/1 [00:00<?, ?it/s]\n",
      "  0%|                                                  | 0/1189 [00:00<?, ?it/s]\u001b[A\n",
      "  0%|                                          | 1/1189 [00:00<05:59,  3.30it/s]\u001b[A\n",
      "  1%|▏                                         | 6/1189 [00:00<02:01,  9.73it/s]\u001b[A\n",
      "                                                                                \u001b[A\n",
      "Processing activities:   0%|                              | 0/1 [00:10<?, ?it/s]\n",
      "  2%|▋                                        | 20/1189 [00:09<00:46, 25.18it/s]\u001b[A\n",
      "                                                                                \u001b[A\n",
      "Processing activities:   0%|                              | 0/1 [00:10<?, ?it/s]\n",
      "                                                                                \u001b[A\n",
      "Processing activities:   0%|                              | 0/1 [00:10<?, ?it/s]\n",
      "                                                                                \u001b[A\n",
      "Processing activities:   0%|                              | 0/1 [00:10<?, ?it/s]\n",
      "                                                                                \u001b[A\n",
      "Processing activities:   0%|                              | 0/1 [00:10<?, ?it/s]\n",
      "                                                                                \u001b[A\n",
      "Processing activities:   0%|                              | 0/1 [00:10<?, ?it/s]\n",
      "                                                                                \u001b[A\n",
      "Processing activities:   0%|                              | 0/1 [00:10<?, ?it/s]\n",
      "  8%|███                                      | 90/1189 [00:09<10:15,  1.78it/s]\u001b[A\n",
      "                                                                                \u001b[A\n",
      "Processing activities:   0%|                              | 0/1 [00:10<?, ?it/s]\n",
      "                                                                                \u001b[A\n",
      "Processing activities:   0%|                              | 0/1 [00:10<?, ?it/s]\n",
      "                                                                                \u001b[A\n",
      "Processing activities:   0%|                              | 0/1 [00:10<?, ?it/s]\n",
      "                                                                                \u001b[A\n",
      "Processing activities:   0%|                              | 0/1 [00:10<?, ?it/s]\n",
      " 12%|████▋                                   | 139/1189 [00:09<01:22, 12.68it/s]\u001b[A"
     ]
    },
    {
     "name": "stdout",
     "output_type": "stream",
     "text": [
      "/home/ss2686/miniconda3/envs/my-rdkit-env/lib/python3.9/site-packages/numpy/core/fromnumeric.py:86: RuntimeWarning: overflow encountered in reduce\n",
      "  return ufunc.reduce(obj, axis, dtype, out, **passkwargs)\n",
      "/home/ss2686/miniconda3/envs/my-rdkit-env/lib/python3.9/site-packages/numpy/core/fromnumeric.py:86: RuntimeWarning: overflow encountered in reduce\n",
      "  return ufunc.reduce(obj, axis, dtype, out, **passkwargs)\n",
      "/home/ss2686/miniconda3/envs/my-rdkit-env/lib/python3.9/site-packages/numpy/core/fromnumeric.py:86: RuntimeWarning: overflow encountered in reduce\n",
      "  return ufunc.reduce(obj, axis, dtype, out, **passkwargs)\n",
      "/home/ss2686/miniconda3/envs/my-rdkit-env/lib/python3.9/site-packages/numpy/core/fromnumeric.py:86: RuntimeWarning: overflow encountered in reduce\n",
      "  return ufunc.reduce(obj, axis, dtype, out, **passkwargs)\n",
      "/home/ss2686/miniconda3/envs/my-rdkit-env/lib/python3.9/site-packages/numpy/core/fromnumeric.py:86: RuntimeWarning: overflow encountered in reduce\n",
      "  return ufunc.reduce(obj, axis, dtype, out, **passkwargs)\n",
      "/home/ss2686/miniconda3/envs/my-rdkit-env/lib/python3.9/site-packages/numpy/core/fromnumeric.py:86: RuntimeWarning: overflow encountered in reduce\n",
      "  return ufunc.reduce(obj, axis, dtype, out, **passkwargs)\n",
      "/home/ss2686/miniconda3/envs/my-rdkit-env/lib/python3.9/site-packages/numpy/core/fromnumeric.py:86: RuntimeWarning: overflow encountered in reduce\n",
      "  return ufunc.reduce(obj, axis, dtype, out, **passkwargs)\n",
      "/home/ss2686/miniconda3/envs/my-rdkit-env/lib/python3.9/site-packages/numpy/core/fromnumeric.py:86: RuntimeWarning: overflow encountered in reduce\n",
      "  return ufunc.reduce(obj, axis, dtype, out, **passkwargs)\n",
      "/home/ss2686/miniconda3/envs/my-rdkit-env/lib/python3.9/site-packages/numpy/core/fromnumeric.py:86: RuntimeWarning: overflow encountered in reduce\n",
      "  return ufunc.reduce(obj, axis, dtype, out, **passkwargs)\n",
      "/home/ss2686/miniconda3/envs/my-rdkit-env/lib/python3.9/site-packages/numpy/core/fromnumeric.py:86: RuntimeWarning: overflow encountered in reduce\n",
      "  return ufunc.reduce(obj, axis, dtype, out, **passkwargs)\n",
      "/home/ss2686/miniconda3/envs/my-rdkit-env/lib/python3.9/site-packages/numpy/core/fromnumeric.py:86: RuntimeWarning: overflow encountered in reduce\n",
      "  return ufunc.reduce(obj, axis, dtype, out, **passkwargs)\n"
     ]
    },
    {
     "name": "stderr",
     "output_type": "stream",
     "text": [
      "                                                                                \n",
      "Processing activities:   0%|                              | 0/1 [00:10<?, ?it/s]\n",
      " 13%|█████                                   | 150/1189 [00:09<01:21, 12.68it/s]\u001b[A\n",
      " 14%|█████▍                                  | 161/1189 [00:09<00:36, 28.10it/s]\u001b[A"
     ]
    },
    {
     "name": "stdout",
     "output_type": "stream",
     "text": [
      "/home/ss2686/miniconda3/envs/my-rdkit-env/lib/python3.9/site-packages/numpy/core/fromnumeric.py:86: RuntimeWarning: overflow encountered in reduce\n",
      "  return ufunc.reduce(obj, axis, dtype, out, **passkwargs)\n"
     ]
    },
    {
     "name": "stderr",
     "output_type": "stream",
     "text": [
      "\n",
      "                                                                                \u001b[A\n",
      "Processing activities:   0%|                              | 0/1 [00:37<?, ?it/s]\n",
      " 15%|██████▏                                 | 183/1189 [00:36<00:35, 28.10it/s]\u001b[A\n",
      "                                                                                \u001b[A\n",
      "Processing activities:   0%|                              | 0/1 [00:37<?, ?it/s]\n",
      "                                                                                \u001b[A\n",
      "Processing activities:   0%|                              | 0/1 [00:37<?, ?it/s]\n",
      " 19%|███████▍                                | 221/1189 [00:36<04:24,  3.66it/s]\u001b[A\n",
      "                                                                                \u001b[A\n",
      "Processing activities:   0%|                              | 0/1 [00:37<?, ?it/s]\n",
      "                                                                                \u001b[A\n",
      "Processing activities:   0%|                              | 0/1 [00:37<?, ?it/s]\n",
      " 23%|█████████▎                              | 275/1189 [00:36<02:17,  6.65it/s]\u001b[A"
     ]
    },
    {
     "name": "stdout",
     "output_type": "stream",
     "text": [
      "/home/ss2686/miniconda3/envs/my-rdkit-env/lib/python3.9/site-packages/numpy/core/fromnumeric.py:86: RuntimeWarning: overflow encountered in reduce\n",
      "  return ufunc.reduce(obj, axis, dtype, out, **passkwargs)\n",
      "/home/ss2686/miniconda3/envs/my-rdkit-env/lib/python3.9/site-packages/numpy/core/fromnumeric.py:86: RuntimeWarning: overflow encountered in reduce\n",
      "  return ufunc.reduce(obj, axis, dtype, out, **passkwargs)\n",
      "/home/ss2686/miniconda3/envs/my-rdkit-env/lib/python3.9/site-packages/numpy/core/fromnumeric.py:86: RuntimeWarning: overflow encountered in reduce\n",
      "  return ufunc.reduce(obj, axis, dtype, out, **passkwargs)\n",
      "/home/ss2686/miniconda3/envs/my-rdkit-env/lib/python3.9/site-packages/mordred/_matrix_attributes.py:251: RuntimeWarning: invalid value encountered in double_scalars\n",
      "  s += (eig.vec[i, eig.max] * eig.vec[j, eig.max]) ** -0.5\n",
      "/home/ss2686/miniconda3/envs/my-rdkit-env/lib/python3.9/site-packages/numpy/core/fromnumeric.py:86: RuntimeWarning: overflow encountered in reduce\n",
      "  return ufunc.reduce(obj, axis, dtype, out, **passkwargs)\n"
     ]
    },
    {
     "name": "stderr",
     "output_type": "stream",
     "text": [
      "\n",
      "                                                                                \u001b[A\n",
      "Processing activities:   0%|                              | 0/1 [00:37<?, ?it/s]\n",
      " 27%|██████████▉                             | 325/1189 [00:36<01:14, 11.60it/s]\u001b[A"
     ]
    },
    {
     "name": "stdout",
     "output_type": "stream",
     "text": [
      "/home/ss2686/miniconda3/envs/my-rdkit-env/lib/python3.9/site-packages/numpy/core/fromnumeric.py:86: RuntimeWarning: overflow encountered in reduce\n",
      "  return ufunc.reduce(obj, axis, dtype, out, **passkwargs)\n"
     ]
    },
    {
     "name": "stderr",
     "output_type": "stream",
     "text": [
      "\n",
      "                                                                                \u001b[A\n",
      "Processing activities:   0%|                              | 0/1 [00:54<?, ?it/s]\n",
      " 30%|███████████▉                            | 356/1189 [00:53<01:11, 11.60it/s]\u001b[A\n",
      "                                                                                \u001b[A\n",
      "Processing activities:   0%|                              | 0/1 [00:54<?, ?it/s]\n",
      " 35%|█████████████▉                          | 415/1189 [00:53<02:16,  5.65it/s]\u001b[A\n",
      "                                                                                \u001b[A\n",
      "Processing activities:   0%|                              | 0/1 [00:54<?, ?it/s]\n",
      "                                                                                \u001b[A\n",
      "Processing activities:   0%|                              | 0/1 [00:54<?, ?it/s]\n",
      "                                                                                \u001b[A\n",
      "Processing activities:   0%|                              | 0/1 [00:54<?, ?it/s]\n",
      " 38%|███████████████▏                        | 453/1189 [00:54<01:24,  8.66it/s]\u001b[A"
     ]
    },
    {
     "name": "stdout",
     "output_type": "stream",
     "text": [
      "/home/ss2686/miniconda3/envs/my-rdkit-env/lib/python3.9/site-packages/numpy/core/fromnumeric.py:86: RuntimeWarning: overflow encountered in reduce\n",
      "  return ufunc.reduce(obj, axis, dtype, out, **passkwargs)\n",
      "/home/ss2686/miniconda3/envs/my-rdkit-env/lib/python3.9/site-packages/numpy/core/fromnumeric.py:86: RuntimeWarning: overflow encountered in reduce\n",
      "  return ufunc.reduce(obj, axis, dtype, out, **passkwargs)\n",
      "/home/ss2686/miniconda3/envs/my-rdkit-env/lib/python3.9/site-packages/numpy/core/fromnumeric.py:86: RuntimeWarning: overflow encountered in reduce\n",
      "  return ufunc.reduce(obj, axis, dtype, out, **passkwargs)\n",
      "/home/ss2686/miniconda3/envs/my-rdkit-env/lib/python3.9/site-packages/numpy/core/fromnumeric.py:86: RuntimeWarning: overflow encountered in reduce\n",
      "  return ufunc.reduce(obj, axis, dtype, out, **passkwargs)\n",
      "/home/ss2686/miniconda3/envs/my-rdkit-env/lib/python3.9/site-packages/numpy/core/fromnumeric.py:86: RuntimeWarning: overflow encountered in reduce\n",
      "  return ufunc.reduce(obj, axis, dtype, out, **passkwargs)\n"
     ]
    },
    {
     "name": "stderr",
     "output_type": "stream",
     "text": [
      "                                                                                \n",
      "Processing activities:   0%|                              | 0/1 [00:54<?, ?it/s]\n",
      " 40%|███████████████▉                        | 475/1189 [00:54<01:22,  8.66it/s]\u001b[A\n",
      "                                                                                \u001b[A\n",
      "Processing activities:   0%|                              | 0/1 [00:55<?, ?it/s]\n",
      "                                                                                \u001b[A\n",
      "Processing activities:   0%|                              | 0/1 [00:55<?, ?it/s]\n",
      "                                                                                \u001b[A\n",
      "Processing activities:   0%|                              | 0/1 [00:55<?, ?it/s]\n",
      " 43%|█████████████████▏                      | 512/1189 [00:54<00:52, 12.98it/s]\u001b[A"
     ]
    },
    {
     "name": "stdout",
     "output_type": "stream",
     "text": [
      "/home/ss2686/miniconda3/envs/my-rdkit-env/lib/python3.9/site-packages/numpy/core/fromnumeric.py:86: RuntimeWarning: overflow encountered in reduce\n",
      "  return ufunc.reduce(obj, axis, dtype, out, **passkwargs)\n",
      "/home/ss2686/miniconda3/envs/my-rdkit-env/lib/python3.9/site-packages/numpy/core/fromnumeric.py:86: RuntimeWarning: overflow encountered in reduce\n",
      "  return ufunc.reduce(obj, axis, dtype, out, **passkwargs)\n",
      "/home/ss2686/miniconda3/envs/my-rdkit-env/lib/python3.9/site-packages/numpy/core/fromnumeric.py:86: RuntimeWarning: overflow encountered in reduce\n",
      "  return ufunc.reduce(obj, axis, dtype, out, **passkwargs)\n",
      "/home/ss2686/miniconda3/envs/my-rdkit-env/lib/python3.9/site-packages/numpy/core/fromnumeric.py:86: RuntimeWarning: overflow encountered in reduce\n",
      "  return ufunc.reduce(obj, axis, dtype, out, **passkwargs)\n"
     ]
    },
    {
     "name": "stderr",
     "output_type": "stream",
     "text": [
      "                                                                                \n",
      "Processing activities:   0%|                              | 0/1 [00:58<?, ?it/s]\n",
      "                                                                                \u001b[A\n",
      "Processing activities:   0%|                              | 0/1 [00:58<?, ?it/s]\n",
      " 44%|█████████████████▍                      | 520/1189 [00:57<00:51, 12.98it/s]\u001b[A\n",
      "                                                                                \u001b[A\n",
      "Processing activities:   0%|                              | 0/1 [00:58<?, ?it/s]\n",
      "                                                                                \u001b[A\n",
      "Processing activities:   0%|                              | 0/1 [00:58<?, ?it/s]\n",
      "                                                                                \u001b[A\n",
      "Processing activities:   0%|                              | 0/1 [00:58<?, ?it/s]\n",
      " 49%|███████████████████▌                    | 581/1189 [00:57<00:43, 13.84it/s]\u001b[A"
     ]
    },
    {
     "name": "stdout",
     "output_type": "stream",
     "text": [
      "/home/ss2686/miniconda3/envs/my-rdkit-env/lib/python3.9/site-packages/numpy/core/fromnumeric.py:86: RuntimeWarning: overflow encountered in reduce\n",
      "  return ufunc.reduce(obj, axis, dtype, out, **passkwargs)\n",
      "/home/ss2686/miniconda3/envs/my-rdkit-env/lib/python3.9/site-packages/numpy/core/fromnumeric.py:86: RuntimeWarning: overflow encountered in reduce\n",
      "  return ufunc.reduce(obj, axis, dtype, out, **passkwargs)\n",
      "/home/ss2686/miniconda3/envs/my-rdkit-env/lib/python3.9/site-packages/numpy/core/fromnumeric.py:86: RuntimeWarning: overflow encountered in reduce\n",
      "  return ufunc.reduce(obj, axis, dtype, out, **passkwargs)\n",
      "/home/ss2686/miniconda3/envs/my-rdkit-env/lib/python3.9/site-packages/numpy/core/fromnumeric.py:86: RuntimeWarning: overflow encountered in reduce\n",
      "  return ufunc.reduce(obj, axis, dtype, out, **passkwargs)\n",
      "/home/ss2686/miniconda3/envs/my-rdkit-env/lib/python3.9/site-packages/numpy/core/fromnumeric.py:86: RuntimeWarning: overflow encountered in reduce\n",
      "  return ufunc.reduce(obj, axis, dtype, out, **passkwargs)\n"
     ]
    },
    {
     "name": "stderr",
     "output_type": "stream",
     "text": [
      "                                                                                \n",
      "Processing activities:   0%|                              | 0/1 [00:58<?, ?it/s]\n",
      " 51%|████████████████████▎                   | 602/1189 [00:58<00:42, 13.84it/s]\u001b[A\n",
      "                                                                                \u001b[A\n",
      "Processing activities:   0%|                              | 0/1 [00:59<?, ?it/s]\n",
      "                                                                                \u001b[A\n",
      "Processing activities:   0%|                              | 0/1 [00:59<?, ?it/s]\n",
      " 55%|█████████████████████▊                  | 650/1189 [00:58<00:26, 20.35it/s]\u001b[A"
     ]
    },
    {
     "name": "stdout",
     "output_type": "stream",
     "text": [
      "/home/ss2686/miniconda3/envs/my-rdkit-env/lib/python3.9/site-packages/numpy/core/fromnumeric.py:86: RuntimeWarning: overflow encountered in reduce\n",
      "  return ufunc.reduce(obj, axis, dtype, out, **passkwargs)\n",
      "/home/ss2686/miniconda3/envs/my-rdkit-env/lib/python3.9/site-packages/numpy/core/fromnumeric.py:86: RuntimeWarning: overflow encountered in reduce\n",
      "  return ufunc.reduce(obj, axis, dtype, out, **passkwargs)\n",
      "/home/ss2686/miniconda3/envs/my-rdkit-env/lib/python3.9/site-packages/numpy/core/fromnumeric.py:86: RuntimeWarning: overflow encountered in reduce\n",
      "  return ufunc.reduce(obj, axis, dtype, out, **passkwargs)\n"
     ]
    },
    {
     "name": "stderr",
     "output_type": "stream",
     "text": [
      "                                                                                \n",
      "Processing activities:   0%|                              | 0/1 [01:00<?, ?it/s]\n",
      " 56%|██████████████████████▏                 | 661/1189 [00:59<00:25, 20.35it/s]\u001b[A\n",
      " 56%|██████████████████████▎                 | 662/1189 [00:59<00:22, 23.80it/s]\u001b[A"
     ]
    },
    {
     "name": "stdout",
     "output_type": "stream",
     "text": [
      "/home/ss2686/miniconda3/envs/my-rdkit-env/lib/python3.9/site-packages/numpy/core/fromnumeric.py:86: RuntimeWarning: overflow encountered in reduce\n",
      "  return ufunc.reduce(obj, axis, dtype, out, **passkwargs)\n"
     ]
    },
    {
     "name": "stderr",
     "output_type": "stream",
     "text": [
      "                                                                                \n",
      "Processing activities:   0%|                              | 0/1 [01:02<?, ?it/s]\n",
      " 57%|██████████████████████▉                 | 681/1189 [01:01<00:21, 23.80it/s]\u001b[A\n",
      " 58%|███████████████████████                 | 684/1189 [01:01<00:24, 20.29it/s]\u001b[A"
     ]
    },
    {
     "name": "stdout",
     "output_type": "stream",
     "text": [
      "/home/ss2686/miniconda3/envs/my-rdkit-env/lib/python3.9/site-packages/mordred/_matrix_attributes.py:251: RuntimeWarning: invalid value encountered in double_scalars\n",
      "  s += (eig.vec[i, eig.max] * eig.vec[j, eig.max]) ** -0.5\n"
     ]
    },
    {
     "name": "stderr",
     "output_type": "stream",
     "text": [
      "\n",
      "                                                                                \u001b[A\n",
      "Processing activities:   0%|                              | 0/1 [01:04<?, ?it/s]\n",
      "                                                                                \u001b[A\n",
      "Processing activities:   0%|                              | 0/1 [01:04<?, ?it/s]\n",
      "                                                                                \u001b[A\n",
      "Processing activities:   0%|                              | 0/1 [01:04<?, ?it/s]\n",
      "                                                                                \u001b[A\n",
      "Processing activities:   0%|                              | 0/1 [01:04<?, ?it/s]\n",
      "                                                                                \u001b[A\n",
      "Processing activities:   0%|                              | 0/1 [01:04<?, ?it/s]\n",
      " 68%|███████████████████████████▏            | 810/1189 [01:03<00:18, 21.03it/s]\u001b[A"
     ]
    },
    {
     "name": "stdout",
     "output_type": "stream",
     "text": [
      "/home/ss2686/miniconda3/envs/my-rdkit-env/lib/python3.9/site-packages/numpy/core/fromnumeric.py:86: RuntimeWarning: overflow encountered in reduce\n",
      "  return ufunc.reduce(obj, axis, dtype, out, **passkwargs)\n",
      "/home/ss2686/miniconda3/envs/my-rdkit-env/lib/python3.9/site-packages/numpy/core/fromnumeric.py:86: RuntimeWarning: overflow encountered in reduce\n",
      "  return ufunc.reduce(obj, axis, dtype, out, **passkwargs)\n",
      "/home/ss2686/miniconda3/envs/my-rdkit-env/lib/python3.9/site-packages/numpy/core/fromnumeric.py:86: RuntimeWarning: overflow encountered in reduce\n",
      "  return ufunc.reduce(obj, axis, dtype, out, **passkwargs)\n",
      "/home/ss2686/miniconda3/envs/my-rdkit-env/lib/python3.9/site-packages/numpy/core/fromnumeric.py:86: RuntimeWarning: overflow encountered in reduce\n",
      "  return ufunc.reduce(obj, axis, dtype, out, **passkwargs)\n",
      "/home/ss2686/miniconda3/envs/my-rdkit-env/lib/python3.9/site-packages/numpy/core/fromnumeric.py:86: RuntimeWarning: overflow encountered in reduce\n",
      "  return ufunc.reduce(obj, axis, dtype, out, **passkwargs)\n"
     ]
    },
    {
     "name": "stderr",
     "output_type": "stream",
     "text": [
      "\n",
      "                                                                                \u001b[A\n",
      "Processing activities:   0%|                              | 0/1 [01:05<?, ?it/s]\n",
      "                                                                                \u001b[A\n",
      "Processing activities:   0%|                              | 0/1 [01:05<?, ?it/s]\n",
      "                                                                                \u001b[A\n",
      "Processing activities:   0%|                              | 0/1 [01:05<?, ?it/s]\n",
      "                                                                                \u001b[A\n",
      "Processing activities:   0%|                              | 0/1 [01:05<?, ?it/s]\n",
      " 71%|████████████████████████████▌           | 848/1189 [01:04<00:10, 33.62it/s]\u001b[A\n",
      " 77%|██████████████████████████████▋         | 914/1189 [01:04<00:04, 56.33it/s]\u001b[A"
     ]
    },
    {
     "name": "stdout",
     "output_type": "stream",
     "text": [
      "/home/ss2686/miniconda3/envs/my-rdkit-env/lib/python3.9/site-packages/numpy/core/fromnumeric.py:86: RuntimeWarning: overflow encountered in reduce\n",
      "  return ufunc.reduce(obj, axis, dtype, out, **passkwargs)\n",
      "/home/ss2686/miniconda3/envs/my-rdkit-env/lib/python3.9/site-packages/numpy/core/fromnumeric.py:86: RuntimeWarning: overflow encountered in reduce\n",
      "  return ufunc.reduce(obj, axis, dtype, out, **passkwargs)\n",
      "/home/ss2686/miniconda3/envs/my-rdkit-env/lib/python3.9/site-packages/numpy/core/fromnumeric.py:86: RuntimeWarning: overflow encountered in reduce\n",
      "  return ufunc.reduce(obj, axis, dtype, out, **passkwargs)\n",
      "/home/ss2686/miniconda3/envs/my-rdkit-env/lib/python3.9/site-packages/numpy/core/fromnumeric.py:86: RuntimeWarning: overflow encountered in reduce\n",
      "  return ufunc.reduce(obj, axis, dtype, out, **passkwargs)\n"
     ]
    },
    {
     "name": "stderr",
     "output_type": "stream",
     "text": [
      "                                                                                \n",
      "Processing activities:   0%|                              | 0/1 [01:12<?, ?it/s]\n",
      " 80%|████████████████████████████████▏       | 955/1189 [01:12<00:04, 56.33it/s]\u001b[A\n",
      " 80%|████████████████████████████████▏       | 956/1189 [01:12<00:12, 19.41it/s]\u001b[A"
     ]
    },
    {
     "name": "stdout",
     "output_type": "stream",
     "text": [
      "/home/ss2686/miniconda3/envs/my-rdkit-env/lib/python3.9/site-packages/numpy/core/fromnumeric.py:86: RuntimeWarning: overflow encountered in reduce\n",
      "  return ufunc.reduce(obj, axis, dtype, out, **passkwargs)\n"
     ]
    },
    {
     "name": "stderr",
     "output_type": "stream",
     "text": [
      "                                                                                \n",
      "Processing activities:   0%|                              | 0/1 [01:16<?, ?it/s]\n",
      " 84%|█████████████████████████████████▍      | 994/1189 [01:15<00:10, 19.41it/s]\u001b[A\n",
      "                                                                                \u001b[A\n",
      "Processing activities:   0%|                              | 0/1 [01:16<?, ?it/s]\n",
      "                                                                                \u001b[A\n",
      "Processing activities:   0%|                              | 0/1 [01:16<?, ?it/s]\n",
      "                                                                                \u001b[A\n",
      "Processing activities:   0%|                              | 0/1 [01:16<?, ?it/s]\n",
      " 97%|█████████████████████████████████████▉ | 1156/1189 [01:15<00:01, 16.98it/s]\u001b[A\n",
      " 97%|█████████████████████████████████████▉ | 1158/1189 [01:15<00:00, 37.85it/s]\u001b[A"
     ]
    },
    {
     "name": "stdout",
     "output_type": "stream",
     "text": [
      "/home/ss2686/miniconda3/envs/my-rdkit-env/lib/python3.9/site-packages/numpy/core/fromnumeric.py:86: RuntimeWarning: overflow encountered in reduce\n",
      "  return ufunc.reduce(obj, axis, dtype, out, **passkwargs)\n",
      "/home/ss2686/miniconda3/envs/my-rdkit-env/lib/python3.9/site-packages/numpy/core/fromnumeric.py:86: RuntimeWarning: overflow encountered in reduce\n",
      "  return ufunc.reduce(obj, axis, dtype, out, **passkwargs)\n",
      "/home/ss2686/miniconda3/envs/my-rdkit-env/lib/python3.9/site-packages/numpy/core/fromnumeric.py:86: RuntimeWarning: overflow encountered in reduce\n",
      "  return ufunc.reduce(obj, axis, dtype, out, **passkwargs)\n",
      "/home/ss2686/miniconda3/envs/my-rdkit-env/lib/python3.9/site-packages/numpy/core/fromnumeric.py:86: RuntimeWarning: overflow encountered in reduce\n",
      "  return ufunc.reduce(obj, axis, dtype, out, **passkwargs)\n"
     ]
    },
    {
     "name": "stderr",
     "output_type": "stream",
     "text": [
      "                                                                                \n",
      "Processing activities:   0%|                              | 0/1 [01:17<?, ?it/s]\n",
      " 97%|█████████████████████████████████████▉ | 1158/1189 [01:16<00:00, 37.85it/s]\u001b[A"
     ]
    },
    {
     "name": "stdout",
     "output_type": "stream",
     "text": [
      "/home/ss2686/miniconda3/envs/my-rdkit-env/lib/python3.9/site-packages/numpy/core/fromnumeric.py:86: RuntimeWarning: overflow encountered in reduce\n",
      "  return ufunc.reduce(obj, axis, dtype, out, **passkwargs)\n"
     ]
    },
    {
     "name": "stderr",
     "output_type": "stream",
     "text": [
      "100%|███████████████████████████████████████| 1189/1189 [01:16<00:00, 15.52it/s]\n",
      "\n",
      "  0%|                                                   | 0/133 [00:00<?, ?it/s]\u001b[A\n",
      "  1%|▎                                          | 1/133 [00:00<00:19,  6.90it/s]\u001b[A\n",
      "  2%|▋                                          | 2/133 [00:00<00:46,  2.81it/s]\u001b[A\n",
      "                                                                                \u001b[A\n",
      "Processing activities:   0%|                              | 0/1 [01:19<?, ?it/s]\n",
      " 37%|███████████████▍                          | 49/133 [00:00<00:01, 63.95it/s]\u001b[A\n",
      "                                                                                \u001b[A\n",
      "Processing activities:   0%|                              | 0/1 [01:19<?, ?it/s]\n",
      " 40%|████████████████▋                         | 53/133 [00:00<00:01, 67.76it/s]\u001b[A"
     ]
    },
    {
     "name": "stdout",
     "output_type": "stream",
     "text": [
      "/home/ss2686/miniconda3/envs/my-rdkit-env/lib/python3.9/site-packages/numpy/core/fromnumeric.py:86: RuntimeWarning: overflow encountered in reduce\n",
      "  return ufunc.reduce(obj, axis, dtype, out, **passkwargs)\n",
      "/home/ss2686/miniconda3/envs/my-rdkit-env/lib/python3.9/site-packages/numpy/core/fromnumeric.py:86: RuntimeWarning: overflow encountered in reduce\n",
      "  return ufunc.reduce(obj, axis, dtype, out, **passkwargs)\n"
     ]
    },
    {
     "name": "stderr",
     "output_type": "stream",
     "text": [
      "                                                                                \n",
      "Processing activities:   0%|                              | 0/1 [01:21<?, ?it/s]\n",
      " 43%|██████████████████                        | 57/133 [00:02<00:01, 67.76it/s]\u001b[A\n",
      "                                                                                \u001b[A\n",
      "Processing activities:   0%|                              | 0/1 [01:21<?, ?it/s]\n",
      "                                                                                \u001b[A\n",
      "Processing activities:   0%|                              | 0/1 [01:21<?, ?it/s]\n",
      " 50%|████████████████████▊                     | 66/133 [00:02<00:03, 19.68it/s]\u001b[A"
     ]
    },
    {
     "name": "stdout",
     "output_type": "stream",
     "text": [
      "/home/ss2686/miniconda3/envs/my-rdkit-env/lib/python3.9/site-packages/numpy/core/fromnumeric.py:86: RuntimeWarning: overflow encountered in reduce\n",
      "  return ufunc.reduce(obj, axis, dtype, out, **passkwargs)\n",
      "/home/ss2686/miniconda3/envs/my-rdkit-env/lib/python3.9/site-packages/numpy/core/fromnumeric.py:86: RuntimeWarning: overflow encountered in reduce\n",
      "  return ufunc.reduce(obj, axis, dtype, out, **passkwargs)\n",
      "/home/ss2686/miniconda3/envs/my-rdkit-env/lib/python3.9/site-packages/numpy/core/fromnumeric.py:86: RuntimeWarning: overflow encountered in reduce\n",
      "  return ufunc.reduce(obj, axis, dtype, out, **passkwargs)\n"
     ]
    },
    {
     "name": "stderr",
     "output_type": "stream",
     "text": [
      "                                                                                \n",
      "Processing activities:   0%|                              | 0/1 [01:29<?, ?it/s]\n",
      " 56%|███████████████████████▋                  | 75/133 [00:11<00:02, 19.68it/s]\u001b[A\n",
      "                                                                                \u001b[A\n",
      "Processing activities:   0%|                              | 0/1 [01:29<?, ?it/s]\n",
      "                                                                                \u001b[A\n",
      "Processing activities:   0%|                              | 0/1 [01:29<?, ?it/s]\n",
      "                                                                                \u001b[A\n",
      "Processing activities:   0%|                              | 0/1 [01:29<?, ?it/s]\n",
      "                                                                                \u001b[A\n",
      "Processing activities:   0%|                              | 0/1 [01:29<?, ?it/s]\n",
      "                                                                                \u001b[A\n",
      "Processing activities:   0%|                              | 0/1 [01:29<?, ?it/s]\n",
      "100%|█████████████████████████████████████████| 133/133 [00:11<00:00, 12.01it/s]\u001b[A\n"
     ]
    },
    {
     "name": "stdout",
     "output_type": "stream",
     "text": [
      "/home/ss2686/miniconda3/envs/my-rdkit-env/lib/python3.9/site-packages/numpy/core/fromnumeric.py:86: RuntimeWarning: overflow encountered in reduce\n",
      "  return ufunc.reduce(obj, axis, dtype, out, **passkwargs)\n",
      "/home/ss2686/miniconda3/envs/my-rdkit-env/lib/python3.9/site-packages/numpy/core/fromnumeric.py:86: RuntimeWarning: overflow encountered in reduce\n",
      "  return ufunc.reduce(obj, axis, dtype, out, **passkwargs)\n",
      "/home/ss2686/miniconda3/envs/my-rdkit-env/lib/python3.9/site-packages/numpy/core/fromnumeric.py:86: RuntimeWarning: overflow encountered in reduce\n",
      "  return ufunc.reduce(obj, axis, dtype, out, **passkwargs)\n",
      "/home/ss2686/miniconda3/envs/my-rdkit-env/lib/python3.9/site-packages/numpy/core/fromnumeric.py:86: RuntimeWarning: overflow encountered in reduce\n",
      "  return ufunc.reduce(obj, axis, dtype, out, **passkwargs)\n",
      "/home/ss2686/miniconda3/envs/my-rdkit-env/lib/python3.9/site-packages/numpy/core/fromnumeric.py:86: RuntimeWarning: overflow encountered in reduce\n",
      "  return ufunc.reduce(obj, axis, dtype, out, **passkwargs)\n",
      "/home/ss2686/miniconda3/envs/my-rdkit-env/lib/python3.9/site-packages/numpy/core/fromnumeric.py:86: RuntimeWarning: overflow encountered in reduce\n",
      "  return ufunc.reduce(obj, axis, dtype, out, **passkwargs)\n",
      "n_iterations: 4\n",
      "n_required_iterations: 4\n",
      "n_possible_iterations: 4\n",
      "min_resources_: 20\n",
      "max_resources_: 1189\n",
      "aggressive_elimination: False\n",
      "factor: 3\n",
      "----------\n",
      "iter: 0\n",
      "n_candidates: 59\n",
      "n_resources: 20\n",
      "Fitting 5 folds for each of 59 candidates, totalling 295 fits\n",
      "----------\n",
      "iter: 1\n",
      "n_candidates: 20\n",
      "n_resources: 60\n",
      "Fitting 5 folds for each of 20 candidates, totalling 100 fits\n",
      "----------\n",
      "iter: 2\n",
      "n_candidates: 7\n",
      "n_resources: 180\n",
      "Fitting 5 folds for each of 7 candidates, totalling 35 fits\n",
      "----------\n",
      "iter: 3\n",
      "n_candidates: 3\n",
      "n_resources: 540\n",
      "Fitting 5 folds for each of 3 candidates, totalling 15 fits\n"
     ]
    },
    {
     "name": "stderr",
     "output_type": "stream",
     "text": [
      "Processing activities: 100%|█████████████████████| 1/1 [01:54<00:00, 114.83s/it]\n"
     ]
    },
    {
     "name": "stdout",
     "output_type": "stream",
     "text": [
      "DICTrank\n"
     ]
    },
    {
     "name": "stderr",
     "output_type": "stream",
     "text": [
      "Processing activities:   0%|                              | 0/1 [00:00<?, ?it/s]\n",
      "  0%|                                                   | 0/930 [00:00<?, ?it/s]\u001b[A\n",
      "  0%|                                           | 1/930 [00:00<04:35,  3.38it/s]\u001b[A\n",
      "                                                                                \u001b[A\n",
      "Processing activities:   0%|                              | 0/1 [00:01<?, ?it/s]\n",
      "  3%|█▎                                        | 28/930 [00:01<00:57, 15.82it/s]\u001b[A\n",
      "                                                                                \u001b[A\n",
      "Processing activities:   0%|                              | 0/1 [00:01<?, ?it/s]\n",
      "                                                                                \u001b[A\n",
      "Processing activities:   0%|                              | 0/1 [00:01<?, ?it/s]\n",
      "                                                                                \u001b[A\n",
      "Processing activities:   0%|                              | 0/1 [00:01<?, ?it/s]\n",
      " 13%|█████▍                                   | 123/930 [00:01<00:26, 29.89it/s]\u001b[A"
     ]
    },
    {
     "name": "stdout",
     "output_type": "stream",
     "text": [
      "/home/ss2686/miniconda3/envs/my-rdkit-env/lib/python3.9/site-packages/numpy/core/fromnumeric.py:86: RuntimeWarning: overflow encountered in reduce\n",
      "  return ufunc.reduce(obj, axis, dtype, out, **passkwargs)\n",
      "/home/ss2686/miniconda3/envs/my-rdkit-env/lib/python3.9/site-packages/numpy/core/fromnumeric.py:86: RuntimeWarning: overflow encountered in reduce\n",
      "  return ufunc.reduce(obj, axis, dtype, out, **passkwargs)\n",
      "/home/ss2686/miniconda3/envs/my-rdkit-env/lib/python3.9/site-packages/numpy/core/fromnumeric.py:86: RuntimeWarning: overflow encountered in reduce\n",
      "  return ufunc.reduce(obj, axis, dtype, out, **passkwargs)\n",
      "/home/ss2686/miniconda3/envs/my-rdkit-env/lib/python3.9/site-packages/numpy/core/fromnumeric.py:86: RuntimeWarning: overflow encountered in reduce\n",
      "  return ufunc.reduce(obj, axis, dtype, out, **passkwargs)\n"
     ]
    },
    {
     "name": "stderr",
     "output_type": "stream",
     "text": [
      "                                                                                \n",
      "Processing activities:   0%|                              | 0/1 [00:02<?, ?it/s]\n",
      " 14%|█████▋                                   | 129/930 [00:01<00:26, 29.89it/s]\u001b[A\n",
      "                                                                                \u001b[A\n",
      "Processing activities:   0%|                              | 0/1 [00:02<?, ?it/s]\n",
      " 14%|█████▌                                  | 130/930 [00:01<00:05, 138.03it/s]\u001b[A"
     ]
    },
    {
     "name": "stdout",
     "output_type": "stream",
     "text": [
      "/home/ss2686/miniconda3/envs/my-rdkit-env/lib/python3.9/site-packages/numpy/core/fromnumeric.py:86: RuntimeWarning: overflow encountered in reduce\n",
      "  return ufunc.reduce(obj, axis, dtype, out, **passkwargs)\n",
      "/home/ss2686/miniconda3/envs/my-rdkit-env/lib/python3.9/site-packages/numpy/core/fromnumeric.py:86: RuntimeWarning: overflow encountered in reduce\n",
      "  return ufunc.reduce(obj, axis, dtype, out, **passkwargs)\n"
     ]
    },
    {
     "name": "stderr",
     "output_type": "stream",
     "text": [
      "                                                                                \n",
      "Processing activities:   0%|                              | 0/1 [00:02<?, ?it/s]\n",
      " 19%|███████▌                                | 177/930 [00:02<00:05, 138.03it/s]\u001b[A\n",
      "                                                                                \u001b[A\n",
      "Processing activities:   0%|                              | 0/1 [00:02<?, ?it/s]\n",
      " 21%|████████▋                                | 196/930 [00:02<00:08, 88.35it/s]\u001b[A"
     ]
    },
    {
     "name": "stdout",
     "output_type": "stream",
     "text": [
      "/home/ss2686/miniconda3/envs/my-rdkit-env/lib/python3.9/site-packages/numpy/core/fromnumeric.py:86: RuntimeWarning: overflow encountered in reduce\n",
      "  return ufunc.reduce(obj, axis, dtype, out, **passkwargs)\n",
      "/home/ss2686/miniconda3/envs/my-rdkit-env/lib/python3.9/site-packages/numpy/core/fromnumeric.py:86: RuntimeWarning: overflow encountered in reduce\n",
      "  return ufunc.reduce(obj, axis, dtype, out, **passkwargs)\n"
     ]
    },
    {
     "name": "stderr",
     "output_type": "stream",
     "text": [
      "                                                                                \n",
      "Processing activities:   0%|                              | 0/1 [00:03<?, ?it/s]\n",
      " 22%|█████████                                | 205/930 [00:02<00:08, 88.35it/s]\u001b[A\n",
      " 22%|█████████                                | 206/930 [00:02<00:09, 79.62it/s]\u001b[A"
     ]
    },
    {
     "name": "stdout",
     "output_type": "stream",
     "text": [
      "/home/ss2686/miniconda3/envs/my-rdkit-env/lib/python3.9/site-packages/numpy/core/fromnumeric.py:86: RuntimeWarning: overflow encountered in reduce\n",
      "  return ufunc.reduce(obj, axis, dtype, out, **passkwargs)\n"
     ]
    },
    {
     "name": "stderr",
     "output_type": "stream",
     "text": [
      "\n",
      "                                                                                \u001b[A\n",
      "Processing activities:   0%|                              | 0/1 [00:05<?, ?it/s]\n",
      "                                                                                \u001b[A\n",
      "Processing activities:   0%|                              | 0/1 [00:05<?, ?it/s]\n",
      " 42%|████████████████▊                       | 392/930 [00:04<00:02, 192.27it/s]\u001b[A\n",
      "                                                                                \u001b[A\n",
      "Processing activities:   0%|                              | 0/1 [00:05<?, ?it/s]\n",
      "                                                                                \u001b[A\n",
      "Processing activities:   0%|                              | 0/1 [00:05<?, ?it/s]\n",
      " 51%|█████████████████████                    | 477/930 [00:04<00:06, 71.81it/s]\u001b[A"
     ]
    },
    {
     "name": "stdout",
     "output_type": "stream",
     "text": [
      "/home/ss2686/miniconda3/envs/my-rdkit-env/lib/python3.9/site-packages/numpy/core/fromnumeric.py:86: RuntimeWarning: overflow encountered in reduce\n",
      "  return ufunc.reduce(obj, axis, dtype, out, **passkwargs)\n",
      "/home/ss2686/miniconda3/envs/my-rdkit-env/lib/python3.9/site-packages/numpy/core/fromnumeric.py:86: RuntimeWarning: overflow encountered in reduce\n",
      "  return ufunc.reduce(obj, axis, dtype, out, **passkwargs)\n",
      "/home/ss2686/miniconda3/envs/my-rdkit-env/lib/python3.9/site-packages/numpy/core/fromnumeric.py:86: RuntimeWarning: overflow encountered in reduce\n",
      "  return ufunc.reduce(obj, axis, dtype, out, **passkwargs)\n",
      "/home/ss2686/miniconda3/envs/my-rdkit-env/lib/python3.9/site-packages/numpy/core/fromnumeric.py:86: RuntimeWarning: overflow encountered in reduce\n",
      "  return ufunc.reduce(obj, axis, dtype, out, **passkwargs)\n"
     ]
    },
    {
     "name": "stderr",
     "output_type": "stream",
     "text": [
      "                                                                                \n",
      "Processing activities:   0%|                              | 0/1 [00:08<?, ?it/s]\n",
      " 52%|█████████████████████▏                   | 480/930 [00:07<00:06, 71.81it/s]\u001b[A\n",
      "                                                                                \u001b[A\n",
      "Processing activities:   0%|                              | 0/1 [00:08<?, ?it/s]\n",
      "                                                                                \u001b[A\n",
      "Processing activities:   0%|                              | 0/1 [00:08<?, ?it/s]\n",
      "                                                                                \u001b[A\n",
      "Processing activities:   0%|                              | 0/1 [00:08<?, ?it/s]\n",
      "                                                                                \u001b[A\n",
      "Processing activities:   0%|                              | 0/1 [00:08<?, ?it/s]\n",
      "                                                                                \u001b[A\n",
      "Processing activities:   0%|                              | 0/1 [00:08<?, ?it/s]\n",
      "                                                                                \u001b[A\n",
      "Processing activities:   0%|                              | 0/1 [00:08<?, ?it/s]\n",
      "                                                                                \u001b[A\n",
      "Processing activities:   0%|                              | 0/1 [00:08<?, ?it/s]\n",
      "                                                                                \u001b[A\n",
      "Processing activities:   0%|                              | 0/1 [00:08<?, ?it/s]\n",
      "                                                                                \u001b[A\n",
      "Processing activities:   0%|                              | 0/1 [00:08<?, ?it/s]\n",
      "                                                                                \u001b[A\n",
      "Processing activities:   0%|                              | 0/1 [00:08<?, ?it/s]\n",
      "                                                                                \u001b[A\n",
      "Processing activities:   0%|                              | 0/1 [00:08<?, ?it/s]\n",
      "                                                                                \u001b[A\n",
      "Processing activities:   0%|                              | 0/1 [00:08<?, ?it/s]\n",
      " 62%|█████████████████████████▎               | 573/930 [00:07<00:07, 46.23it/s]\u001b[A"
     ]
    },
    {
     "name": "stdout",
     "output_type": "stream",
     "text": [
      "/home/ss2686/miniconda3/envs/my-rdkit-env/lib/python3.9/site-packages/numpy/core/fromnumeric.py:86: RuntimeWarning: overflow encountered in reduce\n",
      "  return ufunc.reduce(obj, axis, dtype, out, **passkwargs)\n",
      "/home/ss2686/miniconda3/envs/my-rdkit-env/lib/python3.9/site-packages/numpy/core/fromnumeric.py:86: RuntimeWarning: overflow encountered in reduce\n",
      "  return ufunc.reduce(obj, axis, dtype, out, **passkwargs)\n",
      "/home/ss2686/miniconda3/envs/my-rdkit-env/lib/python3.9/site-packages/numpy/core/fromnumeric.py:86: RuntimeWarning: overflow encountered in reduce\n",
      "  return ufunc.reduce(obj, axis, dtype, out, **passkwargs)\n",
      "/home/ss2686/miniconda3/envs/my-rdkit-env/lib/python3.9/site-packages/numpy/core/fromnumeric.py:86: RuntimeWarning: overflow encountered in reduce\n",
      "  return ufunc.reduce(obj, axis, dtype, out, **passkwargs)\n",
      "/home/ss2686/miniconda3/envs/my-rdkit-env/lib/python3.9/site-packages/numpy/core/fromnumeric.py:86: RuntimeWarning: overflow encountered in reduce\n",
      "  return ufunc.reduce(obj, axis, dtype, out, **passkwargs)\n",
      "/home/ss2686/miniconda3/envs/my-rdkit-env/lib/python3.9/site-packages/numpy/core/fromnumeric.py:86: RuntimeWarning: overflow encountered in reduce\n",
      "  return ufunc.reduce(obj, axis, dtype, out, **passkwargs)\n",
      "/home/ss2686/miniconda3/envs/my-rdkit-env/lib/python3.9/site-packages/numpy/core/fromnumeric.py:86: RuntimeWarning: overflow encountered in reduce\n",
      "  return ufunc.reduce(obj, axis, dtype, out, **passkwargs)\n",
      "/home/ss2686/miniconda3/envs/my-rdkit-env/lib/python3.9/site-packages/numpy/core/fromnumeric.py:86: RuntimeWarning: overflow encountered in reduce\n",
      "  return ufunc.reduce(obj, axis, dtype, out, **passkwargs)\n",
      "/home/ss2686/miniconda3/envs/my-rdkit-env/lib/python3.9/site-packages/numpy/core/fromnumeric.py:86: RuntimeWarning: overflow encountered in reduce\n",
      "  return ufunc.reduce(obj, axis, dtype, out, **passkwargs)\n",
      "/home/ss2686/miniconda3/envs/my-rdkit-env/lib/python3.9/site-packages/numpy/core/fromnumeric.py:86: RuntimeWarning: overflow encountered in reduce\n",
      "  return ufunc.reduce(obj, axis, dtype, out, **passkwargs)\n",
      "/home/ss2686/miniconda3/envs/my-rdkit-env/lib/python3.9/site-packages/numpy/core/fromnumeric.py:86: RuntimeWarning: overflow encountered in reduce\n",
      "  return ufunc.reduce(obj, axis, dtype, out, **passkwargs)\n",
      "/home/ss2686/miniconda3/envs/my-rdkit-env/lib/python3.9/site-packages/numpy/core/fromnumeric.py:86: RuntimeWarning: overflow encountered in reduce\n",
      "  return ufunc.reduce(obj, axis, dtype, out, **passkwargs)\n",
      "/home/ss2686/miniconda3/envs/my-rdkit-env/lib/python3.9/site-packages/numpy/core/fromnumeric.py:86: RuntimeWarning: overflow encountered in reduce\n",
      "  return ufunc.reduce(obj, axis, dtype, out, **passkwargs)\n"
     ]
    },
    {
     "name": "stderr",
     "output_type": "stream",
     "text": [
      "                                                                                \n",
      "Processing activities:   0%|                              | 0/1 [00:10<?, ?it/s]\n",
      " 62%|█████████████████████████▎               | 574/930 [00:09<00:07, 46.23it/s]\u001b[A\n",
      "                                                                                \u001b[A\n",
      "Processing activities:   0%|                              | 0/1 [00:10<?, ?it/s]\n",
      "                                                                                \u001b[A\n",
      "Processing activities:   0%|                              | 0/1 [00:10<?, ?it/s]\n",
      "                                                                                \u001b[A\n",
      "Processing activities:   0%|                              | 0/1 [00:10<?, ?it/s]\n",
      "                                                                                \u001b[A\n",
      "Processing activities:   0%|                              | 0/1 [00:10<?, ?it/s]\n",
      "                                                                                \u001b[A\n",
      "Processing activities:   0%|                              | 0/1 [00:10<?, ?it/s]\n",
      "                                                                                \u001b[A\n",
      "Processing activities:   0%|                              | 0/1 [00:10<?, ?it/s]\n",
      "                                                                                \u001b[A\n",
      "Processing activities:   0%|                              | 0/1 [00:10<?, ?it/s]\n",
      " 65%|██████████████████████████▊              | 609/930 [00:09<00:06, 49.63it/s]\u001b[A"
     ]
    },
    {
     "name": "stdout",
     "output_type": "stream",
     "text": [
      "/home/ss2686/miniconda3/envs/my-rdkit-env/lib/python3.9/site-packages/numpy/core/fromnumeric.py:86: RuntimeWarning: overflow encountered in reduce\n",
      "  return ufunc.reduce(obj, axis, dtype, out, **passkwargs)\n",
      "/home/ss2686/miniconda3/envs/my-rdkit-env/lib/python3.9/site-packages/numpy/core/fromnumeric.py:86: RuntimeWarning: overflow encountered in reduce\n",
      "  return ufunc.reduce(obj, axis, dtype, out, **passkwargs)\n",
      "/home/ss2686/miniconda3/envs/my-rdkit-env/lib/python3.9/site-packages/numpy/core/fromnumeric.py:86: RuntimeWarning: overflow encountered in reduce\n",
      "  return ufunc.reduce(obj, axis, dtype, out, **passkwargs)\n",
      "/home/ss2686/miniconda3/envs/my-rdkit-env/lib/python3.9/site-packages/numpy/core/fromnumeric.py:86: RuntimeWarning: overflow encountered in reduce\n",
      "  return ufunc.reduce(obj, axis, dtype, out, **passkwargs)\n",
      "/home/ss2686/miniconda3/envs/my-rdkit-env/lib/python3.9/site-packages/numpy/core/fromnumeric.py:86: RuntimeWarning: overflow encountered in reduce\n",
      "  return ufunc.reduce(obj, axis, dtype, out, **passkwargs)\n",
      "/home/ss2686/miniconda3/envs/my-rdkit-env/lib/python3.9/site-packages/numpy/core/fromnumeric.py:86: RuntimeWarning: overflow encountered in reduce\n",
      "  return ufunc.reduce(obj, axis, dtype, out, **passkwargs)\n",
      "/home/ss2686/miniconda3/envs/my-rdkit-env/lib/python3.9/site-packages/numpy/core/fromnumeric.py:86: RuntimeWarning: overflow encountered in reduce\n",
      "  return ufunc.reduce(obj, axis, dtype, out, **passkwargs)\n",
      "/home/ss2686/miniconda3/envs/my-rdkit-env/lib/python3.9/site-packages/numpy/core/fromnumeric.py:86: RuntimeWarning: overflow encountered in reduce\n",
      "  return ufunc.reduce(obj, axis, dtype, out, **passkwargs)\n"
     ]
    },
    {
     "name": "stderr",
     "output_type": "stream",
     "text": [
      "                                                                                \n",
      "Processing activities:   0%|                              | 0/1 [00:18<?, ?it/s]\n",
      " 66%|██████████████████████████▉              | 610/930 [00:17<00:06, 49.63it/s]\u001b[A\n",
      "                                                                                \u001b[A\n",
      "Processing activities:   0%|                              | 0/1 [00:18<?, ?it/s]\n",
      "                                                                                \u001b[A\n",
      "Processing activities:   0%|                              | 0/1 [00:18<?, ?it/s]\n",
      "                                                                                \u001b[A\n",
      "Processing activities:   0%|                              | 0/1 [00:18<?, ?it/s]\n",
      "                                                                                \u001b[A\n",
      "Processing activities:   0%|                              | 0/1 [00:18<?, ?it/s]\n",
      "                                                                                \u001b[A\n",
      "Processing activities:   0%|                              | 0/1 [00:18<?, ?it/s]\n",
      " 72%|█████████████████████████████▍           | 669/930 [00:17<00:14, 17.54it/s]\u001b[A\n",
      "                                                                                \u001b[A\n",
      "Processing activities:   0%|                              | 0/1 [00:18<?, ?it/s]\n",
      " 81%|█████████████████████████████████▎       | 755/930 [00:18<00:05, 32.09it/s]\u001b[A"
     ]
    },
    {
     "name": "stdout",
     "output_type": "stream",
     "text": [
      "/home/ss2686/miniconda3/envs/my-rdkit-env/lib/python3.9/site-packages/numpy/core/fromnumeric.py:86: RuntimeWarning: overflow encountered in reduce\n",
      "  return ufunc.reduce(obj, axis, dtype, out, **passkwargs)\n",
      "/home/ss2686/miniconda3/envs/my-rdkit-env/lib/python3.9/site-packages/numpy/core/fromnumeric.py:86: RuntimeWarning: overflow encountered in reduce\n",
      "  return ufunc.reduce(obj, axis, dtype, out, **passkwargs)\n",
      "/home/ss2686/miniconda3/envs/my-rdkit-env/lib/python3.9/site-packages/numpy/core/fromnumeric.py:86: RuntimeWarning: overflow encountered in reduce\n",
      "  return ufunc.reduce(obj, axis, dtype, out, **passkwargs)\n",
      "/home/ss2686/miniconda3/envs/my-rdkit-env/lib/python3.9/site-packages/numpy/core/fromnumeric.py:86: RuntimeWarning: overflow encountered in reduce\n",
      "  return ufunc.reduce(obj, axis, dtype, out, **passkwargs)\n",
      "/home/ss2686/miniconda3/envs/my-rdkit-env/lib/python3.9/site-packages/numpy/core/fromnumeric.py:86: RuntimeWarning: overflow encountered in reduce\n",
      "  return ufunc.reduce(obj, axis, dtype, out, **passkwargs)\n",
      "/home/ss2686/miniconda3/envs/my-rdkit-env/lib/python3.9/site-packages/numpy/core/fromnumeric.py:86: RuntimeWarning: overflow encountered in reduce\n",
      "  return ufunc.reduce(obj, axis, dtype, out, **passkwargs)\n",
      "/home/ss2686/miniconda3/envs/my-rdkit-env/lib/python3.9/site-packages/numpy/core/fromnumeric.py:86: RuntimeWarning: overflow encountered in reduce\n",
      "  return ufunc.reduce(obj, axis, dtype, out, **passkwargs)\n"
     ]
    },
    {
     "name": "stderr",
     "output_type": "stream",
     "text": [
      "                                                                                \n",
      "Processing activities:   0%|                              | 0/1 [00:19<?, ?it/s]\n",
      " 83%|██████████████████████████████████▏      | 775/930 [00:18<00:04, 32.09it/s]\u001b[A\n",
      "                                                                                \u001b[A\n",
      "Processing activities:   0%|                              | 0/1 [00:19<?, ?it/s]\n",
      "                                                                                \u001b[A\n",
      "Processing activities:   0%|                              | 0/1 [00:19<?, ?it/s]\n",
      " 87%|███████████████████████████████████▋     | 810/930 [00:18<00:03, 35.05it/s]\u001b[A"
     ]
    },
    {
     "name": "stdout",
     "output_type": "stream",
     "text": [
      "/home/ss2686/miniconda3/envs/my-rdkit-env/lib/python3.9/site-packages/numpy/core/fromnumeric.py:86: RuntimeWarning: overflow encountered in reduce\n",
      "  return ufunc.reduce(obj, axis, dtype, out, **passkwargs)\n",
      "/home/ss2686/miniconda3/envs/my-rdkit-env/lib/python3.9/site-packages/numpy/core/fromnumeric.py:86: RuntimeWarning: overflow encountered in reduce\n",
      "  return ufunc.reduce(obj, axis, dtype, out, **passkwargs)\n",
      "/home/ss2686/miniconda3/envs/my-rdkit-env/lib/python3.9/site-packages/numpy/core/fromnumeric.py:86: RuntimeWarning: overflow encountered in reduce\n",
      "  return ufunc.reduce(obj, axis, dtype, out, **passkwargs)\n"
     ]
    },
    {
     "name": "stderr",
     "output_type": "stream",
     "text": [
      "\n",
      " 87%|███████████████████████████████████▊     | 811/930 [00:28<00:03, 35.05it/s]\u001b[A\n",
      "                                                                                \u001b[A\n",
      "Processing activities:   0%|                              | 0/1 [00:32<?, ?it/s]\n",
      " 95%|██████████████████████████████████████▉  | 884/930 [00:31<00:04, 11.21it/s]\u001b[A\n",
      "                                                                                \u001b[A\n",
      "Processing activities:   0%|                              | 0/1 [00:32<?, ?it/s]\n",
      "                                                                                \u001b[A\n",
      "Processing activities:   0%|                              | 0/1 [00:32<?, ?it/s]\n",
      "                                                                                \u001b[A\n",
      "Processing activities:   0%|                              | 0/1 [00:32<?, ?it/s]\n",
      "100%|█████████████████████████████████████████| 930/930 [00:31<00:00, 29.16it/s]\u001b[A\n"
     ]
    },
    {
     "name": "stdout",
     "output_type": "stream",
     "text": [
      "/home/ss2686/miniconda3/envs/my-rdkit-env/lib/python3.9/site-packages/numpy/core/fromnumeric.py:86: RuntimeWarning: overflow encountered in reduce\n",
      "  return ufunc.reduce(obj, axis, dtype, out, **passkwargs)\n",
      "/home/ss2686/miniconda3/envs/my-rdkit-env/lib/python3.9/site-packages/mordred/_matrix_attributes.py:251: RuntimeWarning: invalid value encountered in double_scalars\n",
      "  s += (eig.vec[i, eig.max] * eig.vec[j, eig.max]) ** -0.5\n",
      "/home/ss2686/miniconda3/envs/my-rdkit-env/lib/python3.9/site-packages/numpy/core/fromnumeric.py:86: RuntimeWarning: overflow encountered in reduce\n",
      "  return ufunc.reduce(obj, axis, dtype, out, **passkwargs)\n",
      "/home/ss2686/miniconda3/envs/my-rdkit-env/lib/python3.9/site-packages/numpy/core/fromnumeric.py:86: RuntimeWarning: overflow encountered in reduce\n",
      "  return ufunc.reduce(obj, axis, dtype, out, **passkwargs)\n"
     ]
    },
    {
     "name": "stderr",
     "output_type": "stream",
     "text": [
      "\n",
      "  0%|                                                    | 0/90 [00:00<?, ?it/s]\u001b[A\n",
      "  1%|▍                                           | 1/90 [00:00<00:28,  3.16it/s]\u001b[A\n",
      "  4%|█▉                                          | 4/90 [00:00<00:13,  6.27it/s]\u001b[A\n",
      " 16%|██████▋                                    | 14/90 [00:00<00:03, 24.29it/s]\u001b[A\n",
      " 21%|█████████                                  | 19/90 [00:01<00:05, 13.53it/s]\u001b[A\n",
      " 33%|██████████████▎                            | 30/90 [00:02<00:03, 15.20it/s]\u001b[A\n",
      " 42%|██████████████████▏                        | 38/90 [00:02<00:02, 19.63it/s]\u001b[A\n",
      " 47%|████████████████████                       | 42/90 [00:02<00:02, 21.57it/s]\u001b[A\n",
      "                                                                                \u001b[A\n",
      "Processing activities:   0%|                              | 0/1 [00:36<?, ?it/s]\n",
      " 63%|███████████████████████████▏               | 57/90 [00:02<00:01, 21.90it/s]\u001b[A\n",
      " 82%|███████████████████████████████████▎       | 74/90 [00:02<00:00, 55.59it/s]\u001b[A"
     ]
    },
    {
     "name": "stdout",
     "output_type": "stream",
     "text": [
      "/home/ss2686/miniconda3/envs/my-rdkit-env/lib/python3.9/site-packages/numpy/core/fromnumeric.py:86: RuntimeWarning: overflow encountered in reduce\n",
      "  return ufunc.reduce(obj, axis, dtype, out, **passkwargs)\n"
     ]
    },
    {
     "name": "stderr",
     "output_type": "stream",
     "text": [
      "\n",
      "100%|███████████████████████████████████████████| 90/90 [00:02<00:00, 31.24it/s]\u001b[A\n"
     ]
    },
    {
     "name": "stdout",
     "output_type": "stream",
     "text": [
      "n_iterations: 4\n",
      "n_required_iterations: 4\n",
      "n_possible_iterations: 4\n",
      "min_resources_: 20\n",
      "max_resources_: 930\n",
      "aggressive_elimination: False\n",
      "factor: 3\n",
      "----------\n",
      "iter: 0\n",
      "n_candidates: 46\n",
      "n_resources: 20\n",
      "Fitting 5 folds for each of 46 candidates, totalling 230 fits\n",
      "----------\n",
      "iter: 1\n",
      "n_candidates: 16\n",
      "n_resources: 60\n",
      "Fitting 5 folds for each of 16 candidates, totalling 80 fits\n",
      "----------\n",
      "iter: 2\n",
      "n_candidates: 6\n",
      "n_resources: 180\n",
      "Fitting 5 folds for each of 6 candidates, totalling 30 fits\n",
      "----------\n",
      "iter: 3\n",
      "n_candidates: 2\n",
      "n_resources: 540\n",
      "Fitting 5 folds for each of 2 candidates, totalling 10 fits\n"
     ]
    },
    {
     "name": "stderr",
     "output_type": "stream",
     "text": [
      "Processing activities: 100%|██████████████████████| 1/1 [01:05<00:00, 65.43s/it]\n"
     ]
    }
   ],
   "source": [
    "#!/usr/bin/env python\n",
    "# coding: utf-8\n",
    "\n",
    "\n",
    "import os\n",
    "import numpy as np\n",
    "import pandas as pd\n",
    "from tqdm import tqdm\n",
    "from rdkit import Chem, DataStructs\n",
    "from rdkit.Chem import AllChem\n",
    "from mordred import Calculator, descriptors\n",
    "calc = Calculator(descriptors, ignore_3D=True)\n",
    "\n",
    "from sklearn.ensemble import RandomForestRegressor, RandomForestClassifier\n",
    "from sklearn.model_selection import cross_val_score, train_test_split\n",
    "from sklearn.metrics import mean_squared_error, roc_auc_score, matthews_corrcoef, average_precision_score, confusion_matrix\n",
    "from imblearn.metrics import geometric_mean_score\n",
    "from imblearn.over_sampling import RandomOverSampler\n",
    "from imblearn.pipeline import Pipeline\n",
    "from sklearn.metrics import roc_curve\n",
    "from sklearn.experimental import enable_halving_search_cv\n",
    "from sklearn.model_selection import HalvingRandomSearchCV\n",
    "from scipy.stats import randint, uniform\n",
    "from sklearn.model_selection import StratifiedKFold\n",
    "import math\n",
    "\n",
    "from pandarallel import pandarallel\n",
    "pandarallel.initialize()\n",
    "\n",
    "import sys\n",
    "sys.path.append('/home/ss2686/03_DICTrank')\n",
    "import argparse\n",
    "from scripts.evaluation_functions import evaluate_classifier, optimize_threshold_j_statistic\n",
    "\n",
    "\n",
    "# Path where your data is stored\n",
    "data_path = '../data/processed_binarised__splits/'\n",
    "\n",
    "results = {}\n",
    "held_out_results = []\n",
    "\n",
    "def get_Mordred_columns_to_use():\n",
    "    \n",
    "        datasets = {}\n",
    "        directory='../data/processed/'\n",
    "        # Load datasets from given directory\n",
    "        for foldername in os.listdir(directory):\n",
    "\n",
    "            if not foldername.startswith('.'):  # Ignore folders starting with a dot\n",
    "\n",
    "                print(foldername)\n",
    "                file_path = os.path.join(directory, foldername, f\"{foldername}_processed.csv.gz\")\n",
    "\n",
    "                if os.path.exists(file_path):\n",
    "                    datasets[foldername] = pd.read_csv(file_path, compression='gzip')\n",
    "                else:\n",
    "                    print(f\"No matching file found for folder: {foldername}\")\n",
    "        \n",
    "        smiles_list = []\n",
    "        \n",
    "        for featuresets in [\"sider\", \"DICTrank\"]: \n",
    "    \n",
    "            smiles_list.extend(datasets[featuresets].Standardized_SMILES.to_list())\n",
    "            print(len(smiles_list))\n",
    "        smiles_list = list(set(smiles_list))\n",
    "        \n",
    "        print(len(smiles_list))\n",
    "        data = pd.DataFrame(smiles_list, columns=[\"Standardized_SMILES\"])\n",
    "        \n",
    "        Ser_Mol_train = data['Standardized_SMILES'].apply(Chem.MolFromSmiles)\n",
    "        Mordred_table_data = calc.pandas(Ser_Mol_train)\n",
    "        Mordred_table_data = Mordred_table_data.astype('float')\n",
    "        Mordred_table_data = Mordred_table_data.dropna(axis='columns')\n",
    "        data_columns = Mordred_table_data.columns\n",
    "        \n",
    "        return(data_columns)\n",
    "    \n",
    "data_columns = get_Mordred_columns_to_use()\n",
    "\n",
    "\n",
    "# Assuming PK dataset is regression and others are classification\n",
    "for dataset in os.listdir(data_path):\n",
    "    \n",
    "    # Exclude hidden files or directories like .ipynb_checkpoints\n",
    "    if dataset.startswith('.'):\n",
    "        continue\n",
    "    print(dataset)\n",
    "\n",
    "    # Get all the file names for this dataset\n",
    "    all_files = os.listdir(os.path.join(data_path, dataset))\n",
    "\n",
    "    # Extract activity names by removing the _train.csv.gz or _test.csv.gz from file names\n",
    "    activity_names = list(set([f.replace(\"_train.csv.gz\", \"\").replace(\"_test.csv.gz\", \"\")  for f in all_files if not f.startswith(\".ipynb_checkpoints\")]))\n",
    "\n",
    "    for activity in tqdm(activity_names, desc=\"Processing activities\"):\n",
    "        \n",
    "        train_path = os.path.join(data_path, dataset, f\"{activity}_train.csv.gz\")\n",
    "        test_path = os.path.join(data_path, dataset, f\"{activity}_test.csv.gz\")\n",
    "\n",
    "        train_df = pd.read_csv(train_path, compression='gzip')\n",
    "        test_df = pd.read_csv(test_path, compression='gzip')\n",
    "        \n",
    "        Ser_Mol_train = train_df['Standardized_SMILES'].apply(Chem.MolFromSmiles)\n",
    "        Mordred_table_train = calc.pandas(Ser_Mol_train)\n",
    "        Mordred_table_train = Mordred_table_train.astype('float')\n",
    "               \n",
    "        Ser_Mol_test = test_df['Standardized_SMILES'].apply(Chem.MolFromSmiles)\n",
    "        Mordred_table_test = calc.pandas(Ser_Mol_test)\n",
    "        Mordred_table_test = Mordred_table_test.astype('float')\n",
    "\n",
    "        # Retain only those columns in the test dataset\n",
    "        Mordred_table_train = Mordred_table_train[data_columns]\n",
    "        Mordred_table_test = Mordred_table_test[data_columns]\n",
    "\n",
    "        X_train = np.array(Mordred_table_train)\n",
    "        X_test = np.array(Mordred_table_test)\n",
    "        y_train = train_df[activity]\n",
    "        y_test = test_df[activity]\n",
    "\n",
    "      \n",
    "        # Classification\n",
    "        model = RandomForestClassifier(n_jobs=40)\n",
    "            \n",
    "        # Hyperparameter Optimization\n",
    "        param_dist_classification = {'max_depth': randint(10, 20),\n",
    "                          'max_features': randint(40, 50),\n",
    "                          'min_samples_leaf': randint(5, 15),\n",
    "                          'min_samples_split': randint(5, 15),\n",
    "                          'n_estimators':[200, 300, 400, 500, 600],\n",
    "                          'bootstrap': [True, False],\n",
    "                          'oob_score': [False],\n",
    "                          'random_state': [42],\n",
    "                          'criterion': ['gini', 'entropy'],\n",
    "                          'n_jobs': [40],\n",
    "                          'class_weight' : [None, 'balanced']\n",
    "                         }\n",
    "        inner_cv = StratifiedKFold(n_splits=5, shuffle=True, random_state=42)   \n",
    "            \n",
    "        classification_search = HalvingRandomSearchCV(\n",
    "                model,\n",
    "                param_dist_classification,\n",
    "                factor=3,\n",
    "                cv=inner_cv,\n",
    "                random_state=42,\n",
    "                verbose=1,\n",
    "                n_jobs=40)\n",
    "            \n",
    "        classification_search.fit(X_train, y_train)\n",
    "        best_model = classification_search.best_estimator_\n",
    "            \n",
    "        # Random Over-sampling \n",
    "        sampler = RandomOverSampler(sampling_strategy='auto', random_state=42)\n",
    "            \n",
    "        pipeline = Pipeline(steps=[('sampler', sampler), ('model', best_model)])\n",
    "        pipeline.fit(X_train, y_train)\n",
    "            \n",
    "        # Predict using threshold-optimized model\n",
    "        predictions_train = pipeline.predict(X_train)\n",
    "        probs_train = pipeline.predict_proba(X_train)[:, 1]\n",
    "        probs_test = pipeline.predict_proba(X_test)[:, 1]\n",
    "            \n",
    "        # Use the optimize_threshold_j_statistic function to find the best threshold\n",
    "        best_threshold = optimize_threshold_j_statistic(y_train, probs_train)\n",
    "        #Apply the best threshold to get binary predictions on the test data\n",
    "        predictions_test = (probs_test >= best_threshold).astype(int)\n",
    "            \n",
    "        # Calculate CV AUC using threshold-optimized model\n",
    "        cv_scores = cross_val_score(pipeline, X_train, y_train, cv=5, n_jobs=-1, scoring='roc_auc')\n",
    "\n",
    "        results[activity] = {\n",
    "                'CV_AUC_mean': np.mean(cv_scores),\n",
    "                'CV_AUC_std': np.std(cv_scores),\n",
    "                **evaluate_classifier(y_test, predictions_test, probs_test)\n",
    "            }\n",
    "        \n",
    "        held_out_data = {\n",
    "            'Dataset': dataset,\n",
    "            \"Actviity\": activity,\n",
    "            'SMILES': test_df['Standardized_SMILES'],\n",
    "            'True_Value': y_test,\n",
    "            'Prediction': predictions_test,\n",
    "            'Probability': probs_test,\n",
    "            'Best_Threshold': best_threshold\n",
    "        }\n",
    "        \n",
    "        held_out_results.append(pd.DataFrame(held_out_data))         \n",
    "        # Save results at each step\n",
    "            \n",
    "            \n",
    "    # Save results at each step\n",
    "    pd.DataFrame(results).T.to_csv('./physicochemical_model_results.csv')\n",
    "              \n",
    "\n",
    "# Save results\n",
    "results_df = pd.DataFrame(results).T.reset_index(drop=False)\n",
    "results_df = results_df.rename(columns={'index': 'endpoint'})\n",
    "results_df.to_csv('./physicochemical_model_results.csv', index=False)\n",
    "\n",
    "# Concatenate and save held-out test set results\n",
    "pd.concat(held_out_results).to_csv('./physicochemical_model_held_out_test_results.csv', index=False)\n",
    "            \n"
   ]
  },
  {
   "cell_type": "code",
   "execution_count": 2,
   "id": "113d2a1e",
   "metadata": {},
   "outputs": [
    {
     "data": {
      "text/html": [
       "<div>\n",
       "<style scoped>\n",
       "    .dataframe tbody tr th:only-of-type {\n",
       "        vertical-align: middle;\n",
       "    }\n",
       "\n",
       "    .dataframe tbody tr th {\n",
       "        vertical-align: top;\n",
       "    }\n",
       "\n",
       "    .dataframe thead th {\n",
       "        text-align: right;\n",
       "    }\n",
       "</style>\n",
       "<table border=\"1\" class=\"dataframe\">\n",
       "  <thead>\n",
       "    <tr style=\"text-align: right;\">\n",
       "      <th></th>\n",
       "      <th>Dataset</th>\n",
       "      <th>Actviity</th>\n",
       "      <th>SMILES</th>\n",
       "      <th>True_Value</th>\n",
       "      <th>Prediction</th>\n",
       "      <th>Probability</th>\n",
       "      <th>Best_Threshold</th>\n",
       "    </tr>\n",
       "  </thead>\n",
       "  <tbody>\n",
       "    <tr>\n",
       "      <th>0</th>\n",
       "      <td>cardiotox_with_sider_inactives</td>\n",
       "      <td>Cardiotox (with SIDER inactives)</td>\n",
       "      <td>O=C(C1CCCCC1)[NH+]1CC(=O)[NH+]2CCc3ccccc3C2C1</td>\n",
       "      <td>1</td>\n",
       "      <td>1</td>\n",
       "      <td>0.866279</td>\n",
       "      <td>0.52507</td>\n",
       "    </tr>\n",
       "    <tr>\n",
       "      <th>1</th>\n",
       "      <td>cardiotox_with_sider_inactives</td>\n",
       "      <td>Cardiotox (with SIDER inactives)</td>\n",
       "      <td>CC(C(=O)[O-])c1ccc(-c2ccccc2)c(F)c1</td>\n",
       "      <td>1</td>\n",
       "      <td>1</td>\n",
       "      <td>0.624126</td>\n",
       "      <td>0.52507</td>\n",
       "    </tr>\n",
       "    <tr>\n",
       "      <th>2</th>\n",
       "      <td>cardiotox_with_sider_inactives</td>\n",
       "      <td>Cardiotox (with SIDER inactives)</td>\n",
       "      <td>C[NH+](C)CCC=C1c2ccccc2CCc2ccccc21</td>\n",
       "      <td>1</td>\n",
       "      <td>1</td>\n",
       "      <td>0.784482</td>\n",
       "      <td>0.52507</td>\n",
       "    </tr>\n",
       "    <tr>\n",
       "      <th>3</th>\n",
       "      <td>cardiotox_with_sider_inactives</td>\n",
       "      <td>Cardiotox (with SIDER inactives)</td>\n",
       "      <td>CC(=O)[NH+]1CCN(c2ccc(OCC3COC(Cn4ccnc4)(c4ccc(...</td>\n",
       "      <td>1</td>\n",
       "      <td>0</td>\n",
       "      <td>0.402885</td>\n",
       "      <td>0.52507</td>\n",
       "    </tr>\n",
       "    <tr>\n",
       "      <th>4</th>\n",
       "      <td>cardiotox_with_sider_inactives</td>\n",
       "      <td>Cardiotox (with SIDER inactives)</td>\n",
       "      <td>Cc1nccn1CC1CCc2c(c3ccccc3n2C)C1=O</td>\n",
       "      <td>1</td>\n",
       "      <td>1</td>\n",
       "      <td>0.734534</td>\n",
       "      <td>0.52507</td>\n",
       "    </tr>\n",
       "    <tr>\n",
       "      <th>...</th>\n",
       "      <td>...</td>\n",
       "      <td>...</td>\n",
       "      <td>...</td>\n",
       "      <td>...</td>\n",
       "      <td>...</td>\n",
       "      <td>...</td>\n",
       "      <td>...</td>\n",
       "    </tr>\n",
       "    <tr>\n",
       "      <th>488</th>\n",
       "      <td>DICTrank</td>\n",
       "      <td>DICTrank</td>\n",
       "      <td>CCC1(c2ccccc2)C(=O)NCNC1=O</td>\n",
       "      <td>0</td>\n",
       "      <td>1</td>\n",
       "      <td>0.746528</td>\n",
       "      <td>0.59009</td>\n",
       "    </tr>\n",
       "    <tr>\n",
       "      <th>489</th>\n",
       "      <td>DICTrank</td>\n",
       "      <td>DICTrank</td>\n",
       "      <td>CCOC(=O)[NH+]1CCC(=C2c3ccc(Cl)cc3CCc3cccnc32)CC1</td>\n",
       "      <td>0</td>\n",
       "      <td>1</td>\n",
       "      <td>0.746718</td>\n",
       "      <td>0.59009</td>\n",
       "    </tr>\n",
       "    <tr>\n",
       "      <th>490</th>\n",
       "      <td>DICTrank</td>\n",
       "      <td>DICTrank</td>\n",
       "      <td>CCCSc1ccc2[n-]c(=NC(=O)OC)[n-]c2c1</td>\n",
       "      <td>0</td>\n",
       "      <td>1</td>\n",
       "      <td>0.745429</td>\n",
       "      <td>0.59009</td>\n",
       "    </tr>\n",
       "    <tr>\n",
       "      <th>491</th>\n",
       "      <td>DICTrank</td>\n",
       "      <td>DICTrank</td>\n",
       "      <td>CCC[NH+](CCC)S(=O)(=O)c1ccc(C(=O)[O-])cc1</td>\n",
       "      <td>0</td>\n",
       "      <td>1</td>\n",
       "      <td>0.776767</td>\n",
       "      <td>0.59009</td>\n",
       "    </tr>\n",
       "    <tr>\n",
       "      <th>492</th>\n",
       "      <td>DICTrank</td>\n",
       "      <td>DICTrank</td>\n",
       "      <td>CC[NH+](CC)C(=S)SSC(=S)[NH+](CC)CC</td>\n",
       "      <td>0</td>\n",
       "      <td>1</td>\n",
       "      <td>0.693599</td>\n",
       "      <td>0.59009</td>\n",
       "    </tr>\n",
       "  </tbody>\n",
       "</table>\n",
       "<p>493 rows × 7 columns</p>\n",
       "</div>"
      ],
      "text/plain": [
       "                            Dataset                          Actviity  \\\n",
       "0    cardiotox_with_sider_inactives  Cardiotox (with SIDER inactives)   \n",
       "1    cardiotox_with_sider_inactives  Cardiotox (with SIDER inactives)   \n",
       "2    cardiotox_with_sider_inactives  Cardiotox (with SIDER inactives)   \n",
       "3    cardiotox_with_sider_inactives  Cardiotox (with SIDER inactives)   \n",
       "4    cardiotox_with_sider_inactives  Cardiotox (with SIDER inactives)   \n",
       "..                              ...                               ...   \n",
       "488                        DICTrank                          DICTrank   \n",
       "489                        DICTrank                          DICTrank   \n",
       "490                        DICTrank                          DICTrank   \n",
       "491                        DICTrank                          DICTrank   \n",
       "492                        DICTrank                          DICTrank   \n",
       "\n",
       "                                                SMILES  True_Value  \\\n",
       "0        O=C(C1CCCCC1)[NH+]1CC(=O)[NH+]2CCc3ccccc3C2C1           1   \n",
       "1                  CC(C(=O)[O-])c1ccc(-c2ccccc2)c(F)c1           1   \n",
       "2                   C[NH+](C)CCC=C1c2ccccc2CCc2ccccc21           1   \n",
       "3    CC(=O)[NH+]1CCN(c2ccc(OCC3COC(Cn4ccnc4)(c4ccc(...           1   \n",
       "4                    Cc1nccn1CC1CCc2c(c3ccccc3n2C)C1=O           1   \n",
       "..                                                 ...         ...   \n",
       "488                         CCC1(c2ccccc2)C(=O)NCNC1=O           0   \n",
       "489   CCOC(=O)[NH+]1CCC(=C2c3ccc(Cl)cc3CCc3cccnc32)CC1           0   \n",
       "490                 CCCSc1ccc2[n-]c(=NC(=O)OC)[n-]c2c1           0   \n",
       "491          CCC[NH+](CCC)S(=O)(=O)c1ccc(C(=O)[O-])cc1           0   \n",
       "492                 CC[NH+](CC)C(=S)SSC(=S)[NH+](CC)CC           0   \n",
       "\n",
       "     Prediction  Probability  Best_Threshold  \n",
       "0             1     0.866279         0.52507  \n",
       "1             1     0.624126         0.52507  \n",
       "2             1     0.784482         0.52507  \n",
       "3             0     0.402885         0.52507  \n",
       "4             1     0.734534         0.52507  \n",
       "..          ...          ...             ...  \n",
       "488           1     0.746528         0.59009  \n",
       "489           1     0.746718         0.59009  \n",
       "490           1     0.745429         0.59009  \n",
       "491           1     0.776767         0.59009  \n",
       "492           1     0.693599         0.59009  \n",
       "\n",
       "[493 rows x 7 columns]"
      ]
     },
     "execution_count": 2,
     "metadata": {},
     "output_type": "execute_result"
    }
   ],
   "source": [
    "df = pd.read_csv('./physicochemical_model_held_out_test_results.csv')\n",
    "df"
   ]
  },
  {
   "cell_type": "code",
   "execution_count": 3,
   "id": "4f9519ef",
   "metadata": {},
   "outputs": [
    {
     "data": {
      "text/html": [
       "<div>\n",
       "<style scoped>\n",
       "    .dataframe tbody tr th:only-of-type {\n",
       "        vertical-align: middle;\n",
       "    }\n",
       "\n",
       "    .dataframe tbody tr th {\n",
       "        vertical-align: top;\n",
       "    }\n",
       "\n",
       "    .dataframe thead th {\n",
       "        text-align: right;\n",
       "    }\n",
       "</style>\n",
       "<table border=\"1\" class=\"dataframe\">\n",
       "  <thead>\n",
       "    <tr style=\"text-align: right;\">\n",
       "      <th></th>\n",
       "      <th>Standardized_SMILES</th>\n",
       "      <th>Standardized_InChI</th>\n",
       "      <th>DICTrank</th>\n",
       "    </tr>\n",
       "  </thead>\n",
       "  <tbody>\n",
       "    <tr>\n",
       "      <th>0</th>\n",
       "      <td>O=c1n(CCC[NH+]2CCN(c3cccc(Cl)c3)CC2)nc2ccccn12</td>\n",
       "      <td>InChI=1S/C19H22ClN5O/c20-16-5-3-6-17(15-16)23-...</td>\n",
       "      <td>1</td>\n",
       "    </tr>\n",
       "    <tr>\n",
       "      <th>1</th>\n",
       "      <td>CC(C(=O)[O-])c1ccc(-c2ccccc2)c(F)c1</td>\n",
       "      <td>InChI=1S/C15H13FO2/c1-10(15(17)18)12-7-8-13(14...</td>\n",
       "      <td>1</td>\n",
       "    </tr>\n",
       "    <tr>\n",
       "      <th>2</th>\n",
       "      <td>C[NH+](C)CCC=C1c2ccccc2CCc2ccccc21</td>\n",
       "      <td>InChI=1S/C20H23N/c1-21(2)15-7-12-20-18-10-5-3-...</td>\n",
       "      <td>1</td>\n",
       "    </tr>\n",
       "    <tr>\n",
       "      <th>3</th>\n",
       "      <td>CC(=O)[NH+]1CCN(c2ccc(OCC3COC(Cn4ccnc4)(c4ccc(...</td>\n",
       "      <td>InChI=1S/C26H28Cl2N4O4/c1-19(33)31-10-12-32(13...</td>\n",
       "      <td>1</td>\n",
       "    </tr>\n",
       "    <tr>\n",
       "      <th>4</th>\n",
       "      <td>Cc1nccn1CC1CCc2c(c3ccccc3n2C)C1=O</td>\n",
       "      <td>InChI=1S/C18H19N3O/c1-12-19-9-10-21(12)11-13-7...</td>\n",
       "      <td>1</td>\n",
       "    </tr>\n",
       "    <tr>\n",
       "      <th>...</th>\n",
       "      <td>...</td>\n",
       "      <td>...</td>\n",
       "      <td>...</td>\n",
       "    </tr>\n",
       "    <tr>\n",
       "      <th>85</th>\n",
       "      <td>CCC1(c2ccccc2)C(=O)NCNC1=O</td>\n",
       "      <td>InChI=1S/C12H14N2O2/c1-2-12(9-6-4-3-5-7-9)10(1...</td>\n",
       "      <td>0</td>\n",
       "    </tr>\n",
       "    <tr>\n",
       "      <th>86</th>\n",
       "      <td>CCOC(=O)[NH+]1CCC(=C2c3ccc(Cl)cc3CCc3cccnc32)CC1</td>\n",
       "      <td>InChI=1S/C22H23ClN2O2/c1-2-27-22(26)25-12-9-15...</td>\n",
       "      <td>0</td>\n",
       "    </tr>\n",
       "    <tr>\n",
       "      <th>87</th>\n",
       "      <td>CCCSc1ccc2[n-]c(=NC(=O)OC)[n-]c2c1</td>\n",
       "      <td>InChI=1S/C12H14N3O2S/c1-3-6-18-8-4-5-9-10(7-8)...</td>\n",
       "      <td>0</td>\n",
       "    </tr>\n",
       "    <tr>\n",
       "      <th>88</th>\n",
       "      <td>CCC[NH+](CCC)S(=O)(=O)c1ccc(C(=O)[O-])cc1</td>\n",
       "      <td>InChI=1S/C13H19NO4S/c1-3-9-14(10-4-2)19(17,18)...</td>\n",
       "      <td>0</td>\n",
       "    </tr>\n",
       "    <tr>\n",
       "      <th>89</th>\n",
       "      <td>CC[NH+](CC)C(=S)SSC(=S)[NH+](CC)CC</td>\n",
       "      <td>InChI=1S/C10H20N2S4/c1-5-11(6-2)9(13)15-16-10(...</td>\n",
       "      <td>0</td>\n",
       "    </tr>\n",
       "  </tbody>\n",
       "</table>\n",
       "<p>90 rows × 3 columns</p>\n",
       "</div>"
      ],
      "text/plain": [
       "                                  Standardized_SMILES  \\\n",
       "0      O=c1n(CCC[NH+]2CCN(c3cccc(Cl)c3)CC2)nc2ccccn12   \n",
       "1                 CC(C(=O)[O-])c1ccc(-c2ccccc2)c(F)c1   \n",
       "2                  C[NH+](C)CCC=C1c2ccccc2CCc2ccccc21   \n",
       "3   CC(=O)[NH+]1CCN(c2ccc(OCC3COC(Cn4ccnc4)(c4ccc(...   \n",
       "4                   Cc1nccn1CC1CCc2c(c3ccccc3n2C)C1=O   \n",
       "..                                                ...   \n",
       "85                         CCC1(c2ccccc2)C(=O)NCNC1=O   \n",
       "86   CCOC(=O)[NH+]1CCC(=C2c3ccc(Cl)cc3CCc3cccnc32)CC1   \n",
       "87                 CCCSc1ccc2[n-]c(=NC(=O)OC)[n-]c2c1   \n",
       "88          CCC[NH+](CCC)S(=O)(=O)c1ccc(C(=O)[O-])cc1   \n",
       "89                 CC[NH+](CC)C(=S)SSC(=S)[NH+](CC)CC   \n",
       "\n",
       "                                   Standardized_InChI  DICTrank  \n",
       "0   InChI=1S/C19H22ClN5O/c20-16-5-3-6-17(15-16)23-...         1  \n",
       "1   InChI=1S/C15H13FO2/c1-10(15(17)18)12-7-8-13(14...         1  \n",
       "2   InChI=1S/C20H23N/c1-21(2)15-7-12-20-18-10-5-3-...         1  \n",
       "3   InChI=1S/C26H28Cl2N4O4/c1-19(33)31-10-12-32(13...         1  \n",
       "4   InChI=1S/C18H19N3O/c1-12-19-9-10-21(12)11-13-7...         1  \n",
       "..                                                ...       ...  \n",
       "85  InChI=1S/C12H14N2O2/c1-2-12(9-6-4-3-5-7-9)10(1...         0  \n",
       "86  InChI=1S/C22H23ClN2O2/c1-2-27-22(26)25-12-9-15...         0  \n",
       "87  InChI=1S/C12H14N3O2S/c1-3-6-18-8-4-5-9-10(7-8)...         0  \n",
       "88  InChI=1S/C13H19NO4S/c1-3-9-14(10-4-2)19(17,18)...         0  \n",
       "89  InChI=1S/C10H20N2S4/c1-5-11(6-2)9(13)15-16-10(...         0  \n",
       "\n",
       "[90 rows x 3 columns]"
      ]
     },
     "execution_count": 3,
     "metadata": {},
     "output_type": "execute_result"
    }
   ],
   "source": [
    "test_df"
   ]
  },
  {
   "cell_type": "code",
   "execution_count": null,
   "id": "adc73ff8",
   "metadata": {},
   "outputs": [],
   "source": []
  }
 ],
 "metadata": {
  "kernelspec": {
   "display_name": "Python 3 (ipykernel)",
   "language": "python",
   "name": "python3"
  },
  "language_info": {
   "codemirror_mode": {
    "name": "ipython",
    "version": 3
   },
   "file_extension": ".py",
   "mimetype": "text/x-python",
   "name": "python",
   "nbconvert_exporter": "python",
   "pygments_lexer": "ipython3",
   "version": "3.9.10"
  }
 },
 "nbformat": 4,
 "nbformat_minor": 5
}
