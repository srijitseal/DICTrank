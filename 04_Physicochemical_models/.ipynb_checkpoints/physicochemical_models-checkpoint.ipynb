{
 "cells": [
  {
   "cell_type": "code",
   "execution_count": 23,
   "id": "620d2eef",
   "metadata": {
    "scrolled": true
   },
   "outputs": [
    {
     "name": "stdout",
     "output_type": "stream",
     "text": [
      "INFO: Pandarallel will run on 76 workers.\n",
      "INFO: Pandarallel will use Memory file system to transfer data between the main process and workers.\n",
      "GeneExpressionSMILES\n",
      "sider\n",
      "MOA\n",
      "CellPaintingSMILES\n",
      "Cmax\n",
      "DICTrank\n",
      "1378\n",
      "2613\n",
      "1579\n"
     ]
    },
    {
     "name": "stderr",
     "output_type": "stream",
     "text": [
      "  1%|▍                                        | 16/1579 [00:00<02:18, 11.28it/s]"
     ]
    },
    {
     "name": "stdout",
     "output_type": "stream",
     "text": [
      "/home/ss2686/miniconda3/envs/my-rdkit-env/lib/python3.9/site-packages/numpy/core/fromnumeric.py:86: RuntimeWarning: overflow encountered in reduce\n",
      "  return ufunc.reduce(obj, axis, dtype, out, **passkwargs)\n"
     ]
    },
    {
     "name": "stderr",
     "output_type": "stream",
     "text": [
      " 12%|████▉                                   | 197/1579 [00:11<00:59, 23.15it/s]"
     ]
    },
    {
     "name": "stdout",
     "output_type": "stream",
     "text": [
      "/home/ss2686/miniconda3/envs/my-rdkit-env/lib/python3.9/site-packages/numpy/core/fromnumeric.py:86: RuntimeWarning: overflow encountered in reduce\n",
      "  return ufunc.reduce(obj, axis, dtype, out, **passkwargs)\n",
      "/home/ss2686/miniconda3/envs/my-rdkit-env/lib/python3.9/site-packages/numpy/core/fromnumeric.py:86: RuntimeWarning: overflow encountered in reduce\n",
      "  return ufunc.reduce(obj, axis, dtype, out, **passkwargs)\n",
      "/home/ss2686/miniconda3/envs/my-rdkit-env/lib/python3.9/site-packages/numpy/core/fromnumeric.py:86: RuntimeWarning: overflow encountered in reduce\n",
      "  return ufunc.reduce(obj, axis, dtype, out, **passkwargs)\n",
      "/home/ss2686/miniconda3/envs/my-rdkit-env/lib/python3.9/site-packages/numpy/core/fromnumeric.py:86: RuntimeWarning: overflow encountered in reduce\n",
      "  return ufunc.reduce(obj, axis, dtype, out, **passkwargs)\n",
      "/home/ss2686/miniconda3/envs/my-rdkit-env/lib/python3.9/site-packages/numpy/core/fromnumeric.py:86: RuntimeWarning: overflow encountered in reduce\n",
      "  return ufunc.reduce(obj, axis, dtype, out, **passkwargs)\n",
      "/home/ss2686/miniconda3/envs/my-rdkit-env/lib/python3.9/site-packages/numpy/core/fromnumeric.py:86: RuntimeWarning: overflow encountered in reduce\n",
      "  return ufunc.reduce(obj, axis, dtype, out, **passkwargs)\n",
      "/home/ss2686/miniconda3/envs/my-rdkit-env/lib/python3.9/site-packages/numpy/core/fromnumeric.py:86: RuntimeWarning: overflow encountered in reduce\n",
      "  return ufunc.reduce(obj, axis, dtype, out, **passkwargs)\n",
      "/home/ss2686/miniconda3/envs/my-rdkit-env/lib/python3.9/site-packages/numpy/core/fromnumeric.py:86: RuntimeWarning: overflow encountered in reduce\n",
      "  return ufunc.reduce(obj, axis, dtype, out, **passkwargs)\n",
      "/home/ss2686/miniconda3/envs/my-rdkit-env/lib/python3.9/site-packages/numpy/core/fromnumeric.py:86: RuntimeWarning: overflow encountered in reduce\n",
      "  return ufunc.reduce(obj, axis, dtype, out, **passkwargs)\n",
      "/home/ss2686/miniconda3/envs/my-rdkit-env/lib/python3.9/site-packages/numpy/core/fromnumeric.py:86: RuntimeWarning: overflow encountered in reduce\n",
      "  return ufunc.reduce(obj, axis, dtype, out, **passkwargs)\n",
      "/home/ss2686/miniconda3/envs/my-rdkit-env/lib/python3.9/site-packages/numpy/core/fromnumeric.py:86: RuntimeWarning: overflow encountered in reduce\n",
      "  return ufunc.reduce(obj, axis, dtype, out, **passkwargs)\n",
      "/home/ss2686/miniconda3/envs/my-rdkit-env/lib/python3.9/site-packages/numpy/core/fromnumeric.py:86: RuntimeWarning: overflow encountered in reduce\n",
      "  return ufunc.reduce(obj, axis, dtype, out, **passkwargs)\n",
      "/home/ss2686/miniconda3/envs/my-rdkit-env/lib/python3.9/site-packages/numpy/core/fromnumeric.py:86: RuntimeWarning: overflow encountered in reduce\n",
      "  return ufunc.reduce(obj, axis, dtype, out, **passkwargs)\n"
     ]
    },
    {
     "name": "stderr",
     "output_type": "stream",
     "text": [
      " 15%|█████▉                                  | 235/1579 [00:12<00:58, 23.15it/s]"
     ]
    },
    {
     "name": "stdout",
     "output_type": "stream",
     "text": [
      "/home/ss2686/miniconda3/envs/my-rdkit-env/lib/python3.9/site-packages/numpy/core/fromnumeric.py:86: RuntimeWarning: overflow encountered in reduce\n",
      "  return ufunc.reduce(obj, axis, dtype, out, **passkwargs)\n",
      "/home/ss2686/miniconda3/envs/my-rdkit-env/lib/python3.9/site-packages/numpy/core/fromnumeric.py:86: RuntimeWarning: overflow encountered in reduce\n",
      "  return ufunc.reduce(obj, axis, dtype, out, **passkwargs)\n"
     ]
    },
    {
     "name": "stderr",
     "output_type": "stream",
     "text": [
      " 26%|██████████▎                             | 409/1579 [00:21<00:44, 26.26it/s]"
     ]
    },
    {
     "name": "stdout",
     "output_type": "stream",
     "text": [
      "/home/ss2686/miniconda3/envs/my-rdkit-env/lib/python3.9/site-packages/numpy/core/fromnumeric.py:86: RuntimeWarning: overflow encountered in reduce\n",
      "  return ufunc.reduce(obj, axis, dtype, out, **passkwargs)\n",
      "/home/ss2686/miniconda3/envs/my-rdkit-env/lib/python3.9/site-packages/numpy/core/fromnumeric.py:86: RuntimeWarning: overflow encountered in reduce\n",
      "  return ufunc.reduce(obj, axis, dtype, out, **passkwargs)\n",
      "/home/ss2686/miniconda3/envs/my-rdkit-env/lib/python3.9/site-packages/numpy/core/fromnumeric.py:86: RuntimeWarning: overflow encountered in reduce\n",
      "  return ufunc.reduce(obj, axis, dtype, out, **passkwargs)\n",
      "/home/ss2686/miniconda3/envs/my-rdkit-env/lib/python3.9/site-packages/numpy/core/fromnumeric.py:86: RuntimeWarning: overflow encountered in reduce\n",
      "  return ufunc.reduce(obj, axis, dtype, out, **passkwargs)\n",
      "/home/ss2686/miniconda3/envs/my-rdkit-env/lib/python3.9/site-packages/numpy/core/fromnumeric.py:86: RuntimeWarning: overflow encountered in reduce\n",
      "  return ufunc.reduce(obj, axis, dtype, out, **passkwargs)\n"
     ]
    },
    {
     "name": "stderr",
     "output_type": "stream",
     "text": [
      " 36%|██████████████▌                         | 576/1579 [00:25<00:45, 22.25it/s]"
     ]
    },
    {
     "name": "stdout",
     "output_type": "stream",
     "text": [
      "/home/ss2686/miniconda3/envs/my-rdkit-env/lib/python3.9/site-packages/mordred/_matrix_attributes.py:251: RuntimeWarning: invalid value encountered in double_scalars\n",
      "  s += (eig.vec[i, eig.max] * eig.vec[j, eig.max]) ** -0.5\n",
      "/home/ss2686/miniconda3/envs/my-rdkit-env/lib/python3.9/site-packages/numpy/core/fromnumeric.py:86: RuntimeWarning: overflow encountered in reduce\n",
      "  return ufunc.reduce(obj, axis, dtype, out, **passkwargs)\n",
      "/home/ss2686/miniconda3/envs/my-rdkit-env/lib/python3.9/site-packages/numpy/core/fromnumeric.py:86: RuntimeWarning: overflow encountered in reduce\n",
      "  return ufunc.reduce(obj, axis, dtype, out, **passkwargs)\n",
      "/home/ss2686/miniconda3/envs/my-rdkit-env/lib/python3.9/site-packages/numpy/core/fromnumeric.py:86: RuntimeWarning: overflow encountered in reduce\n",
      "  return ufunc.reduce(obj, axis, dtype, out, **passkwargs)\n",
      "/home/ss2686/miniconda3/envs/my-rdkit-env/lib/python3.9/site-packages/numpy/core/fromnumeric.py:86: RuntimeWarning: overflow encountered in reduce\n",
      "  return ufunc.reduce(obj, axis, dtype, out, **passkwargs)\n",
      "/home/ss2686/miniconda3/envs/my-rdkit-env/lib/python3.9/site-packages/numpy/core/fromnumeric.py:86: RuntimeWarning: overflow encountered in reduce\n",
      "  return ufunc.reduce(obj, axis, dtype, out, **passkwargs)\n",
      "/home/ss2686/miniconda3/envs/my-rdkit-env/lib/python3.9/site-packages/numpy/core/fromnumeric.py:86: RuntimeWarning: overflow encountered in reduce\n",
      "  return ufunc.reduce(obj, axis, dtype, out, **passkwargs)\n",
      "/home/ss2686/miniconda3/envs/my-rdkit-env/lib/python3.9/site-packages/numpy/core/fromnumeric.py:86: RuntimeWarning: overflow encountered in reduce\n",
      "  return ufunc.reduce(obj, axis, dtype, out, **passkwargs)\n",
      "/home/ss2686/miniconda3/envs/my-rdkit-env/lib/python3.9/site-packages/numpy/core/fromnumeric.py:86: RuntimeWarning: overflow encountered in reduce\n",
      "  return ufunc.reduce(obj, axis, dtype, out, **passkwargs)\n"
     ]
    },
    {
     "name": "stderr",
     "output_type": "stream",
     "text": [
      " 37%|██████████████▉                         | 591/1579 [00:26<00:29, 33.03it/s]"
     ]
    },
    {
     "name": "stdout",
     "output_type": "stream",
     "text": [
      "/home/ss2686/miniconda3/envs/my-rdkit-env/lib/python3.9/site-packages/numpy/core/fromnumeric.py:86: RuntimeWarning: overflow encountered in reduce\n",
      "  return ufunc.reduce(obj, axis, dtype, out, **passkwargs)\n"
     ]
    },
    {
     "name": "stderr",
     "output_type": "stream",
     "text": [
      " 40%|███████████████▉                        | 629/1579 [00:27<00:27, 34.25it/s]"
     ]
    },
    {
     "name": "stdout",
     "output_type": "stream",
     "text": [
      "/home/ss2686/miniconda3/envs/my-rdkit-env/lib/python3.9/site-packages/numpy/core/fromnumeric.py:86: RuntimeWarning: overflow encountered in reduce\n",
      "  return ufunc.reduce(obj, axis, dtype, out, **passkwargs)\n"
     ]
    },
    {
     "name": "stderr",
     "output_type": "stream",
     "text": [
      " 42%|████████████████▊                       | 666/1579 [00:29<00:32, 28.44it/s]"
     ]
    },
    {
     "name": "stdout",
     "output_type": "stream",
     "text": [
      "/home/ss2686/miniconda3/envs/my-rdkit-env/lib/python3.9/site-packages/numpy/core/fromnumeric.py:86: RuntimeWarning: overflow encountered in reduce\n",
      "  return ufunc.reduce(obj, axis, dtype, out, **passkwargs)\n",
      "/home/ss2686/miniconda3/envs/my-rdkit-env/lib/python3.9/site-packages/numpy/core/fromnumeric.py:86: RuntimeWarning: overflow encountered in reduce\n",
      "  return ufunc.reduce(obj, axis, dtype, out, **passkwargs)\n",
      "/home/ss2686/miniconda3/envs/my-rdkit-env/lib/python3.9/site-packages/numpy/core/fromnumeric.py:86: RuntimeWarning: overflow encountered in reduce\n",
      "  return ufunc.reduce(obj, axis, dtype, out, **passkwargs)\n",
      "/home/ss2686/miniconda3/envs/my-rdkit-env/lib/python3.9/site-packages/numpy/core/fromnumeric.py:86: RuntimeWarning: overflow encountered in reduce\n",
      "  return ufunc.reduce(obj, axis, dtype, out, **passkwargs)\n",
      "/home/ss2686/miniconda3/envs/my-rdkit-env/lib/python3.9/site-packages/numpy/core/fromnumeric.py:86: RuntimeWarning: overflow encountered in reduce\n",
      "  return ufunc.reduce(obj, axis, dtype, out, **passkwargs)\n"
     ]
    },
    {
     "name": "stderr",
     "output_type": "stream",
     "text": [
      " 52%|████████████████████▉                   | 828/1579 [00:38<01:00, 12.41it/s]"
     ]
    },
    {
     "name": "stdout",
     "output_type": "stream",
     "text": [
      "/home/ss2686/miniconda3/envs/my-rdkit-env/lib/python3.9/site-packages/numpy/core/fromnumeric.py:86: RuntimeWarning: overflow encountered in reduce\n",
      "  return ufunc.reduce(obj, axis, dtype, out, **passkwargs)\n",
      "/home/ss2686/miniconda3/envs/my-rdkit-env/lib/python3.9/site-packages/numpy/core/fromnumeric.py:86: RuntimeWarning: overflow encountered in reduce\n",
      "  return ufunc.reduce(obj, axis, dtype, out, **passkwargs)\n",
      "/home/ss2686/miniconda3/envs/my-rdkit-env/lib/python3.9/site-packages/numpy/core/fromnumeric.py:86: RuntimeWarning: overflow encountered in reduce\n",
      "  return ufunc.reduce(obj, axis, dtype, out, **passkwargs)\n",
      "/home/ss2686/miniconda3/envs/my-rdkit-env/lib/python3.9/site-packages/numpy/core/fromnumeric.py:86: RuntimeWarning: overflow encountered in reduce\n",
      "  return ufunc.reduce(obj, axis, dtype, out, **passkwargs)\n",
      "/home/ss2686/miniconda3/envs/my-rdkit-env/lib/python3.9/site-packages/numpy/core/fromnumeric.py:86: RuntimeWarning: overflow encountered in reduce\n",
      "  return ufunc.reduce(obj, axis, dtype, out, **passkwargs)\n"
     ]
    },
    {
     "name": "stderr",
     "output_type": "stream",
     "text": [
      " 61%|████████████████████████▍               | 963/1579 [00:42<00:29, 20.74it/s]"
     ]
    },
    {
     "name": "stdout",
     "output_type": "stream",
     "text": [
      "/home/ss2686/miniconda3/envs/my-rdkit-env/lib/python3.9/site-packages/mordred/_matrix_attributes.py:251: RuntimeWarning: invalid value encountered in double_scalars\n",
      "  s += (eig.vec[i, eig.max] * eig.vec[j, eig.max]) ** -0.5\n",
      "/home/ss2686/miniconda3/envs/my-rdkit-env/lib/python3.9/site-packages/numpy/core/fromnumeric.py:86: RuntimeWarning: overflow encountered in reduce\n",
      "  return ufunc.reduce(obj, axis, dtype, out, **passkwargs)\n",
      "/home/ss2686/miniconda3/envs/my-rdkit-env/lib/python3.9/site-packages/numpy/core/fromnumeric.py:86: RuntimeWarning: overflow encountered in reduce\n",
      "  return ufunc.reduce(obj, axis, dtype, out, **passkwargs)\n",
      "/home/ss2686/miniconda3/envs/my-rdkit-env/lib/python3.9/site-packages/numpy/core/fromnumeric.py:86: RuntimeWarning: overflow encountered in reduce\n",
      "  return ufunc.reduce(obj, axis, dtype, out, **passkwargs)\n",
      "/home/ss2686/miniconda3/envs/my-rdkit-env/lib/python3.9/site-packages/numpy/core/fromnumeric.py:86: RuntimeWarning: overflow encountered in reduce\n",
      "  return ufunc.reduce(obj, axis, dtype, out, **passkwargs)\n",
      "/home/ss2686/miniconda3/envs/my-rdkit-env/lib/python3.9/site-packages/numpy/core/fromnumeric.py:86: RuntimeWarning: overflow encountered in reduce\n",
      "  return ufunc.reduce(obj, axis, dtype, out, **passkwargs)\n",
      "/home/ss2686/miniconda3/envs/my-rdkit-env/lib/python3.9/site-packages/numpy/core/fromnumeric.py:86: RuntimeWarning: overflow encountered in reduce\n",
      "  return ufunc.reduce(obj, axis, dtype, out, **passkwargs)\n"
     ]
    },
    {
     "name": "stderr",
     "output_type": "stream",
     "text": [
      " 71%|███████████████████████████▋           | 1123/1579 [00:49<00:27, 16.51it/s]"
     ]
    },
    {
     "name": "stdout",
     "output_type": "stream",
     "text": [
      "/home/ss2686/miniconda3/envs/my-rdkit-env/lib/python3.9/site-packages/numpy/core/fromnumeric.py:86: RuntimeWarning: overflow encountered in reduce\n",
      "  return ufunc.reduce(obj, axis, dtype, out, **passkwargs)\n",
      "/home/ss2686/miniconda3/envs/my-rdkit-env/lib/python3.9/site-packages/numpy/core/fromnumeric.py:86: RuntimeWarning: overflow encountered in reduce\n",
      "  return ufunc.reduce(obj, axis, dtype, out, **passkwargs)\n",
      "/home/ss2686/miniconda3/envs/my-rdkit-env/lib/python3.9/site-packages/numpy/core/fromnumeric.py:86: RuntimeWarning: overflow encountered in reduce\n",
      "  return ufunc.reduce(obj, axis, dtype, out, **passkwargs)\n",
      "/home/ss2686/miniconda3/envs/my-rdkit-env/lib/python3.9/site-packages/numpy/core/fromnumeric.py:86: RuntimeWarning: overflow encountered in reduce\n",
      "  return ufunc.reduce(obj, axis, dtype, out, **passkwargs)\n",
      "/home/ss2686/miniconda3/envs/my-rdkit-env/lib/python3.9/site-packages/numpy/core/fromnumeric.py:86: RuntimeWarning: overflow encountered in reduce\n",
      "  return ufunc.reduce(obj, axis, dtype, out, **passkwargs)\n",
      "/home/ss2686/miniconda3/envs/my-rdkit-env/lib/python3.9/site-packages/numpy/core/fromnumeric.py:86: RuntimeWarning: overflow encountered in reduce\n",
      "  return ufunc.reduce(obj, axis, dtype, out, **passkwargs)\n",
      "/home/ss2686/miniconda3/envs/my-rdkit-env/lib/python3.9/site-packages/numpy/core/fromnumeric.py:86: RuntimeWarning: overflow encountered in reduce\n",
      "  return ufunc.reduce(obj, axis, dtype, out, **passkwargs)\n"
     ]
    },
    {
     "name": "stderr",
     "output_type": "stream",
     "text": [
      " 72%|███████████████████████████▉           | 1129/1579 [00:50<00:15, 29.76it/s]"
     ]
    },
    {
     "name": "stdout",
     "output_type": "stream",
     "text": [
      "/home/ss2686/miniconda3/envs/my-rdkit-env/lib/python3.9/site-packages/numpy/core/fromnumeric.py:86: RuntimeWarning: overflow encountered in reduce\n",
      "  return ufunc.reduce(obj, axis, dtype, out, **passkwargs)\n"
     ]
    },
    {
     "name": "stderr",
     "output_type": "stream",
     "text": [
      " 81%|███████████████████████████████▊       | 1286/1579 [00:55<00:11, 24.88it/s]"
     ]
    },
    {
     "name": "stdout",
     "output_type": "stream",
     "text": [
      "/home/ss2686/miniconda3/envs/my-rdkit-env/lib/python3.9/site-packages/numpy/core/fromnumeric.py:86: RuntimeWarning: overflow encountered in reduce\n",
      "  return ufunc.reduce(obj, axis, dtype, out, **passkwargs)\n",
      "/home/ss2686/miniconda3/envs/my-rdkit-env/lib/python3.9/site-packages/numpy/core/fromnumeric.py:86: RuntimeWarning: overflow encountered in reduce\n",
      "  return ufunc.reduce(obj, axis, dtype, out, **passkwargs)\n"
     ]
    },
    {
     "name": "stderr",
     "output_type": "stream",
     "text": [
      " 90%|██████████████████████████████████▉    | 1417/1579 [01:00<00:06, 23.43it/s]"
     ]
    },
    {
     "name": "stdout",
     "output_type": "stream",
     "text": [
      "/home/ss2686/miniconda3/envs/my-rdkit-env/lib/python3.9/site-packages/numpy/core/fromnumeric.py:86: RuntimeWarning: overflow encountered in reduce\n",
      "  return ufunc.reduce(obj, axis, dtype, out, **passkwargs)\n",
      "/home/ss2686/miniconda3/envs/my-rdkit-env/lib/python3.9/site-packages/numpy/core/fromnumeric.py:86: RuntimeWarning: overflow encountered in reduce\n",
      "  return ufunc.reduce(obj, axis, dtype, out, **passkwargs)\n"
     ]
    },
    {
     "name": "stderr",
     "output_type": "stream",
     "text": [
      "100%|███████████████████████████████████████| 1579/1579 [01:12<00:00, 21.91it/s]\n"
     ]
    },
    {
     "name": "stdout",
     "output_type": "stream",
     "text": [
      "/home/ss2686/miniconda3/envs/my-rdkit-env/lib/python3.9/site-packages/numpy/core/fromnumeric.py:86: RuntimeWarning: overflow encountered in reduce\n",
      "  return ufunc.reduce(obj, axis, dtype, out, **passkwargs)\n",
      "/home/ss2686/miniconda3/envs/my-rdkit-env/lib/python3.9/site-packages/numpy/core/fromnumeric.py:86: RuntimeWarning: overflow encountered in reduce\n",
      "  return ufunc.reduce(obj, axis, dtype, out, **passkwargs)\n",
      "cardiotox_with_sider_inactives\n"
     ]
    },
    {
     "name": "stderr",
     "output_type": "stream",
     "text": [
      "Processing activities:   0%|                              | 0/1 [00:00<?, ?it/s]\n",
      "  0%|                                                  | 0/1049 [00:00<?, ?it/s]\u001b[A\n",
      "  0%|                                          | 1/1049 [00:00<05:04,  3.45it/s]\u001b[A\n",
      "  1%|▎                                         | 9/1049 [00:00<00:38, 27.17it/s]\u001b[A\n",
      "                                                                                \u001b[A\n",
      "Processing activities:   0%|                              | 0/1 [00:01<?, ?it/s]\n",
      "  5%|█▉                                       | 49/1049 [00:00<00:36, 27.65it/s]\u001b[A\n",
      "                                                                                \u001b[A\n",
      "Processing activities:   0%|                              | 0/1 [00:01<?, ?it/s]\n",
      "                                                                                \u001b[A\n",
      "Processing activities:   0%|                              | 0/1 [00:01<?, ?it/s]\n",
      "                                                                                \u001b[A\n",
      "Processing activities:   0%|                              | 0/1 [00:01<?, ?it/s]\n",
      " 11%|████▍                                   | 116/1049 [00:01<00:14, 63.81it/s]\u001b[A\n",
      " 11%|████▎                                  | 117/1049 [00:01<00:05, 163.01it/s]\u001b[A"
     ]
    },
    {
     "name": "stdout",
     "output_type": "stream",
     "text": [
      "/home/ss2686/miniconda3/envs/my-rdkit-env/lib/python3.9/site-packages/numpy/core/fromnumeric.py:86: RuntimeWarning: overflow encountered in reduce\n",
      "  return ufunc.reduce(obj, axis, dtype, out, **passkwargs)\n",
      "/home/ss2686/miniconda3/envs/my-rdkit-env/lib/python3.9/site-packages/numpy/core/fromnumeric.py:86: RuntimeWarning: overflow encountered in reduce\n",
      "  return ufunc.reduce(obj, axis, dtype, out, **passkwargs)\n",
      "/home/ss2686/miniconda3/envs/my-rdkit-env/lib/python3.9/site-packages/numpy/core/fromnumeric.py:86: RuntimeWarning: overflow encountered in reduce\n",
      "  return ufunc.reduce(obj, axis, dtype, out, **passkwargs)\n",
      "/home/ss2686/miniconda3/envs/my-rdkit-env/lib/python3.9/site-packages/numpy/core/fromnumeric.py:86: RuntimeWarning: overflow encountered in reduce\n",
      "  return ufunc.reduce(obj, axis, dtype, out, **passkwargs)\n"
     ]
    },
    {
     "name": "stderr",
     "output_type": "stream",
     "text": [
      "                                                                                \n",
      "Processing activities:   0%|                              | 0/1 [00:12<?, ?it/s]\n",
      " 15%|█████▉                                 | 161/1049 [00:11<00:05, 163.01it/s]\u001b[A\n",
      "                                                                                \u001b[A\n",
      "Processing activities:   0%|                              | 0/1 [00:12<?, ?it/s]\n",
      "                                                                                \u001b[A\n",
      "Processing activities:   0%|                              | 0/1 [00:12<?, ?it/s]\n",
      " 18%|███████                                 | 184/1049 [00:11<01:25, 10.09it/s]\u001b[A"
     ]
    },
    {
     "name": "stdout",
     "output_type": "stream",
     "text": [
      "/home/ss2686/miniconda3/envs/my-rdkit-env/lib/python3.9/site-packages/numpy/core/fromnumeric.py:86: RuntimeWarning: overflow encountered in reduce\n",
      "  return ufunc.reduce(obj, axis, dtype, out, **passkwargs)\n",
      "/home/ss2686/miniconda3/envs/my-rdkit-env/lib/python3.9/site-packages/numpy/core/fromnumeric.py:86: RuntimeWarning: overflow encountered in reduce\n",
      "  return ufunc.reduce(obj, axis, dtype, out, **passkwargs)\n",
      "/home/ss2686/miniconda3/envs/my-rdkit-env/lib/python3.9/site-packages/numpy/core/fromnumeric.py:86: RuntimeWarning: overflow encountered in reduce\n",
      "  return ufunc.reduce(obj, axis, dtype, out, **passkwargs)\n"
     ]
    },
    {
     "name": "stderr",
     "output_type": "stream",
     "text": [
      "\n",
      "                                                                                \u001b[A\n",
      "Processing activities:   0%|                              | 0/1 [00:14<?, ?it/s]\n",
      "                                                                                \u001b[A\n",
      "Processing activities:   0%|                              | 0/1 [00:14<?, ?it/s]\n",
      " 34%|█████████████▍                          | 352/1049 [00:14<00:23, 29.66it/s]\u001b[A\n",
      "                                                                                \u001b[A\n",
      "Processing activities:   0%|                              | 0/1 [00:14<?, ?it/s]\n",
      "                                                                                \u001b[A\n",
      "Processing activities:   0%|                              | 0/1 [00:14<?, ?it/s]\n",
      "                                                                                \u001b[A\n",
      "Processing activities:   0%|                              | 0/1 [00:14<?, ?it/s]\n",
      " 40%|███████████████▉                        | 418/1049 [00:14<00:23, 26.90it/s]\u001b[A"
     ]
    },
    {
     "name": "stdout",
     "output_type": "stream",
     "text": [
      "/home/ss2686/miniconda3/envs/my-rdkit-env/lib/python3.9/site-packages/numpy/core/fromnumeric.py:86: RuntimeWarning: overflow encountered in reduce\n",
      "  return ufunc.reduce(obj, axis, dtype, out, **passkwargs)\n",
      "/home/ss2686/miniconda3/envs/my-rdkit-env/lib/python3.9/site-packages/numpy/core/fromnumeric.py:86: RuntimeWarning: overflow encountered in reduce\n",
      "  return ufunc.reduce(obj, axis, dtype, out, **passkwargs)\n",
      "/home/ss2686/miniconda3/envs/my-rdkit-env/lib/python3.9/site-packages/numpy/core/fromnumeric.py:86: RuntimeWarning: overflow encountered in reduce\n",
      "  return ufunc.reduce(obj, axis, dtype, out, **passkwargs)\n",
      "/home/ss2686/miniconda3/envs/my-rdkit-env/lib/python3.9/site-packages/numpy/core/fromnumeric.py:86: RuntimeWarning: overflow encountered in reduce\n",
      "  return ufunc.reduce(obj, axis, dtype, out, **passkwargs)\n",
      "/home/ss2686/miniconda3/envs/my-rdkit-env/lib/python3.9/site-packages/numpy/core/fromnumeric.py:86: RuntimeWarning: overflow encountered in reduce\n",
      "  return ufunc.reduce(obj, axis, dtype, out, **passkwargs)\n"
     ]
    },
    {
     "name": "stderr",
     "output_type": "stream",
     "text": [
      "                                                                                \n",
      "Processing activities:   0%|                              | 0/1 [00:17<?, ?it/s]\n",
      " 40%|████████████████                        | 421/1049 [00:16<00:23, 26.90it/s]\u001b[A\n",
      "                                                                                \u001b[A\n",
      "Processing activities:   0%|                              | 0/1 [00:17<?, ?it/s]\n",
      "                                                                                \u001b[A\n",
      "Processing activities:   0%|                              | 0/1 [00:17<?, ?it/s]\n",
      "                                                                                \u001b[A\n",
      "Processing activities:   0%|                              | 0/1 [00:17<?, ?it/s]\n",
      "                                                                                \u001b[A\n",
      "Processing activities:   0%|                              | 0/1 [00:17<?, ?it/s]\n",
      "                                                                                \u001b[A\n",
      "Processing activities:   0%|                              | 0/1 [00:17<?, ?it/s]\n",
      "                                                                                \u001b[A\n",
      "Processing activities:   0%|                              | 0/1 [00:17<?, ?it/s]\n",
      "                                                                                \u001b[A\n",
      "Processing activities:   0%|                              | 0/1 [00:17<?, ?it/s]\n",
      "                                                                                \u001b[A\n",
      "Processing activities:   0%|                              | 0/1 [00:17<?, ?it/s]\n",
      "                                                                                \u001b[A\n",
      "Processing activities:   0%|                              | 0/1 [00:17<?, ?it/s]\n",
      "                                                                                \u001b[A\n",
      "Processing activities:   0%|                              | 0/1 [00:17<?, ?it/s]\n",
      "                                                                                \u001b[A\n",
      "Processing activities:   0%|                              | 0/1 [00:17<?, ?it/s]\n",
      "                                                                                \u001b[A\n",
      "Processing activities:   0%|                              | 0/1 [00:17<?, ?it/s]\n",
      "                                                                                \u001b[A\n",
      "Processing activities:   0%|                              | 0/1 [00:17<?, ?it/s]\n",
      "                                                                                \u001b[A\n",
      "Processing activities:   0%|                              | 0/1 [00:17<?, ?it/s]\n",
      "                                                                                \u001b[A\n",
      "Processing activities:   0%|                              | 0/1 [00:17<?, ?it/s]\n",
      " 50%|███████████████████▊                    | 521/1049 [00:16<00:20, 25.86it/s]\u001b[A"
     ]
    },
    {
     "name": "stdout",
     "output_type": "stream",
     "text": [
      "/home/ss2686/miniconda3/envs/my-rdkit-env/lib/python3.9/site-packages/numpy/core/fromnumeric.py:86: RuntimeWarning: overflow encountered in reduce\n",
      "  return ufunc.reduce(obj, axis, dtype, out, **passkwargs)\n",
      "/home/ss2686/miniconda3/envs/my-rdkit-env/lib/python3.9/site-packages/numpy/core/fromnumeric.py:86: RuntimeWarning: overflow encountered in reduce\n",
      "  return ufunc.reduce(obj, axis, dtype, out, **passkwargs)\n",
      "/home/ss2686/miniconda3/envs/my-rdkit-env/lib/python3.9/site-packages/numpy/core/fromnumeric.py:86: RuntimeWarning: overflow encountered in reduce\n",
      "  return ufunc.reduce(obj, axis, dtype, out, **passkwargs)\n",
      "/home/ss2686/miniconda3/envs/my-rdkit-env/lib/python3.9/site-packages/numpy/core/fromnumeric.py:86: RuntimeWarning: overflow encountered in reduce\n",
      "  return ufunc.reduce(obj, axis, dtype, out, **passkwargs)\n",
      "/home/ss2686/miniconda3/envs/my-rdkit-env/lib/python3.9/site-packages/numpy/core/fromnumeric.py:86: RuntimeWarning: overflow encountered in reduce\n",
      "  return ufunc.reduce(obj, axis, dtype, out, **passkwargs)\n",
      "/home/ss2686/miniconda3/envs/my-rdkit-env/lib/python3.9/site-packages/numpy/core/fromnumeric.py:86: RuntimeWarning: overflow encountered in reduce\n",
      "  return ufunc.reduce(obj, axis, dtype, out, **passkwargs)\n",
      "/home/ss2686/miniconda3/envs/my-rdkit-env/lib/python3.9/site-packages/numpy/core/fromnumeric.py:86: RuntimeWarning: overflow encountered in reduce\n",
      "  return ufunc.reduce(obj, axis, dtype, out, **passkwargs)\n",
      "/home/ss2686/miniconda3/envs/my-rdkit-env/lib/python3.9/site-packages/numpy/core/fromnumeric.py:86: RuntimeWarning: overflow encountered in reduce\n",
      "  return ufunc.reduce(obj, axis, dtype, out, **passkwargs)\n",
      "/home/ss2686/miniconda3/envs/my-rdkit-env/lib/python3.9/site-packages/numpy/core/fromnumeric.py:86: RuntimeWarning: overflow encountered in reduce\n",
      "  return ufunc.reduce(obj, axis, dtype, out, **passkwargs)\n",
      "/home/ss2686/miniconda3/envs/my-rdkit-env/lib/python3.9/site-packages/numpy/core/fromnumeric.py:86: RuntimeWarning: overflow encountered in reduce\n",
      "  return ufunc.reduce(obj, axis, dtype, out, **passkwargs)\n",
      "/home/ss2686/miniconda3/envs/my-rdkit-env/lib/python3.9/site-packages/numpy/core/fromnumeric.py:86: RuntimeWarning: overflow encountered in reduce\n",
      "  return ufunc.reduce(obj, axis, dtype, out, **passkwargs)\n",
      "/home/ss2686/miniconda3/envs/my-rdkit-env/lib/python3.9/site-packages/numpy/core/fromnumeric.py:86: RuntimeWarning: overflow encountered in reduce\n",
      "  return ufunc.reduce(obj, axis, dtype, out, **passkwargs)\n",
      "/home/ss2686/miniconda3/envs/my-rdkit-env/lib/python3.9/site-packages/numpy/core/fromnumeric.py:86: RuntimeWarning: overflow encountered in reduce\n",
      "  return ufunc.reduce(obj, axis, dtype, out, **passkwargs)\n",
      "/home/ss2686/miniconda3/envs/my-rdkit-env/lib/python3.9/site-packages/numpy/core/fromnumeric.py:86: RuntimeWarning: overflow encountered in reduce\n",
      "  return ufunc.reduce(obj, axis, dtype, out, **passkwargs)\n",
      "/home/ss2686/miniconda3/envs/my-rdkit-env/lib/python3.9/site-packages/numpy/core/fromnumeric.py:86: RuntimeWarning: overflow encountered in reduce\n",
      "  return ufunc.reduce(obj, axis, dtype, out, **passkwargs)\n",
      "/home/ss2686/miniconda3/envs/my-rdkit-env/lib/python3.9/site-packages/numpy/core/fromnumeric.py:86: RuntimeWarning: overflow encountered in reduce\n",
      "  return ufunc.reduce(obj, axis, dtype, out, **passkwargs)\n"
     ]
    },
    {
     "name": "stderr",
     "output_type": "stream",
     "text": [
      "                                                                                \n",
      "Processing activities:   0%|                              | 0/1 [00:27<?, ?it/s]\n",
      " 50%|███████████████████▉                    | 523/1049 [00:26<00:20, 25.86it/s]\u001b[A\n",
      "                                                                                \u001b[A\n",
      "Processing activities:   0%|                              | 0/1 [00:27<?, ?it/s]\n",
      "                                                                                \u001b[A\n",
      "Processing activities:   0%|                              | 0/1 [00:27<?, ?it/s]\n",
      "                                                                                \u001b[A\n",
      "Processing activities:   0%|                              | 0/1 [00:27<?, ?it/s]\n",
      "                                                                                \u001b[A\n",
      "Processing activities:   0%|                              | 0/1 [00:27<?, ?it/s]\n",
      " 58%|███████████████████████                 | 606/1049 [00:26<00:27, 16.31it/s]\u001b[A"
     ]
    },
    {
     "name": "stdout",
     "output_type": "stream",
     "text": [
      "/home/ss2686/miniconda3/envs/my-rdkit-env/lib/python3.9/site-packages/numpy/core/fromnumeric.py:86: RuntimeWarning: overflow encountered in reduce\n",
      "  return ufunc.reduce(obj, axis, dtype, out, **passkwargs)\n",
      "/home/ss2686/miniconda3/envs/my-rdkit-env/lib/python3.9/site-packages/numpy/core/fromnumeric.py:86: RuntimeWarning: overflow encountered in reduce\n",
      "  return ufunc.reduce(obj, axis, dtype, out, **passkwargs)\n",
      "/home/ss2686/miniconda3/envs/my-rdkit-env/lib/python3.9/site-packages/numpy/core/fromnumeric.py:86: RuntimeWarning: overflow encountered in reduce\n",
      "  return ufunc.reduce(obj, axis, dtype, out, **passkwargs)\n",
      "/home/ss2686/miniconda3/envs/my-rdkit-env/lib/python3.9/site-packages/numpy/core/fromnumeric.py:86: RuntimeWarning: overflow encountered in reduce\n",
      "  return ufunc.reduce(obj, axis, dtype, out, **passkwargs)\n",
      "/home/ss2686/miniconda3/envs/my-rdkit-env/lib/python3.9/site-packages/numpy/core/fromnumeric.py:86: RuntimeWarning: overflow encountered in reduce\n",
      "  return ufunc.reduce(obj, axis, dtype, out, **passkwargs)\n"
     ]
    },
    {
     "name": "stderr",
     "output_type": "stream",
     "text": [
      "\n",
      "                                                                                \u001b[A\n",
      "Processing activities:   0%|                              | 0/1 [00:28<?, ?it/s]\n",
      "                                                                                \u001b[A\n",
      "Processing activities:   0%|                              | 0/1 [00:28<?, ?it/s]\n",
      " 66%|██████████████████████████▎             | 691/1049 [00:27<00:15, 23.00it/s]\u001b[A"
     ]
    },
    {
     "name": "stdout",
     "output_type": "stream",
     "text": [
      "/home/ss2686/miniconda3/envs/my-rdkit-env/lib/python3.9/site-packages/numpy/core/fromnumeric.py:86: RuntimeWarning: overflow encountered in reduce\n",
      "  return ufunc.reduce(obj, axis, dtype, out, **passkwargs)\n",
      "/home/ss2686/miniconda3/envs/my-rdkit-env/lib/python3.9/site-packages/numpy/core/fromnumeric.py:86: RuntimeWarning: overflow encountered in reduce\n",
      "  return ufunc.reduce(obj, axis, dtype, out, **passkwargs)\n"
     ]
    },
    {
     "name": "stderr",
     "output_type": "stream",
     "text": [
      "                                                                                \n",
      "Processing activities:   0%|                              | 0/1 [00:29<?, ?it/s]\n",
      " 66%|██████████████████████████▌             | 696/1049 [00:28<00:15, 23.00it/s]\u001b[A\n",
      " 66%|██████████████████████████▌             | 697/1049 [00:28<00:12, 28.96it/s]\u001b[A"
     ]
    },
    {
     "name": "stdout",
     "output_type": "stream",
     "text": [
      "/home/ss2686/miniconda3/envs/my-rdkit-env/lib/python3.9/site-packages/numpy/core/fromnumeric.py:86: RuntimeWarning: overflow encountered in reduce\n",
      "  return ufunc.reduce(obj, axis, dtype, out, **passkwargs)\n"
     ]
    },
    {
     "name": "stderr",
     "output_type": "stream",
     "text": [
      "                                                                                \n",
      "Processing activities:   0%|                              | 0/1 [00:37<?, ?it/s]\n",
      " 68%|███████████████████████████▏            | 712/1049 [00:36<00:11, 28.96it/s]\u001b[A\n",
      "                                                                                \u001b[A\n",
      "Processing activities:   0%|                              | 0/1 [00:37<?, ?it/s]\n",
      "                                                                                \u001b[A\n",
      "Processing activities:   0%|                              | 0/1 [00:37<?, ?it/s]\n",
      " 76%|██████████████████████████████▌         | 802/1049 [00:36<00:18, 13.65it/s]\u001b[A\n",
      "                                                                                \u001b[A\n",
      "Processing activities:   0%|                              | 0/1 [00:37<?, ?it/s]\n",
      "                                                                                \u001b[A\n",
      "Processing activities:   0%|                              | 0/1 [00:37<?, ?it/s]\n",
      "                                                                                \u001b[A\n",
      "Processing activities:   0%|                              | 0/1 [00:37<?, ?it/s]\n",
      " 83%|█████████████████████████████████▎      | 872/1049 [00:36<00:06, 26.35it/s]\u001b[A"
     ]
    },
    {
     "name": "stdout",
     "output_type": "stream",
     "text": [
      "/home/ss2686/miniconda3/envs/my-rdkit-env/lib/python3.9/site-packages/numpy/core/fromnumeric.py:86: RuntimeWarning: overflow encountered in reduce\n",
      "  return ufunc.reduce(obj, axis, dtype, out, **passkwargs)\n",
      "/home/ss2686/miniconda3/envs/my-rdkit-env/lib/python3.9/site-packages/numpy/core/fromnumeric.py:86: RuntimeWarning: overflow encountered in reduce\n",
      "  return ufunc.reduce(obj, axis, dtype, out, **passkwargs)\n",
      "/home/ss2686/miniconda3/envs/my-rdkit-env/lib/python3.9/site-packages/numpy/core/fromnumeric.py:86: RuntimeWarning: overflow encountered in reduce\n",
      "  return ufunc.reduce(obj, axis, dtype, out, **passkwargs)\n",
      "/home/ss2686/miniconda3/envs/my-rdkit-env/lib/python3.9/site-packages/numpy/core/fromnumeric.py:86: RuntimeWarning: overflow encountered in reduce\n",
      "  return ufunc.reduce(obj, axis, dtype, out, **passkwargs)\n",
      "/home/ss2686/miniconda3/envs/my-rdkit-env/lib/python3.9/site-packages/numpy/core/fromnumeric.py:86: RuntimeWarning: overflow encountered in reduce\n",
      "  return ufunc.reduce(obj, axis, dtype, out, **passkwargs)\n",
      "/home/ss2686/miniconda3/envs/my-rdkit-env/lib/python3.9/site-packages/mordred/_matrix_attributes.py:251: RuntimeWarning: invalid value encountered in double_scalars\n",
      "  s += (eig.vec[i, eig.max] * eig.vec[j, eig.max]) ** -0.5\n"
     ]
    },
    {
     "name": "stderr",
     "output_type": "stream",
     "text": [
      "                                                                                \n",
      "Processing activities:   0%|                              | 0/1 [00:38<?, ?it/s]\n",
      " 83%|█████████████████████████████████▎      | 875/1049 [00:37<00:06, 26.35it/s]\u001b[A"
     ]
    },
    {
     "name": "stdout",
     "output_type": "stream",
     "text": [
      "/home/ss2686/miniconda3/envs/my-rdkit-env/lib/python3.9/site-packages/numpy/core/fromnumeric.py:86: RuntimeWarning: overflow encountered in reduce\n",
      "  return ufunc.reduce(obj, axis, dtype, out, **passkwargs)\n"
     ]
    },
    {
     "name": "stderr",
     "output_type": "stream",
     "text": [
      "\n",
      "                                                                                \u001b[A\n",
      "Processing activities:   0%|                              | 0/1 [00:48<?, ?it/s]\n",
      "                                                                                \u001b[A\n",
      "Processing activities:   0%|                              | 0/1 [00:48<?, ?it/s]\n",
      "                                                                                \u001b[A\n",
      "Processing activities:   0%|                              | 0/1 [00:48<?, ?it/s]\n",
      " 94%|█████████████████████████████████████▋  | 987/1049 [00:47<00:04, 12.86it/s]\u001b[A"
     ]
    },
    {
     "name": "stdout",
     "output_type": "stream",
     "text": [
      "/home/ss2686/miniconda3/envs/my-rdkit-env/lib/python3.9/site-packages/numpy/core/fromnumeric.py:86: RuntimeWarning: overflow encountered in reduce\n",
      "  return ufunc.reduce(obj, axis, dtype, out, **passkwargs)\n",
      "/home/ss2686/miniconda3/envs/my-rdkit-env/lib/python3.9/site-packages/numpy/core/fromnumeric.py:86: RuntimeWarning: overflow encountered in reduce\n",
      "  return ufunc.reduce(obj, axis, dtype, out, **passkwargs)\n",
      "/home/ss2686/miniconda3/envs/my-rdkit-env/lib/python3.9/site-packages/numpy/core/fromnumeric.py:86: RuntimeWarning: overflow encountered in reduce\n",
      "  return ufunc.reduce(obj, axis, dtype, out, **passkwargs)\n"
     ]
    },
    {
     "name": "stderr",
     "output_type": "stream",
     "text": [
      "\n",
      "100%|███████████████████████████████████████| 1049/1049 [00:48<00:00, 21.72it/s]\u001b[A\n",
      "\n",
      "  0%|                                                   | 0/204 [00:00<?, ?it/s]\u001b[A\n",
      "  0%|▏                                          | 1/204 [00:00<00:31,  6.35it/s]\u001b[A\n",
      "  1%|▋                                          | 3/204 [00:00<00:20,  9.73it/s]\u001b[A\n",
      "                                                                                \n",
      "Processing activities:   0%|                              | 0/1 [00:51<?, ?it/s]\u001b[A\n",
      "  4%|█▋                                         | 8/204 [00:01<00:26,  7.30it/s]\u001b[A\n",
      "                                                                                \n",
      "Processing activities:   0%|                              | 0/1 [00:51<?, ?it/s]\u001b[A"
     ]
    },
    {
     "name": "stdout",
     "output_type": "stream",
     "text": [
      "/home/ss2686/miniconda3/envs/my-rdkit-env/lib/python3.9/site-packages/numpy/core/fromnumeric.py:86: RuntimeWarning: overflow encountered in reduce\n",
      "  return ufunc.reduce(obj, axis, dtype, out, **passkwargs)\n",
      "/home/ss2686/miniconda3/envs/my-rdkit-env/lib/python3.9/site-packages/numpy/core/fromnumeric.py:86: RuntimeWarning: overflow encountered in reduce\n",
      "  return ufunc.reduce(obj, axis, dtype, out, **passkwargs)\n"
     ]
    },
    {
     "name": "stderr",
     "output_type": "stream",
     "text": [
      "\n",
      "                                                                                \n",
      "Processing activities:   0%|                              | 0/1 [00:51<?, ?it/s]\u001b[A\n",
      " 44%|██████████████████▌                       | 90/204 [00:01<00:01, 68.40it/s]\u001b[A\n",
      "                                                                                \n",
      "Processing activities:   0%|                              | 0/1 [00:51<?, ?it/s]\u001b[A\n",
      "                                                                                \n",
      "Processing activities:   0%|                              | 0/1 [00:51<?, ?it/s]\u001b[A"
     ]
    },
    {
     "name": "stdout",
     "output_type": "stream",
     "text": [
      "/home/ss2686/miniconda3/envs/my-rdkit-env/lib/python3.9/site-packages/numpy/core/fromnumeric.py:86: RuntimeWarning: overflow encountered in reduce\n",
      "  return ufunc.reduce(obj, axis, dtype, out, **passkwargs)\n",
      "/home/ss2686/miniconda3/envs/my-rdkit-env/lib/python3.9/site-packages/numpy/core/fromnumeric.py:86: RuntimeWarning: overflow encountered in reduce\n",
      "  return ufunc.reduce(obj, axis, dtype, out, **passkwargs)\n",
      "/home/ss2686/miniconda3/envs/my-rdkit-env/lib/python3.9/site-packages/numpy/core/fromnumeric.py:86: RuntimeWarning: overflow encountered in reduce\n",
      "  return ufunc.reduce(obj, axis, dtype, out, **passkwargs)\n"
     ]
    },
    {
     "name": "stderr",
     "output_type": "stream",
     "text": [
      "\n",
      "                                                                                \n",
      "Processing activities:   0%|                              | 0/1 [00:53<?, ?it/s]\u001b[A\n",
      " 64%|██████████████████████████▏              | 130/204 [00:03<00:02, 33.95it/s]\u001b[A\n",
      "                                                                                \n",
      "Processing activities:   0%|                              | 0/1 [00:53<?, ?it/s]\u001b[A\n",
      "                                                                                \n",
      "Processing activities:   0%|                              | 0/1 [00:53<?, ?it/s]\u001b[A\n",
      "                                                                                \n",
      "Processing activities:   0%|                              | 0/1 [00:53<?, ?it/s]\u001b[A\n",
      "                                                                                \n",
      "Processing activities:   0%|                              | 0/1 [00:53<?, ?it/s]\u001b[A\n",
      "                                                                                \n",
      "Processing activities:   0%|                              | 0/1 [00:53<?, ?it/s]\u001b[A\n",
      "                                                                                \n",
      "Processing activities:   0%|                              | 0/1 [00:54<?, ?it/s]\u001b[A\n",
      "                                                                                \n",
      "100%|█████████████████████████████████████████| 204/204 [00:03<00:00, 53.98it/s]\u001b[A\n"
     ]
    },
    {
     "name": "stdout",
     "output_type": "stream",
     "text": [
      "/home/ss2686/miniconda3/envs/my-rdkit-env/lib/python3.9/site-packages/numpy/core/fromnumeric.py:86: RuntimeWarning: overflow encountered in reduce\n",
      "  return ufunc.reduce(obj, axis, dtype, out, **passkwargs)\n",
      "/home/ss2686/miniconda3/envs/my-rdkit-env/lib/python3.9/site-packages/numpy/core/fromnumeric.py:86: RuntimeWarning: overflow encountered in reduce\n",
      "  return ufunc.reduce(obj, axis, dtype, out, **passkwargs)\n",
      "/home/ss2686/miniconda3/envs/my-rdkit-env/lib/python3.9/site-packages/numpy/core/fromnumeric.py:86: RuntimeWarning: overflow encountered in reduce\n",
      "  return ufunc.reduce(obj, axis, dtype, out, **passkwargs)\n",
      "/home/ss2686/miniconda3/envs/my-rdkit-env/lib/python3.9/site-packages/numpy/core/fromnumeric.py:86: RuntimeWarning: overflow encountered in reduce\n",
      "  return ufunc.reduce(obj, axis, dtype, out, **passkwargs)\n",
      "/home/ss2686/miniconda3/envs/my-rdkit-env/lib/python3.9/site-packages/numpy/core/fromnumeric.py:86: RuntimeWarning: overflow encountered in reduce\n",
      "  return ufunc.reduce(obj, axis, dtype, out, **passkwargs)\n",
      "/home/ss2686/miniconda3/envs/my-rdkit-env/lib/python3.9/site-packages/numpy/core/fromnumeric.py:86: RuntimeWarning: overflow encountered in reduce\n",
      "  return ufunc.reduce(obj, axis, dtype, out, **passkwargs)\n",
      "/home/ss2686/miniconda3/envs/my-rdkit-env/lib/python3.9/site-packages/numpy/core/fromnumeric.py:86: RuntimeWarning: overflow encountered in reduce\n",
      "  return ufunc.reduce(obj, axis, dtype, out, **passkwargs)\n",
      "/home/ss2686/miniconda3/envs/my-rdkit-env/lib/python3.9/site-packages/numpy/core/fromnumeric.py:86: RuntimeWarning: overflow encountered in reduce\n",
      "  return ufunc.reduce(obj, axis, dtype, out, **passkwargs)\n",
      "n_iterations: 4\n",
      "n_required_iterations: 4\n",
      "n_possible_iterations: 4\n",
      "min_resources_: 20\n",
      "max_resources_: 1049\n",
      "aggressive_elimination: False\n",
      "factor: 3\n",
      "----------\n",
      "iter: 0\n",
      "n_candidates: 52\n",
      "n_resources: 20\n",
      "Fitting 5 folds for each of 52 candidates, totalling 260 fits\n",
      "----------\n",
      "iter: 1\n",
      "n_candidates: 18\n",
      "n_resources: 60\n",
      "Fitting 5 folds for each of 18 candidates, totalling 90 fits\n",
      "----------\n",
      "iter: 2\n",
      "n_candidates: 6\n",
      "n_resources: 180\n",
      "Fitting 5 folds for each of 6 candidates, totalling 30 fits\n",
      "----------\n",
      "iter: 3\n",
      "n_candidates: 2\n",
      "n_resources: 540\n",
      "Fitting 5 folds for each of 2 candidates, totalling 10 fits\n"
     ]
    },
    {
     "name": "stderr",
     "output_type": "stream",
     "text": [
      "Processing activities: 100%|██████████████████████| 1/1 [01:06<00:00, 66.15s/it]\n"
     ]
    },
    {
     "name": "stdout",
     "output_type": "stream",
     "text": [
      "cardiotox_with_sider_actives\n"
     ]
    },
    {
     "name": "stderr",
     "output_type": "stream",
     "text": [
      "Processing activities:   0%|                              | 0/1 [00:00<?, ?it/s]\n",
      "  0%|                                                  | 0/1129 [00:00<?, ?it/s]\u001b[A\n",
      "  0%|                                          | 1/1129 [00:00<05:31,  3.41it/s]\u001b[A\n",
      "                                                                                \u001b[A\n",
      "Processing activities:   0%|                              | 0/1 [00:02<?, ?it/s]\n",
      "  5%|█▉                                       | 55/1129 [00:01<12:17,  1.46it/s]\u001b[A"
     ]
    },
    {
     "name": "stdout",
     "output_type": "stream",
     "text": [
      "/home/ss2686/miniconda3/envs/my-rdkit-env/lib/python3.9/site-packages/numpy/core/fromnumeric.py:86: RuntimeWarning: overflow encountered in reduce\n",
      "  return ufunc.reduce(obj, axis, dtype, out, **passkwargs)\n"
     ]
    },
    {
     "name": "stderr",
     "output_type": "stream",
     "text": [
      "\n",
      "                                                                                \u001b[A\n",
      "Processing activities:   0%|                              | 0/1 [00:02<?, ?it/s]\n",
      "                                                                                \u001b[A\n",
      "Processing activities:   0%|                              | 0/1 [00:02<?, ?it/s]\n",
      " 14%|█████▍                                 | 159/1129 [00:01<00:07, 128.81it/s]\u001b[A"
     ]
    },
    {
     "name": "stdout",
     "output_type": "stream",
     "text": [
      "/home/ss2686/miniconda3/envs/my-rdkit-env/lib/python3.9/site-packages/numpy/core/fromnumeric.py:86: RuntimeWarning: overflow encountered in reduce\n",
      "  return ufunc.reduce(obj, axis, dtype, out, **passkwargs)\n",
      "/home/ss2686/miniconda3/envs/my-rdkit-env/lib/python3.9/site-packages/numpy/core/fromnumeric.py:86: RuntimeWarning: overflow encountered in reduce\n",
      "  return ufunc.reduce(obj, axis, dtype, out, **passkwargs)\n"
     ]
    },
    {
     "name": "stderr",
     "output_type": "stream",
     "text": [
      "\n",
      " 15%|█████▊                                 | 167/1129 [00:01<00:07, 126.22it/s]\u001b[A\n",
      " 17%|██████▍                                | 188/1129 [00:02<00:08, 114.92it/s]\u001b[A\n",
      "                                                                                \u001b[A\n",
      "Processing activities:   0%|                              | 0/1 [00:03<?, ?it/s]\n",
      " 20%|████████▏                               | 231/1129 [00:02<00:09, 98.87it/s]\u001b[A"
     ]
    },
    {
     "name": "stdout",
     "output_type": "stream",
     "text": [
      "/home/ss2686/miniconda3/envs/my-rdkit-env/lib/python3.9/site-packages/numpy/core/fromnumeric.py:86: RuntimeWarning: overflow encountered in reduce\n",
      "  return ufunc.reduce(obj, axis, dtype, out, **passkwargs)\n"
     ]
    },
    {
     "name": "stderr",
     "output_type": "stream",
     "text": [
      "                                                                                \n",
      "Processing activities:   0%|                              | 0/1 [00:04<?, ?it/s]\n",
      " 22%|████████▉                               | 251/1129 [00:03<00:08, 98.87it/s]\u001b[A\n",
      "                                                                                \u001b[A\n",
      "Processing activities:   0%|                              | 0/1 [00:04<?, ?it/s]\n",
      "                                                                                \u001b[A\n",
      "Processing activities:   0%|                              | 0/1 [00:04<?, ?it/s]\n",
      "                                                                                \u001b[A\n",
      "Processing activities:   0%|                              | 0/1 [00:04<?, ?it/s]\n",
      " 27%|██████████▋                             | 300/1129 [00:03<00:15, 53.19it/s]\u001b[A"
     ]
    },
    {
     "name": "stdout",
     "output_type": "stream",
     "text": [
      "/home/ss2686/miniconda3/envs/my-rdkit-env/lib/python3.9/site-packages/numpy/core/fromnumeric.py:86: RuntimeWarning: overflow encountered in reduce\n",
      "  return ufunc.reduce(obj, axis, dtype, out, **passkwargs)\n",
      "/home/ss2686/miniconda3/envs/my-rdkit-env/lib/python3.9/site-packages/numpy/core/fromnumeric.py:86: RuntimeWarning: overflow encountered in reduce\n",
      "  return ufunc.reduce(obj, axis, dtype, out, **passkwargs)\n",
      "/home/ss2686/miniconda3/envs/my-rdkit-env/lib/python3.9/site-packages/numpy/core/fromnumeric.py:86: RuntimeWarning: overflow encountered in reduce\n",
      "  return ufunc.reduce(obj, axis, dtype, out, **passkwargs)\n",
      "/home/ss2686/miniconda3/envs/my-rdkit-env/lib/python3.9/site-packages/numpy/core/fromnumeric.py:86: RuntimeWarning: overflow encountered in reduce\n",
      "  return ufunc.reduce(obj, axis, dtype, out, **passkwargs)\n"
     ]
    },
    {
     "name": "stderr",
     "output_type": "stream",
     "text": [
      "                                                                                \n",
      "Processing activities:   0%|                              | 0/1 [00:07<?, ?it/s]\n",
      "                                                                                \u001b[A\n",
      "Processing activities:   0%|                              | 0/1 [00:07<?, ?it/s]\n",
      " 27%|██████████▋                             | 303/1129 [00:06<00:15, 53.19it/s]\u001b[A\n",
      " 27%|██████████▊                             | 304/1129 [00:06<00:26, 31.17it/s]\u001b[A"
     ]
    },
    {
     "name": "stdout",
     "output_type": "stream",
     "text": [
      "/home/ss2686/miniconda3/envs/my-rdkit-env/lib/python3.9/site-packages/mordred/_matrix_attributes.py:251: RuntimeWarning: invalid value encountered in double_scalars\n",
      "  s += (eig.vec[i, eig.max] * eig.vec[j, eig.max]) ** -0.5\n",
      "/home/ss2686/miniconda3/envs/my-rdkit-env/lib/python3.9/site-packages/numpy/core/fromnumeric.py:86: RuntimeWarning: overflow encountered in reduce\n",
      "  return ufunc.reduce(obj, axis, dtype, out, **passkwargs)\n"
     ]
    },
    {
     "name": "stderr",
     "output_type": "stream",
     "text": [
      "                                                                                \n",
      "Processing activities:   0%|                              | 0/1 [00:13<?, ?it/s]\n",
      " 29%|███████████▋                            | 329/1129 [00:12<00:25, 31.17it/s]\u001b[A\n",
      "                                                                                \u001b[A\n",
      "Processing activities:   0%|                              | 0/1 [00:13<?, ?it/s]\n",
      "                                                                                \u001b[A\n",
      "Processing activities:   0%|                              | 0/1 [00:13<?, ?it/s]\n",
      "                                                                                \u001b[A\n",
      "Processing activities:   0%|                              | 0/1 [00:13<?, ?it/s]\n",
      "                                                                                \u001b[A\n",
      "Processing activities:   0%|                              | 0/1 [00:13<?, ?it/s]\n",
      "                                                                                \u001b[A\n",
      "Processing activities:   0%|                              | 0/1 [00:13<?, ?it/s]\n",
      "                                                                                \u001b[A\n",
      "Processing activities:   0%|                              | 0/1 [00:13<?, ?it/s]\n",
      " 35%|██████████████▏                         | 399/1129 [00:12<00:53, 13.53it/s]\u001b[A"
     ]
    },
    {
     "name": "stdout",
     "output_type": "stream",
     "text": [
      "/home/ss2686/miniconda3/envs/my-rdkit-env/lib/python3.9/site-packages/numpy/core/fromnumeric.py:86: RuntimeWarning: overflow encountered in reduce\n",
      "  return ufunc.reduce(obj, axis, dtype, out, **passkwargs)\n",
      "/home/ss2686/miniconda3/envs/my-rdkit-env/lib/python3.9/site-packages/numpy/core/fromnumeric.py:86: RuntimeWarning: overflow encountered in reduce\n",
      "  return ufunc.reduce(obj, axis, dtype, out, **passkwargs)\n",
      "/home/ss2686/miniconda3/envs/my-rdkit-env/lib/python3.9/site-packages/numpy/core/fromnumeric.py:86: RuntimeWarning: overflow encountered in reduce\n",
      "  return ufunc.reduce(obj, axis, dtype, out, **passkwargs)\n",
      "/home/ss2686/miniconda3/envs/my-rdkit-env/lib/python3.9/site-packages/numpy/core/fromnumeric.py:86: RuntimeWarning: overflow encountered in reduce\n",
      "  return ufunc.reduce(obj, axis, dtype, out, **passkwargs)\n",
      "/home/ss2686/miniconda3/envs/my-rdkit-env/lib/python3.9/site-packages/numpy/core/fromnumeric.py:86: RuntimeWarning: overflow encountered in reduce\n",
      "  return ufunc.reduce(obj, axis, dtype, out, **passkwargs)\n",
      "/home/ss2686/miniconda3/envs/my-rdkit-env/lib/python3.9/site-packages/numpy/core/fromnumeric.py:86: RuntimeWarning: overflow encountered in reduce\n",
      "  return ufunc.reduce(obj, axis, dtype, out, **passkwargs)\n",
      "/home/ss2686/miniconda3/envs/my-rdkit-env/lib/python3.9/site-packages/numpy/core/fromnumeric.py:86: RuntimeWarning: overflow encountered in reduce\n",
      "  return ufunc.reduce(obj, axis, dtype, out, **passkwargs)\n"
     ]
    },
    {
     "name": "stderr",
     "output_type": "stream",
     "text": [
      "                                                                                \n",
      "Processing activities:   0%|                              | 0/1 [00:13<?, ?it/s]\n",
      " 37%|██████████████▋                         | 416/1129 [00:12<00:52, 13.53it/s]\u001b[A\n",
      "                                                                                \u001b[A\n",
      "Processing activities:   0%|                              | 0/1 [00:13<?, ?it/s]\n",
      "                                                                                \u001b[A\n",
      "Processing activities:   0%|                              | 0/1 [00:13<?, ?it/s]\n",
      "                                                                                \u001b[A\n",
      "Processing activities:   0%|                              | 0/1 [00:13<?, ?it/s]\n",
      "                                                                                \u001b[A\n",
      "Processing activities:   0%|                              | 0/1 [00:13<?, ?it/s]\n",
      "                                                                                \u001b[A\n",
      "Processing activities:   0%|                              | 0/1 [00:13<?, ?it/s]\n",
      " 41%|████████████████▌                       | 467/1129 [00:12<00:26, 24.84it/s]\u001b[A"
     ]
    },
    {
     "name": "stdout",
     "output_type": "stream",
     "text": [
      "/home/ss2686/miniconda3/envs/my-rdkit-env/lib/python3.9/site-packages/numpy/core/fromnumeric.py:86: RuntimeWarning: overflow encountered in reduce\n",
      "  return ufunc.reduce(obj, axis, dtype, out, **passkwargs)\n",
      "/home/ss2686/miniconda3/envs/my-rdkit-env/lib/python3.9/site-packages/numpy/core/fromnumeric.py:86: RuntimeWarning: overflow encountered in reduce\n",
      "  return ufunc.reduce(obj, axis, dtype, out, **passkwargs)\n",
      "/home/ss2686/miniconda3/envs/my-rdkit-env/lib/python3.9/site-packages/numpy/core/fromnumeric.py:86: RuntimeWarning: overflow encountered in reduce\n",
      "  return ufunc.reduce(obj, axis, dtype, out, **passkwargs)\n",
      "/home/ss2686/miniconda3/envs/my-rdkit-env/lib/python3.9/site-packages/numpy/core/fromnumeric.py:86: RuntimeWarning: overflow encountered in reduce\n",
      "  return ufunc.reduce(obj, axis, dtype, out, **passkwargs)\n",
      "/home/ss2686/miniconda3/envs/my-rdkit-env/lib/python3.9/site-packages/numpy/core/fromnumeric.py:86: RuntimeWarning: overflow encountered in reduce\n",
      "  return ufunc.reduce(obj, axis, dtype, out, **passkwargs)\n",
      "/home/ss2686/miniconda3/envs/my-rdkit-env/lib/python3.9/site-packages/numpy/core/fromnumeric.py:86: RuntimeWarning: overflow encountered in reduce\n",
      "  return ufunc.reduce(obj, axis, dtype, out, **passkwargs)\n"
     ]
    },
    {
     "name": "stderr",
     "output_type": "stream",
     "text": [
      "                                                                                \n",
      "Processing activities:   0%|                              | 0/1 [00:15<?, ?it/s]\n",
      " 45%|█████████████████▉                      | 505/1129 [00:14<00:25, 24.84it/s]\u001b[A\n",
      "                                                                                \u001b[A\n",
      "Processing activities:   0%|                              | 0/1 [00:15<?, ?it/s]\n",
      "                                                                                \u001b[A\n",
      "Processing activities:   0%|                              | 0/1 [00:15<?, ?it/s]\n",
      " 47%|██████████████████▋                     | 526/1129 [00:14<00:19, 31.30it/s]\u001b[A"
     ]
    },
    {
     "name": "stdout",
     "output_type": "stream",
     "text": [
      "/home/ss2686/miniconda3/envs/my-rdkit-env/lib/python3.9/site-packages/numpy/core/fromnumeric.py:86: RuntimeWarning: overflow encountered in reduce\n",
      "  return ufunc.reduce(obj, axis, dtype, out, **passkwargs)\n",
      "/home/ss2686/miniconda3/envs/my-rdkit-env/lib/python3.9/site-packages/numpy/core/fromnumeric.py:86: RuntimeWarning: overflow encountered in reduce\n",
      "  return ufunc.reduce(obj, axis, dtype, out, **passkwargs)\n",
      "/home/ss2686/miniconda3/envs/my-rdkit-env/lib/python3.9/site-packages/numpy/core/fromnumeric.py:86: RuntimeWarning: overflow encountered in reduce\n",
      "  return ufunc.reduce(obj, axis, dtype, out, **passkwargs)\n"
     ]
    },
    {
     "name": "stderr",
     "output_type": "stream",
     "text": [
      "\n",
      "                                                                                \u001b[A\n",
      "Processing activities:   0%|                              | 0/1 [00:20<?, ?it/s]\n",
      "                                                                                \u001b[A\n",
      "Processing activities:   0%|                              | 0/1 [00:20<?, ?it/s]\n",
      "                                                                                \u001b[A\n",
      "Processing activities:   0%|                              | 0/1 [00:20<?, ?it/s]\n",
      " 51%|████████████████████▌                   | 580/1129 [00:19<00:30, 17.85it/s]\u001b[A"
     ]
    },
    {
     "name": "stdout",
     "output_type": "stream",
     "text": [
      "/home/ss2686/miniconda3/envs/my-rdkit-env/lib/python3.9/site-packages/numpy/core/fromnumeric.py:86: RuntimeWarning: overflow encountered in reduce\n",
      "  return ufunc.reduce(obj, axis, dtype, out, **passkwargs)\n",
      "/home/ss2686/miniconda3/envs/my-rdkit-env/lib/python3.9/site-packages/numpy/core/fromnumeric.py:86: RuntimeWarning: overflow encountered in reduce\n",
      "  return ufunc.reduce(obj, axis, dtype, out, **passkwargs)\n",
      "/home/ss2686/miniconda3/envs/my-rdkit-env/lib/python3.9/site-packages/numpy/core/fromnumeric.py:86: RuntimeWarning: overflow encountered in reduce\n",
      "  return ufunc.reduce(obj, axis, dtype, out, **passkwargs)\n"
     ]
    },
    {
     "name": "stderr",
     "output_type": "stream",
     "text": [
      "\n",
      "                                                                                \u001b[A\n",
      "Processing activities:   0%|                              | 0/1 [00:25<?, ?it/s]\n",
      "                                                                                \u001b[A\n",
      "Processing activities:   0%|                              | 0/1 [00:25<?, ?it/s]\n",
      "                                                                                \u001b[A\n",
      "Processing activities:   0%|                              | 0/1 [00:25<?, ?it/s]\n",
      "                                                                                \u001b[A\n",
      "Processing activities:   0%|                              | 0/1 [00:25<?, ?it/s]\n",
      "                                                                                \u001b[A\n",
      "Processing activities:   0%|                              | 0/1 [00:25<?, ?it/s]\n",
      "                                                                                \u001b[A\n",
      "Processing activities:   0%|                              | 0/1 [00:25<?, ?it/s]\n",
      "                                                                                \u001b[A\n",
      "Processing activities:   0%|                              | 0/1 [00:25<?, ?it/s]\n",
      "                                                                                \u001b[A\n",
      "Processing activities:   0%|                              | 0/1 [00:25<?, ?it/s]\n",
      "                                                                                \u001b[A\n",
      "Processing activities:   0%|                              | 0/1 [00:25<?, ?it/s]\n",
      "                                                                                \u001b[A\n",
      "Processing activities:   0%|                              | 0/1 [00:25<?, ?it/s]\n",
      "                                                                                \u001b[A\n",
      "Processing activities:   0%|                              | 0/1 [00:25<?, ?it/s]\n",
      "                                                                                \u001b[A\n",
      "Processing activities:   0%|                              | 0/1 [00:25<?, ?it/s]\n",
      "                                                                                \u001b[A\n",
      "Processing activities:   0%|                              | 0/1 [00:25<?, ?it/s]\n",
      " 61%|████████████████████████▌               | 693/1129 [00:24<00:26, 16.21it/s]\u001b[A\n",
      "                                                                                \u001b[A\n",
      "Processing activities:   0%|                              | 0/1 [00:25<?, ?it/s]\n",
      "                                                                                \u001b[A\n",
      "Processing activities:   0%|                              | 0/1 [00:25<?, ?it/s]\n",
      "                                                                                \u001b[A\n",
      "Processing activities:   0%|                              | 0/1 [00:25<?, ?it/s]\n",
      " 63%|█████████████████████████▎              | 714/1129 [00:24<00:14, 28.18it/s]\u001b[A"
     ]
    },
    {
     "name": "stdout",
     "output_type": "stream",
     "text": [
      "/home/ss2686/miniconda3/envs/my-rdkit-env/lib/python3.9/site-packages/numpy/core/fromnumeric.py:86: RuntimeWarning: overflow encountered in reduce\n",
      "  return ufunc.reduce(obj, axis, dtype, out, **passkwargs)\n",
      "/home/ss2686/miniconda3/envs/my-rdkit-env/lib/python3.9/site-packages/numpy/core/fromnumeric.py:86: RuntimeWarning: overflow encountered in reduce\n",
      "  return ufunc.reduce(obj, axis, dtype, out, **passkwargs)\n",
      "/home/ss2686/miniconda3/envs/my-rdkit-env/lib/python3.9/site-packages/numpy/core/fromnumeric.py:86: RuntimeWarning: overflow encountered in reduce\n",
      "  return ufunc.reduce(obj, axis, dtype, out, **passkwargs)\n",
      "/home/ss2686/miniconda3/envs/my-rdkit-env/lib/python3.9/site-packages/numpy/core/fromnumeric.py:86: RuntimeWarning: overflow encountered in reduce\n",
      "  return ufunc.reduce(obj, axis, dtype, out, **passkwargs)\n",
      "/home/ss2686/miniconda3/envs/my-rdkit-env/lib/python3.9/site-packages/numpy/core/fromnumeric.py:86: RuntimeWarning: overflow encountered in reduce\n",
      "  return ufunc.reduce(obj, axis, dtype, out, **passkwargs)\n",
      "/home/ss2686/miniconda3/envs/my-rdkit-env/lib/python3.9/site-packages/numpy/core/fromnumeric.py:86: RuntimeWarning: overflow encountered in reduce\n",
      "  return ufunc.reduce(obj, axis, dtype, out, **passkwargs)\n",
      "/home/ss2686/miniconda3/envs/my-rdkit-env/lib/python3.9/site-packages/numpy/core/fromnumeric.py:86: RuntimeWarning: overflow encountered in reduce\n",
      "  return ufunc.reduce(obj, axis, dtype, out, **passkwargs)\n",
      "/home/ss2686/miniconda3/envs/my-rdkit-env/lib/python3.9/site-packages/numpy/core/fromnumeric.py:86: RuntimeWarning: overflow encountered in reduce\n",
      "  return ufunc.reduce(obj, axis, dtype, out, **passkwargs)\n",
      "/home/ss2686/miniconda3/envs/my-rdkit-env/lib/python3.9/site-packages/numpy/core/fromnumeric.py:86: RuntimeWarning: overflow encountered in reduce\n",
      "  return ufunc.reduce(obj, axis, dtype, out, **passkwargs)\n",
      "/home/ss2686/miniconda3/envs/my-rdkit-env/lib/python3.9/site-packages/numpy/core/fromnumeric.py:86: RuntimeWarning: overflow encountered in reduce\n",
      "  return ufunc.reduce(obj, axis, dtype, out, **passkwargs)\n",
      "/home/ss2686/miniconda3/envs/my-rdkit-env/lib/python3.9/site-packages/numpy/core/fromnumeric.py:86: RuntimeWarning: overflow encountered in reduce\n",
      "  return ufunc.reduce(obj, axis, dtype, out, **passkwargs)\n",
      "/home/ss2686/miniconda3/envs/my-rdkit-env/lib/python3.9/site-packages/numpy/core/fromnumeric.py:86: RuntimeWarning: overflow encountered in reduce\n",
      "  return ufunc.reduce(obj, axis, dtype, out, **passkwargs)\n",
      "/home/ss2686/miniconda3/envs/my-rdkit-env/lib/python3.9/site-packages/numpy/core/fromnumeric.py:86: RuntimeWarning: overflow encountered in reduce\n",
      "  return ufunc.reduce(obj, axis, dtype, out, **passkwargs)\n",
      "/home/ss2686/miniconda3/envs/my-rdkit-env/lib/python3.9/site-packages/numpy/core/fromnumeric.py:86: RuntimeWarning: overflow encountered in reduce\n",
      "  return ufunc.reduce(obj, axis, dtype, out, **passkwargs)\n",
      "/home/ss2686/miniconda3/envs/my-rdkit-env/lib/python3.9/site-packages/numpy/core/fromnumeric.py:86: RuntimeWarning: overflow encountered in reduce\n",
      "  return ufunc.reduce(obj, axis, dtype, out, **passkwargs)\n",
      "/home/ss2686/miniconda3/envs/my-rdkit-env/lib/python3.9/site-packages/numpy/core/fromnumeric.py:86: RuntimeWarning: overflow encountered in reduce\n",
      "  return ufunc.reduce(obj, axis, dtype, out, **passkwargs)\n"
     ]
    },
    {
     "name": "stderr",
     "output_type": "stream",
     "text": [
      "\n",
      "                                                                                \u001b[A\n",
      "Processing activities:   0%|                              | 0/1 [00:32<?, ?it/s]\n",
      "                                                                                \u001b[A\n",
      "Processing activities:   0%|                              | 0/1 [00:32<?, ?it/s]\n",
      "                                                                                \u001b[A\n",
      "Processing activities:   0%|                              | 0/1 [00:32<?, ?it/s]\n",
      "                                                                                \u001b[A\n",
      "Processing activities:   0%|                              | 0/1 [00:32<?, ?it/s]\n",
      "                                                                                \u001b[A\n",
      "Processing activities:   0%|                              | 0/1 [00:32<?, ?it/s]\n",
      "                                                                                \u001b[A\n",
      "Processing activities:   0%|                              | 0/1 [00:32<?, ?it/s]\n",
      " 74%|█████████████████████████████▋          | 837/1129 [00:32<00:19, 14.77it/s]\u001b[A\n",
      "                                                                                \u001b[A\n",
      "Processing activities:   0%|                              | 0/1 [00:32<?, ?it/s]\n",
      " 78%|███████████████████████████████         | 876/1129 [00:32<00:08, 28.85it/s]\u001b[A"
     ]
    },
    {
     "name": "stdout",
     "output_type": "stream",
     "text": [
      "/home/ss2686/miniconda3/envs/my-rdkit-env/lib/python3.9/site-packages/numpy/core/fromnumeric.py:86: RuntimeWarning: overflow encountered in reduce\n",
      "  return ufunc.reduce(obj, axis, dtype, out, **passkwargs)\n",
      "/home/ss2686/miniconda3/envs/my-rdkit-env/lib/python3.9/site-packages/numpy/core/fromnumeric.py:86: RuntimeWarning: overflow encountered in reduce\n",
      "  return ufunc.reduce(obj, axis, dtype, out, **passkwargs)\n",
      "/home/ss2686/miniconda3/envs/my-rdkit-env/lib/python3.9/site-packages/numpy/core/fromnumeric.py:86: RuntimeWarning: overflow encountered in reduce\n",
      "  return ufunc.reduce(obj, axis, dtype, out, **passkwargs)\n",
      "/home/ss2686/miniconda3/envs/my-rdkit-env/lib/python3.9/site-packages/numpy/core/fromnumeric.py:86: RuntimeWarning: overflow encountered in reduce\n",
      "  return ufunc.reduce(obj, axis, dtype, out, **passkwargs)\n",
      "/home/ss2686/miniconda3/envs/my-rdkit-env/lib/python3.9/site-packages/numpy/core/fromnumeric.py:86: RuntimeWarning: overflow encountered in reduce\n",
      "  return ufunc.reduce(obj, axis, dtype, out, **passkwargs)\n",
      "/home/ss2686/miniconda3/envs/my-rdkit-env/lib/python3.9/site-packages/numpy/core/fromnumeric.py:86: RuntimeWarning: overflow encountered in reduce\n",
      "  return ufunc.reduce(obj, axis, dtype, out, **passkwargs)\n",
      "/home/ss2686/miniconda3/envs/my-rdkit-env/lib/python3.9/site-packages/numpy/core/fromnumeric.py:86: RuntimeWarning: overflow encountered in reduce\n",
      "  return ufunc.reduce(obj, axis, dtype, out, **passkwargs)\n"
     ]
    },
    {
     "name": "stderr",
     "output_type": "stream",
     "text": [
      "                                                                                \n",
      "Processing activities:   0%|                              | 0/1 [00:34<?, ?it/s]\n",
      " 81%|████████████████████████████████▍       | 917/1129 [00:34<00:07, 28.85it/s]\u001b[A\n",
      " 81%|████████████████████████████████▌       | 918/1129 [00:34<00:07, 28.62it/s]\u001b[A"
     ]
    },
    {
     "name": "stdout",
     "output_type": "stream",
     "text": [
      "/home/ss2686/miniconda3/envs/my-rdkit-env/lib/python3.9/site-packages/numpy/core/fromnumeric.py:86: RuntimeWarning: overflow encountered in reduce\n",
      "  return ufunc.reduce(obj, axis, dtype, out, **passkwargs)\n"
     ]
    },
    {
     "name": "stderr",
     "output_type": "stream",
     "text": [
      "\n",
      "                                                                                \u001b[A\n",
      "Processing activities:   0%|                              | 0/1 [00:44<?, ?it/s]\n",
      "                                                                                \u001b[A\n",
      "Processing activities:   0%|                              | 0/1 [00:44<?, ?it/s]\n",
      "                                                                                \u001b[A\n",
      "Processing activities:   0%|                              | 0/1 [00:44<?, ?it/s]\n",
      "                                                                                \u001b[A\n",
      "Processing activities:   0%|                              | 0/1 [00:44<?, ?it/s]\n",
      " 91%|███████████████████████████████████▌   | 1031/1129 [00:43<00:06, 14.08it/s]\u001b[A"
     ]
    },
    {
     "name": "stdout",
     "output_type": "stream",
     "text": [
      "/home/ss2686/miniconda3/envs/my-rdkit-env/lib/python3.9/site-packages/mordred/_matrix_attributes.py:251: RuntimeWarning: invalid value encountered in double_scalars\n",
      "  s += (eig.vec[i, eig.max] * eig.vec[j, eig.max]) ** -0.5\n",
      "/home/ss2686/miniconda3/envs/my-rdkit-env/lib/python3.9/site-packages/numpy/core/fromnumeric.py:86: RuntimeWarning: overflow encountered in reduce\n",
      "  return ufunc.reduce(obj, axis, dtype, out, **passkwargs)\n",
      "/home/ss2686/miniconda3/envs/my-rdkit-env/lib/python3.9/site-packages/numpy/core/fromnumeric.py:86: RuntimeWarning: overflow encountered in reduce\n",
      "  return ufunc.reduce(obj, axis, dtype, out, **passkwargs)\n",
      "/home/ss2686/miniconda3/envs/my-rdkit-env/lib/python3.9/site-packages/numpy/core/fromnumeric.py:86: RuntimeWarning: overflow encountered in reduce\n",
      "  return ufunc.reduce(obj, axis, dtype, out, **passkwargs)\n"
     ]
    },
    {
     "name": "stderr",
     "output_type": "stream",
     "text": [
      "                                                                                \n",
      "Processing activities:   0%|                              | 0/1 [00:44<?, ?it/s]\n",
      " 94%|████████████████████████████████████▊  | 1066/1129 [00:44<00:04, 14.08it/s]\u001b[A\n",
      "                                                                                \u001b[A\n",
      "Processing activities:   0%|                              | 0/1 [00:44<?, ?it/s]\n",
      "                                                                                \u001b[A\n",
      "Processing activities:   0%|                              | 0/1 [00:44<?, ?it/s]\n",
      "100%|███████████████████████████████████████| 1129/1129 [00:44<00:00, 25.64it/s]\u001b[A\n"
     ]
    },
    {
     "name": "stdout",
     "output_type": "stream",
     "text": [
      "/home/ss2686/miniconda3/envs/my-rdkit-env/lib/python3.9/site-packages/numpy/core/fromnumeric.py:86: RuntimeWarning: overflow encountered in reduce\n",
      "  return ufunc.reduce(obj, axis, dtype, out, **passkwargs)\n",
      "/home/ss2686/miniconda3/envs/my-rdkit-env/lib/python3.9/site-packages/numpy/core/fromnumeric.py:86: RuntimeWarning: overflow encountered in reduce\n",
      "  return ufunc.reduce(obj, axis, dtype, out, **passkwargs)\n",
      "/home/ss2686/miniconda3/envs/my-rdkit-env/lib/python3.9/site-packages/numpy/core/fromnumeric.py:86: RuntimeWarning: overflow encountered in reduce\n",
      "  return ufunc.reduce(obj, axis, dtype, out, **passkwargs)\n"
     ]
    },
    {
     "name": "stderr",
     "output_type": "stream",
     "text": [
      "\n",
      "  0%|                                                   | 0/204 [00:00<?, ?it/s]\u001b[A\n",
      "  0%|▏                                          | 1/204 [00:00<00:59,  3.43it/s]\u001b[A\n",
      "  2%|▊                                          | 4/204 [00:00<00:18, 10.71it/s]\u001b[A\n",
      "  5%|██▎                                       | 11/204 [00:00<00:07, 26.96it/s]\u001b[A\n",
      "                                                                                \u001b[A\n",
      "Processing activities:   0%|                              | 0/1 [00:47<?, ?it/s]\n",
      " 31%|█████████████▏                            | 64/204 [00:01<00:05, 23.85it/s]\u001b[A\n",
      "                                                                                \u001b[A\n",
      "Processing activities:   0%|                              | 0/1 [00:47<?, ?it/s]\n",
      "                                                                                \u001b[A\n",
      "Processing activities:   0%|                              | 0/1 [00:47<?, ?it/s]\n",
      " 39%|████████████████▎                         | 79/204 [00:01<00:02, 49.69it/s]\u001b[A"
     ]
    },
    {
     "name": "stdout",
     "output_type": "stream",
     "text": [
      "/home/ss2686/miniconda3/envs/my-rdkit-env/lib/python3.9/site-packages/numpy/core/fromnumeric.py:86: RuntimeWarning: overflow encountered in reduce\n",
      "  return ufunc.reduce(obj, axis, dtype, out, **passkwargs)\n",
      "/home/ss2686/miniconda3/envs/my-rdkit-env/lib/python3.9/site-packages/numpy/core/fromnumeric.py:86: RuntimeWarning: overflow encountered in reduce\n",
      "  return ufunc.reduce(obj, axis, dtype, out, **passkwargs)\n",
      "/home/ss2686/miniconda3/envs/my-rdkit-env/lib/python3.9/site-packages/numpy/core/fromnumeric.py:86: RuntimeWarning: overflow encountered in reduce\n",
      "  return ufunc.reduce(obj, axis, dtype, out, **passkwargs)\n"
     ]
    },
    {
     "name": "stderr",
     "output_type": "stream",
     "text": [
      "                                                                                \n",
      "Processing activities:   0%|                              | 0/1 [00:49<?, ?it/s]\n",
      " 46%|███████████████████▎                      | 94/204 [00:03<00:02, 49.69it/s]\u001b[A\n",
      "                                                                                \u001b[A\n",
      "Processing activities:   0%|                              | 0/1 [00:49<?, ?it/s]\n",
      "                                                                                \u001b[A\n",
      "Processing activities:   0%|                              | 0/1 [00:49<?, ?it/s]\n",
      "                                                                                \u001b[A\n",
      "Processing activities:   0%|                              | 0/1 [00:49<?, ?it/s]\n",
      "                                                                                \u001b[A\n",
      "Processing activities:   0%|                              | 0/1 [00:49<?, ?it/s]\n",
      "                                                                                \u001b[A\n",
      "Processing activities:   0%|                              | 0/1 [00:49<?, ?it/s]\n",
      "                                                                                \u001b[A\n",
      "Processing activities:   0%|                              | 0/1 [00:49<?, ?it/s]\n",
      "                                                                                \u001b[A\n",
      "Processing activities:   0%|                              | 0/1 [00:49<?, ?it/s]\n",
      "                                                                                \u001b[A\n",
      "Processing activities:   0%|                              | 0/1 [00:49<?, ?it/s]\n",
      "                                                                                \u001b[A\n",
      "Processing activities:   0%|                              | 0/1 [00:49<?, ?it/s]\n",
      "100%|█████████████████████████████████████████| 204/204 [00:03<00:00, 54.94it/s]\u001b[A\n"
     ]
    },
    {
     "name": "stdout",
     "output_type": "stream",
     "text": [
      "/home/ss2686/miniconda3/envs/my-rdkit-env/lib/python3.9/site-packages/numpy/core/fromnumeric.py:86: RuntimeWarning: overflow encountered in reduce\n",
      "  return ufunc.reduce(obj, axis, dtype, out, **passkwargs)\n",
      "/home/ss2686/miniconda3/envs/my-rdkit-env/lib/python3.9/site-packages/numpy/core/fromnumeric.py:86: RuntimeWarning: overflow encountered in reduce\n",
      "  return ufunc.reduce(obj, axis, dtype, out, **passkwargs)\n",
      "/home/ss2686/miniconda3/envs/my-rdkit-env/lib/python3.9/site-packages/numpy/core/fromnumeric.py:86: RuntimeWarning: overflow encountered in reduce\n",
      "  return ufunc.reduce(obj, axis, dtype, out, **passkwargs)\n",
      "/home/ss2686/miniconda3/envs/my-rdkit-env/lib/python3.9/site-packages/numpy/core/fromnumeric.py:86: RuntimeWarning: overflow encountered in reduce\n",
      "  return ufunc.reduce(obj, axis, dtype, out, **passkwargs)\n",
      "/home/ss2686/miniconda3/envs/my-rdkit-env/lib/python3.9/site-packages/numpy/core/fromnumeric.py:86: RuntimeWarning: overflow encountered in reduce\n",
      "  return ufunc.reduce(obj, axis, dtype, out, **passkwargs)\n",
      "/home/ss2686/miniconda3/envs/my-rdkit-env/lib/python3.9/site-packages/numpy/core/fromnumeric.py:86: RuntimeWarning: overflow encountered in reduce\n",
      "  return ufunc.reduce(obj, axis, dtype, out, **passkwargs)\n",
      "/home/ss2686/miniconda3/envs/my-rdkit-env/lib/python3.9/site-packages/numpy/core/fromnumeric.py:86: RuntimeWarning: overflow encountered in reduce\n",
      "  return ufunc.reduce(obj, axis, dtype, out, **passkwargs)\n",
      "/home/ss2686/miniconda3/envs/my-rdkit-env/lib/python3.9/site-packages/numpy/core/fromnumeric.py:86: RuntimeWarning: overflow encountered in reduce\n",
      "  return ufunc.reduce(obj, axis, dtype, out, **passkwargs)\n",
      "/home/ss2686/miniconda3/envs/my-rdkit-env/lib/python3.9/site-packages/numpy/core/fromnumeric.py:86: RuntimeWarning: overflow encountered in reduce\n",
      "  return ufunc.reduce(obj, axis, dtype, out, **passkwargs)\n",
      "/home/ss2686/miniconda3/envs/my-rdkit-env/lib/python3.9/site-packages/numpy/core/fromnumeric.py:86: RuntimeWarning: overflow encountered in reduce\n",
      "  return ufunc.reduce(obj, axis, dtype, out, **passkwargs)\n",
      "n_iterations: 4\n",
      "n_required_iterations: 4\n",
      "n_possible_iterations: 4\n",
      "min_resources_: 20\n",
      "max_resources_: 1129\n",
      "aggressive_elimination: False\n",
      "factor: 3\n",
      "----------\n",
      "iter: 0\n",
      "n_candidates: 56\n",
      "n_resources: 20\n",
      "Fitting 5 folds for each of 56 candidates, totalling 280 fits\n",
      "----------\n",
      "iter: 1\n",
      "n_candidates: 19\n",
      "n_resources: 60\n",
      "Fitting 5 folds for each of 19 candidates, totalling 95 fits\n",
      "----------\n",
      "iter: 2\n",
      "n_candidates: 7\n",
      "n_resources: 180\n",
      "Fitting 5 folds for each of 7 candidates, totalling 35 fits\n",
      "----------\n",
      "iter: 3\n",
      "n_candidates: 3\n",
      "n_resources: 540\n",
      "Fitting 5 folds for each of 3 candidates, totalling 15 fits\n"
     ]
    },
    {
     "name": "stderr",
     "output_type": "stream",
     "text": [
      "Processing activities: 100%|██████████████████████| 1/1 [01:02<00:00, 62.96s/it]\n"
     ]
    },
    {
     "name": "stdout",
     "output_type": "stream",
     "text": [
      "cardiotox_with_sider_all\n"
     ]
    },
    {
     "name": "stderr",
     "output_type": "stream",
     "text": [
      "Processing activities:   0%|                              | 0/1 [00:00<?, ?it/s]\n",
      "  0%|                                                  | 0/1362 [00:00<?, ?it/s]\u001b[A\n",
      "  0%|                                          | 1/1362 [00:00<07:31,  3.02it/s]\u001b[A\n",
      "  1%|▎                                         | 9/1362 [00:00<01:08, 19.65it/s]\u001b[A\n",
      "                                                                                \u001b[A\n",
      "Processing activities:   0%|                              | 0/1 [00:02<?, ?it/s]\n",
      "                                                                                \u001b[A\n",
      "Processing activities:   0%|                              | 0/1 [00:02<?, ?it/s]\n",
      "                                                                                \u001b[A\n",
      "Processing activities:   0%|                              | 0/1 [00:02<?, ?it/s]\n",
      " 11%|████▌                                   | 156/1362 [00:01<01:45, 11.40it/s]\u001b[A\n",
      " 12%|████▍                                  | 157/1362 [00:01<00:06, 178.35it/s]\u001b[A"
     ]
    },
    {
     "name": "stdout",
     "output_type": "stream",
     "text": [
      "/home/ss2686/miniconda3/envs/my-rdkit-env/lib/python3.9/site-packages/numpy/core/fromnumeric.py:86: RuntimeWarning: overflow encountered in reduce\n",
      "  return ufunc.reduce(obj, axis, dtype, out, **passkwargs)\n",
      "/home/ss2686/miniconda3/envs/my-rdkit-env/lib/python3.9/site-packages/numpy/core/fromnumeric.py:86: RuntimeWarning: overflow encountered in reduce\n",
      "  return ufunc.reduce(obj, axis, dtype, out, **passkwargs)\n",
      "/home/ss2686/miniconda3/envs/my-rdkit-env/lib/python3.9/site-packages/numpy/core/fromnumeric.py:86: RuntimeWarning: overflow encountered in reduce\n",
      "  return ufunc.reduce(obj, axis, dtype, out, **passkwargs)\n"
     ]
    },
    {
     "name": "stderr",
     "output_type": "stream",
     "text": [
      "\n",
      "                                                                                \u001b[A\n",
      "Processing activities:   0%|                              | 0/1 [00:03<?, ?it/s]\n",
      " 17%|██████▌                                | 230/1362 [00:02<00:07, 150.63it/s]\u001b[A"
     ]
    },
    {
     "name": "stdout",
     "output_type": "stream",
     "text": [
      "/home/ss2686/miniconda3/envs/my-rdkit-env/lib/python3.9/site-packages/numpy/core/fromnumeric.py:86: RuntimeWarning: overflow encountered in reduce\n",
      "  return ufunc.reduce(obj, axis, dtype, out, **passkwargs)\n"
     ]
    },
    {
     "name": "stderr",
     "output_type": "stream",
     "text": [
      "                                                                                \n",
      "Processing activities:   0%|                              | 0/1 [00:04<?, ?it/s]\n",
      " 18%|███████▏                               | 250/1362 [00:03<00:07, 150.63it/s]\u001b[A\n",
      " 19%|███████▍                                | 255/1362 [00:03<00:18, 59.19it/s]\u001b[A"
     ]
    },
    {
     "name": "stdout",
     "output_type": "stream",
     "text": [
      "/home/ss2686/miniconda3/envs/my-rdkit-env/lib/python3.9/site-packages/numpy/core/fromnumeric.py:86: RuntimeWarning: overflow encountered in reduce\n",
      "  return ufunc.reduce(obj, axis, dtype, out, **passkwargs)\n"
     ]
    },
    {
     "name": "stderr",
     "output_type": "stream",
     "text": [
      "                                                                                \n",
      "Processing activities:   0%|                              | 0/1 [00:13<?, ?it/s]\n",
      "                                                                                \u001b[A\n",
      "Processing activities:   0%|                              | 0/1 [00:13<?, ?it/s]\n",
      "                                                                                \u001b[A\n",
      "Processing activities:   0%|                              | 0/1 [00:13<?, ?it/s]\n",
      "                                                                                \u001b[A\n",
      "Processing activities:   0%|                              | 0/1 [00:13<?, ?it/s]\n",
      " 20%|████████▏                               | 277/1362 [00:12<00:18, 59.19it/s]\u001b[A\n",
      "                                                                                \u001b[A\n",
      "Processing activities:   0%|                              | 0/1 [00:13<?, ?it/s]\n",
      "                                                                                \u001b[A\n",
      "Processing activities:   0%|                              | 0/1 [00:13<?, ?it/s]\n",
      "                                                                                \u001b[A\n",
      "Processing activities:   0%|                              | 0/1 [00:13<?, ?it/s]\n",
      "                                                                                \u001b[A\n",
      "Processing activities:   0%|                              | 0/1 [00:13<?, ?it/s]\n",
      "                                                                                \u001b[A\n",
      "Processing activities:   0%|                              | 0/1 [00:13<?, ?it/s]\n",
      "                                                                                \u001b[A\n",
      "Processing activities:   0%|                              | 0/1 [00:13<?, ?it/s]\n",
      "                                                                                \u001b[A\n",
      "Processing activities:   0%|                              | 0/1 [00:13<?, ?it/s]\n",
      "                                                                                \u001b[A\n",
      "Processing activities:   0%|                              | 0/1 [00:13<?, ?it/s]\n",
      " 28%|███████████▏                            | 380/1362 [00:12<01:18, 12.43it/s]\u001b[A\n",
      "                                                                                \u001b[A\n",
      "Processing activities:   0%|                              | 0/1 [00:13<?, ?it/s]\n",
      "                                                                                \u001b[A\n",
      "Processing activities:   0%|                              | 0/1 [00:13<?, ?it/s]\n",
      "                                                                                \u001b[A\n",
      "Processing activities:   0%|                              | 0/1 [00:13<?, ?it/s]\n",
      "                                                                                \u001b[A\n",
      "Processing activities:   0%|                              | 0/1 [00:13<?, ?it/s]\n",
      " 31%|████████████▏                           | 416/1362 [00:13<00:37, 25.40it/s]\u001b[A"
     ]
    },
    {
     "name": "stdout",
     "output_type": "stream",
     "text": [
      "/home/ss2686/miniconda3/envs/my-rdkit-env/lib/python3.9/site-packages/numpy/core/fromnumeric.py:86: RuntimeWarning: overflow encountered in reduce\n",
      "  return ufunc.reduce(obj, axis, dtype, out, **passkwargs)\n",
      "/home/ss2686/miniconda3/envs/my-rdkit-env/lib/python3.9/site-packages/numpy/core/fromnumeric.py:86: RuntimeWarning: overflow encountered in reduce\n",
      "  return ufunc.reduce(obj, axis, dtype, out, **passkwargs)\n",
      "/home/ss2686/miniconda3/envs/my-rdkit-env/lib/python3.9/site-packages/numpy/core/fromnumeric.py:86: RuntimeWarning: overflow encountered in reduce\n",
      "  return ufunc.reduce(obj, axis, dtype, out, **passkwargs)\n",
      "/home/ss2686/miniconda3/envs/my-rdkit-env/lib/python3.9/site-packages/numpy/core/fromnumeric.py:86: RuntimeWarning: overflow encountered in reduce\n",
      "  return ufunc.reduce(obj, axis, dtype, out, **passkwargs)\n",
      "/home/ss2686/miniconda3/envs/my-rdkit-env/lib/python3.9/site-packages/numpy/core/fromnumeric.py:86: RuntimeWarning: overflow encountered in reduce\n",
      "  return ufunc.reduce(obj, axis, dtype, out, **passkwargs)\n",
      "/home/ss2686/miniconda3/envs/my-rdkit-env/lib/python3.9/site-packages/numpy/core/fromnumeric.py:86: RuntimeWarning: overflow encountered in reduce\n",
      "  return ufunc.reduce(obj, axis, dtype, out, **passkwargs)\n",
      "/home/ss2686/miniconda3/envs/my-rdkit-env/lib/python3.9/site-packages/mordred/_matrix_attributes.py:251: RuntimeWarning: invalid value encountered in double_scalars\n",
      "  s += (eig.vec[i, eig.max] * eig.vec[j, eig.max]) ** -0.5\n",
      "/home/ss2686/miniconda3/envs/my-rdkit-env/lib/python3.9/site-packages/numpy/core/fromnumeric.py:86: RuntimeWarning: overflow encountered in reduce\n",
      "  return ufunc.reduce(obj, axis, dtype, out, **passkwargs)\n",
      "/home/ss2686/miniconda3/envs/my-rdkit-env/lib/python3.9/site-packages/numpy/core/fromnumeric.py:86: RuntimeWarning: overflow encountered in reduce\n",
      "  return ufunc.reduce(obj, axis, dtype, out, **passkwargs)\n",
      "/home/ss2686/miniconda3/envs/my-rdkit-env/lib/python3.9/site-packages/numpy/core/fromnumeric.py:86: RuntimeWarning: overflow encountered in reduce\n",
      "  return ufunc.reduce(obj, axis, dtype, out, **passkwargs)\n",
      "/home/ss2686/miniconda3/envs/my-rdkit-env/lib/python3.9/site-packages/numpy/core/fromnumeric.py:86: RuntimeWarning: overflow encountered in reduce\n",
      "  return ufunc.reduce(obj, axis, dtype, out, **passkwargs)\n",
      "/home/ss2686/miniconda3/envs/my-rdkit-env/lib/python3.9/site-packages/numpy/core/fromnumeric.py:86: RuntimeWarning: overflow encountered in reduce\n",
      "  return ufunc.reduce(obj, axis, dtype, out, **passkwargs)\n",
      "/home/ss2686/miniconda3/envs/my-rdkit-env/lib/python3.9/site-packages/numpy/core/fromnumeric.py:86: RuntimeWarning: overflow encountered in reduce\n",
      "  return ufunc.reduce(obj, axis, dtype, out, **passkwargs)\n",
      "/home/ss2686/miniconda3/envs/my-rdkit-env/lib/python3.9/site-packages/numpy/core/fromnumeric.py:86: RuntimeWarning: overflow encountered in reduce\n",
      "  return ufunc.reduce(obj, axis, dtype, out, **passkwargs)\n",
      "/home/ss2686/miniconda3/envs/my-rdkit-env/lib/python3.9/site-packages/numpy/core/fromnumeric.py:86: RuntimeWarning: overflow encountered in reduce\n",
      "  return ufunc.reduce(obj, axis, dtype, out, **passkwargs)\n",
      "/home/ss2686/miniconda3/envs/my-rdkit-env/lib/python3.9/site-packages/numpy/core/fromnumeric.py:86: RuntimeWarning: overflow encountered in reduce\n",
      "  return ufunc.reduce(obj, axis, dtype, out, **passkwargs)\n"
     ]
    },
    {
     "name": "stderr",
     "output_type": "stream",
     "text": [
      "\n",
      "                                                                                \u001b[A\n",
      "Processing activities:   0%|                              | 0/1 [00:14<?, ?it/s]\n",
      " 32%|████████████▋                           | 431/1362 [00:13<00:31, 29.93it/s]\u001b[A"
     ]
    },
    {
     "name": "stdout",
     "output_type": "stream",
     "text": [
      "/home/ss2686/miniconda3/envs/my-rdkit-env/lib/python3.9/site-packages/numpy/core/fromnumeric.py:86: RuntimeWarning: overflow encountered in reduce\n",
      "  return ufunc.reduce(obj, axis, dtype, out, **passkwargs)\n"
     ]
    },
    {
     "name": "stderr",
     "output_type": "stream",
     "text": [
      "                                                                                \n",
      "Processing activities:   0%|                              | 0/1 [00:21<?, ?it/s]\n",
      "                                                                                \u001b[A\n",
      "Processing activities:   0%|                              | 0/1 [00:21<?, ?it/s]\n",
      " 33%|█████████████▎                          | 455/1362 [00:20<00:30, 29.93it/s]\u001b[A\n",
      " 34%|█████████████▌                          | 463/1362 [00:20<01:00, 14.91it/s]\u001b[A"
     ]
    },
    {
     "name": "stdout",
     "output_type": "stream",
     "text": [
      "/home/ss2686/miniconda3/envs/my-rdkit-env/lib/python3.9/site-packages/numpy/core/fromnumeric.py:86: RuntimeWarning: overflow encountered in reduce\n",
      "  return ufunc.reduce(obj, axis, dtype, out, **passkwargs)\n",
      "/home/ss2686/miniconda3/envs/my-rdkit-env/lib/python3.9/site-packages/numpy/core/fromnumeric.py:86: RuntimeWarning: overflow encountered in reduce\n",
      "  return ufunc.reduce(obj, axis, dtype, out, **passkwargs)\n"
     ]
    },
    {
     "name": "stderr",
     "output_type": "stream",
     "text": [
      "                                                                                \n",
      "Processing activities:   0%|                              | 0/1 [00:21<?, ?it/s]\n",
      " 34%|█████████████▋                          | 467/1362 [00:20<01:00, 14.91it/s]\u001b[A\n",
      "                                                                                \u001b[A\n",
      "Processing activities:   0%|                              | 0/1 [00:21<?, ?it/s]\n",
      "                                                                                \u001b[A\n",
      "Processing activities:   0%|                              | 0/1 [00:21<?, ?it/s]\n",
      " 41%|████████████████▌                       | 563/1362 [00:20<00:45, 17.42it/s]\u001b[A"
     ]
    },
    {
     "name": "stdout",
     "output_type": "stream",
     "text": [
      "/home/ss2686/miniconda3/envs/my-rdkit-env/lib/python3.9/site-packages/numpy/core/fromnumeric.py:86: RuntimeWarning: overflow encountered in reduce\n",
      "  return ufunc.reduce(obj, axis, dtype, out, **passkwargs)\n",
      "/home/ss2686/miniconda3/envs/my-rdkit-env/lib/python3.9/site-packages/numpy/core/fromnumeric.py:86: RuntimeWarning: overflow encountered in reduce\n",
      "  return ufunc.reduce(obj, axis, dtype, out, **passkwargs)\n",
      "/home/ss2686/miniconda3/envs/my-rdkit-env/lib/python3.9/site-packages/numpy/core/fromnumeric.py:86: RuntimeWarning: overflow encountered in reduce\n",
      "  return ufunc.reduce(obj, axis, dtype, out, **passkwargs)\n"
     ]
    },
    {
     "name": "stderr",
     "output_type": "stream",
     "text": [
      "                                                                                \n",
      "Processing activities:   0%|                              | 0/1 [00:24<?, ?it/s]\n",
      " 44%|█████████████████▋                      | 603/1362 [00:23<00:43, 17.42it/s]\u001b[A\n",
      "                                                                                \u001b[A\n",
      "Processing activities:   0%|                              | 0/1 [00:24<?, ?it/s]\n",
      "                                                                                \u001b[A\n",
      "Processing activities:   0%|                              | 0/1 [00:24<?, ?it/s]\n",
      "                                                                                \u001b[A\n",
      "Processing activities:   0%|                              | 0/1 [00:24<?, ?it/s]\n",
      "                                                                                \u001b[A\n",
      "Processing activities:   0%|                              | 0/1 [00:24<?, ?it/s]\n",
      "                                                                                \u001b[A\n",
      "Processing activities:   0%|                              | 0/1 [00:24<?, ?it/s]\n",
      "                                                                                \u001b[A\n",
      "Processing activities:   0%|                              | 0/1 [00:24<?, ?it/s]\n",
      "                                                                                \u001b[A\n",
      "Processing activities:   0%|                              | 0/1 [00:24<?, ?it/s]\n",
      " 50%|████████████████████                    | 683/1362 [00:23<00:28, 24.19it/s]\u001b[A"
     ]
    },
    {
     "name": "stdout",
     "output_type": "stream",
     "text": [
      "/home/ss2686/miniconda3/envs/my-rdkit-env/lib/python3.9/site-packages/numpy/core/fromnumeric.py:86: RuntimeWarning: overflow encountered in reduce\n",
      "  return ufunc.reduce(obj, axis, dtype, out, **passkwargs)\n",
      "/home/ss2686/miniconda3/envs/my-rdkit-env/lib/python3.9/site-packages/numpy/core/fromnumeric.py:86: RuntimeWarning: overflow encountered in reduce\n",
      "  return ufunc.reduce(obj, axis, dtype, out, **passkwargs)\n",
      "/home/ss2686/miniconda3/envs/my-rdkit-env/lib/python3.9/site-packages/numpy/core/fromnumeric.py:86: RuntimeWarning: overflow encountered in reduce\n",
      "  return ufunc.reduce(obj, axis, dtype, out, **passkwargs)\n",
      "/home/ss2686/miniconda3/envs/my-rdkit-env/lib/python3.9/site-packages/numpy/core/fromnumeric.py:86: RuntimeWarning: overflow encountered in reduce\n",
      "  return ufunc.reduce(obj, axis, dtype, out, **passkwargs)\n",
      "/home/ss2686/miniconda3/envs/my-rdkit-env/lib/python3.9/site-packages/numpy/core/fromnumeric.py:86: RuntimeWarning: overflow encountered in reduce\n",
      "  return ufunc.reduce(obj, axis, dtype, out, **passkwargs)\n",
      "/home/ss2686/miniconda3/envs/my-rdkit-env/lib/python3.9/site-packages/numpy/core/fromnumeric.py:86: RuntimeWarning: overflow encountered in reduce\n",
      "  return ufunc.reduce(obj, axis, dtype, out, **passkwargs)\n",
      "/home/ss2686/miniconda3/envs/my-rdkit-env/lib/python3.9/site-packages/numpy/core/fromnumeric.py:86: RuntimeWarning: overflow encountered in reduce\n",
      "  return ufunc.reduce(obj, axis, dtype, out, **passkwargs)\n",
      "/home/ss2686/miniconda3/envs/my-rdkit-env/lib/python3.9/site-packages/numpy/core/fromnumeric.py:86: RuntimeWarning: overflow encountered in reduce\n",
      "  return ufunc.reduce(obj, axis, dtype, out, **passkwargs)\n"
     ]
    },
    {
     "name": "stderr",
     "output_type": "stream",
     "text": [
      "                                                                                \n",
      "Processing activities:   0%|                              | 0/1 [00:24<?, ?it/s]\n",
      " 51%|████████████████████▏                   | 689/1362 [00:24<00:27, 24.19it/s]\u001b[A\n",
      " 51%|████████████████████▎                   | 690/1362 [00:24<00:18, 36.65it/s]\u001b[A"
     ]
    },
    {
     "name": "stdout",
     "output_type": "stream",
     "text": [
      "/home/ss2686/miniconda3/envs/my-rdkit-env/lib/python3.9/site-packages/numpy/core/fromnumeric.py:86: RuntimeWarning: overflow encountered in reduce\n",
      "  return ufunc.reduce(obj, axis, dtype, out, **passkwargs)\n"
     ]
    },
    {
     "name": "stderr",
     "output_type": "stream",
     "text": [
      "                                                                                \n",
      "Processing activities:   0%|                              | 0/1 [00:25<?, ?it/s]\n",
      "                                                                                \u001b[A\n",
      "Processing activities:   0%|                              | 0/1 [00:25<?, ?it/s]\n",
      "                                                                                \u001b[A\n",
      "Processing activities:   0%|                              | 0/1 [00:25<?, ?it/s]\n",
      " 51%|████████████████████▌                   | 699/1362 [00:24<00:18, 36.65it/s]\u001b[A\n",
      "                                                                                \u001b[A\n",
      "Processing activities:   0%|                              | 0/1 [00:25<?, ?it/s]\n",
      "                                                                                \u001b[A\n",
      "Processing activities:   0%|                              | 0/1 [00:25<?, ?it/s]\n",
      "                                                                                \u001b[A\n",
      "Processing activities:   0%|                              | 0/1 [00:25<?, ?it/s]\n",
      " 55%|█████████████████████▉                  | 746/1362 [00:24<00:17, 34.30it/s]\u001b[A"
     ]
    },
    {
     "name": "stdout",
     "output_type": "stream",
     "text": [
      "/home/ss2686/miniconda3/envs/my-rdkit-env/lib/python3.9/site-packages/numpy/core/fromnumeric.py:86: RuntimeWarning: overflow encountered in reduce\n",
      "  return ufunc.reduce(obj, axis, dtype, out, **passkwargs)\n",
      "/home/ss2686/miniconda3/envs/my-rdkit-env/lib/python3.9/site-packages/numpy/core/fromnumeric.py:86: RuntimeWarning: overflow encountered in reduce\n",
      "  return ufunc.reduce(obj, axis, dtype, out, **passkwargs)\n",
      "/home/ss2686/miniconda3/envs/my-rdkit-env/lib/python3.9/site-packages/numpy/core/fromnumeric.py:86: RuntimeWarning: overflow encountered in reduce\n",
      "  return ufunc.reduce(obj, axis, dtype, out, **passkwargs)\n",
      "/home/ss2686/miniconda3/envs/my-rdkit-env/lib/python3.9/site-packages/numpy/core/fromnumeric.py:86: RuntimeWarning: overflow encountered in reduce\n",
      "  return ufunc.reduce(obj, axis, dtype, out, **passkwargs)\n",
      "/home/ss2686/miniconda3/envs/my-rdkit-env/lib/python3.9/site-packages/numpy/core/fromnumeric.py:86: RuntimeWarning: overflow encountered in reduce\n",
      "  return ufunc.reduce(obj, axis, dtype, out, **passkwargs)\n",
      "/home/ss2686/miniconda3/envs/my-rdkit-env/lib/python3.9/site-packages/numpy/core/fromnumeric.py:86: RuntimeWarning: overflow encountered in reduce\n",
      "  return ufunc.reduce(obj, axis, dtype, out, **passkwargs)\n"
     ]
    },
    {
     "name": "stderr",
     "output_type": "stream",
     "text": [
      "\n",
      "                                                                                \u001b[A\n",
      "Processing activities:   0%|                              | 0/1 [00:26<?, ?it/s]\n",
      "                                                                                \u001b[A\n",
      "Processing activities:   0%|                              | 0/1 [00:26<?, ?it/s]\n",
      "                                                                                \u001b[A\n",
      "Processing activities:   0%|                              | 0/1 [00:26<?, ?it/s]\n",
      "                                                                                \u001b[A\n",
      "Processing activities:   0%|                              | 0/1 [00:26<?, ?it/s]\n",
      "                                                                                \u001b[A\n",
      "Processing activities:   0%|                              | 0/1 [00:26<?, ?it/s]\n",
      " 59%|███████████████████████▍                | 797/1362 [00:25<00:13, 43.26it/s]\u001b[A\n",
      " 61%|████████████████████████▍               | 830/1362 [00:25<00:08, 65.35it/s]\u001b[A"
     ]
    },
    {
     "name": "stdout",
     "output_type": "stream",
     "text": [
      "/home/ss2686/miniconda3/envs/my-rdkit-env/lib/python3.9/site-packages/numpy/core/fromnumeric.py:86: RuntimeWarning: overflow encountered in reduce\n",
      "  return ufunc.reduce(obj, axis, dtype, out, **passkwargs)\n",
      "/home/ss2686/miniconda3/envs/my-rdkit-env/lib/python3.9/site-packages/numpy/core/fromnumeric.py:86: RuntimeWarning: overflow encountered in reduce\n",
      "  return ufunc.reduce(obj, axis, dtype, out, **passkwargs)\n",
      "/home/ss2686/miniconda3/envs/my-rdkit-env/lib/python3.9/site-packages/numpy/core/fromnumeric.py:86: RuntimeWarning: overflow encountered in reduce\n",
      "  return ufunc.reduce(obj, axis, dtype, out, **passkwargs)\n",
      "/home/ss2686/miniconda3/envs/my-rdkit-env/lib/python3.9/site-packages/numpy/core/fromnumeric.py:86: RuntimeWarning: overflow encountered in reduce\n",
      "  return ufunc.reduce(obj, axis, dtype, out, **passkwargs)\n",
      "/home/ss2686/miniconda3/envs/my-rdkit-env/lib/python3.9/site-packages/numpy/core/fromnumeric.py:86: RuntimeWarning: overflow encountered in reduce\n",
      "  return ufunc.reduce(obj, axis, dtype, out, **passkwargs)\n"
     ]
    },
    {
     "name": "stderr",
     "output_type": "stream",
     "text": [
      "\n",
      "                                                                                \u001b[A\n",
      "Processing activities:   0%|                              | 0/1 [00:29<?, ?it/s]\n",
      " 63%|█████████████████████████▎              | 860/1362 [00:28<00:15, 31.66it/s]\u001b[A"
     ]
    },
    {
     "name": "stdout",
     "output_type": "stream",
     "text": [
      "/home/ss2686/miniconda3/envs/my-rdkit-env/lib/python3.9/site-packages/numpy/core/fromnumeric.py:86: RuntimeWarning: overflow encountered in reduce\n",
      "  return ufunc.reduce(obj, axis, dtype, out, **passkwargs)\n"
     ]
    },
    {
     "name": "stderr",
     "output_type": "stream",
     "text": [
      "\n",
      "                                                                                \u001b[A\n",
      "Processing activities:   0%|                              | 0/1 [00:38<?, ?it/s]\n",
      "                                                                                \u001b[A\n",
      "Processing activities:   0%|                              | 0/1 [00:38<?, ?it/s]\n",
      "                                                                                \u001b[A\n",
      "Processing activities:   0%|                              | 0/1 [00:38<?, ?it/s]\n",
      "                                                                                \u001b[A\n",
      "Processing activities:   0%|                              | 0/1 [00:38<?, ?it/s]\n",
      " 73%|█████████████████████████████           | 988/1362 [00:37<00:35, 10.63it/s]\u001b[A\n",
      "                                                                                \u001b[A\n",
      "Processing activities:   0%|                              | 0/1 [00:38<?, ?it/s]\n",
      " 75%|█████████████████████████████          | 1015/1362 [00:37<00:13, 25.56it/s]\u001b[A"
     ]
    },
    {
     "name": "stdout",
     "output_type": "stream",
     "text": [
      "/home/ss2686/miniconda3/envs/my-rdkit-env/lib/python3.9/site-packages/numpy/core/fromnumeric.py:86: RuntimeWarning: overflow encountered in reduce\n",
      "  return ufunc.reduce(obj, axis, dtype, out, **passkwargs)\n",
      "/home/ss2686/miniconda3/envs/my-rdkit-env/lib/python3.9/site-packages/numpy/core/fromnumeric.py:86: RuntimeWarning: overflow encountered in reduce\n",
      "  return ufunc.reduce(obj, axis, dtype, out, **passkwargs)\n",
      "/home/ss2686/miniconda3/envs/my-rdkit-env/lib/python3.9/site-packages/numpy/core/fromnumeric.py:86: RuntimeWarning: overflow encountered in reduce\n",
      "  return ufunc.reduce(obj, axis, dtype, out, **passkwargs)\n",
      "/home/ss2686/miniconda3/envs/my-rdkit-env/lib/python3.9/site-packages/numpy/core/fromnumeric.py:86: RuntimeWarning: overflow encountered in reduce\n",
      "  return ufunc.reduce(obj, axis, dtype, out, **passkwargs)\n",
      "/home/ss2686/miniconda3/envs/my-rdkit-env/lib/python3.9/site-packages/numpy/core/fromnumeric.py:86: RuntimeWarning: overflow encountered in reduce\n",
      "  return ufunc.reduce(obj, axis, dtype, out, **passkwargs)\n"
     ]
    },
    {
     "name": "stderr",
     "output_type": "stream",
     "text": [
      "\n",
      " 78%|██████████████████████████████▎        | 1059/1362 [00:38<00:10, 29.92it/s]\u001b[A\n",
      "                                                                                \u001b[A\n",
      "Processing activities:   0%|                              | 0/1 [00:42<?, ?it/s]\n",
      "                                                                                \u001b[A\n",
      "Processing activities:   0%|                              | 0/1 [00:42<?, ?it/s]\n",
      " 82%|███████████████████████████████▉       | 1117/1362 [00:41<00:06, 36.70it/s]\u001b[A"
     ]
    },
    {
     "name": "stdout",
     "output_type": "stream",
     "text": [
      "/home/ss2686/miniconda3/envs/my-rdkit-env/lib/python3.9/site-packages/mordred/_matrix_attributes.py:251: RuntimeWarning: invalid value encountered in double_scalars\n",
      "  s += (eig.vec[i, eig.max] * eig.vec[j, eig.max]) ** -0.5\n",
      "/home/ss2686/miniconda3/envs/my-rdkit-env/lib/python3.9/site-packages/numpy/core/fromnumeric.py:86: RuntimeWarning: overflow encountered in reduce\n",
      "  return ufunc.reduce(obj, axis, dtype, out, **passkwargs)\n"
     ]
    },
    {
     "name": "stderr",
     "output_type": "stream",
     "text": [
      "\n",
      "                                                                                \u001b[A\n",
      "Processing activities:   0%|                              | 0/1 [00:49<?, ?it/s]\n",
      "                                                                                \u001b[A\n",
      "Processing activities:   0%|                              | 0/1 [00:50<?, ?it/s]\n",
      " 86%|█████████████████████████████████▍     | 1167/1362 [00:49<00:16, 11.60it/s]\u001b[A\n",
      "                                                                                \u001b[A\n",
      "Processing activities:   0%|                              | 0/1 [00:50<?, ?it/s]\n",
      "                                                                                \u001b[A\n",
      "Processing activities:   0%|                              | 0/1 [00:50<?, ?it/s]\n",
      " 88%|██████████████████████████████████▏    | 1194/1362 [00:49<00:11, 14.98it/s]\u001b[A"
     ]
    },
    {
     "name": "stdout",
     "output_type": "stream",
     "text": [
      "/home/ss2686/miniconda3/envs/my-rdkit-env/lib/python3.9/site-packages/numpy/core/fromnumeric.py:86: RuntimeWarning: overflow encountered in reduce\n",
      "  return ufunc.reduce(obj, axis, dtype, out, **passkwargs)\n",
      "/home/ss2686/miniconda3/envs/my-rdkit-env/lib/python3.9/site-packages/numpy/core/fromnumeric.py:86: RuntimeWarning: overflow encountered in reduce\n",
      "  return ufunc.reduce(obj, axis, dtype, out, **passkwargs)\n",
      "/home/ss2686/miniconda3/envs/my-rdkit-env/lib/python3.9/site-packages/numpy/core/fromnumeric.py:86: RuntimeWarning: overflow encountered in reduce\n",
      "  return ufunc.reduce(obj, axis, dtype, out, **passkwargs)\n",
      "/home/ss2686/miniconda3/envs/my-rdkit-env/lib/python3.9/site-packages/numpy/core/fromnumeric.py:86: RuntimeWarning: overflow encountered in reduce\n",
      "  return ufunc.reduce(obj, axis, dtype, out, **passkwargs)\n"
     ]
    },
    {
     "name": "stderr",
     "output_type": "stream",
     "text": [
      "\n",
      "                                                                                \u001b[A\n",
      "Processing activities:   0%|                              | 0/1 [00:50<?, ?it/s]\n",
      " 96%|█████████████████████████████████████▎ | 1302/1362 [00:49<00:02, 26.01it/s]\u001b[A\n",
      "100%|███████████████████████████████████████| 1362/1362 [00:49<00:00, 27.32it/s]\u001b[A\n"
     ]
    },
    {
     "name": "stdout",
     "output_type": "stream",
     "text": [
      "/home/ss2686/miniconda3/envs/my-rdkit-env/lib/python3.9/site-packages/numpy/core/fromnumeric.py:86: RuntimeWarning: overflow encountered in reduce\n",
      "  return ufunc.reduce(obj, axis, dtype, out, **passkwargs)\n"
     ]
    },
    {
     "name": "stderr",
     "output_type": "stream",
     "text": [
      "\n",
      "  0%|                                                   | 0/204 [00:00<?, ?it/s]\u001b[A\n",
      "  0%|▏                                          | 1/204 [00:00<00:40,  5.02it/s]\u001b[A\n",
      "  1%|▍                                          | 2/204 [00:00<00:31,  6.43it/s]\u001b[A\n",
      "  2%|█                                          | 5/204 [00:00<00:15, 12.71it/s]\u001b[A\n",
      "  7%|███                                       | 15/204 [00:00<00:07, 25.67it/s]\u001b[A\n",
      "                                                                                \u001b[A\n",
      "Processing activities:   0%|                              | 0/1 [00:53<?, ?it/s]\n",
      " 32%|█████████████▍                            | 65/204 [00:01<00:01, 89.57it/s]\u001b[A\n",
      " 35%|██████████████▌                           | 71/204 [00:01<00:02, 46.11it/s]\u001b[A"
     ]
    },
    {
     "name": "stdout",
     "output_type": "stream",
     "text": [
      "/home/ss2686/miniconda3/envs/my-rdkit-env/lib/python3.9/site-packages/numpy/core/fromnumeric.py:86: RuntimeWarning: overflow encountered in reduce\n",
      "  return ufunc.reduce(obj, axis, dtype, out, **passkwargs)\n"
     ]
    },
    {
     "name": "stderr",
     "output_type": "stream",
     "text": [
      "                                                                                \n",
      "Processing activities:   0%|                              | 0/1 [00:54<?, ?it/s]\n",
      " 36%|███████████████▏                          | 74/204 [00:02<00:02, 46.11it/s]\u001b[A\n",
      "                                                                                \u001b[A\n",
      "Processing activities:   0%|                              | 0/1 [00:54<?, ?it/s]\n",
      "                                                                                \u001b[A\n",
      "Processing activities:   0%|                              | 0/1 [00:54<?, ?it/s]\n",
      " 38%|████████████████                          | 78/204 [00:02<00:05, 21.24it/s]\u001b[A"
     ]
    },
    {
     "name": "stdout",
     "output_type": "stream",
     "text": [
      "/home/ss2686/miniconda3/envs/my-rdkit-env/lib/python3.9/site-packages/numpy/core/fromnumeric.py:86: RuntimeWarning: overflow encountered in reduce\n",
      "  return ufunc.reduce(obj, axis, dtype, out, **passkwargs)\n",
      "/home/ss2686/miniconda3/envs/my-rdkit-env/lib/python3.9/site-packages/numpy/core/fromnumeric.py:86: RuntimeWarning: overflow encountered in reduce\n",
      "  return ufunc.reduce(obj, axis, dtype, out, **passkwargs)\n",
      "/home/ss2686/miniconda3/envs/my-rdkit-env/lib/python3.9/site-packages/numpy/core/fromnumeric.py:86: RuntimeWarning: overflow encountered in reduce\n",
      "  return ufunc.reduce(obj, axis, dtype, out, **passkwargs)\n"
     ]
    },
    {
     "name": "stderr",
     "output_type": "stream",
     "text": [
      "                                                                                \n",
      "Processing activities:   0%|                              | 0/1 [00:55<?, ?it/s]\n",
      " 40%|████████████████▉                         | 82/204 [00:03<00:05, 21.24it/s]\u001b[A\n",
      "                                                                                \u001b[A\n",
      "Processing activities:   0%|                              | 0/1 [00:55<?, ?it/s]\n",
      "                                                                                \u001b[A\n",
      "Processing activities:   0%|                              | 0/1 [00:55<?, ?it/s]\n",
      "                                                                                \u001b[A\n",
      "Processing activities:   0%|                              | 0/1 [00:55<?, ?it/s]\n",
      "                                                                                \u001b[A\n",
      "Processing activities:   0%|                              | 0/1 [00:55<?, ?it/s]\n",
      "                                                                                \u001b[A\n",
      "Processing activities:   0%|                              | 0/1 [00:55<?, ?it/s]\n",
      "                                                                                \u001b[A\n",
      "Processing activities:   0%|                              | 0/1 [00:55<?, ?it/s]\n",
      "                                                                                \u001b[A\n",
      "Processing activities:   0%|                              | 0/1 [00:55<?, ?it/s]\n",
      "                                                                                \u001b[A\n",
      "Processing activities:   0%|                              | 0/1 [00:55<?, ?it/s]\n",
      "100%|█████████████████████████████████████████| 204/204 [00:03<00:00, 55.73it/s]\u001b[A\n"
     ]
    },
    {
     "name": "stdout",
     "output_type": "stream",
     "text": [
      "/home/ss2686/miniconda3/envs/my-rdkit-env/lib/python3.9/site-packages/numpy/core/fromnumeric.py:86: RuntimeWarning: overflow encountered in reduce\n",
      "  return ufunc.reduce(obj, axis, dtype, out, **passkwargs)\n",
      "/home/ss2686/miniconda3/envs/my-rdkit-env/lib/python3.9/site-packages/numpy/core/fromnumeric.py:86: RuntimeWarning: overflow encountered in reduce\n",
      "  return ufunc.reduce(obj, axis, dtype, out, **passkwargs)\n",
      "/home/ss2686/miniconda3/envs/my-rdkit-env/lib/python3.9/site-packages/numpy/core/fromnumeric.py:86: RuntimeWarning: overflow encountered in reduce\n",
      "  return ufunc.reduce(obj, axis, dtype, out, **passkwargs)\n",
      "/home/ss2686/miniconda3/envs/my-rdkit-env/lib/python3.9/site-packages/numpy/core/fromnumeric.py:86: RuntimeWarning: overflow encountered in reduce\n",
      "  return ufunc.reduce(obj, axis, dtype, out, **passkwargs)\n",
      "/home/ss2686/miniconda3/envs/my-rdkit-env/lib/python3.9/site-packages/numpy/core/fromnumeric.py:86: RuntimeWarning: overflow encountered in reduce\n",
      "  return ufunc.reduce(obj, axis, dtype, out, **passkwargs)\n",
      "/home/ss2686/miniconda3/envs/my-rdkit-env/lib/python3.9/site-packages/numpy/core/fromnumeric.py:86: RuntimeWarning: overflow encountered in reduce\n",
      "  return ufunc.reduce(obj, axis, dtype, out, **passkwargs)\n",
      "/home/ss2686/miniconda3/envs/my-rdkit-env/lib/python3.9/site-packages/numpy/core/fromnumeric.py:86: RuntimeWarning: overflow encountered in reduce\n",
      "  return ufunc.reduce(obj, axis, dtype, out, **passkwargs)\n",
      "/home/ss2686/miniconda3/envs/my-rdkit-env/lib/python3.9/site-packages/numpy/core/fromnumeric.py:86: RuntimeWarning: overflow encountered in reduce\n",
      "  return ufunc.reduce(obj, axis, dtype, out, **passkwargs)\n",
      "/home/ss2686/miniconda3/envs/my-rdkit-env/lib/python3.9/site-packages/numpy/core/fromnumeric.py:86: RuntimeWarning: overflow encountered in reduce\n",
      "  return ufunc.reduce(obj, axis, dtype, out, **passkwargs)\n",
      "n_iterations: 4\n",
      "n_required_iterations: 4\n",
      "n_possible_iterations: 4\n",
      "min_resources_: 20\n",
      "max_resources_: 1362\n",
      "aggressive_elimination: False\n",
      "factor: 3\n",
      "----------\n",
      "iter: 0\n",
      "n_candidates: 68\n",
      "n_resources: 20\n",
      "Fitting 5 folds for each of 68 candidates, totalling 340 fits\n",
      "----------\n",
      "iter: 1\n",
      "n_candidates: 23\n",
      "n_resources: 60\n",
      "Fitting 5 folds for each of 23 candidates, totalling 115 fits\n",
      "----------\n",
      "iter: 2\n",
      "n_candidates: 8\n",
      "n_resources: 180\n",
      "Fitting 5 folds for each of 8 candidates, totalling 40 fits\n",
      "----------\n",
      "iter: 3\n",
      "n_candidates: 3\n",
      "n_resources: 540\n",
      "Fitting 5 folds for each of 3 candidates, totalling 15 fits\n"
     ]
    },
    {
     "name": "stderr",
     "output_type": "stream",
     "text": [
      "Processing activities: 100%|██████████████████████| 1/1 [01:13<00:00, 73.34s/it]\n"
     ]
    },
    {
     "name": "stdout",
     "output_type": "stream",
     "text": [
      "sider_cardiacdisorders\n"
     ]
    },
    {
     "name": "stderr",
     "output_type": "stream",
     "text": [
      "Processing activities:   0%|                              | 0/1 [00:00<?, ?it/s]\n",
      "  0%|                                                  | 0/1057 [00:00<?, ?it/s]\u001b[A\n",
      "  0%|                                          | 1/1057 [00:00<03:12,  5.48it/s]\u001b[A\n",
      "  0%|                                          | 3/1057 [00:00<02:00,  8.73it/s]\u001b[A\n",
      "  1%|▏                                         | 6/1057 [00:00<01:54,  9.19it/s]\u001b[A\n",
      "  1%|▎                                         | 7/1057 [00:00<02:26,  7.18it/s]\u001b[A\n",
      "                                                                                \u001b[A\n",
      "Processing activities:   0%|                              | 0/1 [00:02<?, ?it/s]\n",
      "  2%|▋                                        | 17/1057 [00:01<01:13, 14.07it/s]\u001b[A"
     ]
    },
    {
     "name": "stdout",
     "output_type": "stream",
     "text": [
      "/home/ss2686/miniconda3/envs/my-rdkit-env/lib/python3.9/site-packages/numpy/core/fromnumeric.py:86: RuntimeWarning: overflow encountered in reduce\n",
      "  return ufunc.reduce(obj, axis, dtype, out, **passkwargs)\n"
     ]
    },
    {
     "name": "stderr",
     "output_type": "stream",
     "text": [
      "                                                                                \n",
      "Processing activities:   0%|                              | 0/1 [00:08<?, ?it/s]\n",
      "  3%|█                                        | 28/1057 [00:07<01:13, 14.07it/s]\u001b[A\n",
      "                                                                                \u001b[A\n",
      "Processing activities:   0%|                              | 0/1 [00:08<?, ?it/s]\n",
      "                                                                                \u001b[A\n",
      "Processing activities:   0%|                              | 0/1 [00:08<?, ?it/s]\n",
      "                                                                                \u001b[A\n",
      "Processing activities:   0%|                              | 0/1 [00:08<?, ?it/s]\n",
      "                                                                                \u001b[A\n",
      "Processing activities:   0%|                              | 0/1 [00:08<?, ?it/s]\n",
      "                                                                                \u001b[A\n",
      "Processing activities:   0%|                              | 0/1 [00:08<?, ?it/s]\n",
      "                                                                                \u001b[A\n",
      "Processing activities:   0%|                              | 0/1 [00:08<?, ?it/s]\n",
      " 11%|████▌                                   | 120/1057 [00:07<04:53,  3.20it/s]\u001b[A\n",
      "                                                                                \u001b[A\n",
      "Processing activities:   0%|                              | 0/1 [00:08<?, ?it/s]\n",
      "                                                                                \u001b[A\n",
      "Processing activities:   0%|                              | 0/1 [00:08<?, ?it/s]\n",
      " 14%|█████▊                                  | 153/1057 [00:07<00:33, 26.99it/s]\u001b[A"
     ]
    },
    {
     "name": "stdout",
     "output_type": "stream",
     "text": [
      "/home/ss2686/miniconda3/envs/my-rdkit-env/lib/python3.9/site-packages/numpy/core/fromnumeric.py:86: RuntimeWarning: overflow encountered in reduce\n",
      "  return ufunc.reduce(obj, axis, dtype, out, **passkwargs)\n",
      "/home/ss2686/miniconda3/envs/my-rdkit-env/lib/python3.9/site-packages/numpy/core/fromnumeric.py:86: RuntimeWarning: overflow encountered in reduce\n",
      "  return ufunc.reduce(obj, axis, dtype, out, **passkwargs)\n",
      "/home/ss2686/miniconda3/envs/my-rdkit-env/lib/python3.9/site-packages/numpy/core/fromnumeric.py:86: RuntimeWarning: overflow encountered in reduce\n",
      "  return ufunc.reduce(obj, axis, dtype, out, **passkwargs)\n",
      "/home/ss2686/miniconda3/envs/my-rdkit-env/lib/python3.9/site-packages/numpy/core/fromnumeric.py:86: RuntimeWarning: overflow encountered in reduce\n",
      "  return ufunc.reduce(obj, axis, dtype, out, **passkwargs)\n",
      "/home/ss2686/miniconda3/envs/my-rdkit-env/lib/python3.9/site-packages/numpy/core/fromnumeric.py:86: RuntimeWarning: overflow encountered in reduce\n",
      "  return ufunc.reduce(obj, axis, dtype, out, **passkwargs)\n",
      "/home/ss2686/miniconda3/envs/my-rdkit-env/lib/python3.9/site-packages/numpy/core/fromnumeric.py:86: RuntimeWarning: overflow encountered in reduce\n",
      "  return ufunc.reduce(obj, axis, dtype, out, **passkwargs)\n",
      "/home/ss2686/miniconda3/envs/my-rdkit-env/lib/python3.9/site-packages/numpy/core/fromnumeric.py:86: RuntimeWarning: overflow encountered in reduce\n",
      "  return ufunc.reduce(obj, axis, dtype, out, **passkwargs)\n",
      "/home/ss2686/miniconda3/envs/my-rdkit-env/lib/python3.9/site-packages/numpy/core/fromnumeric.py:86: RuntimeWarning: overflow encountered in reduce\n",
      "  return ufunc.reduce(obj, axis, dtype, out, **passkwargs)\n",
      "/home/ss2686/miniconda3/envs/my-rdkit-env/lib/python3.9/site-packages/numpy/core/fromnumeric.py:86: RuntimeWarning: overflow encountered in reduce\n",
      "  return ufunc.reduce(obj, axis, dtype, out, **passkwargs)\n"
     ]
    },
    {
     "name": "stderr",
     "output_type": "stream",
     "text": [
      "\n",
      "                                                                                \u001b[A\n",
      "Processing activities:   0%|                              | 0/1 [00:10<?, ?it/s]\n",
      "                                                                                \u001b[A\n",
      "Processing activities:   0%|                              | 0/1 [00:10<?, ?it/s]\n",
      " 20%|███████▉                                | 211/1057 [00:10<00:24, 34.03it/s]\u001b[A"
     ]
    },
    {
     "name": "stdout",
     "output_type": "stream",
     "text": [
      "/home/ss2686/miniconda3/envs/my-rdkit-env/lib/python3.9/site-packages/numpy/core/fromnumeric.py:86: RuntimeWarning: overflow encountered in reduce\n",
      "  return ufunc.reduce(obj, axis, dtype, out, **passkwargs)\n",
      "/home/ss2686/miniconda3/envs/my-rdkit-env/lib/python3.9/site-packages/numpy/core/fromnumeric.py:86: RuntimeWarning: overflow encountered in reduce\n",
      "  return ufunc.reduce(obj, axis, dtype, out, **passkwargs)\n"
     ]
    },
    {
     "name": "stderr",
     "output_type": "stream",
     "text": [
      "                                                                                \n",
      "Processing activities:   0%|                              | 0/1 [00:11<?, ?it/s]\n",
      " 21%|████████▎                               | 219/1057 [00:11<00:24, 34.03it/s]\u001b[A\n",
      "                                                                                \u001b[A\n",
      "Processing activities:   0%|                              | 0/1 [00:11<?, ?it/s]\n",
      "                                                                                \u001b[A\n",
      "Processing activities:   0%|                              | 0/1 [00:11<?, ?it/s]\n",
      "                                                                                \u001b[A\n",
      "Processing activities:   0%|                              | 0/1 [00:11<?, ?it/s]\n",
      "                                                                                \u001b[A\n",
      "Processing activities:   0%|                              | 0/1 [00:12<?, ?it/s]\n",
      "                                                                                \u001b[A\n",
      "Processing activities:   0%|                              | 0/1 [00:12<?, ?it/s]\n",
      " 32%|████████████▉                           | 343/1057 [00:11<00:32, 22.22it/s]\u001b[A\n",
      "                                                                                \u001b[A\n",
      "Processing activities:   0%|                              | 0/1 [00:12<?, ?it/s]\n",
      "                                                                                \u001b[A\n",
      "Processing activities:   0%|                              | 0/1 [00:12<?, ?it/s]\n",
      "                                                                                \u001b[A\n",
      "Processing activities:   0%|                              | 0/1 [00:12<?, ?it/s]\n",
      " 36%|██████████████▎                         | 379/1057 [00:11<00:12, 52.22it/s]\u001b[A"
     ]
    },
    {
     "name": "stdout",
     "output_type": "stream",
     "text": [
      "/home/ss2686/miniconda3/envs/my-rdkit-env/lib/python3.9/site-packages/numpy/core/fromnumeric.py:86: RuntimeWarning: overflow encountered in reduce\n",
      "  return ufunc.reduce(obj, axis, dtype, out, **passkwargs)\n",
      "/home/ss2686/miniconda3/envs/my-rdkit-env/lib/python3.9/site-packages/numpy/core/fromnumeric.py:86: RuntimeWarning: overflow encountered in reduce\n",
      "  return ufunc.reduce(obj, axis, dtype, out, **passkwargs)\n",
      "/home/ss2686/miniconda3/envs/my-rdkit-env/lib/python3.9/site-packages/numpy/core/fromnumeric.py:86: RuntimeWarning: overflow encountered in reduce\n",
      "  return ufunc.reduce(obj, axis, dtype, out, **passkwargs)\n",
      "/home/ss2686/miniconda3/envs/my-rdkit-env/lib/python3.9/site-packages/numpy/core/fromnumeric.py:86: RuntimeWarning: overflow encountered in reduce\n",
      "  return ufunc.reduce(obj, axis, dtype, out, **passkwargs)\n",
      "/home/ss2686/miniconda3/envs/my-rdkit-env/lib/python3.9/site-packages/numpy/core/fromnumeric.py:86: RuntimeWarning: overflow encountered in reduce\n",
      "  return ufunc.reduce(obj, axis, dtype, out, **passkwargs)\n",
      "/home/ss2686/miniconda3/envs/my-rdkit-env/lib/python3.9/site-packages/numpy/core/fromnumeric.py:86: RuntimeWarning: overflow encountered in reduce\n",
      "  return ufunc.reduce(obj, axis, dtype, out, **passkwargs)\n",
      "/home/ss2686/miniconda3/envs/my-rdkit-env/lib/python3.9/site-packages/numpy/core/fromnumeric.py:86: RuntimeWarning: overflow encountered in reduce\n",
      "  return ufunc.reduce(obj, axis, dtype, out, **passkwargs)\n",
      "/home/ss2686/miniconda3/envs/my-rdkit-env/lib/python3.9/site-packages/numpy/core/fromnumeric.py:86: RuntimeWarning: overflow encountered in reduce\n",
      "  return ufunc.reduce(obj, axis, dtype, out, **passkwargs)\n",
      "/home/ss2686/miniconda3/envs/my-rdkit-env/lib/python3.9/site-packages/numpy/core/fromnumeric.py:86: RuntimeWarning: overflow encountered in reduce\n",
      "  return ufunc.reduce(obj, axis, dtype, out, **passkwargs)\n"
     ]
    },
    {
     "name": "stderr",
     "output_type": "stream",
     "text": [
      "\n",
      "                                                                                \u001b[A\n",
      "Processing activities:   0%|                              | 0/1 [00:12<?, ?it/s]\n",
      " 38%|███████████████                         | 397/1057 [00:11<00:10, 61.10it/s]\u001b[A"
     ]
    },
    {
     "name": "stdout",
     "output_type": "stream",
     "text": [
      "/home/ss2686/miniconda3/envs/my-rdkit-env/lib/python3.9/site-packages/numpy/core/fromnumeric.py:86: RuntimeWarning: overflow encountered in reduce\n",
      "  return ufunc.reduce(obj, axis, dtype, out, **passkwargs)\n"
     ]
    },
    {
     "name": "stderr",
     "output_type": "stream",
     "text": [
      "                                                                                \n",
      "Processing activities:   0%|                              | 0/1 [00:13<?, ?it/s]\n",
      " 38%|███████████████▏                        | 401/1057 [00:12<00:10, 61.10it/s]\u001b[A"
     ]
    },
    {
     "name": "stdout",
     "output_type": "stream",
     "text": [
      "/home/ss2686/miniconda3/envs/my-rdkit-env/lib/python3.9/site-packages/numpy/core/fromnumeric.py:86: RuntimeWarning: overflow encountered in reduce\n",
      "  return ufunc.reduce(obj, axis, dtype, out, **passkwargs)\n"
     ]
    },
    {
     "name": "stderr",
     "output_type": "stream",
     "text": [
      "                                                                                \n",
      "Processing activities:   0%|                              | 0/1 [00:14<?, ?it/s]\n",
      " 38%|███████████████▎                        | 405/1057 [00:14<00:10, 61.10it/s]\u001b[A"
     ]
    },
    {
     "name": "stdout",
     "output_type": "stream",
     "text": [
      "/home/ss2686/miniconda3/envs/my-rdkit-env/lib/python3.9/site-packages/numpy/core/fromnumeric.py:86: RuntimeWarning: overflow encountered in reduce\n",
      "  return ufunc.reduce(obj, axis, dtype, out, **passkwargs)\n"
     ]
    },
    {
     "name": "stderr",
     "output_type": "stream",
     "text": [
      "                                                                                \n",
      "Processing activities:   0%|                              | 0/1 [00:15<?, ?it/s]\n",
      "                                                                                \u001b[A\n",
      "Processing activities:   0%|                              | 0/1 [00:15<?, ?it/s]\n",
      " 41%|████████████████▎                       | 430/1057 [00:14<00:10, 61.10it/s]\u001b[A\n",
      "                                                                                \u001b[A\n",
      "Processing activities:   0%|                              | 0/1 [00:15<?, ?it/s]\n",
      "                                                                                \u001b[A\n",
      "Processing activities:   0%|                              | 0/1 [00:15<?, ?it/s]\n",
      "                                                                                \u001b[A\n",
      "Processing activities:   0%|                              | 0/1 [00:15<?, ?it/s]\n",
      "                                                                                \u001b[A\n",
      "Processing activities:   0%|                              | 0/1 [00:15<?, ?it/s]\n",
      "                                                                                \u001b[A\n",
      "Processing activities:   0%|                              | 0/1 [00:15<?, ?it/s]\n",
      " 50%|███████████████████▊                    | 524/1057 [00:14<00:15, 34.34it/s]\u001b[A"
     ]
    },
    {
     "name": "stdout",
     "output_type": "stream",
     "text": [
      "/home/ss2686/miniconda3/envs/my-rdkit-env/lib/python3.9/site-packages/numpy/core/fromnumeric.py:86: RuntimeWarning: overflow encountered in reduce\n",
      "  return ufunc.reduce(obj, axis, dtype, out, **passkwargs)\n",
      "/home/ss2686/miniconda3/envs/my-rdkit-env/lib/python3.9/site-packages/numpy/core/fromnumeric.py:86: RuntimeWarning: overflow encountered in reduce\n",
      "  return ufunc.reduce(obj, axis, dtype, out, **passkwargs)\n",
      "/home/ss2686/miniconda3/envs/my-rdkit-env/lib/python3.9/site-packages/numpy/core/fromnumeric.py:86: RuntimeWarning: overflow encountered in reduce\n",
      "  return ufunc.reduce(obj, axis, dtype, out, **passkwargs)\n",
      "/home/ss2686/miniconda3/envs/my-rdkit-env/lib/python3.9/site-packages/numpy/core/fromnumeric.py:86: RuntimeWarning: overflow encountered in reduce\n",
      "  return ufunc.reduce(obj, axis, dtype, out, **passkwargs)\n",
      "/home/ss2686/miniconda3/envs/my-rdkit-env/lib/python3.9/site-packages/numpy/core/fromnumeric.py:86: RuntimeWarning: overflow encountered in reduce\n",
      "  return ufunc.reduce(obj, axis, dtype, out, **passkwargs)\n",
      "/home/ss2686/miniconda3/envs/my-rdkit-env/lib/python3.9/site-packages/numpy/core/fromnumeric.py:86: RuntimeWarning: overflow encountered in reduce\n",
      "  return ufunc.reduce(obj, axis, dtype, out, **passkwargs)\n",
      "/home/ss2686/miniconda3/envs/my-rdkit-env/lib/python3.9/site-packages/numpy/core/fromnumeric.py:86: RuntimeWarning: overflow encountered in reduce\n",
      "  return ufunc.reduce(obj, axis, dtype, out, **passkwargs)\n"
     ]
    },
    {
     "name": "stderr",
     "output_type": "stream",
     "text": [
      "                                                                                \n",
      "Processing activities:   0%|                              | 0/1 [00:20<?, ?it/s]\n",
      " 53%|█████████████████████                   | 557/1057 [00:19<00:14, 34.34it/s]\u001b[A\n",
      "                                                                                \u001b[A\n",
      "Processing activities:   0%|                              | 0/1 [00:20<?, ?it/s]\n",
      "                                                                                \u001b[A\n",
      "Processing activities:   0%|                              | 0/1 [00:20<?, ?it/s]\n",
      "                                                                                \u001b[A\n",
      "Processing activities:   0%|                              | 0/1 [00:20<?, ?it/s]\n",
      "                                                                                \u001b[A\n",
      "Processing activities:   0%|                              | 0/1 [00:20<?, ?it/s]\n",
      "                                                                                \u001b[A\n",
      "Processing activities:   0%|                              | 0/1 [00:20<?, ?it/s]\n",
      "                                                                                \u001b[A\n",
      "Processing activities:   0%|                              | 0/1 [00:20<?, ?it/s]\n",
      " 63%|█████████████████████████▍              | 671/1057 [00:19<00:13, 28.08it/s]\u001b[A\n",
      " 66%|██████████████████████████▍             | 699/1057 [00:19<00:07, 50.06it/s]\u001b[A"
     ]
    },
    {
     "name": "stdout",
     "output_type": "stream",
     "text": [
      "/home/ss2686/miniconda3/envs/my-rdkit-env/lib/python3.9/site-packages/numpy/core/fromnumeric.py:86: RuntimeWarning: overflow encountered in reduce\n",
      "  return ufunc.reduce(obj, axis, dtype, out, **passkwargs)\n",
      "/home/ss2686/miniconda3/envs/my-rdkit-env/lib/python3.9/site-packages/numpy/core/fromnumeric.py:86: RuntimeWarning: overflow encountered in reduce\n",
      "  return ufunc.reduce(obj, axis, dtype, out, **passkwargs)\n",
      "/home/ss2686/miniconda3/envs/my-rdkit-env/lib/python3.9/site-packages/numpy/core/fromnumeric.py:86: RuntimeWarning: overflow encountered in reduce\n",
      "  return ufunc.reduce(obj, axis, dtype, out, **passkwargs)\n",
      "/home/ss2686/miniconda3/envs/my-rdkit-env/lib/python3.9/site-packages/numpy/core/fromnumeric.py:86: RuntimeWarning: overflow encountered in reduce\n",
      "  return ufunc.reduce(obj, axis, dtype, out, **passkwargs)\n",
      "/home/ss2686/miniconda3/envs/my-rdkit-env/lib/python3.9/site-packages/numpy/core/fromnumeric.py:86: RuntimeWarning: overflow encountered in reduce\n",
      "  return ufunc.reduce(obj, axis, dtype, out, **passkwargs)\n",
      "/home/ss2686/miniconda3/envs/my-rdkit-env/lib/python3.9/site-packages/numpy/core/fromnumeric.py:86: RuntimeWarning: overflow encountered in reduce\n",
      "  return ufunc.reduce(obj, axis, dtype, out, **passkwargs)\n",
      "/home/ss2686/miniconda3/envs/my-rdkit-env/lib/python3.9/site-packages/numpy/core/fromnumeric.py:86: RuntimeWarning: overflow encountered in reduce\n",
      "  return ufunc.reduce(obj, axis, dtype, out, **passkwargs)\n"
     ]
    },
    {
     "name": "stderr",
     "output_type": "stream",
     "text": [
      "\n",
      " 72%|████████████████████████████▌           | 756/1057 [00:20<00:05, 55.73it/s]\u001b[A\n",
      "                                                                                \u001b[A\n",
      "Processing activities:   0%|                              | 0/1 [00:31<?, ?it/s]\n",
      " 81%|████████████████████████████████▎       | 853/1057 [00:30<00:11, 17.20it/s]\u001b[A"
     ]
    },
    {
     "name": "stdout",
     "output_type": "stream",
     "text": [
      "/home/ss2686/miniconda3/envs/my-rdkit-env/lib/python3.9/site-packages/numpy/core/fromnumeric.py:86: RuntimeWarning: overflow encountered in reduce\n",
      "  return ufunc.reduce(obj, axis, dtype, out, **passkwargs)\n"
     ]
    },
    {
     "name": "stderr",
     "output_type": "stream",
     "text": [
      "                                                                                \n",
      "Processing activities:   0%|                              | 0/1 [00:32<?, ?it/s]\n",
      " 81%|████████████████████████████████▌       | 861/1057 [00:31<00:11, 17.20it/s]\u001b[A\n",
      "                                                                                \u001b[A\n",
      "Processing activities:   0%|                              | 0/1 [00:32<?, ?it/s]\n",
      "                                                                                \u001b[A\n",
      "Processing activities:   0%|                              | 0/1 [00:32<?, ?it/s]\n",
      "                                                                                \u001b[A\n",
      "Processing activities:   0%|                              | 0/1 [00:32<?, ?it/s]\n",
      "                                                                                \u001b[A\n",
      "Processing activities:   0%|                              | 0/1 [00:32<?, ?it/s]\n",
      " 90%|███████████████████████████████████▉    | 949/1057 [00:31<00:04, 21.72it/s]\u001b[A"
     ]
    },
    {
     "name": "stdout",
     "output_type": "stream",
     "text": [
      "/home/ss2686/miniconda3/envs/my-rdkit-env/lib/python3.9/site-packages/numpy/core/fromnumeric.py:86: RuntimeWarning: overflow encountered in reduce\n",
      "  return ufunc.reduce(obj, axis, dtype, out, **passkwargs)\n",
      "/home/ss2686/miniconda3/envs/my-rdkit-env/lib/python3.9/site-packages/numpy/core/fromnumeric.py:86: RuntimeWarning: overflow encountered in reduce\n",
      "  return ufunc.reduce(obj, axis, dtype, out, **passkwargs)\n",
      "/home/ss2686/miniconda3/envs/my-rdkit-env/lib/python3.9/site-packages/numpy/core/fromnumeric.py:86: RuntimeWarning: overflow encountered in reduce\n",
      "  return ufunc.reduce(obj, axis, dtype, out, **passkwargs)\n",
      "/home/ss2686/miniconda3/envs/my-rdkit-env/lib/python3.9/site-packages/numpy/core/fromnumeric.py:86: RuntimeWarning: overflow encountered in reduce\n",
      "  return ufunc.reduce(obj, axis, dtype, out, **passkwargs)\n",
      "/home/ss2686/miniconda3/envs/my-rdkit-env/lib/python3.9/site-packages/numpy/core/fromnumeric.py:86: RuntimeWarning: overflow encountered in reduce\n",
      "  return ufunc.reduce(obj, axis, dtype, out, **passkwargs)\n"
     ]
    },
    {
     "name": "stderr",
     "output_type": "stream",
     "text": [
      "\n",
      "                                                                                \u001b[A\n",
      "Processing activities:   0%|                              | 0/1 [00:32<?, ?it/s]\n",
      " 93%|█████████████████████████████████████   | 980/1057 [00:31<00:02, 33.83it/s]\u001b[A"
     ]
    },
    {
     "name": "stdout",
     "output_type": "stream",
     "text": [
      "/home/ss2686/miniconda3/envs/my-rdkit-env/lib/python3.9/site-packages/numpy/core/fromnumeric.py:86: RuntimeWarning: overflow encountered in reduce\n",
      "  return ufunc.reduce(obj, axis, dtype, out, **passkwargs)\n"
     ]
    },
    {
     "name": "stderr",
     "output_type": "stream",
     "text": [
      "                                                                                \n",
      "Processing activities:   0%|                              | 0/1 [00:34<?, ?it/s]\n",
      " 94%|█████████████████████████████████████▌  | 993/1057 [00:33<00:01, 33.83it/s]\u001b[A\n",
      "                                                                                \u001b[A\n",
      "Processing activities:   0%|                              | 0/1 [00:34<?, ?it/s]\n",
      "100%|███████████████████████████████████████| 1057/1057 [00:33<00:00, 31.88it/s]\u001b[A\n"
     ]
    },
    {
     "name": "stdout",
     "output_type": "stream",
     "text": [
      "/home/ss2686/miniconda3/envs/my-rdkit-env/lib/python3.9/site-packages/numpy/core/fromnumeric.py:86: RuntimeWarning: overflow encountered in reduce\n",
      "  return ufunc.reduce(obj, axis, dtype, out, **passkwargs)\n",
      "/home/ss2686/miniconda3/envs/my-rdkit-env/lib/python3.9/site-packages/numpy/core/fromnumeric.py:86: RuntimeWarning: overflow encountered in reduce\n",
      "  return ufunc.reduce(obj, axis, dtype, out, **passkwargs)\n"
     ]
    },
    {
     "name": "stderr",
     "output_type": "stream",
     "text": [
      "\n",
      "  0%|                                                   | 0/265 [00:00<?, ?it/s]\u001b[A\n",
      "                                                                                \u001b[A\n",
      "Processing activities:   0%|                              | 0/1 [00:44<?, ?it/s]\n",
      "  1%|▎                                          | 2/265 [00:09<01:06,  3.96it/s]\u001b[A\n",
      "                                                                                \u001b[A\n",
      "Processing activities:   0%|                              | 0/1 [00:44<?, ?it/s]\n",
      "                                                                                \u001b[A\n",
      "Processing activities:   0%|                              | 0/1 [00:44<?, ?it/s]\n",
      "                                                                                \u001b[A\n",
      "Processing activities:   0%|                              | 0/1 [00:44<?, ?it/s]\n",
      "                                                                                \u001b[A\n",
      "Processing activities:   0%|                              | 0/1 [00:44<?, ?it/s]\n",
      "                                                                                \u001b[A\n",
      "Processing activities:   0%|                              | 0/1 [00:44<?, ?it/s]\n",
      " 33%|█████████████▉                            | 88/265 [00:09<10:06,  3.43s/it]\u001b[A"
     ]
    },
    {
     "name": "stdout",
     "output_type": "stream",
     "text": [
      "/home/ss2686/miniconda3/envs/my-rdkit-env/lib/python3.9/site-packages/numpy/core/fromnumeric.py:86: RuntimeWarning: overflow encountered in reduce\n",
      "  return ufunc.reduce(obj, axis, dtype, out, **passkwargs)\n",
      "/home/ss2686/miniconda3/envs/my-rdkit-env/lib/python3.9/site-packages/mordred/_matrix_attributes.py:251: RuntimeWarning: invalid value encountered in double_scalars\n",
      "  s += (eig.vec[i, eig.max] * eig.vec[j, eig.max]) ** -0.5\n",
      "/home/ss2686/miniconda3/envs/my-rdkit-env/lib/python3.9/site-packages/numpy/core/fromnumeric.py:86: RuntimeWarning: overflow encountered in reduce\n",
      "  return ufunc.reduce(obj, axis, dtype, out, **passkwargs)\n",
      "/home/ss2686/miniconda3/envs/my-rdkit-env/lib/python3.9/site-packages/numpy/core/fromnumeric.py:86: RuntimeWarning: overflow encountered in reduce\n",
      "  return ufunc.reduce(obj, axis, dtype, out, **passkwargs)\n",
      "/home/ss2686/miniconda3/envs/my-rdkit-env/lib/python3.9/site-packages/numpy/core/fromnumeric.py:86: RuntimeWarning: overflow encountered in reduce\n",
      "  return ufunc.reduce(obj, axis, dtype, out, **passkwargs)\n",
      "/home/ss2686/miniconda3/envs/my-rdkit-env/lib/python3.9/site-packages/numpy/core/fromnumeric.py:86: RuntimeWarning: overflow encountered in reduce\n",
      "  return ufunc.reduce(obj, axis, dtype, out, **passkwargs)\n"
     ]
    },
    {
     "name": "stderr",
     "output_type": "stream",
     "text": [
      "                                                                                \n",
      "Processing activities:   0%|                              | 0/1 [00:46<?, ?it/s]\n",
      " 47%|███████████████████▏                     | 124/265 [00:10<08:03,  3.43s/it]\u001b[A\n",
      "                                                                                \u001b[A\n",
      "Processing activities:   0%|                              | 0/1 [00:46<?, ?it/s]\n",
      "                                                                                \u001b[A\n",
      "Processing activities:   0%|                              | 0/1 [00:46<?, ?it/s]\n",
      "                                                                                \u001b[A\n",
      "Processing activities:   0%|                              | 0/1 [00:46<?, ?it/s]\n",
      " 62%|█████████████████████████▌               | 165/265 [00:10<00:06, 15.57it/s]\u001b[A"
     ]
    },
    {
     "name": "stdout",
     "output_type": "stream",
     "text": [
      "/home/ss2686/miniconda3/envs/my-rdkit-env/lib/python3.9/site-packages/numpy/core/fromnumeric.py:86: RuntimeWarning: overflow encountered in reduce\n",
      "  return ufunc.reduce(obj, axis, dtype, out, **passkwargs)\n",
      "/home/ss2686/miniconda3/envs/my-rdkit-env/lib/python3.9/site-packages/numpy/core/fromnumeric.py:86: RuntimeWarning: overflow encountered in reduce\n",
      "  return ufunc.reduce(obj, axis, dtype, out, **passkwargs)\n",
      "/home/ss2686/miniconda3/envs/my-rdkit-env/lib/python3.9/site-packages/numpy/core/fromnumeric.py:86: RuntimeWarning: overflow encountered in reduce\n",
      "  return ufunc.reduce(obj, axis, dtype, out, **passkwargs)\n",
      "/home/ss2686/miniconda3/envs/my-rdkit-env/lib/python3.9/site-packages/numpy/core/fromnumeric.py:86: RuntimeWarning: overflow encountered in reduce\n",
      "  return ufunc.reduce(obj, axis, dtype, out, **passkwargs)\n"
     ]
    },
    {
     "name": "stderr",
     "output_type": "stream",
     "text": [
      "                                                                                \n",
      "Processing activities:   0%|                              | 0/1 [00:49<?, ?it/s]\n",
      "                                                                                \u001b[A\n",
      "Processing activities:   0%|                              | 0/1 [00:49<?, ?it/s]\n",
      " 63%|█████████████████████████▉               | 168/265 [00:13<00:06, 15.57it/s]\u001b[A\n",
      "                                                                                \u001b[A\n",
      "Processing activities:   0%|                              | 0/1 [00:49<?, ?it/s]\n",
      "                                                                                \u001b[A\n",
      "Processing activities:   0%|                              | 0/1 [00:49<?, ?it/s]\n",
      "                                                                                \u001b[A\n",
      "Processing activities:   0%|                              | 0/1 [00:49<?, ?it/s]\n",
      " 79%|████████████████████████████████▎        | 209/265 [00:13<00:03, 15.07it/s]\u001b[A"
     ]
    },
    {
     "name": "stdout",
     "output_type": "stream",
     "text": [
      "/home/ss2686/miniconda3/envs/my-rdkit-env/lib/python3.9/site-packages/mordred/_matrix_attributes.py:251: RuntimeWarning: invalid value encountered in double_scalars\n",
      "  s += (eig.vec[i, eig.max] * eig.vec[j, eig.max]) ** -0.5\n",
      "/home/ss2686/miniconda3/envs/my-rdkit-env/lib/python3.9/site-packages/numpy/core/fromnumeric.py:86: RuntimeWarning: overflow encountered in reduce\n",
      "  return ufunc.reduce(obj, axis, dtype, out, **passkwargs)\n",
      "/home/ss2686/miniconda3/envs/my-rdkit-env/lib/python3.9/site-packages/numpy/core/fromnumeric.py:86: RuntimeWarning: overflow encountered in reduce\n",
      "  return ufunc.reduce(obj, axis, dtype, out, **passkwargs)\n",
      "/home/ss2686/miniconda3/envs/my-rdkit-env/lib/python3.9/site-packages/numpy/core/fromnumeric.py:86: RuntimeWarning: overflow encountered in reduce\n",
      "  return ufunc.reduce(obj, axis, dtype, out, **passkwargs)\n",
      "/home/ss2686/miniconda3/envs/my-rdkit-env/lib/python3.9/site-packages/numpy/core/fromnumeric.py:86: RuntimeWarning: overflow encountered in reduce\n",
      "  return ufunc.reduce(obj, axis, dtype, out, **passkwargs)\n"
     ]
    },
    {
     "name": "stderr",
     "output_type": "stream",
     "text": [
      "                                                                                \n",
      "Processing activities:   0%|                              | 0/1 [00:50<?, ?it/s]\n",
      " 87%|███████████████████████████████████▌     | 230/265 [00:14<00:02, 15.07it/s]\u001b[A\n",
      "                                                                                \u001b[A\n",
      "Processing activities:   0%|                              | 0/1 [00:50<?, ?it/s]\n",
      "100%|█████████████████████████████████████████| 265/265 [00:14<00:00, 17.85it/s]\u001b[A\n"
     ]
    },
    {
     "name": "stdout",
     "output_type": "stream",
     "text": [
      "/home/ss2686/miniconda3/envs/my-rdkit-env/lib/python3.9/site-packages/numpy/core/fromnumeric.py:86: RuntimeWarning: overflow encountered in reduce\n",
      "  return ufunc.reduce(obj, axis, dtype, out, **passkwargs)\n",
      "/home/ss2686/miniconda3/envs/my-rdkit-env/lib/python3.9/site-packages/numpy/core/fromnumeric.py:86: RuntimeWarning: overflow encountered in reduce\n",
      "  return ufunc.reduce(obj, axis, dtype, out, **passkwargs)\n",
      "n_iterations: 4\n",
      "n_required_iterations: 4\n",
      "n_possible_iterations: 4\n",
      "min_resources_: 20\n",
      "max_resources_: 1057\n",
      "aggressive_elimination: False\n",
      "factor: 3\n",
      "----------\n",
      "iter: 0\n",
      "n_candidates: 52\n",
      "n_resources: 20\n",
      "Fitting 5 folds for each of 52 candidates, totalling 260 fits\n",
      "----------\n",
      "iter: 1\n",
      "n_candidates: 18\n",
      "n_resources: 60\n",
      "Fitting 5 folds for each of 18 candidates, totalling 90 fits\n",
      "----------\n",
      "iter: 2\n",
      "n_candidates: 6\n",
      "n_resources: 180\n",
      "Fitting 5 folds for each of 6 candidates, totalling 30 fits\n",
      "----------\n",
      "iter: 3\n",
      "n_candidates: 2\n",
      "n_resources: 540\n",
      "Fitting 5 folds for each of 2 candidates, totalling 10 fits\n"
     ]
    },
    {
     "name": "stderr",
     "output_type": "stream",
     "text": [
      "Processing activities: 100%|██████████████████████| 1/1 [01:05<00:00, 65.01s/it]\n"
     ]
    },
    {
     "name": "stdout",
     "output_type": "stream",
     "text": [
      "DICTrank\n"
     ]
    },
    {
     "name": "stderr",
     "output_type": "stream",
     "text": [
      "Processing activities:   0%|                              | 0/1 [00:00<?, ?it/s]\n",
      "  0%|                                                   | 0/816 [00:00<?, ?it/s]\u001b[A\n",
      "  0%|                                           | 1/816 [00:00<01:30,  9.05it/s]\u001b[A\n",
      "                                                                                \u001b[A\n",
      "Processing activities:   0%|                              | 0/1 [00:02<?, ?it/s]\n",
      "  0%|▏                                          | 3/816 [00:01<02:17,  5.93it/s]\u001b[A\n",
      "                                                                                \u001b[A\n",
      "Processing activities:   0%|                              | 0/1 [00:02<?, ?it/s]\n",
      "                                                                                \u001b[A\n",
      "Processing activities:   0%|                              | 0/1 [00:02<?, ?it/s]\n",
      "  1%|▌                                         | 10/816 [00:01<06:36,  2.03it/s]\u001b[A"
     ]
    },
    {
     "name": "stdout",
     "output_type": "stream",
     "text": [
      "/home/ss2686/miniconda3/envs/my-rdkit-env/lib/python3.9/site-packages/numpy/core/fromnumeric.py:86: RuntimeWarning: overflow encountered in reduce\n",
      "  return ufunc.reduce(obj, axis, dtype, out, **passkwargs)\n",
      "/home/ss2686/miniconda3/envs/my-rdkit-env/lib/python3.9/site-packages/numpy/core/fromnumeric.py:86: RuntimeWarning: overflow encountered in reduce\n",
      "  return ufunc.reduce(obj, axis, dtype, out, **passkwargs)\n",
      "/home/ss2686/miniconda3/envs/my-rdkit-env/lib/python3.9/site-packages/numpy/core/fromnumeric.py:86: RuntimeWarning: overflow encountered in reduce\n",
      "  return ufunc.reduce(obj, axis, dtype, out, **passkwargs)\n"
     ]
    },
    {
     "name": "stderr",
     "output_type": "stream",
     "text": [
      "                                                                                \n",
      "Processing activities:   0%|                              | 0/1 [00:03<?, ?it/s]\n",
      "  3%|█▏                                        | 22/816 [00:03<06:30,  2.03it/s]\u001b[A\n",
      "                                                                                \u001b[A\n",
      "Processing activities:   0%|                              | 0/1 [00:03<?, ?it/s]\n",
      "                                                                                \u001b[A\n",
      "Processing activities:   0%|                              | 0/1 [00:03<?, ?it/s]\n",
      "  6%|██▋                                       | 51/816 [00:03<01:31,  8.38it/s]\u001b[A"
     ]
    },
    {
     "name": "stdout",
     "output_type": "stream",
     "text": [
      "/home/ss2686/miniconda3/envs/my-rdkit-env/lib/python3.9/site-packages/numpy/core/fromnumeric.py:86: RuntimeWarning: overflow encountered in reduce\n",
      "  return ufunc.reduce(obj, axis, dtype, out, **passkwargs)\n",
      "/home/ss2686/miniconda3/envs/my-rdkit-env/lib/python3.9/site-packages/numpy/core/fromnumeric.py:86: RuntimeWarning: overflow encountered in reduce\n",
      "  return ufunc.reduce(obj, axis, dtype, out, **passkwargs)\n",
      "/home/ss2686/miniconda3/envs/my-rdkit-env/lib/python3.9/site-packages/numpy/core/fromnumeric.py:86: RuntimeWarning: overflow encountered in reduce\n",
      "  return ufunc.reduce(obj, axis, dtype, out, **passkwargs)\n"
     ]
    },
    {
     "name": "stderr",
     "output_type": "stream",
     "text": [
      "                                                                                \n",
      "Processing activities:   0%|                              | 0/1 [00:04<?, ?it/s]\n",
      "  7%|███                                       | 59/816 [00:03<01:30,  8.38it/s]\u001b[A\n",
      "                                                                                \u001b[A\n",
      "Processing activities:   0%|                              | 0/1 [00:04<?, ?it/s]\n",
      "  8%|███▏                                      | 62/816 [00:03<00:34, 21.71it/s]\u001b[A"
     ]
    },
    {
     "name": "stdout",
     "output_type": "stream",
     "text": [
      "/home/ss2686/miniconda3/envs/my-rdkit-env/lib/python3.9/site-packages/numpy/core/fromnumeric.py:86: RuntimeWarning: overflow encountered in reduce\n",
      "  return ufunc.reduce(obj, axis, dtype, out, **passkwargs)\n",
      "/home/ss2686/miniconda3/envs/my-rdkit-env/lib/python3.9/site-packages/numpy/core/fromnumeric.py:86: RuntimeWarning: overflow encountered in reduce\n",
      "  return ufunc.reduce(obj, axis, dtype, out, **passkwargs)\n"
     ]
    },
    {
     "name": "stderr",
     "output_type": "stream",
     "text": [
      "                                                                                \n",
      "Processing activities:   0%|                              | 0/1 [00:05<?, ?it/s]\n",
      "  8%|███▍                                      | 67/816 [00:04<00:34, 21.71it/s]\u001b[A\n",
      "                                                                                \u001b[A\n",
      "Processing activities:   0%|                              | 0/1 [00:05<?, ?it/s]\n",
      "                                                                                \u001b[A\n",
      "Processing activities:   0%|                              | 0/1 [00:05<?, ?it/s]\n",
      "                                                                                \u001b[A\n",
      "Processing activities:   0%|                              | 0/1 [00:05<?, ?it/s]\n",
      "                                                                                \u001b[A\n",
      "Processing activities:   0%|                              | 0/1 [00:05<?, ?it/s]\n",
      "                                                                                \u001b[A\n",
      "Processing activities:   0%|                              | 0/1 [00:05<?, ?it/s]\n",
      "                                                                                \u001b[A\n",
      "Processing activities:   0%|                              | 0/1 [00:05<?, ?it/s]\n",
      " 22%|████████▉                                | 178/816 [00:04<00:36, 17.48it/s]\u001b[A"
     ]
    },
    {
     "name": "stdout",
     "output_type": "stream",
     "text": [
      "/home/ss2686/miniconda3/envs/my-rdkit-env/lib/python3.9/site-packages/numpy/core/fromnumeric.py:86: RuntimeWarning: overflow encountered in reduce\n",
      "  return ufunc.reduce(obj, axis, dtype, out, **passkwargs)\n",
      "/home/ss2686/miniconda3/envs/my-rdkit-env/lib/python3.9/site-packages/numpy/core/fromnumeric.py:86: RuntimeWarning: overflow encountered in reduce\n",
      "  return ufunc.reduce(obj, axis, dtype, out, **passkwargs)\n",
      "/home/ss2686/miniconda3/envs/my-rdkit-env/lib/python3.9/site-packages/numpy/core/fromnumeric.py:86: RuntimeWarning: overflow encountered in reduce\n",
      "  return ufunc.reduce(obj, axis, dtype, out, **passkwargs)\n",
      "/home/ss2686/miniconda3/envs/my-rdkit-env/lib/python3.9/site-packages/numpy/core/fromnumeric.py:86: RuntimeWarning: overflow encountered in reduce\n",
      "  return ufunc.reduce(obj, axis, dtype, out, **passkwargs)\n",
      "/home/ss2686/miniconda3/envs/my-rdkit-env/lib/python3.9/site-packages/numpy/core/fromnumeric.py:86: RuntimeWarning: overflow encountered in reduce\n",
      "  return ufunc.reduce(obj, axis, dtype, out, **passkwargs)\n",
      "/home/ss2686/miniconda3/envs/my-rdkit-env/lib/python3.9/site-packages/numpy/core/fromnumeric.py:86: RuntimeWarning: overflow encountered in reduce\n",
      "  return ufunc.reduce(obj, axis, dtype, out, **passkwargs)\n",
      "/home/ss2686/miniconda3/envs/my-rdkit-env/lib/python3.9/site-packages/numpy/core/fromnumeric.py:86: RuntimeWarning: overflow encountered in reduce\n",
      "  return ufunc.reduce(obj, axis, dtype, out, **passkwargs)\n"
     ]
    },
    {
     "name": "stderr",
     "output_type": "stream",
     "text": [
      "                                                                                \n",
      "Processing activities:   0%|                              | 0/1 [00:07<?, ?it/s]\n",
      " 25%|██████████                               | 201/816 [00:06<00:35, 17.48it/s]\u001b[A\n",
      " 25%|██████████▏                              | 202/816 [00:06<00:14, 43.05it/s]\u001b[A"
     ]
    },
    {
     "name": "stdout",
     "output_type": "stream",
     "text": [
      "/home/ss2686/miniconda3/envs/my-rdkit-env/lib/python3.9/site-packages/numpy/core/fromnumeric.py:86: RuntimeWarning: overflow encountered in reduce\n",
      "  return ufunc.reduce(obj, axis, dtype, out, **passkwargs)\n"
     ]
    },
    {
     "name": "stderr",
     "output_type": "stream",
     "text": [
      "                                                                                \n",
      "Processing activities:   0%|                              | 0/1 [00:16<?, ?it/s]\n",
      " 29%|███████████▉                             | 238/816 [00:15<00:13, 43.05it/s]\u001b[A\n",
      "                                                                                \u001b[A\n",
      "Processing activities:   0%|                              | 0/1 [00:16<?, ?it/s]\n",
      "                                                                                \u001b[A\n",
      "Processing activities:   0%|                              | 0/1 [00:16<?, ?it/s]\n",
      "                                                                                \u001b[A\n",
      "Processing activities:   0%|                              | 0/1 [00:16<?, ?it/s]\n",
      "                                                                                \u001b[A\n",
      "Processing activities:   0%|                              | 0/1 [00:16<?, ?it/s]\n",
      "                                                                                \u001b[A\n",
      "Processing activities:   0%|                              | 0/1 [00:16<?, ?it/s]\n",
      " 47%|███████████████████▏                     | 381/816 [00:16<00:34, 12.76it/s]\u001b[A\n",
      "                                                                                \u001b[A\n",
      "Processing activities:   0%|                              | 0/1 [00:16<?, ?it/s]\n",
      " 48%|███████████████████▋                     | 391/816 [00:16<00:13, 30.56it/s]\u001b[A"
     ]
    },
    {
     "name": "stdout",
     "output_type": "stream",
     "text": [
      "/home/ss2686/miniconda3/envs/my-rdkit-env/lib/python3.9/site-packages/numpy/core/fromnumeric.py:86: RuntimeWarning: overflow encountered in reduce\n",
      "  return ufunc.reduce(obj, axis, dtype, out, **passkwargs)\n",
      "/home/ss2686/miniconda3/envs/my-rdkit-env/lib/python3.9/site-packages/numpy/core/fromnumeric.py:86: RuntimeWarning: overflow encountered in reduce\n",
      "  return ufunc.reduce(obj, axis, dtype, out, **passkwargs)\n",
      "/home/ss2686/miniconda3/envs/my-rdkit-env/lib/python3.9/site-packages/numpy/core/fromnumeric.py:86: RuntimeWarning: overflow encountered in reduce\n",
      "  return ufunc.reduce(obj, axis, dtype, out, **passkwargs)\n",
      "/home/ss2686/miniconda3/envs/my-rdkit-env/lib/python3.9/site-packages/numpy/core/fromnumeric.py:86: RuntimeWarning: overflow encountered in reduce\n",
      "  return ufunc.reduce(obj, axis, dtype, out, **passkwargs)\n",
      "/home/ss2686/miniconda3/envs/my-rdkit-env/lib/python3.9/site-packages/numpy/core/fromnumeric.py:86: RuntimeWarning: overflow encountered in reduce\n",
      "  return ufunc.reduce(obj, axis, dtype, out, **passkwargs)\n",
      "/home/ss2686/miniconda3/envs/my-rdkit-env/lib/python3.9/site-packages/numpy/core/fromnumeric.py:86: RuntimeWarning: overflow encountered in reduce\n",
      "  return ufunc.reduce(obj, axis, dtype, out, **passkwargs)\n",
      "/home/ss2686/miniconda3/envs/my-rdkit-env/lib/python3.9/site-packages/numpy/core/fromnumeric.py:86: RuntimeWarning: overflow encountered in reduce\n",
      "  return ufunc.reduce(obj, axis, dtype, out, **passkwargs)\n"
     ]
    },
    {
     "name": "stderr",
     "output_type": "stream",
     "text": [
      "\n",
      "                                                                                \u001b[A\n",
      "Processing activities:   0%|                              | 0/1 [00:20<?, ?it/s]\n",
      "                                                                                \u001b[A\n",
      "Processing activities:   0%|                              | 0/1 [00:20<?, ?it/s]\n",
      "                                                                                \u001b[A\n",
      "Processing activities:   0%|                              | 0/1 [00:20<?, ?it/s]\n",
      "                                                                                \u001b[A\n",
      "Processing activities:   0%|                              | 0/1 [00:20<?, ?it/s]\n",
      " 58%|███████████████████████▋                 | 471/816 [00:19<00:09, 35.72it/s]\u001b[A\n",
      "                                                                                \u001b[A\n",
      "Processing activities:   0%|                              | 0/1 [00:20<?, ?it/s]\n",
      " 60%|████████████████████████▍                | 486/816 [00:19<00:13, 25.26it/s]\u001b[A"
     ]
    },
    {
     "name": "stdout",
     "output_type": "stream",
     "text": [
      "/home/ss2686/miniconda3/envs/my-rdkit-env/lib/python3.9/site-packages/mordred/_matrix_attributes.py:251: RuntimeWarning: invalid value encountered in double_scalars\n",
      "  s += (eig.vec[i, eig.max] * eig.vec[j, eig.max]) ** -0.5\n",
      "/home/ss2686/miniconda3/envs/my-rdkit-env/lib/python3.9/site-packages/numpy/core/fromnumeric.py:86: RuntimeWarning: overflow encountered in reduce\n",
      "  return ufunc.reduce(obj, axis, dtype, out, **passkwargs)\n",
      "/home/ss2686/miniconda3/envs/my-rdkit-env/lib/python3.9/site-packages/numpy/core/fromnumeric.py:86: RuntimeWarning: overflow encountered in reduce\n",
      "  return ufunc.reduce(obj, axis, dtype, out, **passkwargs)\n",
      "/home/ss2686/miniconda3/envs/my-rdkit-env/lib/python3.9/site-packages/numpy/core/fromnumeric.py:86: RuntimeWarning: overflow encountered in reduce\n",
      "  return ufunc.reduce(obj, axis, dtype, out, **passkwargs)\n",
      "/home/ss2686/miniconda3/envs/my-rdkit-env/lib/python3.9/site-packages/numpy/core/fromnumeric.py:86: RuntimeWarning: overflow encountered in reduce\n",
      "  return ufunc.reduce(obj, axis, dtype, out, **passkwargs)\n"
     ]
    },
    {
     "name": "stderr",
     "output_type": "stream",
     "text": [
      "\n",
      "                                                                                \u001b[A\n",
      "Processing activities:   0%|                              | 0/1 [00:28<?, ?it/s]\n",
      " 65%|██████████████████████████▋              | 532/816 [00:27<00:22, 12.66it/s]\u001b[A"
     ]
    },
    {
     "name": "stdout",
     "output_type": "stream",
     "text": [
      "/home/ss2686/miniconda3/envs/my-rdkit-env/lib/python3.9/site-packages/numpy/core/fromnumeric.py:86: RuntimeWarning: overflow encountered in reduce\n",
      "  return ufunc.reduce(obj, axis, dtype, out, **passkwargs)\n"
     ]
    },
    {
     "name": "stderr",
     "output_type": "stream",
     "text": [
      "                                                                                \n",
      "Processing activities:   0%|                              | 0/1 [00:28<?, ?it/s]\n",
      " 69%|████████████████████████████             | 559/816 [00:27<00:20, 12.66it/s]\u001b[A\n",
      "                                                                                \u001b[A\n",
      "Processing activities:   0%|                              | 0/1 [00:28<?, ?it/s]\n",
      "                                                                                \u001b[A\n",
      "Processing activities:   0%|                              | 0/1 [00:28<?, ?it/s]\n",
      "                                                                                \u001b[A\n",
      "Processing activities:   0%|                              | 0/1 [00:28<?, ?it/s]\n",
      "                                                                                \u001b[A\n",
      "Processing activities:   0%|                              | 0/1 [00:28<?, ?it/s]\n",
      " 79%|████████████████████████████████▎        | 644/816 [00:27<00:09, 18.06it/s]\u001b[A"
     ]
    },
    {
     "name": "stdout",
     "output_type": "stream",
     "text": [
      "/home/ss2686/miniconda3/envs/my-rdkit-env/lib/python3.9/site-packages/numpy/core/fromnumeric.py:86: RuntimeWarning: overflow encountered in reduce\n",
      "  return ufunc.reduce(obj, axis, dtype, out, **passkwargs)\n",
      "/home/ss2686/miniconda3/envs/my-rdkit-env/lib/python3.9/site-packages/numpy/core/fromnumeric.py:86: RuntimeWarning: overflow encountered in reduce\n",
      "  return ufunc.reduce(obj, axis, dtype, out, **passkwargs)\n",
      "/home/ss2686/miniconda3/envs/my-rdkit-env/lib/python3.9/site-packages/numpy/core/fromnumeric.py:86: RuntimeWarning: overflow encountered in reduce\n",
      "  return ufunc.reduce(obj, axis, dtype, out, **passkwargs)\n",
      "/home/ss2686/miniconda3/envs/my-rdkit-env/lib/python3.9/site-packages/numpy/core/fromnumeric.py:86: RuntimeWarning: overflow encountered in reduce\n",
      "  return ufunc.reduce(obj, axis, dtype, out, **passkwargs)\n",
      "/home/ss2686/miniconda3/envs/my-rdkit-env/lib/python3.9/site-packages/numpy/core/fromnumeric.py:86: RuntimeWarning: overflow encountered in reduce\n",
      "  return ufunc.reduce(obj, axis, dtype, out, **passkwargs)\n"
     ]
    },
    {
     "name": "stderr",
     "output_type": "stream",
     "text": [
      "\n",
      " 80%|████████████████████████████████▊        | 652/816 [00:28<00:05, 30.42it/s]\u001b[A\n",
      "                                                                                \u001b[A\n",
      "Processing activities:   0%|                              | 0/1 [00:29<?, ?it/s]\n",
      " 84%|██████████████████████████████████▎      | 683/816 [00:28<00:03, 33.31it/s]\u001b[A"
     ]
    },
    {
     "name": "stdout",
     "output_type": "stream",
     "text": [
      "/home/ss2686/miniconda3/envs/my-rdkit-env/lib/python3.9/site-packages/numpy/core/fromnumeric.py:86: RuntimeWarning: overflow encountered in reduce\n",
      "  return ufunc.reduce(obj, axis, dtype, out, **passkwargs)\n"
     ]
    },
    {
     "name": "stderr",
     "output_type": "stream",
     "text": [
      "\n",
      "                                                                                \u001b[A\n",
      "Processing activities:   0%|                              | 0/1 [00:41<?, ?it/s]\n",
      " 91%|█████████████████████████████████████▎   | 742/816 [00:40<00:01, 42.17it/s]\u001b[A\n",
      "                                                                                \u001b[A\n",
      "Processing activities:   0%|                              | 0/1 [00:41<?, ?it/s]\n",
      "                                                                                \u001b[A\n",
      "Processing activities:   0%|                              | 0/1 [00:41<?, ?it/s]\n",
      "                                                                                \u001b[A\n",
      "Processing activities:   0%|                              | 0/1 [00:41<?, ?it/s]\n",
      "100%|█████████████████████████████████████████| 816/816 [00:40<00:00, 20.28it/s]\u001b[A\n"
     ]
    },
    {
     "name": "stdout",
     "output_type": "stream",
     "text": [
      "/home/ss2686/miniconda3/envs/my-rdkit-env/lib/python3.9/site-packages/numpy/core/fromnumeric.py:86: RuntimeWarning: overflow encountered in reduce\n",
      "  return ufunc.reduce(obj, axis, dtype, out, **passkwargs)\n",
      "/home/ss2686/miniconda3/envs/my-rdkit-env/lib/python3.9/site-packages/numpy/core/fromnumeric.py:86: RuntimeWarning: overflow encountered in reduce\n",
      "  return ufunc.reduce(obj, axis, dtype, out, **passkwargs)\n",
      "/home/ss2686/miniconda3/envs/my-rdkit-env/lib/python3.9/site-packages/numpy/core/fromnumeric.py:86: RuntimeWarning: overflow encountered in reduce\n",
      "  return ufunc.reduce(obj, axis, dtype, out, **passkwargs)\n",
      "/home/ss2686/miniconda3/envs/my-rdkit-env/lib/python3.9/site-packages/numpy/core/fromnumeric.py:86: RuntimeWarning: overflow encountered in reduce\n",
      "  return ufunc.reduce(obj, axis, dtype, out, **passkwargs)\n"
     ]
    },
    {
     "name": "stderr",
     "output_type": "stream",
     "text": [
      "\n",
      "                                                                                \u001b[A\n",
      "Processing activities:   0%|                              | 0/1 [00:43<?, ?it/s]\n",
      "  0%|                                                   | 0/204 [00:00<?, ?it/s]\u001b[A\n",
      "  0%|▏                                          | 1/204 [00:00<02:52,  1.18it/s]\u001b[A"
     ]
    },
    {
     "name": "stdout",
     "output_type": "stream",
     "text": [
      "/home/ss2686/miniconda3/envs/my-rdkit-env/lib/python3.9/site-packages/numpy/core/fromnumeric.py:86: RuntimeWarning: overflow encountered in reduce\n",
      "  return ufunc.reduce(obj, axis, dtype, out, **passkwargs)\n"
     ]
    },
    {
     "name": "stderr",
     "output_type": "stream",
     "text": [
      "\n",
      "                                                                                \u001b[A\n",
      "Processing activities:   0%|                              | 0/1 [00:44<?, ?it/s]\n",
      " 11%|████▋                                     | 23/204 [00:02<00:20,  8.76it/s]\u001b[A\n",
      "                                                                                \u001b[A\n",
      "Processing activities:   0%|                              | 0/1 [00:44<?, ?it/s]\n",
      "                                                                                \u001b[A\n",
      "Processing activities:   0%|                              | 0/1 [00:44<?, ?it/s]\n",
      "                                                                                \u001b[A\n",
      "Processing activities:   0%|                              | 0/1 [00:44<?, ?it/s]\n",
      " 24%|█████████▉                                | 48/204 [00:02<00:11, 13.80it/s]\u001b[A"
     ]
    },
    {
     "name": "stdout",
     "output_type": "stream",
     "text": [
      "/home/ss2686/miniconda3/envs/my-rdkit-env/lib/python3.9/site-packages/numpy/core/fromnumeric.py:86: RuntimeWarning: overflow encountered in reduce\n",
      "  return ufunc.reduce(obj, axis, dtype, out, **passkwargs)\n",
      "/home/ss2686/miniconda3/envs/my-rdkit-env/lib/python3.9/site-packages/numpy/core/fromnumeric.py:86: RuntimeWarning: overflow encountered in reduce\n",
      "  return ufunc.reduce(obj, axis, dtype, out, **passkwargs)\n",
      "/home/ss2686/miniconda3/envs/my-rdkit-env/lib/python3.9/site-packages/numpy/core/fromnumeric.py:86: RuntimeWarning: overflow encountered in reduce\n",
      "  return ufunc.reduce(obj, axis, dtype, out, **passkwargs)\n",
      "/home/ss2686/miniconda3/envs/my-rdkit-env/lib/python3.9/site-packages/numpy/core/fromnumeric.py:86: RuntimeWarning: overflow encountered in reduce\n",
      "  return ufunc.reduce(obj, axis, dtype, out, **passkwargs)\n"
     ]
    },
    {
     "name": "stderr",
     "output_type": "stream",
     "text": [
      "                                                                                \n",
      "Processing activities:   0%|                              | 0/1 [00:46<?, ?it/s]\n",
      " 32%|█████████████▍                            | 65/204 [00:03<00:10, 13.80it/s]\u001b[A\n",
      "                                                                                \u001b[A\n",
      "Processing activities:   0%|                              | 0/1 [00:46<?, ?it/s]\n",
      "                                                                                \u001b[A\n",
      "Processing activities:   0%|                              | 0/1 [00:46<?, ?it/s]\n",
      "                                                                                \u001b[A\n",
      "Processing activities:   0%|                              | 0/1 [00:46<?, ?it/s]\n",
      "                                                                                \u001b[A\n",
      "Processing activities:   0%|                              | 0/1 [00:46<?, ?it/s]\n",
      "                                                                                \u001b[A\n",
      "Processing activities:   0%|                              | 0/1 [00:46<?, ?it/s]\n",
      "                                                                                \u001b[A\n",
      "Processing activities:   0%|                              | 0/1 [00:46<?, ?it/s]\n",
      "                                                                                \u001b[A\n",
      "Processing activities:   0%|                              | 0/1 [00:46<?, ?it/s]\n",
      "100%|█████████████████████████████████████████| 204/204 [00:03<00:00, 56.29it/s]\u001b[A\n"
     ]
    },
    {
     "name": "stdout",
     "output_type": "stream",
     "text": [
      "/home/ss2686/miniconda3/envs/my-rdkit-env/lib/python3.9/site-packages/numpy/core/fromnumeric.py:86: RuntimeWarning: overflow encountered in reduce\n",
      "  return ufunc.reduce(obj, axis, dtype, out, **passkwargs)\n",
      "/home/ss2686/miniconda3/envs/my-rdkit-env/lib/python3.9/site-packages/numpy/core/fromnumeric.py:86: RuntimeWarning: overflow encountered in reduce\n",
      "  return ufunc.reduce(obj, axis, dtype, out, **passkwargs)\n",
      "/home/ss2686/miniconda3/envs/my-rdkit-env/lib/python3.9/site-packages/numpy/core/fromnumeric.py:86: RuntimeWarning: overflow encountered in reduce\n",
      "  return ufunc.reduce(obj, axis, dtype, out, **passkwargs)\n",
      "/home/ss2686/miniconda3/envs/my-rdkit-env/lib/python3.9/site-packages/numpy/core/fromnumeric.py:86: RuntimeWarning: overflow encountered in reduce\n",
      "  return ufunc.reduce(obj, axis, dtype, out, **passkwargs)\n",
      "/home/ss2686/miniconda3/envs/my-rdkit-env/lib/python3.9/site-packages/numpy/core/fromnumeric.py:86: RuntimeWarning: overflow encountered in reduce\n",
      "  return ufunc.reduce(obj, axis, dtype, out, **passkwargs)\n",
      "/home/ss2686/miniconda3/envs/my-rdkit-env/lib/python3.9/site-packages/numpy/core/fromnumeric.py:86: RuntimeWarning: overflow encountered in reduce\n",
      "  return ufunc.reduce(obj, axis, dtype, out, **passkwargs)\n",
      "/home/ss2686/miniconda3/envs/my-rdkit-env/lib/python3.9/site-packages/numpy/core/fromnumeric.py:86: RuntimeWarning: overflow encountered in reduce\n",
      "  return ufunc.reduce(obj, axis, dtype, out, **passkwargs)\n",
      "/home/ss2686/miniconda3/envs/my-rdkit-env/lib/python3.9/site-packages/numpy/core/fromnumeric.py:86: RuntimeWarning: overflow encountered in reduce\n",
      "  return ufunc.reduce(obj, axis, dtype, out, **passkwargs)\n",
      "n_iterations: 4\n",
      "n_required_iterations: 4\n",
      "n_possible_iterations: 4\n",
      "min_resources_: 20\n",
      "max_resources_: 816\n",
      "aggressive_elimination: False\n",
      "factor: 3\n",
      "----------\n",
      "iter: 0\n",
      "n_candidates: 40\n",
      "n_resources: 20\n",
      "Fitting 5 folds for each of 40 candidates, totalling 200 fits\n",
      "----------\n",
      "iter: 1\n",
      "n_candidates: 14\n",
      "n_resources: 60\n",
      "Fitting 5 folds for each of 14 candidates, totalling 70 fits\n",
      "----------\n",
      "iter: 2\n",
      "n_candidates: 5\n",
      "n_resources: 180\n",
      "Fitting 5 folds for each of 5 candidates, totalling 25 fits\n",
      "----------\n",
      "iter: 3\n",
      "n_candidates: 2\n",
      "n_resources: 540\n",
      "Fitting 5 folds for each of 2 candidates, totalling 10 fits\n"
     ]
    },
    {
     "name": "stderr",
     "output_type": "stream",
     "text": [
      "Processing activities: 100%|██████████████████████| 1/1 [00:56<00:00, 56.76s/it]\n"
     ]
    }
   ],
   "source": [
    "#!/usr/bin/env python\n",
    "# coding: utf-8\n",
    "\n",
    "\n",
    "import os\n",
    "import numpy as np\n",
    "import pandas as pd\n",
    "from tqdm import tqdm\n",
    "from rdkit import Chem, DataStructs\n",
    "from rdkit.Chem import AllChem\n",
    "from mordred import Calculator, descriptors\n",
    "calc = Calculator(descriptors, ignore_3D=True)\n",
    "\n",
    "from sklearn.ensemble import RandomForestRegressor, RandomForestClassifier\n",
    "from sklearn.model_selection import cross_val_score, train_test_split\n",
    "from sklearn.metrics import mean_squared_error, roc_auc_score, matthews_corrcoef, average_precision_score, confusion_matrix\n",
    "from imblearn.metrics import geometric_mean_score\n",
    "from imblearn.over_sampling import RandomOverSampler\n",
    "from imblearn.pipeline import Pipeline\n",
    "from sklearn.metrics import roc_curve\n",
    "from sklearn.experimental import enable_halving_search_cv\n",
    "from sklearn.model_selection import HalvingRandomSearchCV\n",
    "from scipy.stats import randint, uniform\n",
    "from sklearn.model_selection import StratifiedKFold\n",
    "import math\n",
    "\n",
    "from pandarallel import pandarallel\n",
    "pandarallel.initialize()\n",
    "\n",
    "import sys\n",
    "sys.path.append('/home/ss2686/03_DICTrank')\n",
    "import argparse\n",
    "from scripts.evaluation_functions import evaluate_classifier, optimize_threshold_j_statistic\n",
    "\n",
    "\n",
    "# Path where your data is stored\n",
    "data_path = '../data/processed_binarised__splits/'\n",
    "\n",
    "results = {}\n",
    "\n",
    "def get_Mordred_columns_to_use():\n",
    "    \n",
    "        datasets = {}\n",
    "        directory='../data/processed/'\n",
    "        # Load datasets from given directory\n",
    "        for foldername in os.listdir(directory):\n",
    "\n",
    "            if not foldername.startswith('.'):  # Ignore folders starting with a dot\n",
    "\n",
    "                print(foldername)\n",
    "                file_path = os.path.join(directory, foldername, f\"{foldername}_processed.csv.gz\")\n",
    "\n",
    "                if os.path.exists(file_path):\n",
    "                    datasets[foldername] = pd.read_csv(file_path, compression='gzip')\n",
    "                else:\n",
    "                    print(f\"No matching file found for folder: {foldername}\")\n",
    "        \n",
    "        smiles_list = []\n",
    "        \n",
    "        for featuresets in [\"sider\", \"DICTrank\"]: \n",
    "    \n",
    "            smiles_list.extend(datasets[featuresets].Standardized_SMILES.to_list())\n",
    "            print(len(smiles_list))\n",
    "        smiles_list = list(set(smiles_list))\n",
    "        \n",
    "        print(len(smiles_list))\n",
    "        data = pd.DataFrame(smiles_list, columns=[\"Standardized_SMILES\"])\n",
    "        \n",
    "        Ser_Mol_train = data['Standardized_SMILES'].apply(Chem.MolFromSmiles)\n",
    "        Mordred_table_data = calc.pandas(Ser_Mol_train)\n",
    "        Mordred_table_data = Mordred_table_data.astype('float')\n",
    "        Mordred_table_data = Mordred_table_data.dropna(axis='columns')\n",
    "        data_columns = Mordred_table_data.columns\n",
    "        \n",
    "        return(data_columns)\n",
    "    \n",
    "data_columns = get_Mordred_columns_to_use()\n",
    "\n",
    "\n",
    "# Assuming PK dataset is regression and others are classification\n",
    "for dataset in os.listdir(data_path):\n",
    "    \n",
    "    # Exclude hidden files or directories like .ipynb_checkpoints\n",
    "    if dataset.startswith('.'):\n",
    "        continue\n",
    "    print(dataset)\n",
    "\n",
    "    # Get all the file names for this dataset\n",
    "    all_files = os.listdir(os.path.join(data_path, dataset))\n",
    "\n",
    "    # Extract activity names by removing the _train.csv.gz or _test.csv.gz from file names\n",
    "    activity_names = list(set([f.replace(\"_train.csv.gz\", \"\").replace(\"_test.csv.gz\", \"\")  for f in all_files if not f.startswith(\".ipynb_checkpoints\")]))\n",
    "\n",
    "    for activity in tqdm(activity_names, desc=\"Processing activities\"):\n",
    "        \n",
    "        train_path = os.path.join(data_path, dataset, f\"{activity}_train.csv.gz\")\n",
    "        test_path = os.path.join(data_path, dataset, f\"{activity}_test.csv.gz\")\n",
    "\n",
    "        train_df = pd.read_csv(train_path, compression='gzip')\n",
    "        test_df = pd.read_csv(test_path, compression='gzip')\n",
    "        \n",
    "        Ser_Mol_train = train_df['Standardized_SMILES'].apply(Chem.MolFromSmiles)\n",
    "        Mordred_table_train = calc.pandas(Ser_Mol_train)\n",
    "        Mordred_table_train = Mordred_table_train.astype('float')\n",
    "               \n",
    "        Ser_Mol_test = test_df['Standardized_SMILES'].apply(Chem.MolFromSmiles)\n",
    "        Mordred_table_test = calc.pandas(Ser_Mol_test)\n",
    "        Mordred_table_test = Mordred_table_test.astype('float')\n",
    "\n",
    "        # Retain only those columns in the test dataset\n",
    "        Mordred_table_train = Mordred_table_train[data_columns]\n",
    "        Mordred_table_test = Mordred_table_test[data_columns]\n",
    "\n",
    "        X_train = np.array(Mordred_table_train)\n",
    "        X_test = np.array(Mordred_table_test)\n",
    "        y_train = train_df[activity]\n",
    "        y_test = test_df[activity]\n",
    "\n",
    "      \n",
    "        # Classification\n",
    "        model = RandomForestClassifier(n_jobs=40)\n",
    "            \n",
    "        # Hyperparameter Optimization\n",
    "        param_dist_classification = {'max_depth': randint(10, 20),\n",
    "                          'max_features': randint(40, 50),\n",
    "                          'min_samples_leaf': randint(5, 15),\n",
    "                          'min_samples_split': randint(5, 15),\n",
    "                          'n_estimators':[200, 300, 400, 500, 600],\n",
    "                          'bootstrap': [True, False],\n",
    "                          'oob_score': [False],\n",
    "                          'random_state': [42],\n",
    "                          'criterion': ['gini', 'entropy'],\n",
    "                          'n_jobs': [40],\n",
    "                          'class_weight' : [None, 'balanced']\n",
    "                         }\n",
    "        inner_cv = StratifiedKFold(n_splits=5, shuffle=True, random_state=42)   \n",
    "            \n",
    "        classification_search = HalvingRandomSearchCV(\n",
    "                model,\n",
    "                param_dist_classification,\n",
    "                factor=3,\n",
    "                cv=inner_cv,\n",
    "                random_state=42,\n",
    "                verbose=1,\n",
    "                n_jobs=40)\n",
    "            \n",
    "        classification_search.fit(X_train, y_train)\n",
    "        best_model = classification_search.best_estimator_\n",
    "            \n",
    "        # Random Over-sampling \n",
    "        sampler = RandomOverSampler(sampling_strategy='auto', random_state=42)\n",
    "            \n",
    "        pipeline = Pipeline(steps=[('sampler', sampler), ('model', best_model)])\n",
    "        pipeline.fit(X_train, y_train)\n",
    "            \n",
    "        # Predict using threshold-optimized model\n",
    "        predictions_train = pipeline.predict(X_train)\n",
    "        probs_train = pipeline.predict_proba(X_train)[:, 1]\n",
    "        probs_test = pipeline.predict_proba(X_test)[:, 1]\n",
    "            \n",
    "        # Use the optimize_threshold_j_statistic function to find the best threshold\n",
    "        best_threshold = optimize_threshold_j_statistic(y_train, probs_train)\n",
    "        #Apply the best threshold to get binary predictions on the test data\n",
    "        predictions_test = (probs_test >= best_threshold).astype(int)\n",
    "            \n",
    "        # Calculate CV AUC using threshold-optimized model\n",
    "        cv_scores = cross_val_score(pipeline, X_train, y_train, cv=5, n_jobs=-1, scoring='roc_auc')\n",
    "\n",
    "        results[activity] = {\n",
    "                'CV_AUC_mean': np.mean(cv_scores),\n",
    "                'CV_AUC_std': np.std(cv_scores),\n",
    "                **evaluate_classifier(y_test, predictions_test, probs_test)\n",
    "            }\n",
    "            \n",
    "        \n",
    "            \n",
    "    # Save results at each step\n",
    "    pd.DataFrame(results).T.to_csv('./physicochemical_model_results.csv')\n",
    "              \n",
    "\n",
    "# Save results\n",
    "results_df = pd.DataFrame(results).T.reset_index(drop=False)\n",
    "results_df = results_df.rename(columns={'index': 'endpoint'})\n",
    "results_df.to_csv('./physicochemical_model_results.csv', index=False)\n"
   ]
  },
  {
   "cell_type": "code",
   "execution_count": null,
   "id": "113d2a1e",
   "metadata": {},
   "outputs": [],
   "source": []
  },
  {
   "cell_type": "code",
   "execution_count": null,
   "id": "4f9519ef",
   "metadata": {},
   "outputs": [],
   "source": []
  },
  {
   "cell_type": "code",
   "execution_count": null,
   "id": "adc73ff8",
   "metadata": {},
   "outputs": [],
   "source": []
  }
 ],
 "metadata": {
  "kernelspec": {
   "display_name": "Python 3 (ipykernel)",
   "language": "python",
   "name": "python3"
  },
  "language_info": {
   "codemirror_mode": {
    "name": "ipython",
    "version": 3
   },
   "file_extension": ".py",
   "mimetype": "text/x-python",
   "name": "python",
   "nbconvert_exporter": "python",
   "pygments_lexer": "ipython3",
   "version": "3.9.10"
  }
 },
 "nbformat": 4,
 "nbformat_minor": 5
}
